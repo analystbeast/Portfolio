{
 "cells": [
  {
   "cell_type": "markdown",
   "id": "6ded9bc2-5faa-4f08-ae36-7776f837e9f0",
   "metadata": {},
   "source": [
    "# Линеаризация лайков"
   ]
  },
  {
   "cell_type": "code",
   "execution_count": 1,
   "id": "f19995bd-b8f4-46df-8aab-12751093b085",
   "metadata": {},
   "outputs": [],
   "source": [
    "#Импортируем библиотеки\n",
    "import pandas as pd\n",
    "import pandahouse as ph\n",
    "import seaborn as sns\n",
    "from scipy import stats\n",
    "import numpy as np\n",
    "\n",
    "#подключаемся к нужной схеме данных\n",
    "connection = {'host': 'https://clickhouse.lab.karpov.courses',\n",
    "'database':'simulator',\n",
    "'user':'student',\n",
    "'password':'dpo_python_2020'\n",
    "}\n",
    "\n",
    "#Задаем размер графика\n",
    "sns.set(rc={'figure.figsize':(15,10)})"
   ]
  },
  {
   "cell_type": "code",
   "execution_count": 2,
   "id": "6e4fdd13-2669-4509-93f5-ab4cc4f42f18",
   "metadata": {},
   "outputs": [],
   "source": [
    "#Выгружаем нужные данные\n",
    "q = \"\"\"\n",
    "SELECT exp_group, \n",
    "    user_id,\n",
    "    sum(action = 'like') as likes,\n",
    "    sum(action = 'view') as views,\n",
    "    likes/views as ctr\n",
    "FROM simulator_20231113.feed_actions \n",
    "WHERE toDate(time) between '2023-10-25' and '2023-10-31'\n",
    "    and exp_group in (0,1,2,3)\n",
    "GROUP BY exp_group, user_id\n",
    "\"\"\"\n",
    "\n",
    "df = ph.read_clickhouse(q, connection=connection)"
   ]
  },
  {
   "cell_type": "code",
   "execution_count": 3,
   "id": "fd83f05b-3b36-4f43-bb09-97b2fa7f26c7",
   "metadata": {},
   "outputs": [
    {
     "data": {
      "text/plain": [
       "array([1, 3, 2, 0], dtype=int8)"
      ]
     },
     "execution_count": 3,
     "metadata": {},
     "output_type": "execute_result"
    }
   ],
   "source": [
    "df.exp_group.unique()"
   ]
  },
  {
   "cell_type": "code",
   "execution_count": 4,
   "id": "62c78cbe-d71d-4695-9a85-33f63697bced",
   "metadata": {},
   "outputs": [
    {
     "data": {
      "text/html": [
       "<div>\n",
       "<style scoped>\n",
       "    .dataframe tbody tr th:only-of-type {\n",
       "        vertical-align: middle;\n",
       "    }\n",
       "\n",
       "    .dataframe tbody tr th {\n",
       "        vertical-align: top;\n",
       "    }\n",
       "\n",
       "    .dataframe thead th {\n",
       "        text-align: right;\n",
       "    }\n",
       "</style>\n",
       "<table border=\"1\" class=\"dataframe\">\n",
       "  <thead>\n",
       "    <tr style=\"text-align: right;\">\n",
       "      <th></th>\n",
       "      <th>user_id</th>\n",
       "      <th>likes</th>\n",
       "      <th>views</th>\n",
       "      <th>ctr</th>\n",
       "    </tr>\n",
       "    <tr>\n",
       "      <th>exp_group</th>\n",
       "      <th></th>\n",
       "      <th></th>\n",
       "      <th></th>\n",
       "      <th></th>\n",
       "    </tr>\n",
       "  </thead>\n",
       "  <tbody>\n",
       "    <tr>\n",
       "      <th>0</th>\n",
       "      <td>9920</td>\n",
       "      <td>9920</td>\n",
       "      <td>9920</td>\n",
       "      <td>9920</td>\n",
       "    </tr>\n",
       "    <tr>\n",
       "      <th>1</th>\n",
       "      <td>10020</td>\n",
       "      <td>10020</td>\n",
       "      <td>10020</td>\n",
       "      <td>10020</td>\n",
       "    </tr>\n",
       "    <tr>\n",
       "      <th>2</th>\n",
       "      <td>9877</td>\n",
       "      <td>9877</td>\n",
       "      <td>9877</td>\n",
       "      <td>9877</td>\n",
       "    </tr>\n",
       "    <tr>\n",
       "      <th>3</th>\n",
       "      <td>10002</td>\n",
       "      <td>10002</td>\n",
       "      <td>10002</td>\n",
       "      <td>10002</td>\n",
       "    </tr>\n",
       "  </tbody>\n",
       "</table>\n",
       "</div>"
      ],
      "text/plain": [
       "           user_id  likes  views    ctr\n",
       "exp_group                              \n",
       "0             9920   9920   9920   9920\n",
       "1            10020  10020  10020  10020\n",
       "2             9877   9877   9877   9877\n",
       "3            10002  10002  10002  10002"
      ]
     },
     "execution_count": 4,
     "metadata": {},
     "output_type": "execute_result"
    }
   ],
   "source": [
    "df.groupby('exp_group').count()"
   ]
  },
  {
   "cell_type": "code",
   "execution_count": 5,
   "id": "7f4e4c57-f129-496b-931b-b988b3c497e7",
   "metadata": {},
   "outputs": [],
   "source": [
    "#Посчитаем CTR в контрольной группе\n",
    "𝐶𝑇𝑅𝑐𝑜𝑛𝑡𝑟𝑜𝑙 = 𝑠𝑢𝑚(df[df.exp_group == 1].𝑙𝑖𝑘𝑒𝑠)/𝑠𝑢𝑚(df[df.exp_group == 1].𝑣𝑖𝑒𝑤𝑠)"
   ]
  },
  {
   "cell_type": "code",
   "execution_count": 6,
   "id": "7500758a-2d3a-4084-9eab-fe8e1c37681a",
   "metadata": {},
   "outputs": [
    {
     "data": {
      "text/plain": [
       "0.2096041628394293"
      ]
     },
     "execution_count": 6,
     "metadata": {},
     "output_type": "execute_result"
    }
   ],
   "source": [
    "𝐶𝑇𝑅𝑐𝑜𝑛𝑡𝑟𝑜𝑙"
   ]
  },
  {
   "cell_type": "code",
   "execution_count": 7,
   "id": "05e25e43-e6d8-4504-956c-9a0f918e22f3",
   "metadata": {},
   "outputs": [],
   "source": [
    "# Применим линеаризацию\n",
    "df['linear_likes'] = df.likes - CTRcontrol*df.views"
   ]
  },
  {
   "cell_type": "code",
   "execution_count": 8,
   "id": "7cbb36e5-8965-443e-a9a0-0f70df608b77",
   "metadata": {},
   "outputs": [
    {
     "data": {
      "text/html": [
       "<div>\n",
       "<style scoped>\n",
       "    .dataframe tbody tr th:only-of-type {\n",
       "        vertical-align: middle;\n",
       "    }\n",
       "\n",
       "    .dataframe tbody tr th {\n",
       "        vertical-align: top;\n",
       "    }\n",
       "\n",
       "    .dataframe thead th {\n",
       "        text-align: right;\n",
       "    }\n",
       "</style>\n",
       "<table border=\"1\" class=\"dataframe\">\n",
       "  <thead>\n",
       "    <tr style=\"text-align: right;\">\n",
       "      <th></th>\n",
       "      <th>exp_group</th>\n",
       "      <th>user_id</th>\n",
       "      <th>likes</th>\n",
       "      <th>views</th>\n",
       "      <th>ctr</th>\n",
       "      <th>linear_likes</th>\n",
       "    </tr>\n",
       "  </thead>\n",
       "  <tbody>\n",
       "    <tr>\n",
       "      <th>0</th>\n",
       "      <td>1</td>\n",
       "      <td>18392</td>\n",
       "      <td>7</td>\n",
       "      <td>32</td>\n",
       "      <td>0.218750</td>\n",
       "      <td>0.292667</td>\n",
       "    </tr>\n",
       "    <tr>\n",
       "      <th>1</th>\n",
       "      <td>3</td>\n",
       "      <td>115383</td>\n",
       "      <td>12</td>\n",
       "      <td>44</td>\n",
       "      <td>0.272727</td>\n",
       "      <td>2.777417</td>\n",
       "    </tr>\n",
       "    <tr>\n",
       "      <th>2</th>\n",
       "      <td>3</td>\n",
       "      <td>123580</td>\n",
       "      <td>2</td>\n",
       "      <td>11</td>\n",
       "      <td>0.181818</td>\n",
       "      <td>-0.305646</td>\n",
       "    </tr>\n",
       "    <tr>\n",
       "      <th>3</th>\n",
       "      <td>2</td>\n",
       "      <td>131473</td>\n",
       "      <td>9</td>\n",
       "      <td>108</td>\n",
       "      <td>0.083333</td>\n",
       "      <td>-13.637250</td>\n",
       "    </tr>\n",
       "    <tr>\n",
       "      <th>4</th>\n",
       "      <td>2</td>\n",
       "      <td>32420</td>\n",
       "      <td>13</td>\n",
       "      <td>44</td>\n",
       "      <td>0.295455</td>\n",
       "      <td>3.777417</td>\n",
       "    </tr>\n",
       "    <tr>\n",
       "      <th>...</th>\n",
       "      <td>...</td>\n",
       "      <td>...</td>\n",
       "      <td>...</td>\n",
       "      <td>...</td>\n",
       "      <td>...</td>\n",
       "      <td>...</td>\n",
       "    </tr>\n",
       "    <tr>\n",
       "      <th>39814</th>\n",
       "      <td>0</td>\n",
       "      <td>27030</td>\n",
       "      <td>12</td>\n",
       "      <td>64</td>\n",
       "      <td>0.187500</td>\n",
       "      <td>-1.414666</td>\n",
       "    </tr>\n",
       "    <tr>\n",
       "      <th>39815</th>\n",
       "      <td>3</td>\n",
       "      <td>122758</td>\n",
       "      <td>20</td>\n",
       "      <td>118</td>\n",
       "      <td>0.169492</td>\n",
       "      <td>-4.733291</td>\n",
       "    </tr>\n",
       "    <tr>\n",
       "      <th>39816</th>\n",
       "      <td>1</td>\n",
       "      <td>132567</td>\n",
       "      <td>52</td>\n",
       "      <td>326</td>\n",
       "      <td>0.159509</td>\n",
       "      <td>-16.330957</td>\n",
       "    </tr>\n",
       "    <tr>\n",
       "      <th>39817</th>\n",
       "      <td>3</td>\n",
       "      <td>122190</td>\n",
       "      <td>19</td>\n",
       "      <td>65</td>\n",
       "      <td>0.292308</td>\n",
       "      <td>5.375729</td>\n",
       "    </tr>\n",
       "    <tr>\n",
       "      <th>39818</th>\n",
       "      <td>2</td>\n",
       "      <td>17310</td>\n",
       "      <td>9</td>\n",
       "      <td>82</td>\n",
       "      <td>0.109756</td>\n",
       "      <td>-8.187541</td>\n",
       "    </tr>\n",
       "  </tbody>\n",
       "</table>\n",
       "<p>39819 rows × 6 columns</p>\n",
       "</div>"
      ],
      "text/plain": [
       "       exp_group  user_id  likes  views       ctr  linear_likes\n",
       "0              1    18392      7     32  0.218750      0.292667\n",
       "1              3   115383     12     44  0.272727      2.777417\n",
       "2              3   123580      2     11  0.181818     -0.305646\n",
       "3              2   131473      9    108  0.083333    -13.637250\n",
       "4              2    32420     13     44  0.295455      3.777417\n",
       "...          ...      ...    ...    ...       ...           ...\n",
       "39814          0    27030     12     64  0.187500     -1.414666\n",
       "39815          3   122758     20    118  0.169492     -4.733291\n",
       "39816          1   132567     52    326  0.159509    -16.330957\n",
       "39817          3   122190     19     65  0.292308      5.375729\n",
       "39818          2    17310      9     82  0.109756     -8.187541\n",
       "\n",
       "[39819 rows x 6 columns]"
      ]
     },
     "execution_count": 8,
     "metadata": {},
     "output_type": "execute_result"
    }
   ],
   "source": [
    "df"
   ]
  },
  {
   "cell_type": "markdown",
   "id": "38257d0b-e7ec-4084-b3c6-96961274ad59",
   "metadata": {},
   "source": [
    "Посмотрим данные \"глазами\"."
   ]
  },
  {
   "cell_type": "code",
   "execution_count": 9,
   "id": "ed8027d4-0b40-49d0-9e29-b01f5b7ca74f",
   "metadata": {},
   "outputs": [
    {
     "data": {
      "image/png": "[encoded data removed]",
      "text/plain": [
       "<Figure size 432x288 with 1 Axes>"
      ]
     },
     "metadata": {
      "needs_background": "light"
     },
     "output_type": "display_data"
    }
   ],
   "source": [
    "sns.histplot(data = df, \n",
    "              x='ctr', \n",
    "              hue='exp_group', \n",
    "              palette = ['r', 'b', 'g', 'y'],\n",
    "              alpha=0.5,\n",
    "              kde=False);"
   ]
  },
  {
   "cell_type": "code",
   "execution_count": 21,
   "id": "4ff23f57-34d8-4ab5-8d19-527f41df3dc1",
   "metadata": {},
   "outputs": [
    {
     "data": {
      "image/png": "[encoded data removed]",
      "text/plain": [
       "<Figure size 432x288 with 1 Axes>"
      ]
     },
     "metadata": {
      "needs_background": "light"
     },
     "output_type": "display_data"
    }
   ],
   "source": [
    "sns.histplot(data = df, \n",
    "              x='linear_likes', \n",
    "              hue='exp_group',\n",
    "             palette = ['r', 'b', 'g', 'y'],\n",
    "              alpha=0.5,\n",
    "              kde=False);"
   ]
  },
  {
   "cell_type": "markdown",
   "id": "7e7f1bfd-437c-4900-a10c-ca2c18b53c46",
   "metadata": {},
   "source": [
    "Уже визуально мы видим разницу - значения после линеаризации нормализовались. Посмотрим что покажут тесты."
   ]
  },
  {
   "cell_type": "markdown",
   "id": "077e17ac-c5cf-4944-996b-99f740dfeac5",
   "metadata": {},
   "source": [
    "### Задача №1\n",
    "Проанализируйте тест между группами 0 и 3 по метрике линеаризованных лайков. Видно ли отличие? Стало ли 𝑝−𝑣𝑎𝑙𝑢𝑒 меньше по сравнению с обычным CTR?"
   ]
  },
  {
   "cell_type": "code",
   "execution_count": 11,
   "id": "cb0970ef-f8a1-4144-bbce-982549c13ba4",
   "metadata": {},
   "outputs": [
    {
     "data": {
      "text/plain": [
       "Ttest_indResult(statistic=-13.935320516755823, pvalue=6.216047483057877e-44)"
      ]
     },
     "execution_count": 11,
     "metadata": {},
     "output_type": "execute_result"
    }
   ],
   "source": [
    "stats.ttest_ind(df[df.exp_group == 0].ctr,\n",
    "                df[df.exp_group == 3].ctr, \n",
    "                equal_var=False)"
   ]
  },
  {
   "cell_type": "code",
   "execution_count": 12,
   "id": "f11fe092-5278-4483-9b96-747269fd632a",
   "metadata": {},
   "outputs": [
    {
     "data": {
      "text/plain": [
       "Ttest_indResult(statistic=-16.186621884703346, pvalue=1.482453531128053e-58)"
      ]
     },
     "execution_count": 12,
     "metadata": {},
     "output_type": "execute_result"
    }
   ],
   "source": [
    "stats.ttest_ind(df[df.exp_group == 0].linear_likes,\n",
    "                df[df.exp_group == 3].linear_likes, \n",
    "                equal_var=False)"
   ]
  },
  {
   "cell_type": "markdown",
   "id": "24e2e358-ea27-43dd-a46d-0c2e78e7391d",
   "metadata": {},
   "source": [
    "Pvalue действительно уменьшился. В "
   ]
  },
  {
   "cell_type": "markdown",
   "id": "10e0184e-cffb-415a-a2ba-15e473f2809a",
   "metadata": {},
   "source": [
    "### Задача №2\n",
    "\n",
    "Проанализируйте тест между группами 1 и 2 по метрике линеаризованных лайков. Видно ли отличие? Стало ли 𝑝−𝑣𝑎𝑙𝑢𝑒 меньше по сравнению с обычным CTR?"
   ]
  },
  {
   "cell_type": "code",
   "execution_count": 15,
   "id": "7a2abf59-56f9-4234-9372-12e31e830e71",
   "metadata": {},
   "outputs": [
    {
     "data": {
      "text/plain": [
       "Ttest_indResult(statistic=0.40514919131127564, pvalue=0.685373331140751)"
      ]
     },
     "execution_count": 15,
     "metadata": {},
     "output_type": "execute_result"
    }
   ],
   "source": [
    "stats.ttest_ind(df[df.exp_group == 1].ctr,\n",
    "                df[df.exp_group == 2].ctr, \n",
    "                equal_var=False)"
   ]
  },
  {
   "cell_type": "code",
   "execution_count": 14,
   "id": "5634ecb2-55cc-4a3c-9099-797f04bb3a5e",
   "metadata": {},
   "outputs": [
    {
     "data": {
      "text/plain": [
       "Ttest_indResult(statistic=5.936377101934478, pvalue=2.9805064038668383e-09)"
      ]
     },
     "execution_count": 14,
     "metadata": {},
     "output_type": "execute_result"
    }
   ],
   "source": [
    "stats.ttest_ind(df[df.exp_group == 1].linear_likes,\n",
    "                df[df.exp_group == 2].linear_likes, \n",
    "                equal_var=False)"
   ]
  },
  {
   "cell_type": "markdown",
   "id": "7222bc18-0401-42fa-99f3-6399f6b5a190",
   "metadata": {},
   "source": [
    "Здесь также наблюдаем увеличение p-value. В целом, метод линеаризации метрики позволяет поднять чувствительность теста."
   ]
  },
  {
   "cell_type": "code",
   "execution_count": null,
   "id": "6842c989-dbf3-4611-b4a1-073842a21b5b",
   "metadata": {},
   "outputs": [],
   "source": []
  }
 ],
 "metadata": {
  "kernelspec": {
   "display_name": "Python 3 (ipykernel)",
   "language": "python",
   "name": "python3"
  },
  "language_info": {
   "codemirror_mode": {
    "name": "ipython",
    "version": 3
   },
   "file_extension": ".py",
   "mimetype": "text/x-python",
   "name": "python",
   "nbconvert_exporter": "python",
   "pygments_lexer": "ipython3",
   "version": "3.8.10"
  }
 },
 "nbformat": 4,
 "nbformat_minor": 5
}
