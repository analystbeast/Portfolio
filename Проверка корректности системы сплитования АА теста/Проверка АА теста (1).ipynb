{
 "cells": [
  {
   "cell_type": "markdown",
   "id": "3eeac295-7429-4d91-b7b8-f95cb1160231",
   "metadata": {},
   "source": [
    "# Проверка системы сплитования"
   ]
  },
  {
   "cell_type": "markdown",
   "id": "de9e1e3b-5d9a-4058-94ef-ac5e4110c4f0",
   "metadata": {},
   "source": [
    "Перед проведением полноценных тестов, надо убедиться, что системам работает корректно.\n",
    "\n",
    "Для проверки системы сплитования выполним следующие задачи:\n",
    "\n",
    "1. Сделать симуляцию, как будто мы провели 10000 А/А-тестов. На каждой итерации сформируем подвыборки без повторения в 500 юзеров из 2 и 3 экспериментальной группы. Провести сравнение этих подвыборок t-testом.\n",
    "\n",
    "2. Построить гистограмму распределения получившихся 10000 p-values.\n",
    "\n",
    "3. Посчитать, какой процент p values оказался меньше либо равен 0.05\n",
    "\n",
    "4. Написать вывод по проведенному А/А-тесту, корректно ли работает наша система сплитования."
   ]
  },
  {
   "cell_type": "code",
   "execution_count": 9,
   "id": "8f6c4542-e4a7-4c0a-89bf-6783cf6510f7",
   "metadata": {},
   "outputs": [],
   "source": [
    "#Импортируем библиотеки\n",
    "import pandas as pd\n",
    "import pandahouse as ph\n",
    "import seaborn as sns\n",
    "from scipy import stats\n",
    "import numpy as np\n",
    "\n",
    "#подключаемся к нужной схеме данных\n",
    "connection = {'Здесь были данные для подключения'\n",
    "}\n",
    "\n",
    "#Задаем размер графика\n",
    "sns.set(rc={'figure.figsize':(15,10)})\n",
    "\n"
   ]
  },
  {
   "cell_type": "code",
   "execution_count": 2,
   "id": "30391718-48b3-44e6-9263-9060829c15e1",
   "metadata": {},
   "outputs": [],
   "source": [
    "#Выгружаем нужные данные\n",
    "q = \"\"\"\n",
    "SELECT exp_group, \n",
    "    user_id,\n",
    "    sum(action = 'like') as likes,\n",
    "    sum(action = 'view') as views,\n",
    "    likes/views as ctr\n",
    "FROM simulator_20231113.feed_actions \n",
    "WHERE toDate(time) between '2023-10-18' and '2023-10-24'\n",
    "    and exp_group in (2,3)\n",
    "GROUP BY exp_group, user_id\n",
    "\"\"\"\n",
    "\n",
    "df = ph.read_clickhouse(q, connection=connection)\n"
   ]
  },
  {
   "cell_type": "markdown",
   "id": "578cb4b5-84ad-4558-bb5e-04bb5562a616",
   "metadata": {},
   "source": [
    "ау нас есть данные А/А-теста с '2023-10-18' по '2023-10-24'. Вам нужно сделать симуляцию, как будто мы провели 10000 А/А-тестов. На каждой итерации вам нужно сформировать подвыборки без повторения в 500 юзеров из 2 и 3 экспериментальной группы. Провести сравнение этих подвыборок t-testом."
   ]
  },
  {
   "cell_type": "code",
   "execution_count": 3,
   "id": "e5091a15-9319-4af2-922f-e76caecd30d2",
   "metadata": {},
   "outputs": [],
   "source": [
    "def aa_test_10000():\n",
    "    pval_general = []\n",
    "    for _ in range(10000): \n",
    "        var = df.sample(500, replace=False)\n",
    "        pval_general.append(stats.ttest_ind(var[var.exp_group == 2].ctr, \n",
    "                                             var[var.exp_group == 3].ctr, \n",
    "                                             equal_var=False)[1])\n",
    "    return np.array(pval_general)\n",
    "    \n"
   ]
  },
  {
   "cell_type": "code",
   "execution_count": 4,
   "id": "d4384964-e186-4b01-91e4-399c40e33489",
   "metadata": {},
   "outputs": [],
   "source": [
    "pval_general = aa_test_10000()\n"
   ]
  },
  {
   "cell_type": "code",
   "execution_count": 8,
   "id": "1b751e03-9350-4bbe-9cb6-deb8a8de08d9",
   "metadata": {},
   "outputs": [
    {
     "data": {
      "image/png": "[encoded data removed]",
      "text/plain": [
       "<Figure size 1080x720 with 1 Axes>"
      ]
     },
     "metadata": {},
     "output_type": "display_data"
    }
   ],
   "source": [
    "sns.histplot(data = pval_general, bins=100);"
   ]
  },
  {
   "cell_type": "code",
   "execution_count": 10,
   "id": "a7f1c10d-a0e0-44f4-ac63-f759b5044c99",
   "metadata": {},
   "outputs": [
    {
     "name": "stdout",
     "output_type": "stream",
     "text": [
      "p-value меньше 0,05 в 5.04%\n"
     ]
    }
   ],
   "source": [
    "print(f\"p-value меньше 0,05 в {np.mean(pval_general <= 0.05) * 100}%\")"
   ]
  },
  {
   "cell_type": "markdown",
   "id": "11df012c-8b06-4b92-aa1d-98f38bde09ed",
   "metadata": {},
   "source": [
    "### Выводы\n",
    "\n",
    "1. Визуально, по графику мы уже наблюдаем, что p-value в диапазоне < 0.05 занимает небольшую часть графика. Однако, в данном случае одними \"глазами\" окончательное решение принимать не стоит.\n",
    "\n",
    "2. По рассчетам, количество p-value в диапазоне < 0.05 находится в районе ~5%, что демонстрирует корректную работу системы.\n",
    "\n",
    "### Таким образом, работу системы можно признать корректной."
   ]
  },
  {
   "cell_type": "code",
   "execution_count": null,
   "id": "ec815290-804d-4506-bfa0-1f721465d65c",
   "metadata": {},
   "outputs": [],
   "source": []
  }
 ],
 "metadata": {
  "kernelspec": {
   "display_name": "Python 3 (ipykernel)",
   "language": "python",
   "name": "python3"
  },
  "language_info": {
   "codemirror_mode": {
    "name": "ipython",
    "version": 3
   },
   "file_extension": ".py",
   "mimetype": "text/x-python",
   "name": "python",
   "nbconvert_exporter": "python",
   "pygments_lexer": "ipython3",
   "version": "3.8.10"
  }
 },
 "nbformat": 4,
 "nbformat_minor": 5
}
