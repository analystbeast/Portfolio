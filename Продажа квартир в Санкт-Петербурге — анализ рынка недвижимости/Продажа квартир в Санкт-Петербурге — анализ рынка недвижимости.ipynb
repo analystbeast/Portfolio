{
 "cells": [
  {
   "cell_type": "markdown",
   "metadata": {},
   "source": [
    "# Исследование объявлений о продаже квартир\n",
    "\n",
    "В вашем распоряжении данные сервиса Яндекс.Недвижимость — архив объявлений о продаже квартир в Санкт-Петербурге и соседних населённых пунктов за несколько лет. Нужно научиться определять рыночную стоимость объектов недвижимости. Ваша задача — установить параметры. Это позволит построить автоматизированную систему: она отследит аномалии и мошенническую деятельность. \n",
    "\n",
    "По каждой квартире на продажу доступны два вида данных. Первые вписаны пользователем, вторые — получены автоматически на основе картографических данных. Например, расстояние до центра, аэропорта, ближайшего парка и водоёма. "
   ]
  },
  {
   "cell_type": "markdown",
   "metadata": {},
   "source": [
    "### Откройте файл с данными и изучите общую информацию. "
   ]
  },
  {
   "cell_type": "code",
   "execution_count": 1,
   "metadata": {},
   "outputs": [],
   "source": [
    "import pandas as pd"
   ]
  },
  {
   "cell_type": "code",
   "execution_count": 2,
   "metadata": {},
   "outputs": [
    {
     "name": "stdout",
     "output_type": "stream",
     "text": [
      "<class 'pandas.core.frame.DataFrame'>\n",
      "RangeIndex: 23699 entries, 0 to 23698\n",
      "Data columns (total 22 columns):\n",
      " #   Column                Non-Null Count  Dtype  \n",
      "---  ------                --------------  -----  \n",
      " 0   total_images          23699 non-null  int64  \n",
      " 1   last_price            23699 non-null  float64\n",
      " 2   total_area            23699 non-null  float64\n",
      " 3   first_day_exposition  23699 non-null  object \n",
      " 4   rooms                 23699 non-null  int64  \n",
      " 5   ceiling_height        14504 non-null  float64\n",
      " 6   floors_total          23613 non-null  float64\n",
      " 7   living_area           21796 non-null  float64\n",
      " 8   floor                 23699 non-null  int64  \n",
      " 9   is_apartment          2775 non-null   object \n",
      " 10  studio                23699 non-null  bool   \n",
      " 11  open_plan             23699 non-null  bool   \n",
      " 12  kitchen_area          21421 non-null  float64\n",
      " 13  balcony               12180 non-null  float64\n",
      " 14  locality_name         23650 non-null  object \n",
      " 15  airports_nearest      18157 non-null  float64\n",
      " 16  cityCenters_nearest   18180 non-null  float64\n",
      " 17  parks_around3000      18181 non-null  float64\n",
      " 18  parks_nearest         8079 non-null   float64\n",
      " 19  ponds_around3000      18181 non-null  float64\n",
      " 20  ponds_nearest         9110 non-null   float64\n",
      " 21  days_exposition       20518 non-null  float64\n",
      "dtypes: bool(2), float64(14), int64(3), object(3)\n",
      "memory usage: 3.7+ MB\n"
     ]
    }
   ],
   "source": [
    "data = pd.read_csv('/datasets/real_estate_data.csv', delimiter='\\t')\n",
    "data.info()"
   ]
  },
  {
   "cell_type": "code",
   "execution_count": 3,
   "metadata": {},
   "outputs": [
    {
     "data": {
      "text/html": [
       "<div>\n",
       "<style scoped>\n",
       "    .dataframe tbody tr th:only-of-type {\n",
       "        vertical-align: middle;\n",
       "    }\n",
       "\n",
       "    .dataframe tbody tr th {\n",
       "        vertical-align: top;\n",
       "    }\n",
       "\n",
       "    .dataframe thead th {\n",
       "        text-align: right;\n",
       "    }\n",
       "</style>\n",
       "<table border=\"1\" class=\"dataframe\">\n",
       "  <thead>\n",
       "    <tr style=\"text-align: right;\">\n",
       "      <th></th>\n",
       "      <th>total_images</th>\n",
       "      <th>last_price</th>\n",
       "      <th>total_area</th>\n",
       "      <th>first_day_exposition</th>\n",
       "      <th>rooms</th>\n",
       "      <th>ceiling_height</th>\n",
       "      <th>floors_total</th>\n",
       "      <th>living_area</th>\n",
       "      <th>floor</th>\n",
       "      <th>is_apartment</th>\n",
       "      <th>studio</th>\n",
       "      <th>open_plan</th>\n",
       "      <th>kitchen_area</th>\n",
       "      <th>balcony</th>\n",
       "      <th>locality_name</th>\n",
       "      <th>airports_nearest</th>\n",
       "      <th>cityCenters_nearest</th>\n",
       "      <th>parks_around3000</th>\n",
       "      <th>parks_nearest</th>\n",
       "      <th>ponds_around3000</th>\n",
       "      <th>ponds_nearest</th>\n",
       "      <th>days_exposition</th>\n",
       "    </tr>\n",
       "  </thead>\n",
       "  <tbody>\n",
       "    <tr>\n",
       "      <th>0</th>\n",
       "      <td>20</td>\n",
       "      <td>13000000.0</td>\n",
       "      <td>108.00</td>\n",
       "      <td>2019-03-07T00:00:00</td>\n",
       "      <td>3</td>\n",
       "      <td>2.70</td>\n",
       "      <td>16.0</td>\n",
       "      <td>51.00</td>\n",
       "      <td>8</td>\n",
       "      <td>NaN</td>\n",
       "      <td>False</td>\n",
       "      <td>False</td>\n",
       "      <td>25.00</td>\n",
       "      <td>NaN</td>\n",
       "      <td>Санкт-Петербург</td>\n",
       "      <td>18863.0</td>\n",
       "      <td>16028.0</td>\n",
       "      <td>1.0</td>\n",
       "      <td>482.0</td>\n",
       "      <td>2.0</td>\n",
       "      <td>755.0</td>\n",
       "      <td>NaN</td>\n",
       "    </tr>\n",
       "    <tr>\n",
       "      <th>1</th>\n",
       "      <td>7</td>\n",
       "      <td>3350000.0</td>\n",
       "      <td>40.40</td>\n",
       "      <td>2018-12-04T00:00:00</td>\n",
       "      <td>1</td>\n",
       "      <td>NaN</td>\n",
       "      <td>11.0</td>\n",
       "      <td>18.60</td>\n",
       "      <td>1</td>\n",
       "      <td>NaN</td>\n",
       "      <td>False</td>\n",
       "      <td>False</td>\n",
       "      <td>11.00</td>\n",
       "      <td>2.0</td>\n",
       "      <td>посёлок Шушары</td>\n",
       "      <td>12817.0</td>\n",
       "      <td>18603.0</td>\n",
       "      <td>0.0</td>\n",
       "      <td>NaN</td>\n",
       "      <td>0.0</td>\n",
       "      <td>NaN</td>\n",
       "      <td>81.0</td>\n",
       "    </tr>\n",
       "    <tr>\n",
       "      <th>2</th>\n",
       "      <td>10</td>\n",
       "      <td>5196000.0</td>\n",
       "      <td>56.00</td>\n",
       "      <td>2015-08-20T00:00:00</td>\n",
       "      <td>2</td>\n",
       "      <td>NaN</td>\n",
       "      <td>5.0</td>\n",
       "      <td>34.30</td>\n",
       "      <td>4</td>\n",
       "      <td>NaN</td>\n",
       "      <td>False</td>\n",
       "      <td>False</td>\n",
       "      <td>8.30</td>\n",
       "      <td>0.0</td>\n",
       "      <td>Санкт-Петербург</td>\n",
       "      <td>21741.0</td>\n",
       "      <td>13933.0</td>\n",
       "      <td>1.0</td>\n",
       "      <td>90.0</td>\n",
       "      <td>2.0</td>\n",
       "      <td>574.0</td>\n",
       "      <td>558.0</td>\n",
       "    </tr>\n",
       "    <tr>\n",
       "      <th>3</th>\n",
       "      <td>0</td>\n",
       "      <td>64900000.0</td>\n",
       "      <td>159.00</td>\n",
       "      <td>2015-07-24T00:00:00</td>\n",
       "      <td>3</td>\n",
       "      <td>NaN</td>\n",
       "      <td>14.0</td>\n",
       "      <td>NaN</td>\n",
       "      <td>9</td>\n",
       "      <td>NaN</td>\n",
       "      <td>False</td>\n",
       "      <td>False</td>\n",
       "      <td>NaN</td>\n",
       "      <td>0.0</td>\n",
       "      <td>Санкт-Петербург</td>\n",
       "      <td>28098.0</td>\n",
       "      <td>6800.0</td>\n",
       "      <td>2.0</td>\n",
       "      <td>84.0</td>\n",
       "      <td>3.0</td>\n",
       "      <td>234.0</td>\n",
       "      <td>424.0</td>\n",
       "    </tr>\n",
       "    <tr>\n",
       "      <th>4</th>\n",
       "      <td>2</td>\n",
       "      <td>10000000.0</td>\n",
       "      <td>100.00</td>\n",
       "      <td>2018-06-19T00:00:00</td>\n",
       "      <td>2</td>\n",
       "      <td>3.03</td>\n",
       "      <td>14.0</td>\n",
       "      <td>32.00</td>\n",
       "      <td>13</td>\n",
       "      <td>NaN</td>\n",
       "      <td>False</td>\n",
       "      <td>False</td>\n",
       "      <td>41.00</td>\n",
       "      <td>NaN</td>\n",
       "      <td>Санкт-Петербург</td>\n",
       "      <td>31856.0</td>\n",
       "      <td>8098.0</td>\n",
       "      <td>2.0</td>\n",
       "      <td>112.0</td>\n",
       "      <td>1.0</td>\n",
       "      <td>48.0</td>\n",
       "      <td>121.0</td>\n",
       "    </tr>\n",
       "    <tr>\n",
       "      <th>5</th>\n",
       "      <td>10</td>\n",
       "      <td>2890000.0</td>\n",
       "      <td>30.40</td>\n",
       "      <td>2018-09-10T00:00:00</td>\n",
       "      <td>1</td>\n",
       "      <td>NaN</td>\n",
       "      <td>12.0</td>\n",
       "      <td>14.40</td>\n",
       "      <td>5</td>\n",
       "      <td>NaN</td>\n",
       "      <td>False</td>\n",
       "      <td>False</td>\n",
       "      <td>9.10</td>\n",
       "      <td>NaN</td>\n",
       "      <td>городской посёлок Янино-1</td>\n",
       "      <td>NaN</td>\n",
       "      <td>NaN</td>\n",
       "      <td>NaN</td>\n",
       "      <td>NaN</td>\n",
       "      <td>NaN</td>\n",
       "      <td>NaN</td>\n",
       "      <td>55.0</td>\n",
       "    </tr>\n",
       "    <tr>\n",
       "      <th>6</th>\n",
       "      <td>6</td>\n",
       "      <td>3700000.0</td>\n",
       "      <td>37.30</td>\n",
       "      <td>2017-11-02T00:00:00</td>\n",
       "      <td>1</td>\n",
       "      <td>NaN</td>\n",
       "      <td>26.0</td>\n",
       "      <td>10.60</td>\n",
       "      <td>6</td>\n",
       "      <td>NaN</td>\n",
       "      <td>False</td>\n",
       "      <td>False</td>\n",
       "      <td>14.40</td>\n",
       "      <td>1.0</td>\n",
       "      <td>посёлок Парголово</td>\n",
       "      <td>52996.0</td>\n",
       "      <td>19143.0</td>\n",
       "      <td>0.0</td>\n",
       "      <td>NaN</td>\n",
       "      <td>0.0</td>\n",
       "      <td>NaN</td>\n",
       "      <td>155.0</td>\n",
       "    </tr>\n",
       "    <tr>\n",
       "      <th>7</th>\n",
       "      <td>5</td>\n",
       "      <td>7915000.0</td>\n",
       "      <td>71.60</td>\n",
       "      <td>2019-04-18T00:00:00</td>\n",
       "      <td>2</td>\n",
       "      <td>NaN</td>\n",
       "      <td>24.0</td>\n",
       "      <td>NaN</td>\n",
       "      <td>22</td>\n",
       "      <td>NaN</td>\n",
       "      <td>False</td>\n",
       "      <td>False</td>\n",
       "      <td>18.90</td>\n",
       "      <td>2.0</td>\n",
       "      <td>Санкт-Петербург</td>\n",
       "      <td>23982.0</td>\n",
       "      <td>11634.0</td>\n",
       "      <td>0.0</td>\n",
       "      <td>NaN</td>\n",
       "      <td>0.0</td>\n",
       "      <td>NaN</td>\n",
       "      <td>NaN</td>\n",
       "    </tr>\n",
       "    <tr>\n",
       "      <th>8</th>\n",
       "      <td>20</td>\n",
       "      <td>2900000.0</td>\n",
       "      <td>33.16</td>\n",
       "      <td>2018-05-23T00:00:00</td>\n",
       "      <td>1</td>\n",
       "      <td>NaN</td>\n",
       "      <td>27.0</td>\n",
       "      <td>15.43</td>\n",
       "      <td>26</td>\n",
       "      <td>NaN</td>\n",
       "      <td>False</td>\n",
       "      <td>False</td>\n",
       "      <td>8.81</td>\n",
       "      <td>NaN</td>\n",
       "      <td>посёлок Мурино</td>\n",
       "      <td>NaN</td>\n",
       "      <td>NaN</td>\n",
       "      <td>NaN</td>\n",
       "      <td>NaN</td>\n",
       "      <td>NaN</td>\n",
       "      <td>NaN</td>\n",
       "      <td>189.0</td>\n",
       "    </tr>\n",
       "    <tr>\n",
       "      <th>9</th>\n",
       "      <td>18</td>\n",
       "      <td>5400000.0</td>\n",
       "      <td>61.00</td>\n",
       "      <td>2017-02-26T00:00:00</td>\n",
       "      <td>3</td>\n",
       "      <td>2.50</td>\n",
       "      <td>9.0</td>\n",
       "      <td>43.60</td>\n",
       "      <td>7</td>\n",
       "      <td>NaN</td>\n",
       "      <td>False</td>\n",
       "      <td>False</td>\n",
       "      <td>6.50</td>\n",
       "      <td>2.0</td>\n",
       "      <td>Санкт-Петербург</td>\n",
       "      <td>50898.0</td>\n",
       "      <td>15008.0</td>\n",
       "      <td>0.0</td>\n",
       "      <td>NaN</td>\n",
       "      <td>0.0</td>\n",
       "      <td>NaN</td>\n",
       "      <td>289.0</td>\n",
       "    </tr>\n",
       "    <tr>\n",
       "      <th>10</th>\n",
       "      <td>5</td>\n",
       "      <td>5050000.0</td>\n",
       "      <td>39.60</td>\n",
       "      <td>2017-11-16T00:00:00</td>\n",
       "      <td>1</td>\n",
       "      <td>2.67</td>\n",
       "      <td>12.0</td>\n",
       "      <td>20.30</td>\n",
       "      <td>3</td>\n",
       "      <td>NaN</td>\n",
       "      <td>False</td>\n",
       "      <td>False</td>\n",
       "      <td>8.50</td>\n",
       "      <td>NaN</td>\n",
       "      <td>Санкт-Петербург</td>\n",
       "      <td>38357.0</td>\n",
       "      <td>13878.0</td>\n",
       "      <td>1.0</td>\n",
       "      <td>310.0</td>\n",
       "      <td>2.0</td>\n",
       "      <td>553.0</td>\n",
       "      <td>137.0</td>\n",
       "    </tr>\n",
       "    <tr>\n",
       "      <th>11</th>\n",
       "      <td>9</td>\n",
       "      <td>3300000.0</td>\n",
       "      <td>44.00</td>\n",
       "      <td>2018-08-27T00:00:00</td>\n",
       "      <td>2</td>\n",
       "      <td>NaN</td>\n",
       "      <td>5.0</td>\n",
       "      <td>31.00</td>\n",
       "      <td>4</td>\n",
       "      <td>False</td>\n",
       "      <td>False</td>\n",
       "      <td>False</td>\n",
       "      <td>6.00</td>\n",
       "      <td>1.0</td>\n",
       "      <td>Ломоносов</td>\n",
       "      <td>48252.0</td>\n",
       "      <td>51677.0</td>\n",
       "      <td>0.0</td>\n",
       "      <td>NaN</td>\n",
       "      <td>0.0</td>\n",
       "      <td>NaN</td>\n",
       "      <td>7.0</td>\n",
       "    </tr>\n",
       "    <tr>\n",
       "      <th>12</th>\n",
       "      <td>10</td>\n",
       "      <td>3890000.0</td>\n",
       "      <td>54.00</td>\n",
       "      <td>2016-06-30T00:00:00</td>\n",
       "      <td>2</td>\n",
       "      <td>NaN</td>\n",
       "      <td>5.0</td>\n",
       "      <td>30.00</td>\n",
       "      <td>5</td>\n",
       "      <td>NaN</td>\n",
       "      <td>False</td>\n",
       "      <td>False</td>\n",
       "      <td>9.00</td>\n",
       "      <td>0.0</td>\n",
       "      <td>Сертолово</td>\n",
       "      <td>NaN</td>\n",
       "      <td>NaN</td>\n",
       "      <td>NaN</td>\n",
       "      <td>NaN</td>\n",
       "      <td>NaN</td>\n",
       "      <td>NaN</td>\n",
       "      <td>90.0</td>\n",
       "    </tr>\n",
       "    <tr>\n",
       "      <th>13</th>\n",
       "      <td>20</td>\n",
       "      <td>3550000.0</td>\n",
       "      <td>42.80</td>\n",
       "      <td>2017-07-01T00:00:00</td>\n",
       "      <td>2</td>\n",
       "      <td>2.56</td>\n",
       "      <td>5.0</td>\n",
       "      <td>27.00</td>\n",
       "      <td>5</td>\n",
       "      <td>NaN</td>\n",
       "      <td>False</td>\n",
       "      <td>False</td>\n",
       "      <td>5.20</td>\n",
       "      <td>1.0</td>\n",
       "      <td>Петергоф</td>\n",
       "      <td>37868.0</td>\n",
       "      <td>33058.0</td>\n",
       "      <td>1.0</td>\n",
       "      <td>294.0</td>\n",
       "      <td>3.0</td>\n",
       "      <td>298.0</td>\n",
       "      <td>366.0</td>\n",
       "    </tr>\n",
       "    <tr>\n",
       "      <th>14</th>\n",
       "      <td>1</td>\n",
       "      <td>4400000.0</td>\n",
       "      <td>36.00</td>\n",
       "      <td>2016-06-23T00:00:00</td>\n",
       "      <td>1</td>\n",
       "      <td>NaN</td>\n",
       "      <td>6.0</td>\n",
       "      <td>17.00</td>\n",
       "      <td>1</td>\n",
       "      <td>NaN</td>\n",
       "      <td>False</td>\n",
       "      <td>False</td>\n",
       "      <td>8.00</td>\n",
       "      <td>0.0</td>\n",
       "      <td>Пушкин</td>\n",
       "      <td>20782.0</td>\n",
       "      <td>30759.0</td>\n",
       "      <td>0.0</td>\n",
       "      <td>NaN</td>\n",
       "      <td>1.0</td>\n",
       "      <td>96.0</td>\n",
       "      <td>203.0</td>\n",
       "    </tr>\n",
       "    <tr>\n",
       "      <th>15</th>\n",
       "      <td>16</td>\n",
       "      <td>4650000.0</td>\n",
       "      <td>39.00</td>\n",
       "      <td>2017-11-18T00:00:00</td>\n",
       "      <td>1</td>\n",
       "      <td>NaN</td>\n",
       "      <td>14.0</td>\n",
       "      <td>20.50</td>\n",
       "      <td>5</td>\n",
       "      <td>NaN</td>\n",
       "      <td>False</td>\n",
       "      <td>False</td>\n",
       "      <td>7.60</td>\n",
       "      <td>1.0</td>\n",
       "      <td>Санкт-Петербург</td>\n",
       "      <td>12900.0</td>\n",
       "      <td>14259.0</td>\n",
       "      <td>1.0</td>\n",
       "      <td>590.0</td>\n",
       "      <td>1.0</td>\n",
       "      <td>296.0</td>\n",
       "      <td>19.0</td>\n",
       "    </tr>\n",
       "    <tr>\n",
       "      <th>16</th>\n",
       "      <td>11</td>\n",
       "      <td>6700000.0</td>\n",
       "      <td>82.00</td>\n",
       "      <td>2017-11-23T00:00:00</td>\n",
       "      <td>3</td>\n",
       "      <td>3.05</td>\n",
       "      <td>5.0</td>\n",
       "      <td>55.60</td>\n",
       "      <td>1</td>\n",
       "      <td>NaN</td>\n",
       "      <td>False</td>\n",
       "      <td>False</td>\n",
       "      <td>9.00</td>\n",
       "      <td>NaN</td>\n",
       "      <td>Санкт-Петербург</td>\n",
       "      <td>22108.0</td>\n",
       "      <td>10698.0</td>\n",
       "      <td>3.0</td>\n",
       "      <td>420.0</td>\n",
       "      <td>0.0</td>\n",
       "      <td>NaN</td>\n",
       "      <td>397.0</td>\n",
       "    </tr>\n",
       "    <tr>\n",
       "      <th>17</th>\n",
       "      <td>6</td>\n",
       "      <td>4180000.0</td>\n",
       "      <td>36.00</td>\n",
       "      <td>2016-09-09T00:00:00</td>\n",
       "      <td>1</td>\n",
       "      <td>NaN</td>\n",
       "      <td>17.0</td>\n",
       "      <td>16.50</td>\n",
       "      <td>7</td>\n",
       "      <td>NaN</td>\n",
       "      <td>False</td>\n",
       "      <td>False</td>\n",
       "      <td>11.00</td>\n",
       "      <td>1.0</td>\n",
       "      <td>Санкт-Петербург</td>\n",
       "      <td>33564.0</td>\n",
       "      <td>14616.0</td>\n",
       "      <td>0.0</td>\n",
       "      <td>NaN</td>\n",
       "      <td>1.0</td>\n",
       "      <td>859.0</td>\n",
       "      <td>571.0</td>\n",
       "    </tr>\n",
       "    <tr>\n",
       "      <th>18</th>\n",
       "      <td>8</td>\n",
       "      <td>3250000.0</td>\n",
       "      <td>31.00</td>\n",
       "      <td>2017-01-27T00:00:00</td>\n",
       "      <td>1</td>\n",
       "      <td>2.50</td>\n",
       "      <td>5.0</td>\n",
       "      <td>19.40</td>\n",
       "      <td>2</td>\n",
       "      <td>NaN</td>\n",
       "      <td>False</td>\n",
       "      <td>False</td>\n",
       "      <td>5.60</td>\n",
       "      <td>1.0</td>\n",
       "      <td>Санкт-Петербург</td>\n",
       "      <td>44060.0</td>\n",
       "      <td>10842.0</td>\n",
       "      <td>1.0</td>\n",
       "      <td>759.0</td>\n",
       "      <td>0.0</td>\n",
       "      <td>NaN</td>\n",
       "      <td>168.0</td>\n",
       "    </tr>\n",
       "    <tr>\n",
       "      <th>19</th>\n",
       "      <td>16</td>\n",
       "      <td>14200000.0</td>\n",
       "      <td>121.00</td>\n",
       "      <td>2019-01-09T00:00:00</td>\n",
       "      <td>3</td>\n",
       "      <td>2.75</td>\n",
       "      <td>16.0</td>\n",
       "      <td>76.00</td>\n",
       "      <td>8</td>\n",
       "      <td>NaN</td>\n",
       "      <td>False</td>\n",
       "      <td>False</td>\n",
       "      <td>12.00</td>\n",
       "      <td>NaN</td>\n",
       "      <td>Санкт-Петербург</td>\n",
       "      <td>38900.0</td>\n",
       "      <td>12843.0</td>\n",
       "      <td>0.0</td>\n",
       "      <td>NaN</td>\n",
       "      <td>0.0</td>\n",
       "      <td>NaN</td>\n",
       "      <td>97.0</td>\n",
       "    </tr>\n",
       "  </tbody>\n",
       "</table>\n",
       "</div>"
      ],
      "text/plain": [
       "    total_images  last_price  total_area first_day_exposition  rooms  \\\n",
       "0             20  13000000.0      108.00  2019-03-07T00:00:00      3   \n",
       "1              7   3350000.0       40.40  2018-12-04T00:00:00      1   \n",
       "2             10   5196000.0       56.00  2015-08-20T00:00:00      2   \n",
       "3              0  64900000.0      159.00  2015-07-24T00:00:00      3   \n",
       "4              2  10000000.0      100.00  2018-06-19T00:00:00      2   \n",
       "5             10   2890000.0       30.40  2018-09-10T00:00:00      1   \n",
       "6              6   3700000.0       37.30  2017-11-02T00:00:00      1   \n",
       "7              5   7915000.0       71.60  2019-04-18T00:00:00      2   \n",
       "8             20   2900000.0       33.16  2018-05-23T00:00:00      1   \n",
       "9             18   5400000.0       61.00  2017-02-26T00:00:00      3   \n",
       "10             5   5050000.0       39.60  2017-11-16T00:00:00      1   \n",
       "11             9   3300000.0       44.00  2018-08-27T00:00:00      2   \n",
       "12            10   3890000.0       54.00  2016-06-30T00:00:00      2   \n",
       "13            20   3550000.0       42.80  2017-07-01T00:00:00      2   \n",
       "14             1   4400000.0       36.00  2016-06-23T00:00:00      1   \n",
       "15            16   4650000.0       39.00  2017-11-18T00:00:00      1   \n",
       "16            11   6700000.0       82.00  2017-11-23T00:00:00      3   \n",
       "17             6   4180000.0       36.00  2016-09-09T00:00:00      1   \n",
       "18             8   3250000.0       31.00  2017-01-27T00:00:00      1   \n",
       "19            16  14200000.0      121.00  2019-01-09T00:00:00      3   \n",
       "\n",
       "    ceiling_height  floors_total  living_area  floor is_apartment  studio  \\\n",
       "0             2.70          16.0        51.00      8          NaN   False   \n",
       "1              NaN          11.0        18.60      1          NaN   False   \n",
       "2              NaN           5.0        34.30      4          NaN   False   \n",
       "3              NaN          14.0          NaN      9          NaN   False   \n",
       "4             3.03          14.0        32.00     13          NaN   False   \n",
       "5              NaN          12.0        14.40      5          NaN   False   \n",
       "6              NaN          26.0        10.60      6          NaN   False   \n",
       "7              NaN          24.0          NaN     22          NaN   False   \n",
       "8              NaN          27.0        15.43     26          NaN   False   \n",
       "9             2.50           9.0        43.60      7          NaN   False   \n",
       "10            2.67          12.0        20.30      3          NaN   False   \n",
       "11             NaN           5.0        31.00      4        False   False   \n",
       "12             NaN           5.0        30.00      5          NaN   False   \n",
       "13            2.56           5.0        27.00      5          NaN   False   \n",
       "14             NaN           6.0        17.00      1          NaN   False   \n",
       "15             NaN          14.0        20.50      5          NaN   False   \n",
       "16            3.05           5.0        55.60      1          NaN   False   \n",
       "17             NaN          17.0        16.50      7          NaN   False   \n",
       "18            2.50           5.0        19.40      2          NaN   False   \n",
       "19            2.75          16.0        76.00      8          NaN   False   \n",
       "\n",
       "    open_plan  kitchen_area  balcony              locality_name  \\\n",
       "0       False         25.00      NaN            Санкт-Петербург   \n",
       "1       False         11.00      2.0             посёлок Шушары   \n",
       "2       False          8.30      0.0            Санкт-Петербург   \n",
       "3       False           NaN      0.0            Санкт-Петербург   \n",
       "4       False         41.00      NaN            Санкт-Петербург   \n",
       "5       False          9.10      NaN  городской посёлок Янино-1   \n",
       "6       False         14.40      1.0          посёлок Парголово   \n",
       "7       False         18.90      2.0            Санкт-Петербург   \n",
       "8       False          8.81      NaN             посёлок Мурино   \n",
       "9       False          6.50      2.0            Санкт-Петербург   \n",
       "10      False          8.50      NaN            Санкт-Петербург   \n",
       "11      False          6.00      1.0                  Ломоносов   \n",
       "12      False          9.00      0.0                  Сертолово   \n",
       "13      False          5.20      1.0                   Петергоф   \n",
       "14      False          8.00      0.0                     Пушкин   \n",
       "15      False          7.60      1.0            Санкт-Петербург   \n",
       "16      False          9.00      NaN            Санкт-Петербург   \n",
       "17      False         11.00      1.0            Санкт-Петербург   \n",
       "18      False          5.60      1.0            Санкт-Петербург   \n",
       "19      False         12.00      NaN            Санкт-Петербург   \n",
       "\n",
       "    airports_nearest  cityCenters_nearest  parks_around3000  parks_nearest  \\\n",
       "0            18863.0              16028.0               1.0          482.0   \n",
       "1            12817.0              18603.0               0.0            NaN   \n",
       "2            21741.0              13933.0               1.0           90.0   \n",
       "3            28098.0               6800.0               2.0           84.0   \n",
       "4            31856.0               8098.0               2.0          112.0   \n",
       "5                NaN                  NaN               NaN            NaN   \n",
       "6            52996.0              19143.0               0.0            NaN   \n",
       "7            23982.0              11634.0               0.0            NaN   \n",
       "8                NaN                  NaN               NaN            NaN   \n",
       "9            50898.0              15008.0               0.0            NaN   \n",
       "10           38357.0              13878.0               1.0          310.0   \n",
       "11           48252.0              51677.0               0.0            NaN   \n",
       "12               NaN                  NaN               NaN            NaN   \n",
       "13           37868.0              33058.0               1.0          294.0   \n",
       "14           20782.0              30759.0               0.0            NaN   \n",
       "15           12900.0              14259.0               1.0          590.0   \n",
       "16           22108.0              10698.0               3.0          420.0   \n",
       "17           33564.0              14616.0               0.0            NaN   \n",
       "18           44060.0              10842.0               1.0          759.0   \n",
       "19           38900.0              12843.0               0.0            NaN   \n",
       "\n",
       "    ponds_around3000  ponds_nearest  days_exposition  \n",
       "0                2.0          755.0              NaN  \n",
       "1                0.0            NaN             81.0  \n",
       "2                2.0          574.0            558.0  \n",
       "3                3.0          234.0            424.0  \n",
       "4                1.0           48.0            121.0  \n",
       "5                NaN            NaN             55.0  \n",
       "6                0.0            NaN            155.0  \n",
       "7                0.0            NaN              NaN  \n",
       "8                NaN            NaN            189.0  \n",
       "9                0.0            NaN            289.0  \n",
       "10               2.0          553.0            137.0  \n",
       "11               0.0            NaN              7.0  \n",
       "12               NaN            NaN             90.0  \n",
       "13               3.0          298.0            366.0  \n",
       "14               1.0           96.0            203.0  \n",
       "15               1.0          296.0             19.0  \n",
       "16               0.0            NaN            397.0  \n",
       "17               1.0          859.0            571.0  \n",
       "18               0.0            NaN            168.0  \n",
       "19               0.0            NaN             97.0  "
      ]
     },
     "execution_count": 3,
     "metadata": {},
     "output_type": "execute_result"
    }
   ],
   "source": [
    "pd.set_option('display.max_columns', None)\n",
    "data.head(20)"
   ]
  },
  {
   "cell_type": "code",
   "execution_count": 4,
   "metadata": {},
   "outputs": [
    {
     "data": {
      "image/png": "[encoded data removed]",
      "text/plain": [
       "<Figure size 1080x1440 with 20 Axes>"
      ]
     },
     "metadata": {
      "needs_background": "light"
     },
     "output_type": "display_data"
    }
   ],
   "source": [
    "data.hist(figsize=(15, 20));"
   ]
  },
  {
   "cell_type": "markdown",
   "metadata": {},
   "source": [
    "В данном датасете класически можно выделить две группы проблем с данными: созданными людьми и созданными техническими ошибками и спецификой. Аномалии будут в данном случае будут скорее всего именно рукотворными явлениями - основная часть данных в наборе заполняются пользователем. В целом, их вполне возможно найти и исправить. Данные, полученные картографически - обрабатывать не целесообразно, логически подобрать замену для пустых значений невозможно, к тому же, если этих объектов нет на карте, то и заполнять эти данные - откровенное вредительство.Единственный столбец с возможными дубликатами - locality_name, географические наименования в сервисах - это традиционная боль даже для пользователя, не говоря о людях, работающих с данными с другой стороны."
   ]
  },
  {
   "cell_type": "markdown",
   "metadata": {},
   "source": [
    "### Предобработка данных"
   ]
  },
  {
   "cell_type": "markdown",
   "metadata": {},
   "source": [
    "**Обрабатываем пропуски**"
   ]
  },
  {
   "cell_type": "code",
   "execution_count": 5,
   "metadata": {},
   "outputs": [
    {
     "data": {
      "text/plain": [
       "total_images                0\n",
       "last_price                  0\n",
       "total_area                  0\n",
       "first_day_exposition        0\n",
       "rooms                       0\n",
       "ceiling_height           9195\n",
       "floors_total               86\n",
       "living_area              1903\n",
       "floor                       0\n",
       "is_apartment            20924\n",
       "studio                      0\n",
       "open_plan                   0\n",
       "kitchen_area             2278\n",
       "balcony                 11519\n",
       "locality_name              49\n",
       "airports_nearest         5542\n",
       "cityCenters_nearest      5519\n",
       "parks_around3000         5518\n",
       "parks_nearest           15620\n",
       "ponds_around3000         5518\n",
       "ponds_nearest           14589\n",
       "days_exposition          3181\n",
       "dtype: int64"
      ]
     },
     "execution_count": 5,
     "metadata": {},
     "output_type": "execute_result"
    }
   ],
   "source": [
    "data.isna().sum()"
   ]
  },
  {
   "cell_type": "code",
   "execution_count": 6,
   "metadata": {},
   "outputs": [
    {
     "data": {
      "text/plain": [
       "array([nan,  2.,  0.,  1.,  5.,  4.,  3.])"
      ]
     },
     "execution_count": 6,
     "metadata": {},
     "output_type": "execute_result"
    }
   ],
   "source": [
    "data['balcony'].unique()"
   ]
  },
  {
   "cell_type": "code",
   "execution_count": 7,
   "metadata": {},
   "outputs": [
    {
     "data": {
      "text/plain": [
       "1.0    4195\n",
       "0.0    3758\n",
       "2.0    3659\n",
       "5.0     304\n",
       "4.0     183\n",
       "3.0      81\n",
       "Name: balcony, dtype: int64"
      ]
     },
     "execution_count": 7,
     "metadata": {},
     "output_type": "execute_result"
    }
   ],
   "source": [
    "data['balcony'].value_counts()"
   ]
  },
  {
   "cell_type": "code",
   "execution_count": 8,
   "metadata": {},
   "outputs": [
    {
     "data": {
      "text/plain": [
       "array([0., 2., 1., 5., 4., 3.])"
      ]
     },
     "execution_count": 8,
     "metadata": {},
     "output_type": "execute_result"
    }
   ],
   "source": [
    "data['balcony'] = data['balcony'].fillna(0.0)\n",
    "data['balcony'].unique()\n"
   ]
  },
  {
   "cell_type": "code",
   "execution_count": 9,
   "metadata": {},
   "outputs": [
    {
     "name": "stdout",
     "output_type": "stream",
     "text": [
      "0.0    15277\n",
      "1.0     4195\n",
      "2.0     3659\n",
      "5.0      304\n",
      "4.0      183\n",
      "3.0       81\n",
      "Name: balcony, dtype: int64\n"
     ]
    }
   ],
   "source": [
    "print(data['balcony'].value_counts())"
   ]
  },
  {
   "cell_type": "markdown",
   "metadata": {},
   "source": [
    "Поработаем с пропусками с булевыми данными - значения с пропусками будем считать за False, т.е. отрицательный результат - апартаменты в целом на рынке представленны слабее, чем жилой фонд."
   ]
  },
  {
   "cell_type": "code",
   "execution_count": 10,
   "metadata": {},
   "outputs": [
    {
     "data": {
      "text/plain": [
       "array([nan, False, True], dtype=object)"
      ]
     },
     "execution_count": 10,
     "metadata": {},
     "output_type": "execute_result"
    }
   ],
   "source": [
    "data['is_apartment'].unique()"
   ]
  },
  {
   "cell_type": "code",
   "execution_count": 11,
   "metadata": {},
   "outputs": [
    {
     "name": "stdout",
     "output_type": "stream",
     "text": [
      "[False  True]\n"
     ]
    }
   ],
   "source": [
    "data['is_apartment'] = data['is_apartment'].fillna(False)\n",
    "print(data['is_apartment'].unique())"
   ]
  },
  {
   "cell_type": "markdown",
   "metadata": {},
   "source": [
    "Уберем строки с пропусками, которые невозможно заполнить данными - количество строк по этим пунктам небольшое, но отсутствие этих атрибутов в дальнейшем может исказить расчеты, заполнить эти пропуски близкими значениями не представляется возможным"
   ]
  },
  {
   "cell_type": "code",
   "execution_count": 12,
   "metadata": {},
   "outputs": [],
   "source": [
    "data = data.dropna(subset=['floors_total'])\n",
    "data = data.dropna(subset=['locality_name'])"
   ]
  },
  {
   "cell_type": "code",
   "execution_count": 13,
   "metadata": {},
   "outputs": [
    {
     "name": "stdout",
     "output_type": "stream",
     "text": [
      "2.65\n",
      "2.7712830605621157\n"
     ]
    }
   ],
   "source": [
    "print(data['ceiling_height'].median())\n",
    "print(data['ceiling_height'].mean())\n",
    "data['ceiling_height'] = data['ceiling_height'].fillna(data['ceiling_height'].median())"
   ]
  },
  {
   "cell_type": "code",
   "execution_count": 14,
   "metadata": {},
   "outputs": [
    {
     "data": {
      "text/plain": [
       "total_images                0\n",
       "last_price                  0\n",
       "total_area                  0\n",
       "first_day_exposition        0\n",
       "rooms                       0\n",
       "ceiling_height              0\n",
       "floors_total                0\n",
       "living_area              1865\n",
       "floor                       0\n",
       "is_apartment                0\n",
       "studio                      0\n",
       "open_plan                   0\n",
       "kitchen_area             2222\n",
       "balcony                     0\n",
       "locality_name               0\n",
       "airports_nearest         5524\n",
       "cityCenters_nearest      5501\n",
       "parks_around3000         5500\n",
       "parks_nearest           15535\n",
       "ponds_around3000         5500\n",
       "ponds_nearest           14529\n",
       "days_exposition          3171\n",
       "dtype: int64"
      ]
     },
     "execution_count": 14,
     "metadata": {},
     "output_type": "execute_result"
    }
   ],
   "source": [
    "data.isna().sum()"
   ]
  },
  {
   "cell_type": "markdown",
   "metadata": {},
   "source": [
    "Меняем форматы данных, прежде всего формат времени"
   ]
  },
  {
   "cell_type": "code",
   "execution_count": 15,
   "metadata": {},
   "outputs": [
    {
     "data": {
      "text/html": [
       "<div>\n",
       "<style scoped>\n",
       "    .dataframe tbody tr th:only-of-type {\n",
       "        vertical-align: middle;\n",
       "    }\n",
       "\n",
       "    .dataframe tbody tr th {\n",
       "        vertical-align: top;\n",
       "    }\n",
       "\n",
       "    .dataframe thead th {\n",
       "        text-align: right;\n",
       "    }\n",
       "</style>\n",
       "<table border=\"1\" class=\"dataframe\">\n",
       "  <thead>\n",
       "    <tr style=\"text-align: right;\">\n",
       "      <th></th>\n",
       "      <th>total_images</th>\n",
       "      <th>last_price</th>\n",
       "      <th>total_area</th>\n",
       "      <th>first_day_exposition</th>\n",
       "      <th>rooms</th>\n",
       "      <th>ceiling_height</th>\n",
       "      <th>floors_total</th>\n",
       "      <th>living_area</th>\n",
       "      <th>floor</th>\n",
       "      <th>is_apartment</th>\n",
       "      <th>studio</th>\n",
       "      <th>open_plan</th>\n",
       "      <th>kitchen_area</th>\n",
       "      <th>balcony</th>\n",
       "      <th>locality_name</th>\n",
       "      <th>airports_nearest</th>\n",
       "      <th>cityCenters_nearest</th>\n",
       "      <th>parks_around3000</th>\n",
       "      <th>parks_nearest</th>\n",
       "      <th>ponds_around3000</th>\n",
       "      <th>ponds_nearest</th>\n",
       "      <th>days_exposition</th>\n",
       "    </tr>\n",
       "  </thead>\n",
       "  <tbody>\n",
       "    <tr>\n",
       "      <th>0</th>\n",
       "      <td>20</td>\n",
       "      <td>13000000.0</td>\n",
       "      <td>108.0</td>\n",
       "      <td>2019-03-07</td>\n",
       "      <td>3</td>\n",
       "      <td>2.70</td>\n",
       "      <td>16.0</td>\n",
       "      <td>51.0</td>\n",
       "      <td>8</td>\n",
       "      <td>False</td>\n",
       "      <td>False</td>\n",
       "      <td>False</td>\n",
       "      <td>25.0</td>\n",
       "      <td>0.0</td>\n",
       "      <td>Санкт-Петербург</td>\n",
       "      <td>18863.0</td>\n",
       "      <td>16028.0</td>\n",
       "      <td>1.0</td>\n",
       "      <td>482.0</td>\n",
       "      <td>2.0</td>\n",
       "      <td>755.0</td>\n",
       "      <td>NaN</td>\n",
       "    </tr>\n",
       "    <tr>\n",
       "      <th>1</th>\n",
       "      <td>7</td>\n",
       "      <td>3350000.0</td>\n",
       "      <td>40.4</td>\n",
       "      <td>2018-12-04</td>\n",
       "      <td>1</td>\n",
       "      <td>2.65</td>\n",
       "      <td>11.0</td>\n",
       "      <td>18.6</td>\n",
       "      <td>1</td>\n",
       "      <td>False</td>\n",
       "      <td>False</td>\n",
       "      <td>False</td>\n",
       "      <td>11.0</td>\n",
       "      <td>2.0</td>\n",
       "      <td>посёлок Шушары</td>\n",
       "      <td>12817.0</td>\n",
       "      <td>18603.0</td>\n",
       "      <td>0.0</td>\n",
       "      <td>NaN</td>\n",
       "      <td>0.0</td>\n",
       "      <td>NaN</td>\n",
       "      <td>81.0</td>\n",
       "    </tr>\n",
       "    <tr>\n",
       "      <th>2</th>\n",
       "      <td>10</td>\n",
       "      <td>5196000.0</td>\n",
       "      <td>56.0</td>\n",
       "      <td>2015-08-20</td>\n",
       "      <td>2</td>\n",
       "      <td>2.65</td>\n",
       "      <td>5.0</td>\n",
       "      <td>34.3</td>\n",
       "      <td>4</td>\n",
       "      <td>False</td>\n",
       "      <td>False</td>\n",
       "      <td>False</td>\n",
       "      <td>8.3</td>\n",
       "      <td>0.0</td>\n",
       "      <td>Санкт-Петербург</td>\n",
       "      <td>21741.0</td>\n",
       "      <td>13933.0</td>\n",
       "      <td>1.0</td>\n",
       "      <td>90.0</td>\n",
       "      <td>2.0</td>\n",
       "      <td>574.0</td>\n",
       "      <td>558.0</td>\n",
       "    </tr>\n",
       "    <tr>\n",
       "      <th>3</th>\n",
       "      <td>0</td>\n",
       "      <td>64900000.0</td>\n",
       "      <td>159.0</td>\n",
       "      <td>2015-07-24</td>\n",
       "      <td>3</td>\n",
       "      <td>2.65</td>\n",
       "      <td>14.0</td>\n",
       "      <td>NaN</td>\n",
       "      <td>9</td>\n",
       "      <td>False</td>\n",
       "      <td>False</td>\n",
       "      <td>False</td>\n",
       "      <td>NaN</td>\n",
       "      <td>0.0</td>\n",
       "      <td>Санкт-Петербург</td>\n",
       "      <td>28098.0</td>\n",
       "      <td>6800.0</td>\n",
       "      <td>2.0</td>\n",
       "      <td>84.0</td>\n",
       "      <td>3.0</td>\n",
       "      <td>234.0</td>\n",
       "      <td>424.0</td>\n",
       "    </tr>\n",
       "    <tr>\n",
       "      <th>4</th>\n",
       "      <td>2</td>\n",
       "      <td>10000000.0</td>\n",
       "      <td>100.0</td>\n",
       "      <td>2018-06-19</td>\n",
       "      <td>2</td>\n",
       "      <td>3.03</td>\n",
       "      <td>14.0</td>\n",
       "      <td>32.0</td>\n",
       "      <td>13</td>\n",
       "      <td>False</td>\n",
       "      <td>False</td>\n",
       "      <td>False</td>\n",
       "      <td>41.0</td>\n",
       "      <td>0.0</td>\n",
       "      <td>Санкт-Петербург</td>\n",
       "      <td>31856.0</td>\n",
       "      <td>8098.0</td>\n",
       "      <td>2.0</td>\n",
       "      <td>112.0</td>\n",
       "      <td>1.0</td>\n",
       "      <td>48.0</td>\n",
       "      <td>121.0</td>\n",
       "    </tr>\n",
       "  </tbody>\n",
       "</table>\n",
       "</div>"
      ],
      "text/plain": [
       "   total_images  last_price  total_area first_day_exposition  rooms  \\\n",
       "0            20  13000000.0       108.0           2019-03-07      3   \n",
       "1             7   3350000.0        40.4           2018-12-04      1   \n",
       "2            10   5196000.0        56.0           2015-08-20      2   \n",
       "3             0  64900000.0       159.0           2015-07-24      3   \n",
       "4             2  10000000.0       100.0           2018-06-19      2   \n",
       "\n",
       "   ceiling_height  floors_total  living_area  floor  is_apartment  studio  \\\n",
       "0            2.70          16.0         51.0      8         False   False   \n",
       "1            2.65          11.0         18.6      1         False   False   \n",
       "2            2.65           5.0         34.3      4         False   False   \n",
       "3            2.65          14.0          NaN      9         False   False   \n",
       "4            3.03          14.0         32.0     13         False   False   \n",
       "\n",
       "   open_plan  kitchen_area  balcony    locality_name  airports_nearest  \\\n",
       "0      False          25.0      0.0  Санкт-Петербург           18863.0   \n",
       "1      False          11.0      2.0   посёлок Шушары           12817.0   \n",
       "2      False           8.3      0.0  Санкт-Петербург           21741.0   \n",
       "3      False           NaN      0.0  Санкт-Петербург           28098.0   \n",
       "4      False          41.0      0.0  Санкт-Петербург           31856.0   \n",
       "\n",
       "   cityCenters_nearest  parks_around3000  parks_nearest  ponds_around3000  \\\n",
       "0              16028.0               1.0          482.0               2.0   \n",
       "1              18603.0               0.0            NaN               0.0   \n",
       "2              13933.0               1.0           90.0               2.0   \n",
       "3               6800.0               2.0           84.0               3.0   \n",
       "4               8098.0               2.0          112.0               1.0   \n",
       "\n",
       "   ponds_nearest  days_exposition  \n",
       "0          755.0              NaN  \n",
       "1            NaN             81.0  \n",
       "2          574.0            558.0  \n",
       "3          234.0            424.0  \n",
       "4           48.0            121.0  "
      ]
     },
     "metadata": {},
     "output_type": "display_data"
    }
   ],
   "source": [
    "data['first_day_exposition'] = pd.to_datetime(data['first_day_exposition'], format='%Y-%m-%dT%H:%M')\n",
    "display(data.head())"
   ]
  },
  {
   "cell_type": "code",
   "execution_count": 16,
   "metadata": {},
   "outputs": [],
   "source": [
    "data['floors_total'] = data['floors_total'].astype('int64')\n",
    "data['floor'] = data['floor'].astype('int64')\n",
    "data['balcony'] = data['balcony'].astype('int64')"
   ]
  },
  {
   "cell_type": "markdown",
   "metadata": {},
   "source": [
    "В остальных столбцах остро вопроса смены формата не стоит. В случае с расчетом средних, медиан и прочего, формат с целых чисел уползет во float."
   ]
  },
  {
   "cell_type": "markdown",
   "metadata": {},
   "source": [
    "**Проверяем аномальные данные**"
   ]
  },
  {
   "cell_type": "code",
   "execution_count": 17,
   "metadata": {},
   "outputs": [],
   "source": [
    "#Запшем инфу о размере данных до чистки\n",
    "old_data = data.shape[0]"
   ]
  },
  {
   "cell_type": "code",
   "execution_count": 18,
   "metadata": {},
   "outputs": [
    {
     "data": {
      "image/png": "[encoded data removed]",
      "text/plain": [
       "<Figure size 432x288 with 1 Axes>"
      ]
     },
     "metadata": {
      "needs_background": "light"
     },
     "output_type": "display_data"
    }
   ],
   "source": [
    "data['total_area'].plot(kind='box');"
   ]
  },
  {
   "cell_type": "code",
   "execution_count": 19,
   "metadata": {},
   "outputs": [],
   "source": [
    "#ограничимся квартирами до 600 квадратов\n",
    "data = data.query('total_area < 600')"
   ]
  },
  {
   "cell_type": "code",
   "execution_count": 20,
   "metadata": {},
   "outputs": [
    {
     "data": {
      "text/plain": [
       "count    23561.000000\n",
       "mean        10.675948\n",
       "std          6.594432\n",
       "min          1.000000\n",
       "25%          5.000000\n",
       "50%          9.000000\n",
       "75%         16.000000\n",
       "max         60.000000\n",
       "Name: floors_total, dtype: float64"
      ]
     },
     "execution_count": 20,
     "metadata": {},
     "output_type": "execute_result"
    },
    {
     "data": {
      "image/png": "[encoded data removed]",
      "text/plain": [
       "<Figure size 432x288 with 1 Axes>"
      ]
     },
     "metadata": {
      "needs_background": "light"
     },
     "output_type": "display_data"
    }
   ],
   "source": [
    "#Посмотрим общую этажность дома\n",
    "data['floors_total'].plot(kind='hist')\n",
    "data['floors_total'].describe()"
   ]
  },
  {
   "cell_type": "markdown",
   "metadata": {},
   "source": [
    "Итак, есть аномалии 2 дома сомнительной этажности - 52 и 60 этажные дома. Один из них тем более в Кронштадте."
   ]
  },
  {
   "cell_type": "code",
   "execution_count": 21,
   "metadata": {},
   "outputs": [
    {
     "data": {
      "text/html": [
       "<div>\n",
       "<style scoped>\n",
       "    .dataframe tbody tr th:only-of-type {\n",
       "        vertical-align: middle;\n",
       "    }\n",
       "\n",
       "    .dataframe tbody tr th {\n",
       "        vertical-align: top;\n",
       "    }\n",
       "\n",
       "    .dataframe thead th {\n",
       "        text-align: right;\n",
       "    }\n",
       "</style>\n",
       "<table border=\"1\" class=\"dataframe\">\n",
       "  <thead>\n",
       "    <tr style=\"text-align: right;\">\n",
       "      <th></th>\n",
       "      <th>total_images</th>\n",
       "      <th>last_price</th>\n",
       "      <th>total_area</th>\n",
       "      <th>first_day_exposition</th>\n",
       "      <th>rooms</th>\n",
       "      <th>ceiling_height</th>\n",
       "      <th>floors_total</th>\n",
       "      <th>living_area</th>\n",
       "      <th>floor</th>\n",
       "      <th>is_apartment</th>\n",
       "      <th>studio</th>\n",
       "      <th>open_plan</th>\n",
       "      <th>kitchen_area</th>\n",
       "      <th>balcony</th>\n",
       "      <th>locality_name</th>\n",
       "      <th>airports_nearest</th>\n",
       "      <th>cityCenters_nearest</th>\n",
       "      <th>parks_around3000</th>\n",
       "      <th>parks_nearest</th>\n",
       "      <th>ponds_around3000</th>\n",
       "      <th>ponds_nearest</th>\n",
       "      <th>days_exposition</th>\n",
       "    </tr>\n",
       "  </thead>\n",
       "  <tbody>\n",
       "    <tr>\n",
       "      <th>397</th>\n",
       "      <td>15</td>\n",
       "      <td>5990000.0</td>\n",
       "      <td>54.0</td>\n",
       "      <td>2018-03-22</td>\n",
       "      <td>2</td>\n",
       "      <td>2.65</td>\n",
       "      <td>36</td>\n",
       "      <td>21.4</td>\n",
       "      <td>28</td>\n",
       "      <td>False</td>\n",
       "      <td>False</td>\n",
       "      <td>False</td>\n",
       "      <td>18.70</td>\n",
       "      <td>1</td>\n",
       "      <td>Санкт-Петербург</td>\n",
       "      <td>18732.0</td>\n",
       "      <td>20444.0</td>\n",
       "      <td>0.0</td>\n",
       "      <td>NaN</td>\n",
       "      <td>3.0</td>\n",
       "      <td>80.0</td>\n",
       "      <td>11.0</td>\n",
       "    </tr>\n",
       "    <tr>\n",
       "      <th>2253</th>\n",
       "      <td>12</td>\n",
       "      <td>3800000.0</td>\n",
       "      <td>45.5</td>\n",
       "      <td>2018-06-28</td>\n",
       "      <td>2</td>\n",
       "      <td>2.88</td>\n",
       "      <td>60</td>\n",
       "      <td>27.4</td>\n",
       "      <td>4</td>\n",
       "      <td>False</td>\n",
       "      <td>False</td>\n",
       "      <td>False</td>\n",
       "      <td>7.40</td>\n",
       "      <td>0</td>\n",
       "      <td>Кронштадт</td>\n",
       "      <td>67763.0</td>\n",
       "      <td>49488.0</td>\n",
       "      <td>2.0</td>\n",
       "      <td>342.0</td>\n",
       "      <td>3.0</td>\n",
       "      <td>614.0</td>\n",
       "      <td>166.0</td>\n",
       "    </tr>\n",
       "    <tr>\n",
       "      <th>5807</th>\n",
       "      <td>17</td>\n",
       "      <td>8150000.0</td>\n",
       "      <td>80.0</td>\n",
       "      <td>2019-01-09</td>\n",
       "      <td>2</td>\n",
       "      <td>27.00</td>\n",
       "      <td>36</td>\n",
       "      <td>41.0</td>\n",
       "      <td>13</td>\n",
       "      <td>False</td>\n",
       "      <td>False</td>\n",
       "      <td>False</td>\n",
       "      <td>12.00</td>\n",
       "      <td>5</td>\n",
       "      <td>Санкт-Петербург</td>\n",
       "      <td>18732.0</td>\n",
       "      <td>20444.0</td>\n",
       "      <td>0.0</td>\n",
       "      <td>NaN</td>\n",
       "      <td>3.0</td>\n",
       "      <td>80.0</td>\n",
       "      <td>38.0</td>\n",
       "    </tr>\n",
       "    <tr>\n",
       "      <th>11079</th>\n",
       "      <td>16</td>\n",
       "      <td>9200000.0</td>\n",
       "      <td>75.0</td>\n",
       "      <td>2019-02-22</td>\n",
       "      <td>2</td>\n",
       "      <td>2.70</td>\n",
       "      <td>36</td>\n",
       "      <td>40.0</td>\n",
       "      <td>29</td>\n",
       "      <td>False</td>\n",
       "      <td>False</td>\n",
       "      <td>False</td>\n",
       "      <td>12.00</td>\n",
       "      <td>2</td>\n",
       "      <td>Санкт-Петербург</td>\n",
       "      <td>18732.0</td>\n",
       "      <td>20444.0</td>\n",
       "      <td>0.0</td>\n",
       "      <td>NaN</td>\n",
       "      <td>3.0</td>\n",
       "      <td>80.0</td>\n",
       "      <td>NaN</td>\n",
       "    </tr>\n",
       "    <tr>\n",
       "      <th>16731</th>\n",
       "      <td>9</td>\n",
       "      <td>3978000.0</td>\n",
       "      <td>40.0</td>\n",
       "      <td>2018-09-24</td>\n",
       "      <td>1</td>\n",
       "      <td>2.65</td>\n",
       "      <td>52</td>\n",
       "      <td>10.5</td>\n",
       "      <td>18</td>\n",
       "      <td>False</td>\n",
       "      <td>False</td>\n",
       "      <td>False</td>\n",
       "      <td>14.00</td>\n",
       "      <td>0</td>\n",
       "      <td>Санкт-Петербург</td>\n",
       "      <td>20728.0</td>\n",
       "      <td>12978.0</td>\n",
       "      <td>1.0</td>\n",
       "      <td>793.0</td>\n",
       "      <td>0.0</td>\n",
       "      <td>NaN</td>\n",
       "      <td>45.0</td>\n",
       "    </tr>\n",
       "    <tr>\n",
       "      <th>16934</th>\n",
       "      <td>5</td>\n",
       "      <td>4100000.0</td>\n",
       "      <td>40.0</td>\n",
       "      <td>2017-10-17</td>\n",
       "      <td>1</td>\n",
       "      <td>1.75</td>\n",
       "      <td>37</td>\n",
       "      <td>17.4</td>\n",
       "      <td>5</td>\n",
       "      <td>False</td>\n",
       "      <td>False</td>\n",
       "      <td>False</td>\n",
       "      <td>8.34</td>\n",
       "      <td>0</td>\n",
       "      <td>Санкт-Петербург</td>\n",
       "      <td>18732.0</td>\n",
       "      <td>20444.0</td>\n",
       "      <td>0.0</td>\n",
       "      <td>NaN</td>\n",
       "      <td>3.0</td>\n",
       "      <td>80.0</td>\n",
       "      <td>71.0</td>\n",
       "    </tr>\n",
       "  </tbody>\n",
       "</table>\n",
       "</div>"
      ],
      "text/plain": [
       "       total_images  last_price  total_area first_day_exposition  rooms  \\\n",
       "397              15   5990000.0        54.0           2018-03-22      2   \n",
       "2253             12   3800000.0        45.5           2018-06-28      2   \n",
       "5807             17   8150000.0        80.0           2019-01-09      2   \n",
       "11079            16   9200000.0        75.0           2019-02-22      2   \n",
       "16731             9   3978000.0        40.0           2018-09-24      1   \n",
       "16934             5   4100000.0        40.0           2017-10-17      1   \n",
       "\n",
       "       ceiling_height  floors_total  living_area  floor  is_apartment  studio  \\\n",
       "397              2.65            36         21.4     28         False   False   \n",
       "2253             2.88            60         27.4      4         False   False   \n",
       "5807            27.00            36         41.0     13         False   False   \n",
       "11079            2.70            36         40.0     29         False   False   \n",
       "16731            2.65            52         10.5     18         False   False   \n",
       "16934            1.75            37         17.4      5         False   False   \n",
       "\n",
       "       open_plan  kitchen_area  balcony    locality_name  airports_nearest  \\\n",
       "397        False         18.70        1  Санкт-Петербург           18732.0   \n",
       "2253       False          7.40        0        Кронштадт           67763.0   \n",
       "5807       False         12.00        5  Санкт-Петербург           18732.0   \n",
       "11079      False         12.00        2  Санкт-Петербург           18732.0   \n",
       "16731      False         14.00        0  Санкт-Петербург           20728.0   \n",
       "16934      False          8.34        0  Санкт-Петербург           18732.0   \n",
       "\n",
       "       cityCenters_nearest  parks_around3000  parks_nearest  ponds_around3000  \\\n",
       "397                20444.0               0.0            NaN               3.0   \n",
       "2253               49488.0               2.0          342.0               3.0   \n",
       "5807               20444.0               0.0            NaN               3.0   \n",
       "11079              20444.0               0.0            NaN               3.0   \n",
       "16731              12978.0               1.0          793.0               0.0   \n",
       "16934              20444.0               0.0            NaN               3.0   \n",
       "\n",
       "       ponds_nearest  days_exposition  \n",
       "397             80.0             11.0  \n",
       "2253           614.0            166.0  \n",
       "5807            80.0             38.0  \n",
       "11079           80.0              NaN  \n",
       "16731            NaN             45.0  \n",
       "16934           80.0             71.0  "
      ]
     },
     "metadata": {},
     "output_type": "display_data"
    }
   ],
   "source": [
    "display(data[data['floors_total'] > 35])"
   ]
  },
  {
   "cell_type": "code",
   "execution_count": 22,
   "metadata": {},
   "outputs": [],
   "source": [
    "#Перепишем этажность на 6, такие дома там есть, проекты 1920-1941 годов\n",
    "data.loc[(data['floors_total'] == 60), 'floors_total'] = 6\n",
    "#Для второго дома этажность подобрать сложнее, наиболее актуальным будет значение 32, вероятно опечатка. \n",
    "#Такая этажность у дома вполне распространена\n",
    "data.loc[(data['floors_total'] == 52), 'floors_total'] = 32"
   ]
  },
  {
   "cell_type": "code",
   "execution_count": 23,
   "metadata": {},
   "outputs": [
    {
     "data": {
      "text/html": [
       "<div>\n",
       "<style scoped>\n",
       "    .dataframe tbody tr th:only-of-type {\n",
       "        vertical-align: middle;\n",
       "    }\n",
       "\n",
       "    .dataframe tbody tr th {\n",
       "        vertical-align: top;\n",
       "    }\n",
       "\n",
       "    .dataframe thead th {\n",
       "        text-align: right;\n",
       "    }\n",
       "</style>\n",
       "<table border=\"1\" class=\"dataframe\">\n",
       "  <thead>\n",
       "    <tr style=\"text-align: right;\">\n",
       "      <th></th>\n",
       "      <th>total_images</th>\n",
       "      <th>last_price</th>\n",
       "      <th>total_area</th>\n",
       "      <th>first_day_exposition</th>\n",
       "      <th>rooms</th>\n",
       "      <th>ceiling_height</th>\n",
       "      <th>floors_total</th>\n",
       "      <th>living_area</th>\n",
       "      <th>floor</th>\n",
       "      <th>is_apartment</th>\n",
       "      <th>studio</th>\n",
       "      <th>open_plan</th>\n",
       "      <th>kitchen_area</th>\n",
       "      <th>balcony</th>\n",
       "      <th>locality_name</th>\n",
       "      <th>airports_nearest</th>\n",
       "      <th>cityCenters_nearest</th>\n",
       "      <th>parks_around3000</th>\n",
       "      <th>parks_nearest</th>\n",
       "      <th>ponds_around3000</th>\n",
       "      <th>ponds_nearest</th>\n",
       "      <th>days_exposition</th>\n",
       "    </tr>\n",
       "  </thead>\n",
       "  <tbody>\n",
       "    <tr>\n",
       "      <th>397</th>\n",
       "      <td>15</td>\n",
       "      <td>5990000.0</td>\n",
       "      <td>54.0</td>\n",
       "      <td>2018-03-22</td>\n",
       "      <td>2</td>\n",
       "      <td>2.65</td>\n",
       "      <td>36</td>\n",
       "      <td>21.4</td>\n",
       "      <td>28</td>\n",
       "      <td>False</td>\n",
       "      <td>False</td>\n",
       "      <td>False</td>\n",
       "      <td>18.70</td>\n",
       "      <td>1</td>\n",
       "      <td>Санкт-Петербург</td>\n",
       "      <td>18732.0</td>\n",
       "      <td>20444.0</td>\n",
       "      <td>0.0</td>\n",
       "      <td>NaN</td>\n",
       "      <td>3.0</td>\n",
       "      <td>80.0</td>\n",
       "      <td>11.0</td>\n",
       "    </tr>\n",
       "    <tr>\n",
       "      <th>5807</th>\n",
       "      <td>17</td>\n",
       "      <td>8150000.0</td>\n",
       "      <td>80.0</td>\n",
       "      <td>2019-01-09</td>\n",
       "      <td>2</td>\n",
       "      <td>27.00</td>\n",
       "      <td>36</td>\n",
       "      <td>41.0</td>\n",
       "      <td>13</td>\n",
       "      <td>False</td>\n",
       "      <td>False</td>\n",
       "      <td>False</td>\n",
       "      <td>12.00</td>\n",
       "      <td>5</td>\n",
       "      <td>Санкт-Петербург</td>\n",
       "      <td>18732.0</td>\n",
       "      <td>20444.0</td>\n",
       "      <td>0.0</td>\n",
       "      <td>NaN</td>\n",
       "      <td>3.0</td>\n",
       "      <td>80.0</td>\n",
       "      <td>38.0</td>\n",
       "    </tr>\n",
       "    <tr>\n",
       "      <th>11079</th>\n",
       "      <td>16</td>\n",
       "      <td>9200000.0</td>\n",
       "      <td>75.0</td>\n",
       "      <td>2019-02-22</td>\n",
       "      <td>2</td>\n",
       "      <td>2.70</td>\n",
       "      <td>36</td>\n",
       "      <td>40.0</td>\n",
       "      <td>29</td>\n",
       "      <td>False</td>\n",
       "      <td>False</td>\n",
       "      <td>False</td>\n",
       "      <td>12.00</td>\n",
       "      <td>2</td>\n",
       "      <td>Санкт-Петербург</td>\n",
       "      <td>18732.0</td>\n",
       "      <td>20444.0</td>\n",
       "      <td>0.0</td>\n",
       "      <td>NaN</td>\n",
       "      <td>3.0</td>\n",
       "      <td>80.0</td>\n",
       "      <td>NaN</td>\n",
       "    </tr>\n",
       "    <tr>\n",
       "      <th>16934</th>\n",
       "      <td>5</td>\n",
       "      <td>4100000.0</td>\n",
       "      <td>40.0</td>\n",
       "      <td>2017-10-17</td>\n",
       "      <td>1</td>\n",
       "      <td>1.75</td>\n",
       "      <td>37</td>\n",
       "      <td>17.4</td>\n",
       "      <td>5</td>\n",
       "      <td>False</td>\n",
       "      <td>False</td>\n",
       "      <td>False</td>\n",
       "      <td>8.34</td>\n",
       "      <td>0</td>\n",
       "      <td>Санкт-Петербург</td>\n",
       "      <td>18732.0</td>\n",
       "      <td>20444.0</td>\n",
       "      <td>0.0</td>\n",
       "      <td>NaN</td>\n",
       "      <td>3.0</td>\n",
       "      <td>80.0</td>\n",
       "      <td>71.0</td>\n",
       "    </tr>\n",
       "  </tbody>\n",
       "</table>\n",
       "</div>"
      ],
      "text/plain": [
       "       total_images  last_price  total_area first_day_exposition  rooms  \\\n",
       "397              15   5990000.0        54.0           2018-03-22      2   \n",
       "5807             17   8150000.0        80.0           2019-01-09      2   \n",
       "11079            16   9200000.0        75.0           2019-02-22      2   \n",
       "16934             5   4100000.0        40.0           2017-10-17      1   \n",
       "\n",
       "       ceiling_height  floors_total  living_area  floor  is_apartment  studio  \\\n",
       "397              2.65            36         21.4     28         False   False   \n",
       "5807            27.00            36         41.0     13         False   False   \n",
       "11079            2.70            36         40.0     29         False   False   \n",
       "16934            1.75            37         17.4      5         False   False   \n",
       "\n",
       "       open_plan  kitchen_area  balcony    locality_name  airports_nearest  \\\n",
       "397        False         18.70        1  Санкт-Петербург           18732.0   \n",
       "5807       False         12.00        5  Санкт-Петербург           18732.0   \n",
       "11079      False         12.00        2  Санкт-Петербург           18732.0   \n",
       "16934      False          8.34        0  Санкт-Петербург           18732.0   \n",
       "\n",
       "       cityCenters_nearest  parks_around3000  parks_nearest  ponds_around3000  \\\n",
       "397                20444.0               0.0            NaN               3.0   \n",
       "5807               20444.0               0.0            NaN               3.0   \n",
       "11079              20444.0               0.0            NaN               3.0   \n",
       "16934              20444.0               0.0            NaN               3.0   \n",
       "\n",
       "       ponds_nearest  days_exposition  \n",
       "397             80.0             11.0  \n",
       "5807            80.0             38.0  \n",
       "11079           80.0              NaN  \n",
       "16934           80.0             71.0  "
      ]
     },
     "metadata": {},
     "output_type": "display_data"
    }
   ],
   "source": [
    "#Остальные варианты домов редки, но существуют, посмотрим конечный итог\n",
    "display(data[data['floors_total'] > 35])"
   ]
  },
  {
   "cell_type": "markdown",
   "metadata": {},
   "source": [
    "Теперь просмотрим потолки. Изучим потолки более 10.3м Данное значение пиковое для высоты потолков в элитном жилье."
   ]
  },
  {
   "cell_type": "code",
   "execution_count": 24,
   "metadata": {},
   "outputs": [
    {
     "data": {
      "text/plain": [
       "count    23561.000000\n",
       "mean         2.724451\n",
       "std          0.991070\n",
       "min          1.000000\n",
       "25%          2.600000\n",
       "50%          2.650000\n",
       "75%          2.700000\n",
       "max        100.000000\n",
       "Name: ceiling_height, dtype: float64"
      ]
     },
     "execution_count": 24,
     "metadata": {},
     "output_type": "execute_result"
    }
   ],
   "source": [
    "#Видимо один из собственников захотел потолок как в Газпром-Арене\n",
    "data['ceiling_height'].describe()"
   ]
  },
  {
   "cell_type": "code",
   "execution_count": 25,
   "metadata": {},
   "outputs": [
    {
     "data": {
      "text/html": [
       "<div>\n",
       "<style scoped>\n",
       "    .dataframe tbody tr th:only-of-type {\n",
       "        vertical-align: middle;\n",
       "    }\n",
       "\n",
       "    .dataframe tbody tr th {\n",
       "        vertical-align: top;\n",
       "    }\n",
       "\n",
       "    .dataframe thead th {\n",
       "        text-align: right;\n",
       "    }\n",
       "</style>\n",
       "<table border=\"1\" class=\"dataframe\">\n",
       "  <thead>\n",
       "    <tr style=\"text-align: right;\">\n",
       "      <th></th>\n",
       "      <th>total_images</th>\n",
       "      <th>last_price</th>\n",
       "      <th>total_area</th>\n",
       "      <th>first_day_exposition</th>\n",
       "      <th>rooms</th>\n",
       "      <th>ceiling_height</th>\n",
       "      <th>floors_total</th>\n",
       "      <th>living_area</th>\n",
       "      <th>floor</th>\n",
       "      <th>is_apartment</th>\n",
       "      <th>studio</th>\n",
       "      <th>open_plan</th>\n",
       "      <th>kitchen_area</th>\n",
       "      <th>balcony</th>\n",
       "      <th>locality_name</th>\n",
       "      <th>airports_nearest</th>\n",
       "      <th>cityCenters_nearest</th>\n",
       "      <th>parks_around3000</th>\n",
       "      <th>parks_nearest</th>\n",
       "      <th>ponds_around3000</th>\n",
       "      <th>ponds_nearest</th>\n",
       "      <th>days_exposition</th>\n",
       "    </tr>\n",
       "  </thead>\n",
       "  <tbody>\n",
       "    <tr>\n",
       "      <th>355</th>\n",
       "      <td>17</td>\n",
       "      <td>3600000.0</td>\n",
       "      <td>55.2</td>\n",
       "      <td>2018-07-12</td>\n",
       "      <td>2</td>\n",
       "      <td>25.0</td>\n",
       "      <td>5</td>\n",
       "      <td>32.0</td>\n",
       "      <td>2</td>\n",
       "      <td>False</td>\n",
       "      <td>False</td>\n",
       "      <td>False</td>\n",
       "      <td>NaN</td>\n",
       "      <td>2</td>\n",
       "      <td>Гатчина</td>\n",
       "      <td>NaN</td>\n",
       "      <td>NaN</td>\n",
       "      <td>NaN</td>\n",
       "      <td>NaN</td>\n",
       "      <td>NaN</td>\n",
       "      <td>NaN</td>\n",
       "      <td>259.0</td>\n",
       "    </tr>\n",
       "    <tr>\n",
       "      <th>3148</th>\n",
       "      <td>14</td>\n",
       "      <td>2900000.0</td>\n",
       "      <td>75.0</td>\n",
       "      <td>2018-11-12</td>\n",
       "      <td>3</td>\n",
       "      <td>32.0</td>\n",
       "      <td>3</td>\n",
       "      <td>53.0</td>\n",
       "      <td>2</td>\n",
       "      <td>False</td>\n",
       "      <td>False</td>\n",
       "      <td>False</td>\n",
       "      <td>8.0</td>\n",
       "      <td>0</td>\n",
       "      <td>Волхов</td>\n",
       "      <td>NaN</td>\n",
       "      <td>NaN</td>\n",
       "      <td>NaN</td>\n",
       "      <td>NaN</td>\n",
       "      <td>NaN</td>\n",
       "      <td>NaN</td>\n",
       "      <td>NaN</td>\n",
       "    </tr>\n",
       "    <tr>\n",
       "      <th>4643</th>\n",
       "      <td>0</td>\n",
       "      <td>4300000.0</td>\n",
       "      <td>45.0</td>\n",
       "      <td>2018-02-01</td>\n",
       "      <td>2</td>\n",
       "      <td>25.0</td>\n",
       "      <td>9</td>\n",
       "      <td>30.0</td>\n",
       "      <td>2</td>\n",
       "      <td>False</td>\n",
       "      <td>False</td>\n",
       "      <td>False</td>\n",
       "      <td>7.0</td>\n",
       "      <td>1</td>\n",
       "      <td>Санкт-Петербург</td>\n",
       "      <td>12016.0</td>\n",
       "      <td>13256.0</td>\n",
       "      <td>1.0</td>\n",
       "      <td>658.0</td>\n",
       "      <td>1.0</td>\n",
       "      <td>331.0</td>\n",
       "      <td>181.0</td>\n",
       "    </tr>\n",
       "    <tr>\n",
       "      <th>4876</th>\n",
       "      <td>7</td>\n",
       "      <td>3000000.0</td>\n",
       "      <td>25.0</td>\n",
       "      <td>2017-09-27</td>\n",
       "      <td>0</td>\n",
       "      <td>27.0</td>\n",
       "      <td>25</td>\n",
       "      <td>17.0</td>\n",
       "      <td>17</td>\n",
       "      <td>False</td>\n",
       "      <td>False</td>\n",
       "      <td>True</td>\n",
       "      <td>NaN</td>\n",
       "      <td>2</td>\n",
       "      <td>посёлок Мурино</td>\n",
       "      <td>NaN</td>\n",
       "      <td>NaN</td>\n",
       "      <td>NaN</td>\n",
       "      <td>NaN</td>\n",
       "      <td>NaN</td>\n",
       "      <td>NaN</td>\n",
       "      <td>28.0</td>\n",
       "    </tr>\n",
       "    <tr>\n",
       "      <th>5076</th>\n",
       "      <td>0</td>\n",
       "      <td>3850000.0</td>\n",
       "      <td>30.5</td>\n",
       "      <td>2018-10-03</td>\n",
       "      <td>1</td>\n",
       "      <td>24.0</td>\n",
       "      <td>5</td>\n",
       "      <td>19.5</td>\n",
       "      <td>1</td>\n",
       "      <td>True</td>\n",
       "      <td>False</td>\n",
       "      <td>False</td>\n",
       "      <td>5.5</td>\n",
       "      <td>0</td>\n",
       "      <td>Санкт-Петербург</td>\n",
       "      <td>29686.0</td>\n",
       "      <td>8389.0</td>\n",
       "      <td>3.0</td>\n",
       "      <td>397.0</td>\n",
       "      <td>1.0</td>\n",
       "      <td>578.0</td>\n",
       "      <td>7.0</td>\n",
       "    </tr>\n",
       "    <tr>\n",
       "      <th>5246</th>\n",
       "      <td>0</td>\n",
       "      <td>2500000.0</td>\n",
       "      <td>54.0</td>\n",
       "      <td>2017-10-13</td>\n",
       "      <td>2</td>\n",
       "      <td>27.0</td>\n",
       "      <td>5</td>\n",
       "      <td>30.0</td>\n",
       "      <td>3</td>\n",
       "      <td>False</td>\n",
       "      <td>False</td>\n",
       "      <td>False</td>\n",
       "      <td>9.0</td>\n",
       "      <td>2</td>\n",
       "      <td>деревня Мины</td>\n",
       "      <td>NaN</td>\n",
       "      <td>NaN</td>\n",
       "      <td>NaN</td>\n",
       "      <td>NaN</td>\n",
       "      <td>NaN</td>\n",
       "      <td>NaN</td>\n",
       "      <td>540.0</td>\n",
       "    </tr>\n",
       "    <tr>\n",
       "      <th>5669</th>\n",
       "      <td>4</td>\n",
       "      <td>4400000.0</td>\n",
       "      <td>50.0</td>\n",
       "      <td>2017-08-08</td>\n",
       "      <td>2</td>\n",
       "      <td>26.0</td>\n",
       "      <td>9</td>\n",
       "      <td>21.3</td>\n",
       "      <td>3</td>\n",
       "      <td>False</td>\n",
       "      <td>False</td>\n",
       "      <td>False</td>\n",
       "      <td>7.0</td>\n",
       "      <td>2</td>\n",
       "      <td>Санкт-Петербург</td>\n",
       "      <td>28981.0</td>\n",
       "      <td>10912.0</td>\n",
       "      <td>1.0</td>\n",
       "      <td>305.0</td>\n",
       "      <td>0.0</td>\n",
       "      <td>NaN</td>\n",
       "      <td>267.0</td>\n",
       "    </tr>\n",
       "    <tr>\n",
       "      <th>5807</th>\n",
       "      <td>17</td>\n",
       "      <td>8150000.0</td>\n",
       "      <td>80.0</td>\n",
       "      <td>2019-01-09</td>\n",
       "      <td>2</td>\n",
       "      <td>27.0</td>\n",
       "      <td>36</td>\n",
       "      <td>41.0</td>\n",
       "      <td>13</td>\n",
       "      <td>False</td>\n",
       "      <td>False</td>\n",
       "      <td>False</td>\n",
       "      <td>12.0</td>\n",
       "      <td>5</td>\n",
       "      <td>Санкт-Петербург</td>\n",
       "      <td>18732.0</td>\n",
       "      <td>20444.0</td>\n",
       "      <td>0.0</td>\n",
       "      <td>NaN</td>\n",
       "      <td>3.0</td>\n",
       "      <td>80.0</td>\n",
       "      <td>38.0</td>\n",
       "    </tr>\n",
       "    <tr>\n",
       "      <th>6246</th>\n",
       "      <td>6</td>\n",
       "      <td>3300000.0</td>\n",
       "      <td>44.4</td>\n",
       "      <td>2019-03-25</td>\n",
       "      <td>2</td>\n",
       "      <td>25.0</td>\n",
       "      <td>5</td>\n",
       "      <td>31.3</td>\n",
       "      <td>5</td>\n",
       "      <td>False</td>\n",
       "      <td>False</td>\n",
       "      <td>False</td>\n",
       "      <td>5.7</td>\n",
       "      <td>0</td>\n",
       "      <td>Кронштадт</td>\n",
       "      <td>68923.0</td>\n",
       "      <td>50649.0</td>\n",
       "      <td>1.0</td>\n",
       "      <td>417.0</td>\n",
       "      <td>2.0</td>\n",
       "      <td>73.0</td>\n",
       "      <td>NaN</td>\n",
       "    </tr>\n",
       "    <tr>\n",
       "      <th>9379</th>\n",
       "      <td>5</td>\n",
       "      <td>3950000.0</td>\n",
       "      <td>42.0</td>\n",
       "      <td>2017-03-26</td>\n",
       "      <td>3</td>\n",
       "      <td>25.0</td>\n",
       "      <td>5</td>\n",
       "      <td>30.0</td>\n",
       "      <td>2</td>\n",
       "      <td>False</td>\n",
       "      <td>False</td>\n",
       "      <td>False</td>\n",
       "      <td>5.2</td>\n",
       "      <td>0</td>\n",
       "      <td>Санкт-Петербург</td>\n",
       "      <td>11647.0</td>\n",
       "      <td>13581.0</td>\n",
       "      <td>0.0</td>\n",
       "      <td>NaN</td>\n",
       "      <td>0.0</td>\n",
       "      <td>NaN</td>\n",
       "      <td>NaN</td>\n",
       "    </tr>\n",
       "    <tr>\n",
       "      <th>10773</th>\n",
       "      <td>8</td>\n",
       "      <td>3800000.0</td>\n",
       "      <td>58.0</td>\n",
       "      <td>2017-10-13</td>\n",
       "      <td>2</td>\n",
       "      <td>27.0</td>\n",
       "      <td>10</td>\n",
       "      <td>30.1</td>\n",
       "      <td>3</td>\n",
       "      <td>False</td>\n",
       "      <td>False</td>\n",
       "      <td>False</td>\n",
       "      <td>8.1</td>\n",
       "      <td>2</td>\n",
       "      <td>посёлок Мурино</td>\n",
       "      <td>NaN</td>\n",
       "      <td>NaN</td>\n",
       "      <td>NaN</td>\n",
       "      <td>NaN</td>\n",
       "      <td>NaN</td>\n",
       "      <td>NaN</td>\n",
       "      <td>71.0</td>\n",
       "    </tr>\n",
       "    <tr>\n",
       "      <th>11285</th>\n",
       "      <td>0</td>\n",
       "      <td>1950000.0</td>\n",
       "      <td>37.0</td>\n",
       "      <td>2019-03-20</td>\n",
       "      <td>1</td>\n",
       "      <td>25.0</td>\n",
       "      <td>5</td>\n",
       "      <td>17.0</td>\n",
       "      <td>4</td>\n",
       "      <td>False</td>\n",
       "      <td>False</td>\n",
       "      <td>False</td>\n",
       "      <td>9.0</td>\n",
       "      <td>2</td>\n",
       "      <td>Луга</td>\n",
       "      <td>NaN</td>\n",
       "      <td>NaN</td>\n",
       "      <td>NaN</td>\n",
       "      <td>NaN</td>\n",
       "      <td>NaN</td>\n",
       "      <td>NaN</td>\n",
       "      <td>18.0</td>\n",
       "    </tr>\n",
       "    <tr>\n",
       "      <th>14382</th>\n",
       "      <td>9</td>\n",
       "      <td>1700000.0</td>\n",
       "      <td>35.0</td>\n",
       "      <td>2015-12-04</td>\n",
       "      <td>1</td>\n",
       "      <td>25.0</td>\n",
       "      <td>5</td>\n",
       "      <td>20.0</td>\n",
       "      <td>2</td>\n",
       "      <td>False</td>\n",
       "      <td>False</td>\n",
       "      <td>False</td>\n",
       "      <td>8.0</td>\n",
       "      <td>1</td>\n",
       "      <td>поселок Новый Свет</td>\n",
       "      <td>NaN</td>\n",
       "      <td>NaN</td>\n",
       "      <td>NaN</td>\n",
       "      <td>NaN</td>\n",
       "      <td>NaN</td>\n",
       "      <td>NaN</td>\n",
       "      <td>206.0</td>\n",
       "    </tr>\n",
       "    <tr>\n",
       "      <th>15061</th>\n",
       "      <td>19</td>\n",
       "      <td>5600000.0</td>\n",
       "      <td>56.4</td>\n",
       "      <td>2018-05-11</td>\n",
       "      <td>2</td>\n",
       "      <td>14.0</td>\n",
       "      <td>14</td>\n",
       "      <td>32.4</td>\n",
       "      <td>5</td>\n",
       "      <td>False</td>\n",
       "      <td>False</td>\n",
       "      <td>False</td>\n",
       "      <td>9.1</td>\n",
       "      <td>2</td>\n",
       "      <td>Санкт-Петербург</td>\n",
       "      <td>14814.0</td>\n",
       "      <td>13610.0</td>\n",
       "      <td>0.0</td>\n",
       "      <td>NaN</td>\n",
       "      <td>0.0</td>\n",
       "      <td>NaN</td>\n",
       "      <td>315.0</td>\n",
       "    </tr>\n",
       "    <tr>\n",
       "      <th>17496</th>\n",
       "      <td>15</td>\n",
       "      <td>6700000.0</td>\n",
       "      <td>92.9</td>\n",
       "      <td>2019-02-19</td>\n",
       "      <td>3</td>\n",
       "      <td>20.0</td>\n",
       "      <td>17</td>\n",
       "      <td>53.2</td>\n",
       "      <td>14</td>\n",
       "      <td>False</td>\n",
       "      <td>False</td>\n",
       "      <td>False</td>\n",
       "      <td>12.0</td>\n",
       "      <td>5</td>\n",
       "      <td>Санкт-Петербург</td>\n",
       "      <td>16295.0</td>\n",
       "      <td>15092.0</td>\n",
       "      <td>1.0</td>\n",
       "      <td>967.0</td>\n",
       "      <td>0.0</td>\n",
       "      <td>NaN</td>\n",
       "      <td>NaN</td>\n",
       "    </tr>\n",
       "    <tr>\n",
       "      <th>17857</th>\n",
       "      <td>1</td>\n",
       "      <td>3900000.0</td>\n",
       "      <td>56.0</td>\n",
       "      <td>2017-12-22</td>\n",
       "      <td>3</td>\n",
       "      <td>27.0</td>\n",
       "      <td>5</td>\n",
       "      <td>33.0</td>\n",
       "      <td>4</td>\n",
       "      <td>False</td>\n",
       "      <td>False</td>\n",
       "      <td>False</td>\n",
       "      <td>NaN</td>\n",
       "      <td>0</td>\n",
       "      <td>Санкт-Петербург</td>\n",
       "      <td>41030.0</td>\n",
       "      <td>15543.0</td>\n",
       "      <td>0.0</td>\n",
       "      <td>NaN</td>\n",
       "      <td>0.0</td>\n",
       "      <td>NaN</td>\n",
       "      <td>73.0</td>\n",
       "    </tr>\n",
       "    <tr>\n",
       "      <th>18545</th>\n",
       "      <td>6</td>\n",
       "      <td>3750000.0</td>\n",
       "      <td>43.0</td>\n",
       "      <td>2019-03-18</td>\n",
       "      <td>2</td>\n",
       "      <td>25.0</td>\n",
       "      <td>5</td>\n",
       "      <td>29.0</td>\n",
       "      <td>3</td>\n",
       "      <td>False</td>\n",
       "      <td>False</td>\n",
       "      <td>False</td>\n",
       "      <td>NaN</td>\n",
       "      <td>0</td>\n",
       "      <td>Санкт-Петербург</td>\n",
       "      <td>27054.0</td>\n",
       "      <td>8033.0</td>\n",
       "      <td>1.0</td>\n",
       "      <td>540.0</td>\n",
       "      <td>0.0</td>\n",
       "      <td>NaN</td>\n",
       "      <td>12.0</td>\n",
       "    </tr>\n",
       "    <tr>\n",
       "      <th>20478</th>\n",
       "      <td>11</td>\n",
       "      <td>8000000.0</td>\n",
       "      <td>45.0</td>\n",
       "      <td>2017-07-18</td>\n",
       "      <td>1</td>\n",
       "      <td>27.0</td>\n",
       "      <td>4</td>\n",
       "      <td>22.0</td>\n",
       "      <td>2</td>\n",
       "      <td>False</td>\n",
       "      <td>False</td>\n",
       "      <td>False</td>\n",
       "      <td>10.0</td>\n",
       "      <td>1</td>\n",
       "      <td>Санкт-Петербург</td>\n",
       "      <td>18975.0</td>\n",
       "      <td>3246.0</td>\n",
       "      <td>0.0</td>\n",
       "      <td>NaN</td>\n",
       "      <td>3.0</td>\n",
       "      <td>449.0</td>\n",
       "      <td>429.0</td>\n",
       "    </tr>\n",
       "    <tr>\n",
       "      <th>20507</th>\n",
       "      <td>12</td>\n",
       "      <td>5950000.0</td>\n",
       "      <td>60.0</td>\n",
       "      <td>2018-02-19</td>\n",
       "      <td>2</td>\n",
       "      <td>22.6</td>\n",
       "      <td>14</td>\n",
       "      <td>35.0</td>\n",
       "      <td>11</td>\n",
       "      <td>False</td>\n",
       "      <td>False</td>\n",
       "      <td>False</td>\n",
       "      <td>13.0</td>\n",
       "      <td>1</td>\n",
       "      <td>Санкт-Петербург</td>\n",
       "      <td>27028.0</td>\n",
       "      <td>12570.0</td>\n",
       "      <td>0.0</td>\n",
       "      <td>NaN</td>\n",
       "      <td>0.0</td>\n",
       "      <td>NaN</td>\n",
       "      <td>40.0</td>\n",
       "    </tr>\n",
       "    <tr>\n",
       "      <th>21377</th>\n",
       "      <td>19</td>\n",
       "      <td>4900000.0</td>\n",
       "      <td>42.0</td>\n",
       "      <td>2017-04-18</td>\n",
       "      <td>1</td>\n",
       "      <td>27.5</td>\n",
       "      <td>24</td>\n",
       "      <td>37.7</td>\n",
       "      <td>19</td>\n",
       "      <td>False</td>\n",
       "      <td>False</td>\n",
       "      <td>False</td>\n",
       "      <td>11.0</td>\n",
       "      <td>2</td>\n",
       "      <td>Санкт-Петербург</td>\n",
       "      <td>42742.0</td>\n",
       "      <td>9760.0</td>\n",
       "      <td>0.0</td>\n",
       "      <td>NaN</td>\n",
       "      <td>0.0</td>\n",
       "      <td>NaN</td>\n",
       "      <td>61.0</td>\n",
       "    </tr>\n",
       "    <tr>\n",
       "      <th>21824</th>\n",
       "      <td>20</td>\n",
       "      <td>2450000.0</td>\n",
       "      <td>44.0</td>\n",
       "      <td>2019-02-12</td>\n",
       "      <td>2</td>\n",
       "      <td>27.0</td>\n",
       "      <td>2</td>\n",
       "      <td>38.0</td>\n",
       "      <td>2</td>\n",
       "      <td>False</td>\n",
       "      <td>False</td>\n",
       "      <td>False</td>\n",
       "      <td>8.6</td>\n",
       "      <td>2</td>\n",
       "      <td>городской поселок Большая Ижора</td>\n",
       "      <td>NaN</td>\n",
       "      <td>NaN</td>\n",
       "      <td>NaN</td>\n",
       "      <td>NaN</td>\n",
       "      <td>NaN</td>\n",
       "      <td>NaN</td>\n",
       "      <td>NaN</td>\n",
       "    </tr>\n",
       "    <tr>\n",
       "      <th>22336</th>\n",
       "      <td>19</td>\n",
       "      <td>9999000.0</td>\n",
       "      <td>92.4</td>\n",
       "      <td>2019-04-05</td>\n",
       "      <td>2</td>\n",
       "      <td>32.0</td>\n",
       "      <td>6</td>\n",
       "      <td>55.5</td>\n",
       "      <td>5</td>\n",
       "      <td>False</td>\n",
       "      <td>False</td>\n",
       "      <td>False</td>\n",
       "      <td>16.5</td>\n",
       "      <td>4</td>\n",
       "      <td>Санкт-Петербург</td>\n",
       "      <td>18838.0</td>\n",
       "      <td>3506.0</td>\n",
       "      <td>0.0</td>\n",
       "      <td>NaN</td>\n",
       "      <td>3.0</td>\n",
       "      <td>511.0</td>\n",
       "      <td>NaN</td>\n",
       "    </tr>\n",
       "    <tr>\n",
       "      <th>22869</th>\n",
       "      <td>0</td>\n",
       "      <td>15000000.0</td>\n",
       "      <td>25.0</td>\n",
       "      <td>2018-07-25</td>\n",
       "      <td>1</td>\n",
       "      <td>100.0</td>\n",
       "      <td>5</td>\n",
       "      <td>14.0</td>\n",
       "      <td>5</td>\n",
       "      <td>True</td>\n",
       "      <td>False</td>\n",
       "      <td>False</td>\n",
       "      <td>11.0</td>\n",
       "      <td>5</td>\n",
       "      <td>Санкт-Петербург</td>\n",
       "      <td>34963.0</td>\n",
       "      <td>8283.0</td>\n",
       "      <td>1.0</td>\n",
       "      <td>223.0</td>\n",
       "      <td>3.0</td>\n",
       "      <td>30.0</td>\n",
       "      <td>19.0</td>\n",
       "    </tr>\n",
       "    <tr>\n",
       "      <th>22938</th>\n",
       "      <td>14</td>\n",
       "      <td>4000000.0</td>\n",
       "      <td>98.0</td>\n",
       "      <td>2018-03-15</td>\n",
       "      <td>4</td>\n",
       "      <td>27.0</td>\n",
       "      <td>2</td>\n",
       "      <td>73.0</td>\n",
       "      <td>2</td>\n",
       "      <td>True</td>\n",
       "      <td>False</td>\n",
       "      <td>False</td>\n",
       "      <td>9.0</td>\n",
       "      <td>1</td>\n",
       "      <td>деревня Нижняя</td>\n",
       "      <td>NaN</td>\n",
       "      <td>NaN</td>\n",
       "      <td>NaN</td>\n",
       "      <td>NaN</td>\n",
       "      <td>NaN</td>\n",
       "      <td>NaN</td>\n",
       "      <td>27.0</td>\n",
       "    </tr>\n",
       "  </tbody>\n",
       "</table>\n",
       "</div>"
      ],
      "text/plain": [
       "       total_images  last_price  total_area first_day_exposition  rooms  \\\n",
       "355              17   3600000.0        55.2           2018-07-12      2   \n",
       "3148             14   2900000.0        75.0           2018-11-12      3   \n",
       "4643              0   4300000.0        45.0           2018-02-01      2   \n",
       "4876              7   3000000.0        25.0           2017-09-27      0   \n",
       "5076              0   3850000.0        30.5           2018-10-03      1   \n",
       "5246              0   2500000.0        54.0           2017-10-13      2   \n",
       "5669              4   4400000.0        50.0           2017-08-08      2   \n",
       "5807             17   8150000.0        80.0           2019-01-09      2   \n",
       "6246              6   3300000.0        44.4           2019-03-25      2   \n",
       "9379              5   3950000.0        42.0           2017-03-26      3   \n",
       "10773             8   3800000.0        58.0           2017-10-13      2   \n",
       "11285             0   1950000.0        37.0           2019-03-20      1   \n",
       "14382             9   1700000.0        35.0           2015-12-04      1   \n",
       "15061            19   5600000.0        56.4           2018-05-11      2   \n",
       "17496            15   6700000.0        92.9           2019-02-19      3   \n",
       "17857             1   3900000.0        56.0           2017-12-22      3   \n",
       "18545             6   3750000.0        43.0           2019-03-18      2   \n",
       "20478            11   8000000.0        45.0           2017-07-18      1   \n",
       "20507            12   5950000.0        60.0           2018-02-19      2   \n",
       "21377            19   4900000.0        42.0           2017-04-18      1   \n",
       "21824            20   2450000.0        44.0           2019-02-12      2   \n",
       "22336            19   9999000.0        92.4           2019-04-05      2   \n",
       "22869             0  15000000.0        25.0           2018-07-25      1   \n",
       "22938            14   4000000.0        98.0           2018-03-15      4   \n",
       "\n",
       "       ceiling_height  floors_total  living_area  floor  is_apartment  studio  \\\n",
       "355              25.0             5         32.0      2         False   False   \n",
       "3148             32.0             3         53.0      2         False   False   \n",
       "4643             25.0             9         30.0      2         False   False   \n",
       "4876             27.0            25         17.0     17         False   False   \n",
       "5076             24.0             5         19.5      1          True   False   \n",
       "5246             27.0             5         30.0      3         False   False   \n",
       "5669             26.0             9         21.3      3         False   False   \n",
       "5807             27.0            36         41.0     13         False   False   \n",
       "6246             25.0             5         31.3      5         False   False   \n",
       "9379             25.0             5         30.0      2         False   False   \n",
       "10773            27.0            10         30.1      3         False   False   \n",
       "11285            25.0             5         17.0      4         False   False   \n",
       "14382            25.0             5         20.0      2         False   False   \n",
       "15061            14.0            14         32.4      5         False   False   \n",
       "17496            20.0            17         53.2     14         False   False   \n",
       "17857            27.0             5         33.0      4         False   False   \n",
       "18545            25.0             5         29.0      3         False   False   \n",
       "20478            27.0             4         22.0      2         False   False   \n",
       "20507            22.6            14         35.0     11         False   False   \n",
       "21377            27.5            24         37.7     19         False   False   \n",
       "21824            27.0             2         38.0      2         False   False   \n",
       "22336            32.0             6         55.5      5         False   False   \n",
       "22869           100.0             5         14.0      5          True   False   \n",
       "22938            27.0             2         73.0      2          True   False   \n",
       "\n",
       "       open_plan  kitchen_area  balcony                    locality_name  \\\n",
       "355        False           NaN        2                          Гатчина   \n",
       "3148       False           8.0        0                           Волхов   \n",
       "4643       False           7.0        1                  Санкт-Петербург   \n",
       "4876        True           NaN        2                   посёлок Мурино   \n",
       "5076       False           5.5        0                  Санкт-Петербург   \n",
       "5246       False           9.0        2                     деревня Мины   \n",
       "5669       False           7.0        2                  Санкт-Петербург   \n",
       "5807       False          12.0        5                  Санкт-Петербург   \n",
       "6246       False           5.7        0                        Кронштадт   \n",
       "9379       False           5.2        0                  Санкт-Петербург   \n",
       "10773      False           8.1        2                   посёлок Мурино   \n",
       "11285      False           9.0        2                             Луга   \n",
       "14382      False           8.0        1               поселок Новый Свет   \n",
       "15061      False           9.1        2                  Санкт-Петербург   \n",
       "17496      False          12.0        5                  Санкт-Петербург   \n",
       "17857      False           NaN        0                  Санкт-Петербург   \n",
       "18545      False           NaN        0                  Санкт-Петербург   \n",
       "20478      False          10.0        1                  Санкт-Петербург   \n",
       "20507      False          13.0        1                  Санкт-Петербург   \n",
       "21377      False          11.0        2                  Санкт-Петербург   \n",
       "21824      False           8.6        2  городской поселок Большая Ижора   \n",
       "22336      False          16.5        4                  Санкт-Петербург   \n",
       "22869      False          11.0        5                  Санкт-Петербург   \n",
       "22938      False           9.0        1                   деревня Нижняя   \n",
       "\n",
       "       airports_nearest  cityCenters_nearest  parks_around3000  parks_nearest  \\\n",
       "355                 NaN                  NaN               NaN            NaN   \n",
       "3148                NaN                  NaN               NaN            NaN   \n",
       "4643            12016.0              13256.0               1.0          658.0   \n",
       "4876                NaN                  NaN               NaN            NaN   \n",
       "5076            29686.0               8389.0               3.0          397.0   \n",
       "5246                NaN                  NaN               NaN            NaN   \n",
       "5669            28981.0              10912.0               1.0          305.0   \n",
       "5807            18732.0              20444.0               0.0            NaN   \n",
       "6246            68923.0              50649.0               1.0          417.0   \n",
       "9379            11647.0              13581.0               0.0            NaN   \n",
       "10773               NaN                  NaN               NaN            NaN   \n",
       "11285               NaN                  NaN               NaN            NaN   \n",
       "14382               NaN                  NaN               NaN            NaN   \n",
       "15061           14814.0              13610.0               0.0            NaN   \n",
       "17496           16295.0              15092.0               1.0          967.0   \n",
       "17857           41030.0              15543.0               0.0            NaN   \n",
       "18545           27054.0               8033.0               1.0          540.0   \n",
       "20478           18975.0               3246.0               0.0            NaN   \n",
       "20507           27028.0              12570.0               0.0            NaN   \n",
       "21377           42742.0               9760.0               0.0            NaN   \n",
       "21824               NaN                  NaN               NaN            NaN   \n",
       "22336           18838.0               3506.0               0.0            NaN   \n",
       "22869           34963.0               8283.0               1.0          223.0   \n",
       "22938               NaN                  NaN               NaN            NaN   \n",
       "\n",
       "       ponds_around3000  ponds_nearest  days_exposition  \n",
       "355                 NaN            NaN            259.0  \n",
       "3148                NaN            NaN              NaN  \n",
       "4643                1.0          331.0            181.0  \n",
       "4876                NaN            NaN             28.0  \n",
       "5076                1.0          578.0              7.0  \n",
       "5246                NaN            NaN            540.0  \n",
       "5669                0.0            NaN            267.0  \n",
       "5807                3.0           80.0             38.0  \n",
       "6246                2.0           73.0              NaN  \n",
       "9379                0.0            NaN              NaN  \n",
       "10773               NaN            NaN             71.0  \n",
       "11285               NaN            NaN             18.0  \n",
       "14382               NaN            NaN            206.0  \n",
       "15061               0.0            NaN            315.0  \n",
       "17496               0.0            NaN              NaN  \n",
       "17857               0.0            NaN             73.0  \n",
       "18545               0.0            NaN             12.0  \n",
       "20478               3.0          449.0            429.0  \n",
       "20507               0.0            NaN             40.0  \n",
       "21377               0.0            NaN             61.0  \n",
       "21824               NaN            NaN              NaN  \n",
       "22336               3.0          511.0              NaN  \n",
       "22869               3.0           30.0             19.0  \n",
       "22938               NaN            NaN             27.0  "
      ]
     },
     "metadata": {},
     "output_type": "display_data"
    }
   ],
   "source": [
    "display(data[data['ceiling_height'] > 10.3])"
   ]
  },
  {
   "cell_type": "code",
   "execution_count": 26,
   "metadata": {},
   "outputs": [
    {
     "data": {
      "text/html": [
       "<div>\n",
       "<style scoped>\n",
       "    .dataframe tbody tr th:only-of-type {\n",
       "        vertical-align: middle;\n",
       "    }\n",
       "\n",
       "    .dataframe tbody tr th {\n",
       "        vertical-align: top;\n",
       "    }\n",
       "\n",
       "    .dataframe thead th {\n",
       "        text-align: right;\n",
       "    }\n",
       "</style>\n",
       "<table border=\"1\" class=\"dataframe\">\n",
       "  <thead>\n",
       "    <tr style=\"text-align: right;\">\n",
       "      <th></th>\n",
       "      <th>total_images</th>\n",
       "      <th>last_price</th>\n",
       "      <th>total_area</th>\n",
       "      <th>first_day_exposition</th>\n",
       "      <th>rooms</th>\n",
       "      <th>ceiling_height</th>\n",
       "      <th>floors_total</th>\n",
       "      <th>living_area</th>\n",
       "      <th>floor</th>\n",
       "      <th>is_apartment</th>\n",
       "      <th>studio</th>\n",
       "      <th>open_plan</th>\n",
       "      <th>kitchen_area</th>\n",
       "      <th>balcony</th>\n",
       "      <th>locality_name</th>\n",
       "      <th>airports_nearest</th>\n",
       "      <th>cityCenters_nearest</th>\n",
       "      <th>parks_around3000</th>\n",
       "      <th>parks_nearest</th>\n",
       "      <th>ponds_around3000</th>\n",
       "      <th>ponds_nearest</th>\n",
       "      <th>days_exposition</th>\n",
       "    </tr>\n",
       "  </thead>\n",
       "  <tbody>\n",
       "  </tbody>\n",
       "</table>\n",
       "</div>"
      ],
      "text/plain": [
       "Empty DataFrame\n",
       "Columns: [total_images, last_price, total_area, first_day_exposition, rooms, ceiling_height, floors_total, living_area, floor, is_apartment, studio, open_plan, kitchen_area, balcony, locality_name, airports_nearest, cityCenters_nearest, parks_around3000, parks_nearest, ponds_around3000, ponds_nearest, days_exposition]\n",
       "Index: []"
      ]
     },
     "metadata": {},
     "output_type": "display_data"
    }
   ],
   "source": [
    "#Два значения вылечим принудительно, остальное разделим на 10, видно что напутано с СИ.\n",
    "data.loc[(data['ceiling_height'] == 100), 'ceiling_height'] = 3.2\n",
    "data.loc[(data['ceiling_height'] == 14), 'ceiling_height'] = 2.7\n",
    "\n",
    "data.loc[(data['ceiling_height'] > 10.3), 'ceiling_height'] = data['ceiling_height'] / 10\n",
    "#Проверяем по фильтру\n",
    "display(data[data['ceiling_height'] > 10.3])"
   ]
  },
  {
   "cell_type": "code",
   "execution_count": 27,
   "metadata": {},
   "outputs": [
    {
     "data": {
      "text/plain": [
       "1     8004\n",
       "2     7897\n",
       "3     5779\n",
       "4     1172\n",
       "5      325\n",
       "0      194\n",
       "6      104\n",
       "7       56\n",
       "8       12\n",
       "9        8\n",
       "10       3\n",
       "11       2\n",
       "14       2\n",
       "16       1\n",
       "19       1\n",
       "15       1\n",
       "Name: rooms, dtype: int64"
      ]
     },
     "execution_count": 27,
     "metadata": {},
     "output_type": "execute_result"
    }
   ],
   "source": [
    "# Значения по комнатам выглядят допустимо. Но посмотрим.\n",
    "data['rooms'].value_counts()"
   ]
  },
  {
   "cell_type": "code",
   "execution_count": 28,
   "metadata": {},
   "outputs": [
    {
     "data": {
      "image/png": "[encoded data removed]",
      "text/plain": [
       "<Figure size 432x288 with 1 Axes>"
      ]
     },
     "metadata": {
      "needs_background": "light"
     },
     "output_type": "display_data"
    }
   ],
   "source": [
    "data['rooms'].plot(kind='box');"
   ]
  },
  {
   "cell_type": "code",
   "execution_count": 29,
   "metadata": {},
   "outputs": [],
   "source": [
    "data = data.query('rooms < 10')"
   ]
  },
  {
   "cell_type": "code",
   "execution_count": 30,
   "metadata": {},
   "outputs": [
    {
     "data": {
      "text/plain": [
       "2     3347\n",
       "3     3060\n",
       "1     2909\n",
       "4     2790\n",
       "5     2610\n",
       "6     1292\n",
       "7     1209\n",
       "8     1075\n",
       "9     1045\n",
       "10     684\n",
       "11     520\n",
       "12     519\n",
       "13     376\n",
       "15     340\n",
       "14     333\n",
       "16     315\n",
       "17     226\n",
       "18     175\n",
       "19     144\n",
       "21     119\n",
       "22     111\n",
       "20     108\n",
       "23      98\n",
       "24      61\n",
       "25      45\n",
       "26      24\n",
       "27      10\n",
       "28       1\n",
       "29       1\n",
       "32       1\n",
       "30       1\n",
       "33       1\n",
       "31       1\n",
       "Name: floor, dtype: int64"
      ]
     },
     "execution_count": 30,
     "metadata": {},
     "output_type": "execute_result"
    }
   ],
   "source": [
    "#Этажи квартир выглядят чисто\n",
    "data['floor'].value_counts()"
   ]
  },
  {
   "cell_type": "code",
   "execution_count": 31,
   "metadata": {},
   "outputs": [
    {
     "name": "stdout",
     "output_type": "stream",
     "text": [
      "763000000.0\n",
      "12190.0\n"
     ]
    },
    {
     "data": {
      "text/html": [
       "<div>\n",
       "<style scoped>\n",
       "    .dataframe tbody tr th:only-of-type {\n",
       "        vertical-align: middle;\n",
       "    }\n",
       "\n",
       "    .dataframe tbody tr th {\n",
       "        vertical-align: top;\n",
       "    }\n",
       "\n",
       "    .dataframe thead th {\n",
       "        text-align: right;\n",
       "    }\n",
       "</style>\n",
       "<table border=\"1\" class=\"dataframe\">\n",
       "  <thead>\n",
       "    <tr style=\"text-align: right;\">\n",
       "      <th></th>\n",
       "      <th>total_images</th>\n",
       "      <th>last_price</th>\n",
       "      <th>total_area</th>\n",
       "      <th>first_day_exposition</th>\n",
       "      <th>rooms</th>\n",
       "      <th>ceiling_height</th>\n",
       "      <th>floors_total</th>\n",
       "      <th>living_area</th>\n",
       "      <th>floor</th>\n",
       "      <th>is_apartment</th>\n",
       "      <th>studio</th>\n",
       "      <th>open_plan</th>\n",
       "      <th>kitchen_area</th>\n",
       "      <th>balcony</th>\n",
       "      <th>locality_name</th>\n",
       "      <th>airports_nearest</th>\n",
       "      <th>cityCenters_nearest</th>\n",
       "      <th>parks_around3000</th>\n",
       "      <th>parks_nearest</th>\n",
       "      <th>ponds_around3000</th>\n",
       "      <th>ponds_nearest</th>\n",
       "      <th>days_exposition</th>\n",
       "    </tr>\n",
       "  </thead>\n",
       "  <tbody>\n",
       "    <tr>\n",
       "      <th>12971</th>\n",
       "      <td>19</td>\n",
       "      <td>763000000.0</td>\n",
       "      <td>400.0</td>\n",
       "      <td>2017-09-30</td>\n",
       "      <td>7</td>\n",
       "      <td>2.65</td>\n",
       "      <td>10</td>\n",
       "      <td>250.0</td>\n",
       "      <td>10</td>\n",
       "      <td>False</td>\n",
       "      <td>False</td>\n",
       "      <td>False</td>\n",
       "      <td>NaN</td>\n",
       "      <td>2</td>\n",
       "      <td>Санкт-Петербург</td>\n",
       "      <td>25108.0</td>\n",
       "      <td>3956.0</td>\n",
       "      <td>1.0</td>\n",
       "      <td>530.0</td>\n",
       "      <td>3.0</td>\n",
       "      <td>756.0</td>\n",
       "      <td>33.0</td>\n",
       "    </tr>\n",
       "  </tbody>\n",
       "</table>\n",
       "</div>"
      ],
      "text/plain": [
       "       total_images   last_price  total_area first_day_exposition  rooms  \\\n",
       "12971            19  763000000.0       400.0           2017-09-30      7   \n",
       "\n",
       "       ceiling_height  floors_total  living_area  floor  is_apartment  studio  \\\n",
       "12971            2.65            10        250.0     10         False   False   \n",
       "\n",
       "       open_plan  kitchen_area  balcony    locality_name  airports_nearest  \\\n",
       "12971      False           NaN        2  Санкт-Петербург           25108.0   \n",
       "\n",
       "       cityCenters_nearest  parks_around3000  parks_nearest  ponds_around3000  \\\n",
       "12971               3956.0               1.0          530.0               3.0   \n",
       "\n",
       "       ponds_nearest  days_exposition  \n",
       "12971          756.0             33.0  "
      ]
     },
     "metadata": {},
     "output_type": "display_data"
    },
    {
     "data": {
      "text/html": [
       "<div>\n",
       "<style scoped>\n",
       "    .dataframe tbody tr th:only-of-type {\n",
       "        vertical-align: middle;\n",
       "    }\n",
       "\n",
       "    .dataframe tbody tr th {\n",
       "        vertical-align: top;\n",
       "    }\n",
       "\n",
       "    .dataframe thead th {\n",
       "        text-align: right;\n",
       "    }\n",
       "</style>\n",
       "<table border=\"1\" class=\"dataframe\">\n",
       "  <thead>\n",
       "    <tr style=\"text-align: right;\">\n",
       "      <th></th>\n",
       "      <th>total_images</th>\n",
       "      <th>last_price</th>\n",
       "      <th>total_area</th>\n",
       "      <th>first_day_exposition</th>\n",
       "      <th>rooms</th>\n",
       "      <th>ceiling_height</th>\n",
       "      <th>floors_total</th>\n",
       "      <th>living_area</th>\n",
       "      <th>floor</th>\n",
       "      <th>is_apartment</th>\n",
       "      <th>studio</th>\n",
       "      <th>open_plan</th>\n",
       "      <th>kitchen_area</th>\n",
       "      <th>balcony</th>\n",
       "      <th>locality_name</th>\n",
       "      <th>airports_nearest</th>\n",
       "      <th>cityCenters_nearest</th>\n",
       "      <th>parks_around3000</th>\n",
       "      <th>parks_nearest</th>\n",
       "      <th>ponds_around3000</th>\n",
       "      <th>ponds_nearest</th>\n",
       "      <th>days_exposition</th>\n",
       "    </tr>\n",
       "  </thead>\n",
       "  <tbody>\n",
       "    <tr>\n",
       "      <th>8793</th>\n",
       "      <td>7</td>\n",
       "      <td>12190.0</td>\n",
       "      <td>109.0</td>\n",
       "      <td>2019-03-20</td>\n",
       "      <td>2</td>\n",
       "      <td>2.75</td>\n",
       "      <td>25</td>\n",
       "      <td>32.0</td>\n",
       "      <td>25</td>\n",
       "      <td>False</td>\n",
       "      <td>False</td>\n",
       "      <td>False</td>\n",
       "      <td>40.5</td>\n",
       "      <td>0</td>\n",
       "      <td>Санкт-Петербург</td>\n",
       "      <td>36421.0</td>\n",
       "      <td>9176.0</td>\n",
       "      <td>1.0</td>\n",
       "      <td>805.0</td>\n",
       "      <td>0.0</td>\n",
       "      <td>NaN</td>\n",
       "      <td>8.0</td>\n",
       "    </tr>\n",
       "  </tbody>\n",
       "</table>\n",
       "</div>"
      ],
      "text/plain": [
       "      total_images  last_price  total_area first_day_exposition  rooms  \\\n",
       "8793             7     12190.0       109.0           2019-03-20      2   \n",
       "\n",
       "      ceiling_height  floors_total  living_area  floor  is_apartment  studio  \\\n",
       "8793            2.75            25         32.0     25         False   False   \n",
       "\n",
       "      open_plan  kitchen_area  balcony    locality_name  airports_nearest  \\\n",
       "8793      False          40.5        0  Санкт-Петербург           36421.0   \n",
       "\n",
       "      cityCenters_nearest  parks_around3000  parks_nearest  ponds_around3000  \\\n",
       "8793               9176.0               1.0          805.0               0.0   \n",
       "\n",
       "      ponds_nearest  days_exposition  \n",
       "8793            NaN              8.0  "
      ]
     },
     "metadata": {},
     "output_type": "display_data"
    }
   ],
   "source": [
    "#Анализируем цены.\n",
    "print(data['last_price'].max())\n",
    "print(data['last_price'].min())\n",
    "display(data[data['last_price'] == 763000000])\n",
    "display(data[data['last_price'] == 12190])"
   ]
  },
  {
   "cell_type": "code",
   "execution_count": 32,
   "metadata": {},
   "outputs": [
    {
     "ename": "SyntaxError",
     "evalue": "invalid syntax (4243096328.py, line 1)",
     "output_type": "error",
     "traceback": [
      "\u001b[0;36m  File \u001b[0;32m\"/tmp/ipykernel_119/4243096328.py\"\u001b[0;36m, line \u001b[0;32m1\u001b[0m\n\u001b[0;31m    (data['last_price'] / 1000000).plot(kind='box', figsize = (10,8))4;\u001b[0m\n\u001b[0m                                                                     ^\u001b[0m\n\u001b[0;31mSyntaxError\u001b[0m\u001b[0;31m:\u001b[0m invalid syntax\n"
     ]
    }
   ],
   "source": [
    "(data['last_price'] / 1000000).plot(kind='box', figsize = (10,8))4;"
   ]
  },
  {
   "cell_type": "code",
   "execution_count": null,
   "metadata": {},
   "outputs": [],
   "source": [
    "data = data.query('last_price not in [763000000, 12190]')\n",
    "data = data.query('last_price < 50000000')"
   ]
  },
  {
   "cell_type": "code",
   "execution_count": null,
   "metadata": {},
   "outputs": [],
   "source": [
    "(data['last_price'] / 1000000).plot(kind='box', figsize = (10,8));"
   ]
  },
  {
   "cell_type": "code",
   "execution_count": null,
   "metadata": {},
   "outputs": [],
   "source": [
    "display(data.query('last_price < 500000').sort_values(by='last_price'))"
   ]
  },
  {
   "cell_type": "markdown",
   "metadata": {},
   "source": [
    "Согласно усатому ящику, значения выше 12 млн за квартиру являются выбросами. Однако, верхней планкой я решил оставить значение по цене в 50 млн., т.к. рассматриваем рынок не только в области, но и в СПБ, нельзя сказать что это сильно редкие значения."
   ]
  },
  {
   "cell_type": "markdown",
   "metadata": {},
   "source": []
  },
  {
   "cell_type": "code",
   "execution_count": null,
   "metadata": {},
   "outputs": [],
   "source": [
    "data['balcony'].plot(kind='box', figsize = (10,8));"
   ]
  },
  {
   "cell_type": "code",
   "execution_count": null,
   "metadata": {},
   "outputs": [],
   "source": [
    "data['balcony'].value_counts()"
   ]
  },
  {
   "cell_type": "markdown",
   "metadata": {},
   "source": [
    "В целом, аномальным значением для квартир является наличие 3 балконов, однако в данном случае не наблюдаю какой-то острой необходисости отсеивать эти значения."
   ]
  },
  {
   "cell_type": "code",
   "execution_count": null,
   "metadata": {},
   "outputs": [],
   "source": [
    "#На сладкое - количество фото. 50 фото в объявлении не выглядит аномальным значением,оставим как есть.\n",
    "data['total_images'].describe()"
   ]
  },
  {
   "cell_type": "code",
   "execution_count": null,
   "metadata": {},
   "outputs": [],
   "source": [
    "new_data = data.shape[0]\n",
    "print('Осталось данных', ((new_data / old_data)*100), '%')"
   ]
  },
  {
   "cell_type": "markdown",
   "metadata": {},
   "source": [
    "**Обрабатываем дубликаты**"
   ]
  },
  {
   "cell_type": "code",
   "execution_count": null,
   "metadata": {},
   "outputs": [],
   "source": [
    "print(data['locality_name'].unique())"
   ]
  },
  {
   "cell_type": "code",
   "execution_count": null,
   "metadata": {},
   "outputs": [],
   "source": [
    "data['locality_name'] = data['locality_name'].str.replace('ё', 'е')\n",
    "data['locality_name'] = data['locality_name'].str.replace(r\"^(?![А-Я]).+?(?=[А-Я])\", \"\", regex=True)\n",
    "data['locality_name'].unique()"
   ]
  },
  {
   "cell_type": "markdown",
   "metadata": {},
   "source": [
    "### Посчитайте и добавьте в таблицу новые столбцы"
   ]
  },
  {
   "cell_type": "markdown",
   "metadata": {},
   "source": [
    "Пробившись через Авгиевы конюшни переходим к самому интересному - готовимся к анализу данных. Начнем с самого простого."
   ]
  },
  {
   "cell_type": "code",
   "execution_count": null,
   "metadata": {},
   "outputs": [],
   "source": [
    "#Добавляем новые столбцы\n",
    "#Рассчет стоимости квадратного метра price_per_metr\n",
    "data['price_per_metr'] = data['last_price'] / data['total_area']\n",
    "data['price_per_metr'] = data['price_per_metr'].round()\n",
    "#Добавим расстояние в км до центра\n",
    "data['cityCenters_nearest_km'] = data['cityCenters_nearest'] / 1000\n",
    "data['cityCenters_nearest_km'] = data['cityCenters_nearest_km'].round()\n",
    "#Добавим день недели\n",
    "data['weekday'] = data['first_day_exposition'].dt.weekday\n",
    "#Добавим номер месяца\n",
    "data['month'] = data['first_day_exposition'].dt.month\n",
    "#Добавим номер года\n",
    "data['year'] = data['first_day_exposition'].dt.year\n",
    "\n",
    "display(data.head())"
   ]
  },
  {
   "cell_type": "code",
   "execution_count": null,
   "metadata": {},
   "outputs": [],
   "source": [
    "#Добавим категории этажей для квартир\n",
    "def floor_type(row):\n",
    "    if row['floor'] == 1:\n",
    "        return 'первый'\n",
    "    elif row['floor'] == row['floors_total']:\n",
    "        return 'последний'\n",
    "    else:\n",
    "        return 'другой'\n",
    "\n",
    "data['floor_type'] = data.apply(floor_type, axis = 1)"
   ]
  },
  {
   "cell_type": "markdown",
   "metadata": {},
   "source": [
    "### Проведите исследовательский анализ данных"
   ]
  },
  {
   "cell_type": "code",
   "execution_count": null,
   "metadata": {},
   "outputs": [],
   "source": [
    "#pd.qcut(data['total_area'], 5).value_counts()\n",
    "data['total_area'].hist(bins=30, range=(0, 900));"
   ]
  },
  {
   "cell_type": "markdown",
   "metadata": {},
   "source": [
    "Основной массив квартир - квартиры до 100 кв.м."
   ]
  },
  {
   "cell_type": "code",
   "execution_count": null,
   "metadata": {},
   "outputs": [],
   "source": [
    "data['living_area'].hist(bins=35, range=(0, 250));"
   ]
  },
  {
   "cell_type": "markdown",
   "metadata": {},
   "source": [
    "Жилая площадь квартир сконцентрирована в диапазоне 10-50 кв.м., что говорит о доминировании бюджетного жилья на рынке."
   ]
  },
  {
   "cell_type": "code",
   "execution_count": null,
   "metadata": {},
   "outputs": [],
   "source": [
    "data['kitchen_area'].hist(bins=35, range=(0, 150));"
   ]
  },
  {
   "cell_type": "markdown",
   "metadata": {},
   "source": [
    "С кухнями в целом дела обстоят дела лучше, находясь в диапазоне 5-18 метров они достигают до трети от жилой площади средней квартиры."
   ]
  },
  {
   "cell_type": "code",
   "execution_count": null,
   "metadata": {},
   "outputs": [],
   "source": [
    "last_price_hist = data['last_price'] / 1000000\n",
    "last_price_hist.hist(bins=50, range=(0,80));"
   ]
  },
  {
   "cell_type": "markdown",
   "metadata": {},
   "source": [
    "Основной массив квартир находится в диапазоне цен до 8 млн. рублей, однако объемы элитной недвижимости тоже весьма существенны."
   ]
  },
  {
   "cell_type": "code",
   "execution_count": null,
   "metadata": {},
   "outputs": [],
   "source": [
    "data['rooms'].hist(bins=15)\n",
    "print(len(data.query('rooms == 0')))"
   ]
  },
  {
   "cell_type": "markdown",
   "metadata": {},
   "source": [
    "193 студии со значением 0 комнат, основная масса квартир - до 4 комнат."
   ]
  },
  {
   "cell_type": "code",
   "execution_count": null,
   "metadata": {},
   "outputs": [],
   "source": [
    "data['ceiling_height'].hist(bins=30, range=(0, 10.3));"
   ]
  },
  {
   "cell_type": "markdown",
   "metadata": {},
   "source": [
    "Потолки тоже укладываются в стандартные значения."
   ]
  },
  {
   "cell_type": "code",
   "execution_count": null,
   "metadata": {},
   "outputs": [],
   "source": [
    "data['floor'].hist(bins=30);"
   ]
  },
  {
   "cell_type": "markdown",
   "metadata": {},
   "source": [
    "Большая часть квартир сосредоточена с 1 по 5 этаж. Заглянув в гистограмму по total_floors все станет понятно."
   ]
  },
  {
   "cell_type": "code",
   "execution_count": null,
   "metadata": {},
   "outputs": [],
   "source": [
    "data['floor_type'].hist(bins=30);"
   ]
  },
  {
   "cell_type": "markdown",
   "metadata": {},
   "source": [
    "Первых и последних этажей всегда меньше чем всех остальных. Данные демонстрируют очевидные факты, значит с данными все в порядке."
   ]
  },
  {
   "cell_type": "code",
   "execution_count": null,
   "metadata": {},
   "outputs": [],
   "source": [
    "data['floors_total'].hist(bins=30);"
   ]
  },
  {
   "cell_type": "markdown",
   "metadata": {},
   "source": [
    "Основная часть домов классической этажности - 5, 9 и 16 этажей. Однако, быстрые темпы расширения городов дают о себе знать - в значительном объеме представленны 12 этажные (как правило, это угловые вставки в 9-этажные дома) и 20+-этажные человейники."
   ]
  },
  {
   "cell_type": "code",
   "execution_count": null,
   "metadata": {},
   "outputs": [],
   "source": [
    "data['cityCenters_nearest'].hist(bins=30);"
   ]
  },
  {
   "cell_type": "markdown",
   "metadata": {},
   "source": [
    "Основная часть объявлений - квартиры удаленные от центра, видимо квартиры в центре на рынке не задерживаются."
   ]
  },
  {
   "cell_type": "code",
   "execution_count": null,
   "metadata": {},
   "outputs": [],
   "source": [
    "data['airports_nearest'].hist(bins=30);"
   ]
  },
  {
   "cell_type": "markdown",
   "metadata": {},
   "source": [
    "Неудивительно, что жилые районы удалены от аэропортов - они источник шумового загрязнения."
   ]
  },
  {
   "cell_type": "code",
   "execution_count": null,
   "metadata": {},
   "outputs": [],
   "source": [
    "data['parks_nearest'].hist(bins=30);"
   ]
  },
  {
   "cell_type": "markdown",
   "metadata": {},
   "source": [
    "Советская планировка дает о себе знать - как правило, в окрестностях есть зеленая зона."
   ]
  },
  {
   "cell_type": "code",
   "execution_count": null,
   "metadata": {},
   "outputs": [],
   "source": [
    "data['weekday'].hist(bins=30);"
   ]
  },
  {
   "cell_type": "markdown",
   "metadata": {},
   "source": [
    "А это интересно - хоть в выходные больше свободного времени, но люди не любят его тратить на постинг объявлений."
   ]
  },
  {
   "cell_type": "code",
   "execution_count": null,
   "metadata": {},
   "outputs": [],
   "source": [
    "data['month'].hist(bins=30);"
   ]
  },
  {
   "cell_type": "markdown",
   "metadata": {},
   "source": [
    "Лето и первый с последним месяц года - традиционная яма деловой активности."
   ]
  },
  {
   "cell_type": "markdown",
   "metadata": {},
   "source": [
    "**Итоги обзора данных**\n",
    "\n",
    "1. БОльшая часть данных весьма очевидна и укладывается в обычный житейский опыт - это хорошо, значит данные хорошие и достоверные.\n",
    "\n",
    "2. На рынке среди объявлений самые ходовые объявления это бюджетный сегмент квартир относительно небольшой площади, находящихся от 10 км. от центра традиционной этажности (5, 9, 16 этажей), однако сегмент домов высокой этажности тоже значим и в перспективе имеет тенденцию к увеличению (т.к. это новостройки)\n",
    "\n",
    "3. В рамках недели - самые неактивные дни публикаци это выходные, лето и начало/конец года - не самое лучшее время искать предложения о новых квартирах, активность продажи квартир в это время падает."
   ]
  },
  {
   "cell_type": "markdown",
   "metadata": {},
   "source": [
    "**Скрость продажи квартир**\n",
    "\n",
    "Найдем медианные и средние значения, заодно изучим гистограмму."
   ]
  },
  {
   "cell_type": "code",
   "execution_count": null,
   "metadata": {},
   "outputs": [],
   "source": [
    "print(f'Среднее количество дней объявления: {data[\"days_exposition\"].mean().round()}')\n",
    "print(f'Медианное количество дней объявления: {data[\"days_exposition\"].median()}')\n",
    "data[\"days_exposition\"].hist();"
   ]
  },
  {
   "cell_type": "markdown",
   "metadata": {},
   "source": [
    "**Вывод:** Изучив значения, мы увидим, что для обычного объявления наиболее справедливым показателем является медианный показатель - 95 дней. За этот срок продается 50% всех квартир. Если давать рекомендацию о том, какой срок продажи квартиры считать *нормальным*, то можно установить диапазон *90-180 дней*. Быстрая продажа - до 90 дней. Долгая продажа - от 1 года."
   ]
  },
  {
   "cell_type": "markdown",
   "metadata": {},
   "source": [
    "**Факторы, влияющие на стоимость квартиры**\n",
    "\n",
    "Строим сводную таблицу."
   ]
  },
  {
   "cell_type": "code",
   "execution_count": null,
   "metadata": {},
   "outputs": [],
   "source": [
    "price_factors = data[['last_price', 'total_area', 'living_area', 'kitchen_area', 'rooms', 'floor_type', 'weekday', 'month', 'year']]\n",
    "#display(price_factors.head())\n",
    "\n",
    "display(price_factors.corr()) #построим всю матрицу целиком и просмотрим нужную строку, чтобы не мучаться по отдельности\n",
    "\n",
    "price_factors.plot(x='last_price', y='total_area', kind='scatter', alpha=0.03);\n",
    "price_factors.plot(x='last_price', y='kitchen_area', kind='scatter', alpha=0.03);\n",
    "price_factors.plot(x='last_price', y='living_area', kind='scatter', alpha=0.03);\n",
    "price_factors.plot(x='last_price', y='rooms', kind='scatter', alpha=0.03);\n"
   ]
  },
  {
   "cell_type": "code",
   "execution_count": null,
   "metadata": {},
   "outputs": [],
   "source": [
    "pvt_floor_type = price_factors.pivot_table(index='floor_type', values='last_price', aggfunc='median')\n",
    "pvt_floor_type.plot.bar(y='last_price')\n",
    "print(pvt_floor_type)"
   ]
  },
  {
   "cell_type": "code",
   "execution_count": null,
   "metadata": {},
   "outputs": [],
   "source": [
    "pvt_weekday = price_factors.pivot_table(index='weekday', values='last_price', aggfunc='median')\n",
    "pvt_weekday.plot.bar(y='last_price', figsize=(10,8))\n",
    "print(pvt_weekday)"
   ]
  },
  {
   "cell_type": "code",
   "execution_count": null,
   "metadata": {},
   "outputs": [],
   "source": [
    "pvt_month = price_factors.pivot_table(index='month', values='last_price', aggfunc='median')\n",
    "pvt_month.plot.bar(y='last_price', figsize=(10,8))\n",
    "print(pvt_month)"
   ]
  },
  {
   "cell_type": "code",
   "execution_count": null,
   "metadata": {},
   "outputs": [],
   "source": [
    "pvt_year = price_factors.pivot_table(index='year', values='last_price', aggfunc='median')\n",
    "pvt_year.plot.bar(y='last_price')\n",
    "print(pvt_year)"
   ]
  },
  {
   "cell_type": "markdown",
   "metadata": {},
   "source": [
    "**Вывод:** На основе полученных данных, можно сделать следующие выводы.\n",
    "\n",
    "1. Фактором, наиболее сильно оказывающим влияние на стоимость объекта, является общая площадь объекта (*коэфициент корреляции  0,78*) \n",
    "2. Факторы имеющие слабую связь со стоимостью квартиры: жилая площадь(*к. 0,68*), площадь кухни (*к. 0,6*) и количество комнат (*к. 0,5*)\n",
    "3. В целом, этаж квартиры оказывает влияние на стоимость квартиры. Квартиры на последнем и первом этаже уступают в стоимости квартирам на других этажах.\n",
    "4. Май и июнь - месяцы на которые стоит обратить внимание, если вы хотите немного дешевле приобрести квартиру.\n",
    "5. По годам, значительно выбивается 2014 год. На мой взгляд, это связано с наращиванием базы пользователей, а большинство пользователей ориентировано на более бюджетное жилье. С 2019 в целом начинается активный рост стоимости квартир, если добавить данные за следующие года, то думаю, что тренд продолжится, на это повлияла программа льготной ипотеки.\n",
    "6. Стоимость квартир опубликованных на выходных немного снижается."
   ]
  },
  {
   "cell_type": "markdown",
   "metadata": {},
   "source": [
    "**Цена кв.м по НП**"
   ]
  },
  {
   "cell_type": "code",
   "execution_count": null,
   "metadata": {},
   "outputs": [],
   "source": [
    "locality_price = pd.pivot_table(data, index='locality_name', values='price_per_metr', aggfunc=['mean', 'count'])\n",
    "locality_price.columns = ['mean', 'count']\n",
    "locality_price = locality_price.sort_values(by='count', ascending = False)\n",
    "locality_price = locality_price.head(10)\n",
    "locality_price = locality_price.sort_values(by='mean', ascending = False)\n",
    "display(locality_price)"
   ]
  },
  {
   "cell_type": "markdown",
   "metadata": {},
   "source": [
    "**Вывод:** \n",
    "1. Ожидаемо, наиболее дорогими обладателем квадратных метров стал Санкт-Петербург\n",
    "2. Практически сопоставим по стоимости среднего квадрата г. Пушкин, вероятно за счет исторического бэкграунда и застройки, а также достопримечательностей, сосредоточенных там.\n",
    "3. Наиболее дешевая недвижимость из более распространенных по объявлениям НП сосредоточена в Выборге и Всеволожске."
   ]
  },
  {
   "cell_type": "markdown",
   "metadata": {},
   "source": [
    "**Стоимость километра в СПБ**"
   ]
  },
  {
   "cell_type": "code",
   "execution_count": null,
   "metadata": {},
   "outputs": [],
   "source": [
    "spb_data = data.query('locality_name == \"Санкт-Петербург\"')\n",
    "km_price = spb_data.pivot_table(index='cityCenters_nearest_km', values=['last_price', 'price_per_metr'], aggfunc=['mean'])\n",
    "km_price.columns = ['last_price', 'price_per_metr']\n",
    "pd.set_option('display.float_format', '{:.2f}'.format)\n",
    "\n",
    "\n",
    "km_price.plot(y='last_price', kind='bar', figsize=(12,6), grid=True)\n",
    "km_price.plot(y='price_per_metr', kind='bar', figsize=(12,6), grid=True);"
   ]
  },
  {
   "cell_type": "markdown",
   "metadata": {},
   "source": [
    "**Вывод:** \n",
    "1. В целом, наблюдается тренд снижения стоимости недвижимости по мере удаления от центра.\n",
    "2. Не типично для тренда ведет себя недвижимость с 4 по 7 км, а так же недвижимость расположенная на 27 км."
   ]
  },
  {
   "cell_type": "markdown",
   "metadata": {},
   "source": [
    "### Общий вывод"
   ]
  },
  {
   "cell_type": "markdown",
   "metadata": {},
   "source": [
    "**В рамках текущего исследования были поставленны следующие задачи:**\n",
    "\n",
    "\n",
    "1. Изучить следующие параметры объектов:\n",
    "* общая площадь;\n",
    "* жилая площадь;\n",
    "* площадь кухни;\n",
    "* цена объекта;\n",
    "* количество комнат;\n",
    "* высота потолков;\n",
    "* этаж квартиры;\n",
    "* тип этажа квартиры («первый», «последний», «другой»);\n",
    "* общее количество этажей в доме;\n",
    "* расстояние до центра города в метрах;\n",
    "* расстояние до ближайшего аэропорта;\n",
    "* расстояние до ближайшего парка;\n",
    "* день и месяц публикации объявления.\n",
    "\n",
    "\n",
    "Построить отдельные гистограммы для каждого из этих параметров. \n",
    "\n",
    "\n",
    "2. Изучить, как быстро продавались квартиры. Найти среднее и медианную величину. Дать ответ на вопрос, какие продажи можно считать быстрыми, а какие — необычно долгими?\n",
    "\n",
    "\n",
    "3. Изучить, какие факторы больше всего влияют на общую (полную) стоимость объекта. \n",
    "\n",
    "\n",
    "4. Рассчитать среднюю цену одного квадратного метра в 10 населённых пунктах с наибольшим числом объявлений. Выделите населённые пункты с самой высокой и низкой стоимостью квадратного метра.\n",
    "\n",
    "\n",
    "5. Описать, как стоимость объектов зависит от расстояния до центра города."
   ]
  },
  {
   "cell_type": "markdown",
   "metadata": {},
   "source": [
    "**В итоге, получены следующие результаты.**\n",
    "\n",
    "1. В результате обзора данных сделаны следующие выводы:\n",
    "\n",
    "\n",
    "* БОльшая часть данных весьма очевидна и укладывается в обычный житейский опыт - это хорошо, значит данные хорошие и достоверные.\n",
    "\n",
    "* На рынке среди объявлений самые ходовые объявления это бюджетный сегмент квартир относительно небольшой площади, находящихся от 10 км. от центра традиционной этажности (5, 9, 16 этажей), однако сегмент домов высокой этажности тоже значим и в перспективе имеет тенденцию к увеличению (т.к. это новостройки)\n",
    "\n",
    "* В рамках недели - самые неактивные дни публикаци это выходные, лето и начало/конец года - не самое лучшее время искать предложения о новых квартирах, активность продажи квартир в это время падает.\n",
    "\n",
    "2. Изучив скорость продажи квартир, мы увидим, что для обычного объявления наиболее справедливым показателем является медианный показатель - 95 дней. За этот срок продается 50% всех квартир. Если давать рекомендацию о том, какой срок продажи квартиры считать *нормальным*, то можно установить диапазон *90-180 дней*. Быстрая продажа - до 90 дней. Долгая продажа - от 1 года.\n",
    "\n",
    "\n",
    "3. Изучив влияние различных факторов, влияющих на стоимость квартиры, можно сделать следующие выводы:\n",
    "* Фактором, наиболее сильно оказывающим влияние на стоимость объекта, является общая площадь объекта (*коэфициент корреляции  0,78*) \n",
    "* Факторы имеющие слабую связь со стоимостью квартиры: жилая площадь(*к. 0,68*), площадь кухни (*к. 0,6*) и количество комнат (*к. 0,5*)\n",
    "* В целом, этаж квартиры оказывает влияние на стоимость квартиры. Квартиры на последнем и первом этаже уступают в стоимости квартирам на других этажах.\n",
    "* Май и июнь - месяцы на которые стоит обратить внимание, если вы хотите немного дешевле приобрести квартиру.\n",
    "* По годам, значительно выбивается 2014 год. На мой взгляд, это связано с наращиванием базы пользователей, а большинство пользователей ориентировано на более бюджетное жилье. С 2019 в целом начинается активный рост стоимости квартир, если добавить данные за следующие года, то думаю, что тренд продолжится, на это повлияла программа льготной ипотеки.\n",
    "* Стоимость квартир опубликованных на выходных немного снижается.\n",
    "\n",
    "\n",
    "4. Наиболее дорогими обладателем квадратных метров стал г. Санкт-Петербург и г. Пушкин, вероятно за счет исторического бэкграунда и застройки, а также достопримечательностей, сосредоточенных там. Наиболее дешевая недвижимость из более распространенных по объявлениям НП сосредоточена в Выборге и Всеволожске.\n",
    "\n",
    "\n",
    "5. В целом, наблюдается тренд снижения стоимости недвижимости по мере удаления от центра. Не типично для тренда ведет себя недвижимость с 4 по 7 км, а так же недвижимость расположенная на 27 км, что может стать поводом для дальнейшего исследования.\n"
   ]
  }
 ],
 "metadata": {
  "ExecuteTimeLog": [
   {
    "duration": 687,
    "start_time": "2023-02-06T08:47:25.159Z"
   },
   {
    "duration": 125,
    "start_time": "2023-02-06T08:54:39.474Z"
   },
   {
    "duration": 75,
    "start_time": "2023-02-06T08:54:47.488Z"
   },
   {
    "duration": 98,
    "start_time": "2023-02-06T08:55:01.951Z"
   },
   {
    "duration": 71,
    "start_time": "2023-02-06T08:56:15.336Z"
   },
   {
    "duration": 77,
    "start_time": "2023-02-06T08:56:42.911Z"
   },
   {
    "duration": 112,
    "start_time": "2023-02-06T08:56:54.150Z"
   },
   {
    "duration": 81,
    "start_time": "2023-02-06T08:57:59.822Z"
   },
   {
    "duration": 81,
    "start_time": "2023-02-06T08:58:09.878Z"
   },
   {
    "duration": 4,
    "start_time": "2023-02-06T08:58:25.814Z"
   },
   {
    "duration": 7,
    "start_time": "2023-02-06T09:01:52.356Z"
   },
   {
    "duration": 125,
    "start_time": "2023-02-06T09:05:05.626Z"
   },
   {
    "duration": 91,
    "start_time": "2023-02-06T09:05:14.762Z"
   },
   {
    "duration": 78,
    "start_time": "2023-02-06T09:05:42.067Z"
   },
   {
    "duration": 4,
    "start_time": "2023-02-06T09:06:24.891Z"
   },
   {
    "duration": 104,
    "start_time": "2023-02-06T09:10:01.545Z"
   },
   {
    "duration": 14,
    "start_time": "2023-02-06T09:10:10.294Z"
   },
   {
    "duration": 58,
    "start_time": "2023-02-06T09:10:31.817Z"
   },
   {
    "duration": 3,
    "start_time": "2023-02-06T09:10:34.664Z"
   },
   {
    "duration": 97,
    "start_time": "2023-02-06T09:11:17.775Z"
   },
   {
    "duration": 93,
    "start_time": "2023-02-06T09:12:06.840Z"
   },
   {
    "duration": 26,
    "start_time": "2023-02-06T09:13:23.158Z"
   },
   {
    "duration": 34,
    "start_time": "2023-02-06T09:13:33.490Z"
   },
   {
    "duration": 2314,
    "start_time": "2023-02-06T09:18:35.307Z"
   },
   {
    "duration": 14,
    "start_time": "2023-02-06T09:22:25.579Z"
   },
   {
    "duration": 11,
    "start_time": "2023-02-06T09:22:40.764Z"
   },
   {
    "duration": 6,
    "start_time": "2023-02-06T09:32:53.197Z"
   },
   {
    "duration": 48,
    "start_time": "2023-02-06T18:40:31.829Z"
   },
   {
    "duration": 577,
    "start_time": "2023-02-06T18:40:38.597Z"
   },
   {
    "duration": 48,
    "start_time": "2023-02-06T18:40:39.176Z"
   },
   {
    "duration": 2500,
    "start_time": "2023-02-06T18:40:39.225Z"
   },
   {
    "duration": 10,
    "start_time": "2023-02-06T18:40:41.728Z"
   },
   {
    "duration": 5,
    "start_time": "2023-02-06T18:40:41.739Z"
   },
   {
    "duration": 5,
    "start_time": "2023-02-06T18:41:35.830Z"
   },
   {
    "duration": 85,
    "start_time": "2023-02-06T18:41:46.552Z"
   },
   {
    "duration": 8,
    "start_time": "2023-02-06T18:41:58.280Z"
   },
   {
    "duration": 16,
    "start_time": "2023-02-06T18:42:12.360Z"
   },
   {
    "duration": 10,
    "start_time": "2023-02-06T18:42:19.631Z"
   },
   {
    "duration": 6,
    "start_time": "2023-02-06T18:42:32.952Z"
   },
   {
    "duration": 11,
    "start_time": "2023-02-06T18:43:04.519Z"
   },
   {
    "duration": 7,
    "start_time": "2023-02-06T18:43:29.147Z"
   },
   {
    "duration": 6,
    "start_time": "2023-02-06T18:43:40.147Z"
   },
   {
    "duration": 7,
    "start_time": "2023-02-06T18:43:45.751Z"
   },
   {
    "duration": 6,
    "start_time": "2023-02-06T18:43:52.355Z"
   },
   {
    "duration": 8,
    "start_time": "2023-02-06T18:44:24.045Z"
   },
   {
    "duration": 10,
    "start_time": "2023-02-06T18:45:21.550Z"
   },
   {
    "duration": 9,
    "start_time": "2023-02-06T18:45:30.849Z"
   },
   {
    "duration": 8,
    "start_time": "2023-02-06T18:46:09.310Z"
   },
   {
    "duration": 9,
    "start_time": "2023-02-06T18:46:13.516Z"
   },
   {
    "duration": 526,
    "start_time": "2023-02-06T18:46:19.352Z"
   },
   {
    "duration": 61,
    "start_time": "2023-02-06T18:46:19.881Z"
   },
   {
    "duration": 2657,
    "start_time": "2023-02-06T18:46:19.944Z"
   },
   {
    "duration": 13,
    "start_time": "2023-02-06T18:46:22.603Z"
   },
   {
    "duration": 9,
    "start_time": "2023-02-06T18:46:22.617Z"
   },
   {
    "duration": 7,
    "start_time": "2023-02-06T18:46:22.628Z"
   },
   {
    "duration": 6,
    "start_time": "2023-02-06T18:46:22.638Z"
   },
   {
    "duration": 8,
    "start_time": "2023-02-06T18:46:48.595Z"
   },
   {
    "duration": 6,
    "start_time": "2023-02-06T18:47:06.563Z"
   },
   {
    "duration": 6,
    "start_time": "2023-02-06T18:47:14.067Z"
   },
   {
    "duration": 8,
    "start_time": "2023-02-06T18:56:53.825Z"
   },
   {
    "duration": 8,
    "start_time": "2023-02-06T18:57:20.351Z"
   },
   {
    "duration": 79,
    "start_time": "2023-02-06T18:57:51.133Z"
   },
   {
    "duration": 5,
    "start_time": "2023-02-06T18:57:57.974Z"
   },
   {
    "duration": 6,
    "start_time": "2023-02-06T19:01:06.891Z"
   },
   {
    "duration": 7,
    "start_time": "2023-02-06T19:01:35.859Z"
   },
   {
    "duration": 8,
    "start_time": "2023-02-06T19:05:17.841Z"
   },
   {
    "duration": 7,
    "start_time": "2023-02-06T19:05:34.842Z"
   },
   {
    "duration": 13,
    "start_time": "2023-02-06T19:05:38.634Z"
   },
   {
    "duration": 13,
    "start_time": "2023-02-06T19:06:40.874Z"
   },
   {
    "duration": 448,
    "start_time": "2023-02-06T19:06:55.657Z"
   },
   {
    "duration": 48,
    "start_time": "2023-02-06T19:06:56.106Z"
   },
   {
    "duration": 2362,
    "start_time": "2023-02-06T19:06:56.155Z"
   },
   {
    "duration": 12,
    "start_time": "2023-02-06T19:06:58.519Z"
   },
   {
    "duration": 5,
    "start_time": "2023-02-06T19:06:58.532Z"
   },
   {
    "duration": 8,
    "start_time": "2023-02-06T19:06:58.538Z"
   },
   {
    "duration": 6,
    "start_time": "2023-02-06T19:06:58.548Z"
   },
   {
    "duration": 4,
    "start_time": "2023-02-06T19:06:58.556Z"
   },
   {
    "duration": 9,
    "start_time": "2023-02-06T19:06:58.561Z"
   },
   {
    "duration": 6,
    "start_time": "2023-02-06T19:06:58.572Z"
   },
   {
    "duration": 22,
    "start_time": "2023-02-06T19:06:58.599Z"
   },
   {
    "duration": 13,
    "start_time": "2023-02-06T19:08:03.348Z"
   },
   {
    "duration": 27,
    "start_time": "2023-02-06T19:08:13.597Z"
   },
   {
    "duration": 775,
    "start_time": "2023-02-07T06:05:41.762Z"
   },
   {
    "duration": 53,
    "start_time": "2023-02-07T06:05:42.539Z"
   },
   {
    "duration": 2691,
    "start_time": "2023-02-07T06:05:42.594Z"
   },
   {
    "duration": 9,
    "start_time": "2023-02-07T06:05:45.287Z"
   },
   {
    "duration": 13,
    "start_time": "2023-02-07T06:05:45.298Z"
   },
   {
    "duration": 7,
    "start_time": "2023-02-07T06:05:45.313Z"
   },
   {
    "duration": 14,
    "start_time": "2023-02-07T06:05:45.321Z"
   },
   {
    "duration": 29,
    "start_time": "2023-02-07T06:05:45.337Z"
   },
   {
    "duration": 9,
    "start_time": "2023-02-07T06:05:45.368Z"
   },
   {
    "duration": 9,
    "start_time": "2023-02-07T06:05:45.379Z"
   },
   {
    "duration": 8,
    "start_time": "2023-02-07T06:05:45.390Z"
   },
   {
    "duration": 11,
    "start_time": "2023-02-07T06:05:45.400Z"
   },
   {
    "duration": 15,
    "start_time": "2023-02-07T06:25:13.209Z"
   },
   {
    "duration": 9,
    "start_time": "2023-02-07T06:25:15.254Z"
   },
   {
    "duration": 48,
    "start_time": "2023-02-07T07:00:12.270Z"
   },
   {
    "duration": 454,
    "start_time": "2023-02-07T07:00:20.688Z"
   },
   {
    "duration": 42,
    "start_time": "2023-02-07T07:00:21.144Z"
   },
   {
    "duration": 2081,
    "start_time": "2023-02-07T07:00:21.188Z"
   },
   {
    "duration": 9,
    "start_time": "2023-02-07T07:00:23.270Z"
   },
   {
    "duration": 12,
    "start_time": "2023-02-07T07:00:23.281Z"
   },
   {
    "duration": 30,
    "start_time": "2023-02-07T07:00:23.294Z"
   },
   {
    "duration": 22,
    "start_time": "2023-02-07T07:00:23.325Z"
   },
   {
    "duration": 29,
    "start_time": "2023-02-07T07:00:23.348Z"
   },
   {
    "duration": 29,
    "start_time": "2023-02-07T07:00:23.379Z"
   },
   {
    "duration": 21,
    "start_time": "2023-02-07T07:00:23.410Z"
   },
   {
    "duration": 27,
    "start_time": "2023-02-07T07:00:23.433Z"
   },
   {
    "duration": 20,
    "start_time": "2023-02-07T07:00:23.462Z"
   },
   {
    "duration": 48,
    "start_time": "2023-02-07T07:00:23.483Z"
   },
   {
    "duration": 71,
    "start_time": "2023-02-07T07:35:14.220Z"
   },
   {
    "duration": 37,
    "start_time": "2023-02-07T07:35:35.708Z"
   },
   {
    "duration": 8,
    "start_time": "2023-02-07T07:36:58.393Z"
   },
   {
    "duration": 7,
    "start_time": "2023-02-07T07:38:07.841Z"
   },
   {
    "duration": 487,
    "start_time": "2023-02-07T07:38:17.354Z"
   },
   {
    "duration": 38,
    "start_time": "2023-02-07T07:38:17.843Z"
   },
   {
    "duration": 1966,
    "start_time": "2023-02-07T07:38:17.883Z"
   },
   {
    "duration": 10,
    "start_time": "2023-02-07T07:38:19.851Z"
   },
   {
    "duration": 9,
    "start_time": "2023-02-07T07:38:19.862Z"
   },
   {
    "duration": 8,
    "start_time": "2023-02-07T07:38:19.873Z"
   },
   {
    "duration": 9,
    "start_time": "2023-02-07T07:38:19.882Z"
   },
   {
    "duration": 10,
    "start_time": "2023-02-07T07:38:19.892Z"
   },
   {
    "duration": 6,
    "start_time": "2023-02-07T07:38:19.904Z"
   },
   {
    "duration": 32,
    "start_time": "2023-02-07T07:38:19.912Z"
   },
   {
    "duration": 15,
    "start_time": "2023-02-07T07:38:19.945Z"
   },
   {
    "duration": 8,
    "start_time": "2023-02-07T07:38:19.962Z"
   },
   {
    "duration": 84,
    "start_time": "2023-02-07T07:38:19.972Z"
   },
   {
    "duration": 47,
    "start_time": "2023-02-07T07:41:10.019Z"
   },
   {
    "duration": 32,
    "start_time": "2023-02-07T07:42:19.804Z"
   },
   {
    "duration": 213,
    "start_time": "2023-02-07T07:53:24.768Z"
   },
   {
    "duration": 373,
    "start_time": "2023-02-07T07:54:04.916Z"
   },
   {
    "duration": 393,
    "start_time": "2023-02-07T07:54:47.963Z"
   },
   {
    "duration": 323,
    "start_time": "2023-02-07T07:55:30.972Z"
   },
   {
    "duration": 230,
    "start_time": "2023-02-07T07:55:50.211Z"
   },
   {
    "duration": 214,
    "start_time": "2023-02-07T07:56:05.955Z"
   },
   {
    "duration": 3,
    "start_time": "2023-02-07T07:56:14.100Z"
   },
   {
    "duration": 315,
    "start_time": "2023-02-07T07:56:19.690Z"
   },
   {
    "duration": 240,
    "start_time": "2023-02-07T07:56:29.826Z"
   },
   {
    "duration": 219,
    "start_time": "2023-02-07T07:56:49.178Z"
   },
   {
    "duration": 240,
    "start_time": "2023-02-07T07:57:01.634Z"
   },
   {
    "duration": 256,
    "start_time": "2023-02-07T07:57:09.458Z"
   },
   {
    "duration": 440,
    "start_time": "2023-02-07T08:01:54.024Z"
   },
   {
    "duration": 239,
    "start_time": "2023-02-07T08:02:13.891Z"
   },
   {
    "duration": 241,
    "start_time": "2023-02-07T08:03:31.664Z"
   },
   {
    "duration": 229,
    "start_time": "2023-02-07T08:03:55.062Z"
   },
   {
    "duration": 5,
    "start_time": "2023-02-07T08:04:47.846Z"
   },
   {
    "duration": 5,
    "start_time": "2023-02-07T08:04:54.317Z"
   },
   {
    "duration": 6,
    "start_time": "2023-02-07T08:05:13.557Z"
   },
   {
    "duration": 8,
    "start_time": "2023-02-07T08:16:29.280Z"
   },
   {
    "duration": 11,
    "start_time": "2023-02-07T08:16:40.605Z"
   },
   {
    "duration": 7,
    "start_time": "2023-02-07T08:16:46.529Z"
   },
   {
    "duration": 8,
    "start_time": "2023-02-07T08:30:03.844Z"
   },
   {
    "duration": 129,
    "start_time": "2023-02-07T08:30:18.205Z"
   },
   {
    "duration": 264,
    "start_time": "2023-02-07T08:30:29.269Z"
   },
   {
    "duration": 89,
    "start_time": "2023-02-07T08:42:57.469Z"
   },
   {
    "duration": 122,
    "start_time": "2023-02-07T08:43:36.525Z"
   },
   {
    "duration": 127,
    "start_time": "2023-02-07T08:45:12.397Z"
   },
   {
    "duration": 102,
    "start_time": "2023-02-07T08:45:21.447Z"
   },
   {
    "duration": 137,
    "start_time": "2023-02-07T08:45:49.851Z"
   },
   {
    "duration": 140,
    "start_time": "2023-02-07T08:46:11.315Z"
   },
   {
    "duration": 385,
    "start_time": "2023-02-07T08:46:17.236Z"
   },
   {
    "duration": 1360,
    "start_time": "2023-02-07T08:46:23.116Z"
   },
   {
    "duration": 1510,
    "start_time": "2023-02-07T08:46:47.074Z"
   },
   {
    "duration": 1173,
    "start_time": "2023-02-07T08:46:56.692Z"
   },
   {
    "duration": 395,
    "start_time": "2023-02-07T08:47:18.962Z"
   },
   {
    "duration": 57,
    "start_time": "2023-02-08T10:32:35.724Z"
   },
   {
    "duration": 758,
    "start_time": "2023-02-08T10:32:41.227Z"
   },
   {
    "duration": 45,
    "start_time": "2023-02-08T10:32:41.987Z"
   },
   {
    "duration": 2444,
    "start_time": "2023-02-08T10:32:42.037Z"
   },
   {
    "duration": 10,
    "start_time": "2023-02-08T10:32:44.482Z"
   },
   {
    "duration": 5,
    "start_time": "2023-02-08T10:32:44.493Z"
   },
   {
    "duration": 8,
    "start_time": "2023-02-08T10:32:44.500Z"
   },
   {
    "duration": 6,
    "start_time": "2023-02-08T10:32:44.509Z"
   },
   {
    "duration": 5,
    "start_time": "2023-02-08T10:32:44.517Z"
   },
   {
    "duration": 6,
    "start_time": "2023-02-08T10:32:44.524Z"
   },
   {
    "duration": 30,
    "start_time": "2023-02-08T10:32:44.531Z"
   },
   {
    "duration": 24,
    "start_time": "2023-02-08T10:32:44.564Z"
   },
   {
    "duration": 8,
    "start_time": "2023-02-08T10:32:44.589Z"
   },
   {
    "duration": 30,
    "start_time": "2023-02-08T10:32:44.599Z"
   },
   {
    "duration": 159,
    "start_time": "2023-02-08T10:32:44.631Z"
   },
   {
    "duration": 145,
    "start_time": "2023-02-08T10:32:44.792Z"
   },
   {
    "duration": 36,
    "start_time": "2023-02-08T10:36:19.469Z"
   },
   {
    "duration": 85,
    "start_time": "2023-02-08T10:39:57.439Z"
   },
   {
    "duration": 15,
    "start_time": "2023-02-08T10:40:44.799Z"
   },
   {
    "duration": 11,
    "start_time": "2023-02-08T10:41:43.260Z"
   },
   {
    "duration": 64,
    "start_time": "2023-02-08T10:43:13.114Z"
   },
   {
    "duration": 72,
    "start_time": "2023-02-08T10:43:36.082Z"
   },
   {
    "duration": 79,
    "start_time": "2023-02-08T10:49:13.533Z"
   },
   {
    "duration": 74,
    "start_time": "2023-02-08T10:49:44.005Z"
   },
   {
    "duration": 25,
    "start_time": "2023-02-08T10:51:07.280Z"
   },
   {
    "duration": 15,
    "start_time": "2023-02-08T10:52:01.069Z"
   },
   {
    "duration": 38,
    "start_time": "2023-02-08T10:52:46.469Z"
   },
   {
    "duration": 328,
    "start_time": "2023-02-08T10:53:04.931Z"
   },
   {
    "duration": 143,
    "start_time": "2023-02-08T10:53:19.806Z"
   },
   {
    "duration": 493,
    "start_time": "2023-02-08T10:56:50.799Z"
   },
   {
    "duration": 43,
    "start_time": "2023-02-08T10:56:51.294Z"
   },
   {
    "duration": 2519,
    "start_time": "2023-02-08T10:56:51.338Z"
   },
   {
    "duration": 14,
    "start_time": "2023-02-08T10:56:53.860Z"
   },
   {
    "duration": 28,
    "start_time": "2023-02-08T10:56:53.876Z"
   },
   {
    "duration": 11,
    "start_time": "2023-02-08T10:56:53.906Z"
   },
   {
    "duration": 5,
    "start_time": "2023-02-08T10:56:53.919Z"
   },
   {
    "duration": 7,
    "start_time": "2023-02-08T10:56:53.926Z"
   },
   {
    "duration": 10,
    "start_time": "2023-02-08T10:56:53.935Z"
   },
   {
    "duration": 34,
    "start_time": "2023-02-08T10:56:53.947Z"
   },
   {
    "duration": 18,
    "start_time": "2023-02-08T10:56:53.983Z"
   },
   {
    "duration": 8,
    "start_time": "2023-02-08T10:56:54.002Z"
   },
   {
    "duration": 29,
    "start_time": "2023-02-08T10:56:54.012Z"
   },
   {
    "duration": 165,
    "start_time": "2023-02-08T10:56:54.042Z"
   },
   {
    "duration": 46,
    "start_time": "2023-02-08T10:56:54.209Z"
   },
   {
    "duration": 14,
    "start_time": "2023-02-08T10:56:54.264Z"
   },
   {
    "duration": 1664,
    "start_time": "2023-02-08T10:57:50.075Z"
   },
   {
    "duration": 5,
    "start_time": "2023-02-08T11:05:35.428Z"
   },
   {
    "duration": 33,
    "start_time": "2023-02-08T11:06:02.871Z"
   },
   {
    "duration": 28,
    "start_time": "2023-02-08T11:07:24.768Z"
   },
   {
    "duration": 159,
    "start_time": "2023-02-08T11:09:08.412Z"
   },
   {
    "duration": 222,
    "start_time": "2023-02-08T11:09:30.515Z"
   },
   {
    "duration": 11,
    "start_time": "2023-02-08T11:10:20.472Z"
   },
   {
    "duration": 55,
    "start_time": "2023-02-08T11:11:29.025Z"
   },
   {
    "duration": 47,
    "start_time": "2023-02-08T11:12:04.134Z"
   },
   {
    "duration": 72,
    "start_time": "2023-02-08T11:12:59.529Z"
   },
   {
    "duration": 59,
    "start_time": "2023-02-08T11:19:25.015Z"
   },
   {
    "duration": 61,
    "start_time": "2023-02-08T11:26:04.422Z"
   },
   {
    "duration": 61,
    "start_time": "2023-02-08T11:29:13.946Z"
   },
   {
    "duration": 121,
    "start_time": "2023-02-08T11:30:53.711Z"
   },
   {
    "duration": 13,
    "start_time": "2023-02-08T11:31:00.087Z"
   },
   {
    "duration": 21,
    "start_time": "2023-02-08T11:31:25.344Z"
   },
   {
    "duration": 14,
    "start_time": "2023-02-08T11:33:33.846Z"
   },
   {
    "duration": 11,
    "start_time": "2023-02-08T11:34:12.483Z"
   },
   {
    "duration": 5,
    "start_time": "2023-02-08T11:35:06.687Z"
   },
   {
    "duration": 33,
    "start_time": "2023-02-08T11:36:09.876Z"
   },
   {
    "duration": 8,
    "start_time": "2023-02-08T11:48:48.280Z"
   },
   {
    "duration": 61,
    "start_time": "2023-02-08T16:55:21.962Z"
   },
   {
    "duration": 797,
    "start_time": "2023-02-08T16:55:29.727Z"
   },
   {
    "duration": 56,
    "start_time": "2023-02-08T16:55:30.526Z"
   },
   {
    "duration": 2649,
    "start_time": "2023-02-08T16:55:30.584Z"
   },
   {
    "duration": 10,
    "start_time": "2023-02-08T16:55:33.235Z"
   },
   {
    "duration": 9,
    "start_time": "2023-02-08T16:55:33.246Z"
   },
   {
    "duration": 15,
    "start_time": "2023-02-08T16:55:33.259Z"
   },
   {
    "duration": 11,
    "start_time": "2023-02-08T16:55:33.276Z"
   },
   {
    "duration": 5,
    "start_time": "2023-02-08T16:55:33.289Z"
   },
   {
    "duration": 6,
    "start_time": "2023-02-08T16:55:33.296Z"
   },
   {
    "duration": 10,
    "start_time": "2023-02-08T16:55:33.304Z"
   },
   {
    "duration": 49,
    "start_time": "2023-02-08T16:55:33.315Z"
   },
   {
    "duration": 11,
    "start_time": "2023-02-08T16:55:33.366Z"
   },
   {
    "duration": 52,
    "start_time": "2023-02-08T16:55:33.383Z"
   },
   {
    "duration": 165,
    "start_time": "2023-02-08T16:55:33.450Z"
   },
   {
    "duration": 34,
    "start_time": "2023-02-08T16:55:33.617Z"
   },
   {
    "duration": 8,
    "start_time": "2023-02-08T16:55:33.654Z"
   },
   {
    "duration": 29,
    "start_time": "2023-02-08T16:55:33.665Z"
   },
   {
    "duration": 11,
    "start_time": "2023-02-08T16:55:33.696Z"
   },
   {
    "duration": 78,
    "start_time": "2023-02-08T16:55:33.709Z"
   },
   {
    "duration": 16,
    "start_time": "2023-02-08T16:55:33.790Z"
   },
   {
    "duration": 21,
    "start_time": "2023-02-08T16:55:33.807Z"
   },
   {
    "duration": 67,
    "start_time": "2023-02-08T16:55:33.830Z"
   },
   {
    "duration": 6,
    "start_time": "2023-02-08T16:55:33.898Z"
   },
   {
    "duration": 91,
    "start_time": "2023-02-08T16:55:33.905Z"
   },
   {
    "duration": 13,
    "start_time": "2023-02-08T16:57:54.024Z"
   },
   {
    "duration": 154,
    "start_time": "2023-02-08T16:58:39.122Z"
   },
   {
    "duration": 1478,
    "start_time": "2023-02-08T16:58:49.467Z"
   },
   {
    "duration": 316,
    "start_time": "2023-02-08T16:59:34.807Z"
   },
   {
    "duration": 15,
    "start_time": "2023-02-08T17:06:32.998Z"
   },
   {
    "duration": 260,
    "start_time": "2023-02-08T17:19:24.134Z"
   },
   {
    "duration": 130,
    "start_time": "2023-02-08T17:23:38.021Z"
   },
   {
    "duration": 127,
    "start_time": "2023-02-08T17:24:05.436Z"
   },
   {
    "duration": 1415,
    "start_time": "2023-02-08T17:24:47.588Z"
   },
   {
    "duration": 1348,
    "start_time": "2023-02-08T17:25:23.462Z"
   },
   {
    "duration": 125,
    "start_time": "2023-02-08T17:25:52.548Z"
   },
   {
    "duration": 139,
    "start_time": "2023-02-08T17:26:04.738Z"
   },
   {
    "duration": 137,
    "start_time": "2023-02-08T17:36:38.414Z"
   },
   {
    "duration": 742,
    "start_time": "2023-02-08T17:37:48.701Z"
   },
   {
    "duration": 498,
    "start_time": "2023-02-08T17:41:07.266Z"
   },
   {
    "duration": 163,
    "start_time": "2023-02-08T17:42:13.114Z"
   },
   {
    "duration": 4,
    "start_time": "2023-02-08T17:47:39.167Z"
   },
   {
    "duration": 10,
    "start_time": "2023-02-08T17:47:50.847Z"
   },
   {
    "duration": 11,
    "start_time": "2023-02-08T17:50:36.566Z"
   },
   {
    "duration": 9,
    "start_time": "2023-02-08T17:50:52.629Z"
   },
   {
    "duration": 27,
    "start_time": "2023-02-08T17:55:08.268Z"
   },
   {
    "duration": 23,
    "start_time": "2023-02-08T17:58:37.715Z"
   },
   {
    "duration": 24,
    "start_time": "2023-02-08T17:59:06.097Z"
   },
   {
    "duration": 60,
    "start_time": "2023-02-08T17:59:17.234Z"
   },
   {
    "duration": 40,
    "start_time": "2023-02-08T18:00:09.394Z"
   },
   {
    "duration": 34,
    "start_time": "2023-02-08T18:04:18.942Z"
   },
   {
    "duration": 9,
    "start_time": "2023-02-08T18:04:26.423Z"
   },
   {
    "duration": 20,
    "start_time": "2023-02-08T18:04:40.974Z"
   },
   {
    "duration": 80,
    "start_time": "2023-02-08T18:05:59.118Z"
   },
   {
    "duration": 47,
    "start_time": "2023-02-08T18:06:12.692Z"
   },
   {
    "duration": 34,
    "start_time": "2023-02-08T18:06:26.069Z"
   },
   {
    "duration": 51,
    "start_time": "2023-02-08T18:06:51.437Z"
   },
   {
    "duration": 15,
    "start_time": "2023-02-08T18:08:44.569Z"
   },
   {
    "duration": 47,
    "start_time": "2023-02-08T18:08:51.290Z"
   },
   {
    "duration": 41,
    "start_time": "2023-02-08T18:09:21.436Z"
   },
   {
    "duration": 57,
    "start_time": "2023-02-08T18:11:02.465Z"
   },
   {
    "duration": 9,
    "start_time": "2023-02-08T18:22:24.656Z"
   },
   {
    "duration": 6,
    "start_time": "2023-02-08T18:22:34.228Z"
   },
   {
    "duration": 8,
    "start_time": "2023-02-08T18:23:00.098Z"
   },
   {
    "duration": 61,
    "start_time": "2023-02-09T08:01:14.651Z"
   },
   {
    "duration": 715,
    "start_time": "2023-02-09T08:01:26.195Z"
   },
   {
    "duration": 43,
    "start_time": "2023-02-09T08:01:26.912Z"
   },
   {
    "duration": 2221,
    "start_time": "2023-02-09T08:01:26.956Z"
   },
   {
    "duration": 11,
    "start_time": "2023-02-09T08:01:29.179Z"
   },
   {
    "duration": 9,
    "start_time": "2023-02-09T08:01:29.192Z"
   },
   {
    "duration": 10,
    "start_time": "2023-02-09T08:01:29.202Z"
   },
   {
    "duration": 5,
    "start_time": "2023-02-09T08:01:29.214Z"
   },
   {
    "duration": 5,
    "start_time": "2023-02-09T08:01:29.221Z"
   },
   {
    "duration": 18,
    "start_time": "2023-02-09T08:01:29.227Z"
   },
   {
    "duration": 18,
    "start_time": "2023-02-09T08:01:29.247Z"
   },
   {
    "duration": 27,
    "start_time": "2023-02-09T08:01:29.266Z"
   },
   {
    "duration": 10,
    "start_time": "2023-02-09T08:01:29.295Z"
   },
   {
    "duration": 33,
    "start_time": "2023-02-09T08:01:29.306Z"
   },
   {
    "duration": 125,
    "start_time": "2023-02-09T08:01:29.341Z"
   },
   {
    "duration": 25,
    "start_time": "2023-02-09T08:01:29.468Z"
   },
   {
    "duration": 4,
    "start_time": "2023-02-09T08:01:29.495Z"
   },
   {
    "duration": 44,
    "start_time": "2023-02-09T08:01:29.501Z"
   },
   {
    "duration": 9,
    "start_time": "2023-02-09T08:01:29.547Z"
   },
   {
    "duration": 43,
    "start_time": "2023-02-09T08:01:29.557Z"
   },
   {
    "duration": 42,
    "start_time": "2023-02-09T08:01:29.602Z"
   },
   {
    "duration": 5,
    "start_time": "2023-02-09T08:01:29.645Z"
   },
   {
    "duration": 38,
    "start_time": "2023-02-09T08:01:29.652Z"
   },
   {
    "duration": 5,
    "start_time": "2023-02-09T08:01:29.692Z"
   },
   {
    "duration": 168,
    "start_time": "2023-02-09T08:01:29.698Z"
   },
   {
    "duration": 10,
    "start_time": "2023-02-09T08:01:29.868Z"
   },
   {
    "duration": 34,
    "start_time": "2023-02-09T08:01:29.879Z"
   },
   {
    "duration": 64,
    "start_time": "2023-02-09T08:01:29.915Z"
   },
   {
    "duration": 8,
    "start_time": "2023-02-09T08:01:29.983Z"
   },
   {
    "duration": 5,
    "start_time": "2023-02-09T08:01:29.992Z"
   },
   {
    "duration": 83,
    "start_time": "2023-02-09T08:15:06.159Z"
   },
   {
    "duration": 7,
    "start_time": "2023-02-09T08:15:15.271Z"
   },
   {
    "duration": 11,
    "start_time": "2023-02-09T08:15:24.922Z"
   },
   {
    "duration": 7,
    "start_time": "2023-02-09T08:15:37.918Z"
   },
   {
    "duration": 12,
    "start_time": "2023-02-09T08:17:08.495Z"
   },
   {
    "duration": 14,
    "start_time": "2023-02-09T08:17:20.926Z"
   },
   {
    "duration": 33,
    "start_time": "2023-02-09T08:20:50.167Z"
   },
   {
    "duration": 51,
    "start_time": "2023-02-09T14:02:02.114Z"
   },
   {
    "duration": 611,
    "start_time": "2023-02-09T14:02:09.464Z"
   },
   {
    "duration": 45,
    "start_time": "2023-02-09T14:02:10.077Z"
   },
   {
    "duration": 2465,
    "start_time": "2023-02-09T14:02:10.124Z"
   },
   {
    "duration": 11,
    "start_time": "2023-02-09T14:02:12.591Z"
   },
   {
    "duration": 13,
    "start_time": "2023-02-09T14:02:12.603Z"
   },
   {
    "duration": 28,
    "start_time": "2023-02-09T14:02:12.618Z"
   },
   {
    "duration": 6,
    "start_time": "2023-02-09T14:02:12.647Z"
   },
   {
    "duration": 6,
    "start_time": "2023-02-09T14:02:12.655Z"
   },
   {
    "duration": 9,
    "start_time": "2023-02-09T14:02:12.662Z"
   },
   {
    "duration": 39,
    "start_time": "2023-02-09T14:02:12.675Z"
   },
   {
    "duration": 25,
    "start_time": "2023-02-09T14:02:12.716Z"
   },
   {
    "duration": 9,
    "start_time": "2023-02-09T14:02:12.743Z"
   },
   {
    "duration": 35,
    "start_time": "2023-02-09T14:02:12.754Z"
   },
   {
    "duration": 178,
    "start_time": "2023-02-09T14:02:12.791Z"
   },
   {
    "duration": 30,
    "start_time": "2023-02-09T14:02:12.971Z"
   },
   {
    "duration": 24,
    "start_time": "2023-02-09T14:02:13.003Z"
   },
   {
    "duration": 46,
    "start_time": "2023-02-09T14:02:13.029Z"
   },
   {
    "duration": 25,
    "start_time": "2023-02-09T14:02:13.077Z"
   },
   {
    "duration": 51,
    "start_time": "2023-02-09T14:02:13.104Z"
   },
   {
    "duration": 22,
    "start_time": "2023-02-09T14:02:13.156Z"
   },
   {
    "duration": 7,
    "start_time": "2023-02-09T14:02:13.180Z"
   },
   {
    "duration": 53,
    "start_time": "2023-02-09T14:02:13.189Z"
   },
   {
    "duration": 6,
    "start_time": "2023-02-09T14:02:13.243Z"
   },
   {
    "duration": 201,
    "start_time": "2023-02-09T14:02:13.251Z"
   },
   {
    "duration": 11,
    "start_time": "2023-02-09T14:02:13.454Z"
   },
   {
    "duration": 38,
    "start_time": "2023-02-09T14:02:13.469Z"
   },
   {
    "duration": 83,
    "start_time": "2023-02-09T14:02:13.509Z"
   },
   {
    "duration": 10,
    "start_time": "2023-02-09T14:02:13.595Z"
   },
   {
    "duration": 8,
    "start_time": "2023-02-09T14:02:13.607Z"
   },
   {
    "duration": 56,
    "start_time": "2023-02-09T14:02:13.617Z"
   },
   {
    "duration": 112,
    "start_time": "2023-02-09T14:02:34.036Z"
   },
   {
    "duration": 39,
    "start_time": "2023-02-09T14:02:44.704Z"
   },
   {
    "duration": 33,
    "start_time": "2023-02-09T14:03:52.504Z"
   },
   {
    "duration": 39,
    "start_time": "2023-02-09T14:04:17.296Z"
   },
   {
    "duration": 28,
    "start_time": "2023-02-09T14:26:15.999Z"
   },
   {
    "duration": 36,
    "start_time": "2023-02-09T14:27:39.084Z"
   },
   {
    "duration": 34,
    "start_time": "2023-02-09T14:42:17.592Z"
   },
   {
    "duration": 42,
    "start_time": "2023-02-09T15:21:02.527Z"
   },
   {
    "duration": 40,
    "start_time": "2023-02-09T15:21:32.075Z"
   },
   {
    "duration": 196,
    "start_time": "2023-02-09T15:57:02.476Z"
   },
   {
    "duration": 195,
    "start_time": "2023-02-09T16:00:55.327Z"
   },
   {
    "duration": 194,
    "start_time": "2023-02-09T16:01:06.724Z"
   },
   {
    "duration": 188,
    "start_time": "2023-02-09T16:01:21.780Z"
   },
   {
    "duration": 192,
    "start_time": "2023-02-09T16:04:21.307Z"
   },
   {
    "duration": 210,
    "start_time": "2023-02-09T16:04:44.124Z"
   },
   {
    "duration": 489,
    "start_time": "2023-02-09T16:13:42.693Z"
   },
   {
    "duration": 58,
    "start_time": "2023-02-09T16:13:43.185Z"
   },
   {
    "duration": 2504,
    "start_time": "2023-02-09T16:13:43.245Z"
   },
   {
    "duration": 13,
    "start_time": "2023-02-09T16:13:45.752Z"
   },
   {
    "duration": 9,
    "start_time": "2023-02-09T16:13:45.768Z"
   },
   {
    "duration": 13,
    "start_time": "2023-02-09T16:13:45.778Z"
   },
   {
    "duration": 8,
    "start_time": "2023-02-09T16:13:45.793Z"
   },
   {
    "duration": 9,
    "start_time": "2023-02-09T16:13:45.803Z"
   },
   {
    "duration": 7,
    "start_time": "2023-02-09T16:13:45.840Z"
   },
   {
    "duration": 13,
    "start_time": "2023-02-09T16:13:45.849Z"
   },
   {
    "duration": 20,
    "start_time": "2023-02-09T16:13:45.865Z"
   },
   {
    "duration": 10,
    "start_time": "2023-02-09T16:13:45.887Z"
   },
   {
    "duration": 73,
    "start_time": "2023-02-09T16:13:45.899Z"
   },
   {
    "duration": 95,
    "start_time": "2023-02-09T16:13:45.976Z"
   },
   {
    "duration": 0,
    "start_time": "2023-02-09T16:13:46.073Z"
   },
   {
    "duration": 0,
    "start_time": "2023-02-09T16:13:46.075Z"
   },
   {
    "duration": 0,
    "start_time": "2023-02-09T16:13:46.076Z"
   },
   {
    "duration": 0,
    "start_time": "2023-02-09T16:13:46.077Z"
   },
   {
    "duration": 0,
    "start_time": "2023-02-09T16:13:46.079Z"
   },
   {
    "duration": 0,
    "start_time": "2023-02-09T16:13:46.080Z"
   },
   {
    "duration": 0,
    "start_time": "2023-02-09T16:13:46.081Z"
   },
   {
    "duration": 0,
    "start_time": "2023-02-09T16:13:46.082Z"
   },
   {
    "duration": 0,
    "start_time": "2023-02-09T16:13:46.084Z"
   },
   {
    "duration": 0,
    "start_time": "2023-02-09T16:13:46.085Z"
   },
   {
    "duration": 0,
    "start_time": "2023-02-09T16:13:46.087Z"
   },
   {
    "duration": 0,
    "start_time": "2023-02-09T16:13:46.088Z"
   },
   {
    "duration": 0,
    "start_time": "2023-02-09T16:13:46.089Z"
   },
   {
    "duration": 0,
    "start_time": "2023-02-09T16:13:46.091Z"
   },
   {
    "duration": 0,
    "start_time": "2023-02-09T16:13:46.092Z"
   },
   {
    "duration": 0,
    "start_time": "2023-02-09T16:13:46.094Z"
   },
   {
    "duration": 0,
    "start_time": "2023-02-09T16:13:46.096Z"
   },
   {
    "duration": 0,
    "start_time": "2023-02-09T16:13:46.097Z"
   },
   {
    "duration": 0,
    "start_time": "2023-02-09T16:13:46.140Z"
   },
   {
    "duration": 194,
    "start_time": "2023-02-09T16:13:57.895Z"
   },
   {
    "duration": 11,
    "start_time": "2023-02-09T16:17:35.699Z"
   },
   {
    "duration": 754,
    "start_time": "2023-02-09T16:18:52.786Z"
   },
   {
    "duration": 5,
    "start_time": "2023-02-09T16:19:23.233Z"
   },
   {
    "duration": 569,
    "start_time": "2023-02-09T16:19:31.197Z"
   },
   {
    "duration": 47,
    "start_time": "2023-02-09T16:19:31.768Z"
   },
   {
    "duration": 2568,
    "start_time": "2023-02-09T16:19:31.817Z"
   },
   {
    "duration": 15,
    "start_time": "2023-02-09T16:19:34.389Z"
   },
   {
    "duration": 7,
    "start_time": "2023-02-09T16:19:34.406Z"
   },
   {
    "duration": 14,
    "start_time": "2023-02-09T16:19:34.415Z"
   },
   {
    "duration": 13,
    "start_time": "2023-02-09T16:19:34.431Z"
   },
   {
    "duration": 17,
    "start_time": "2023-02-09T16:19:34.446Z"
   },
   {
    "duration": 11,
    "start_time": "2023-02-09T16:19:34.466Z"
   },
   {
    "duration": 14,
    "start_time": "2023-02-09T16:19:34.481Z"
   },
   {
    "duration": 18,
    "start_time": "2023-02-09T16:19:34.497Z"
   },
   {
    "duration": 24,
    "start_time": "2023-02-09T16:19:34.517Z"
   },
   {
    "duration": 35,
    "start_time": "2023-02-09T16:19:34.543Z"
   },
   {
    "duration": 9,
    "start_time": "2023-02-09T16:19:34.580Z"
   },
   {
    "duration": 237,
    "start_time": "2023-02-09T16:19:34.591Z"
   },
   {
    "duration": 43,
    "start_time": "2023-02-09T16:19:34.840Z"
   },
   {
    "duration": 7,
    "start_time": "2023-02-09T16:19:34.889Z"
   },
   {
    "duration": 46,
    "start_time": "2023-02-09T16:19:34.900Z"
   },
   {
    "duration": 13,
    "start_time": "2023-02-09T16:19:34.949Z"
   },
   {
    "duration": 48,
    "start_time": "2023-02-09T16:19:34.964Z"
   },
   {
    "duration": 43,
    "start_time": "2023-02-09T16:19:35.014Z"
   },
   {
    "duration": 7,
    "start_time": "2023-02-09T16:19:35.060Z"
   },
   {
    "duration": 77,
    "start_time": "2023-02-09T16:19:35.069Z"
   },
   {
    "duration": 13,
    "start_time": "2023-02-09T16:19:35.148Z"
   },
   {
    "duration": 189,
    "start_time": "2023-02-09T16:19:35.162Z"
   },
   {
    "duration": 11,
    "start_time": "2023-02-09T16:19:35.352Z"
   },
   {
    "duration": 56,
    "start_time": "2023-02-09T16:19:35.365Z"
   },
   {
    "duration": 62,
    "start_time": "2023-02-09T16:19:35.426Z"
   },
   {
    "duration": 10,
    "start_time": "2023-02-09T16:19:35.490Z"
   },
   {
    "duration": 6,
    "start_time": "2023-02-09T16:19:35.502Z"
   },
   {
    "duration": 59,
    "start_time": "2023-02-09T16:19:35.510Z"
   },
   {
    "duration": 53,
    "start_time": "2023-02-09T16:19:35.571Z"
   },
   {
    "duration": 261,
    "start_time": "2023-02-09T16:19:35.640Z"
   },
   {
    "duration": 222,
    "start_time": "2023-02-09T16:23:00.199Z"
   },
   {
    "duration": 5,
    "start_time": "2023-02-09T16:25:56.872Z"
   },
   {
    "duration": 8,
    "start_time": "2023-02-09T16:27:18.798Z"
   },
   {
    "duration": 561,
    "start_time": "2023-02-09T16:27:26.402Z"
   },
   {
    "duration": 49,
    "start_time": "2023-02-09T16:27:26.966Z"
   },
   {
    "duration": 2832,
    "start_time": "2023-02-09T16:27:27.017Z"
   },
   {
    "duration": 16,
    "start_time": "2023-02-09T16:27:29.852Z"
   },
   {
    "duration": 11,
    "start_time": "2023-02-09T16:27:29.871Z"
   },
   {
    "duration": 9,
    "start_time": "2023-02-09T16:27:29.884Z"
   },
   {
    "duration": 7,
    "start_time": "2023-02-09T16:27:29.895Z"
   },
   {
    "duration": 11,
    "start_time": "2023-02-09T16:27:29.904Z"
   },
   {
    "duration": 7,
    "start_time": "2023-02-09T16:27:29.941Z"
   },
   {
    "duration": 18,
    "start_time": "2023-02-09T16:27:29.950Z"
   },
   {
    "duration": 25,
    "start_time": "2023-02-09T16:27:29.970Z"
   },
   {
    "duration": 13,
    "start_time": "2023-02-09T16:27:29.998Z"
   },
   {
    "duration": 71,
    "start_time": "2023-02-09T16:27:30.013Z"
   },
   {
    "duration": 6,
    "start_time": "2023-02-09T16:27:30.087Z"
   },
   {
    "duration": 204,
    "start_time": "2023-02-09T16:27:30.094Z"
   },
   {
    "duration": 42,
    "start_time": "2023-02-09T16:27:30.300Z"
   },
   {
    "duration": 8,
    "start_time": "2023-02-09T16:27:30.345Z"
   },
   {
    "duration": 70,
    "start_time": "2023-02-09T16:27:30.355Z"
   },
   {
    "duration": 18,
    "start_time": "2023-02-09T16:27:30.426Z"
   },
   {
    "duration": 56,
    "start_time": "2023-02-09T16:27:30.446Z"
   },
   {
    "duration": 42,
    "start_time": "2023-02-09T16:27:30.505Z"
   },
   {
    "duration": 18,
    "start_time": "2023-02-09T16:27:30.549Z"
   },
   {
    "duration": 51,
    "start_time": "2023-02-09T16:27:30.569Z"
   },
   {
    "duration": 11,
    "start_time": "2023-02-09T16:27:30.623Z"
   },
   {
    "duration": 256,
    "start_time": "2023-02-09T16:27:30.636Z"
   },
   {
    "duration": 11,
    "start_time": "2023-02-09T16:27:30.895Z"
   },
   {
    "duration": 66,
    "start_time": "2023-02-09T16:27:30.909Z"
   },
   {
    "duration": 81,
    "start_time": "2023-02-09T16:27:30.978Z"
   },
   {
    "duration": 10,
    "start_time": "2023-02-09T16:27:31.062Z"
   },
   {
    "duration": 31,
    "start_time": "2023-02-09T16:27:31.073Z"
   },
   {
    "duration": 46,
    "start_time": "2023-02-09T16:27:31.106Z"
   },
   {
    "duration": 58,
    "start_time": "2023-02-09T16:27:31.154Z"
   },
   {
    "duration": 328,
    "start_time": "2023-02-09T16:27:31.214Z"
   },
   {
    "duration": 5,
    "start_time": "2023-02-09T16:28:22.293Z"
   },
   {
    "duration": 585,
    "start_time": "2023-02-09T16:29:11.483Z"
   },
   {
    "duration": 55,
    "start_time": "2023-02-09T16:29:12.070Z"
   },
   {
    "duration": 3036,
    "start_time": "2023-02-09T16:29:12.139Z"
   },
   {
    "duration": 18,
    "start_time": "2023-02-09T16:29:15.178Z"
   },
   {
    "duration": 11,
    "start_time": "2023-02-09T16:29:15.199Z"
   },
   {
    "duration": 15,
    "start_time": "2023-02-09T16:29:15.211Z"
   },
   {
    "duration": 7,
    "start_time": "2023-02-09T16:29:15.228Z"
   },
   {
    "duration": 11,
    "start_time": "2023-02-09T16:29:15.237Z"
   },
   {
    "duration": 16,
    "start_time": "2023-02-09T16:29:15.250Z"
   },
   {
    "duration": 15,
    "start_time": "2023-02-09T16:29:15.269Z"
   },
   {
    "duration": 30,
    "start_time": "2023-02-09T16:29:15.286Z"
   },
   {
    "duration": 23,
    "start_time": "2023-02-09T16:29:15.318Z"
   },
   {
    "duration": 54,
    "start_time": "2023-02-09T16:29:15.344Z"
   },
   {
    "duration": 5,
    "start_time": "2023-02-09T16:29:15.401Z"
   },
   {
    "duration": 213,
    "start_time": "2023-02-09T16:29:15.409Z"
   },
   {
    "duration": 51,
    "start_time": "2023-02-09T16:29:15.624Z"
   },
   {
    "duration": 10,
    "start_time": "2023-02-09T16:29:15.677Z"
   },
   {
    "duration": 53,
    "start_time": "2023-02-09T16:29:15.690Z"
   },
   {
    "duration": 12,
    "start_time": "2023-02-09T16:29:15.745Z"
   },
   {
    "duration": 59,
    "start_time": "2023-02-09T16:29:15.759Z"
   },
   {
    "duration": 29,
    "start_time": "2023-02-09T16:29:15.841Z"
   },
   {
    "duration": 8,
    "start_time": "2023-02-09T16:29:15.872Z"
   },
   {
    "duration": 73,
    "start_time": "2023-02-09T16:29:15.882Z"
   },
   {
    "duration": 8,
    "start_time": "2023-02-09T16:29:15.958Z"
   },
   {
    "duration": 206,
    "start_time": "2023-02-09T16:29:15.968Z"
   },
   {
    "duration": 11,
    "start_time": "2023-02-09T16:29:16.177Z"
   },
   {
    "duration": 65,
    "start_time": "2023-02-09T16:29:16.193Z"
   },
   {
    "duration": 95,
    "start_time": "2023-02-09T16:29:16.265Z"
   },
   {
    "duration": 40,
    "start_time": "2023-02-09T16:29:16.362Z"
   },
   {
    "duration": 25,
    "start_time": "2023-02-09T16:29:16.405Z"
   },
   {
    "duration": 72,
    "start_time": "2023-02-09T16:29:16.432Z"
   },
   {
    "duration": 65,
    "start_time": "2023-02-09T16:29:16.506Z"
   },
   {
    "duration": 304,
    "start_time": "2023-02-09T16:29:16.576Z"
   },
   {
    "duration": 10,
    "start_time": "2023-02-09T16:42:31.377Z"
   },
   {
    "duration": 12,
    "start_time": "2023-02-09T16:42:43.409Z"
   },
   {
    "duration": 204,
    "start_time": "2023-02-09T16:42:59.462Z"
   },
   {
    "duration": 515,
    "start_time": "2023-02-09T16:43:49.470Z"
   },
   {
    "duration": 64,
    "start_time": "2023-02-09T16:43:49.988Z"
   },
   {
    "duration": 2472,
    "start_time": "2023-02-09T16:43:50.053Z"
   },
   {
    "duration": 15,
    "start_time": "2023-02-09T16:43:52.528Z"
   },
   {
    "duration": 24,
    "start_time": "2023-02-09T16:43:52.545Z"
   },
   {
    "duration": 17,
    "start_time": "2023-02-09T16:43:52.571Z"
   },
   {
    "duration": 7,
    "start_time": "2023-02-09T16:43:52.590Z"
   },
   {
    "duration": 7,
    "start_time": "2023-02-09T16:43:52.599Z"
   },
   {
    "duration": 13,
    "start_time": "2023-02-09T16:43:52.608Z"
   },
   {
    "duration": 11,
    "start_time": "2023-02-09T16:43:52.639Z"
   },
   {
    "duration": 22,
    "start_time": "2023-02-09T16:43:52.652Z"
   },
   {
    "duration": 42,
    "start_time": "2023-02-09T16:43:52.676Z"
   },
   {
    "duration": 59,
    "start_time": "2023-02-09T16:43:52.720Z"
   },
   {
    "duration": 10,
    "start_time": "2023-02-09T16:43:52.781Z"
   },
   {
    "duration": 152,
    "start_time": "2023-02-09T16:43:52.794Z"
   },
   {
    "duration": 36,
    "start_time": "2023-02-09T16:43:52.948Z"
   },
   {
    "duration": 7,
    "start_time": "2023-02-09T16:43:52.986Z"
   },
   {
    "duration": 60,
    "start_time": "2023-02-09T16:43:52.995Z"
   },
   {
    "duration": 14,
    "start_time": "2023-02-09T16:43:53.058Z"
   },
   {
    "duration": 85,
    "start_time": "2023-02-09T16:43:53.074Z"
   },
   {
    "duration": 22,
    "start_time": "2023-02-09T16:43:53.161Z"
   },
   {
    "duration": 7,
    "start_time": "2023-02-09T16:43:53.185Z"
   },
   {
    "duration": 77,
    "start_time": "2023-02-09T16:43:53.194Z"
   },
   {
    "duration": 7,
    "start_time": "2023-02-09T16:43:53.273Z"
   },
   {
    "duration": 205,
    "start_time": "2023-02-09T16:43:53.282Z"
   },
   {
    "duration": 9,
    "start_time": "2023-02-09T16:43:53.489Z"
   },
   {
    "duration": 68,
    "start_time": "2023-02-09T16:43:53.500Z"
   },
   {
    "duration": 74,
    "start_time": "2023-02-09T16:43:53.572Z"
   },
   {
    "duration": 11,
    "start_time": "2023-02-09T16:43:53.648Z"
   },
   {
    "duration": 8,
    "start_time": "2023-02-09T16:43:53.661Z"
   },
   {
    "duration": 70,
    "start_time": "2023-02-09T16:43:53.671Z"
   },
   {
    "duration": 41,
    "start_time": "2023-02-09T16:43:53.744Z"
   },
   {
    "duration": 284,
    "start_time": "2023-02-09T16:43:53.787Z"
   },
   {
    "duration": 184,
    "start_time": "2023-02-09T17:06:47.602Z"
   },
   {
    "duration": 407,
    "start_time": "2023-02-09T17:42:55.717Z"
   },
   {
    "duration": 45,
    "start_time": "2023-02-11T06:49:25.516Z"
   },
   {
    "duration": 699,
    "start_time": "2023-02-11T06:49:36.594Z"
   },
   {
    "duration": 41,
    "start_time": "2023-02-11T06:49:37.295Z"
   },
   {
    "duration": 2231,
    "start_time": "2023-02-11T06:49:37.337Z"
   },
   {
    "duration": 9,
    "start_time": "2023-02-11T06:49:39.571Z"
   },
   {
    "duration": 5,
    "start_time": "2023-02-11T06:49:39.582Z"
   },
   {
    "duration": 8,
    "start_time": "2023-02-11T06:49:39.589Z"
   },
   {
    "duration": 8,
    "start_time": "2023-02-11T06:49:39.598Z"
   },
   {
    "duration": 4,
    "start_time": "2023-02-11T06:49:39.608Z"
   },
   {
    "duration": 23,
    "start_time": "2023-02-11T06:49:39.614Z"
   },
   {
    "duration": 18,
    "start_time": "2023-02-11T06:49:39.639Z"
   },
   {
    "duration": 25,
    "start_time": "2023-02-11T06:49:39.658Z"
   },
   {
    "duration": 11,
    "start_time": "2023-02-11T06:49:39.685Z"
   },
   {
    "duration": 36,
    "start_time": "2023-02-11T06:49:39.698Z"
   },
   {
    "duration": 4,
    "start_time": "2023-02-11T06:49:39.737Z"
   },
   {
    "duration": 165,
    "start_time": "2023-02-11T06:49:39.743Z"
   },
   {
    "duration": 31,
    "start_time": "2023-02-11T06:49:39.909Z"
   },
   {
    "duration": 5,
    "start_time": "2023-02-11T06:49:39.941Z"
   },
   {
    "duration": 25,
    "start_time": "2023-02-11T06:49:39.967Z"
   },
   {
    "duration": 10,
    "start_time": "2023-02-11T06:49:39.994Z"
   },
   {
    "duration": 41,
    "start_time": "2023-02-11T06:49:40.006Z"
   },
   {
    "duration": 17,
    "start_time": "2023-02-11T06:49:40.067Z"
   },
   {
    "duration": 5,
    "start_time": "2023-02-11T06:49:40.086Z"
   },
   {
    "duration": 37,
    "start_time": "2023-02-11T06:49:40.092Z"
   },
   {
    "duration": 6,
    "start_time": "2023-02-11T06:49:40.130Z"
   },
   {
    "duration": 173,
    "start_time": "2023-02-11T06:49:40.137Z"
   },
   {
    "duration": 8,
    "start_time": "2023-02-11T06:49:40.311Z"
   },
   {
    "duration": 47,
    "start_time": "2023-02-11T06:49:40.320Z"
   },
   {
    "duration": 54,
    "start_time": "2023-02-11T06:49:40.370Z"
   },
   {
    "duration": 7,
    "start_time": "2023-02-11T06:49:40.425Z"
   },
   {
    "duration": 6,
    "start_time": "2023-02-11T06:49:40.433Z"
   },
   {
    "duration": 60,
    "start_time": "2023-02-11T06:49:40.440Z"
   },
   {
    "duration": 33,
    "start_time": "2023-02-11T06:49:40.502Z"
   },
   {
    "duration": 322,
    "start_time": "2023-02-11T06:49:40.537Z"
   },
   {
    "duration": 12,
    "start_time": "2023-02-11T06:49:40.861Z"
   },
   {
    "duration": 254,
    "start_time": "2023-02-11T06:50:24.370Z"
   },
   {
    "duration": 12,
    "start_time": "2023-02-11T06:51:06.673Z"
   },
   {
    "duration": 12,
    "start_time": "2023-02-11T06:51:29.409Z"
   },
   {
    "duration": 119,
    "start_time": "2023-02-11T06:53:09.695Z"
   },
   {
    "duration": 144,
    "start_time": "2023-02-11T06:53:22.365Z"
   },
   {
    "duration": 138,
    "start_time": "2023-02-11T06:54:12.977Z"
   },
   {
    "duration": 152,
    "start_time": "2023-02-11T06:57:28.664Z"
   },
   {
    "duration": 165,
    "start_time": "2023-02-11T06:57:45.983Z"
   },
   {
    "duration": 146,
    "start_time": "2023-02-11T06:59:20.816Z"
   },
   {
    "duration": 140,
    "start_time": "2023-02-11T06:59:31.264Z"
   },
   {
    "duration": 215,
    "start_time": "2023-02-11T07:00:46.825Z"
   },
   {
    "duration": 133,
    "start_time": "2023-02-11T07:02:55.528Z"
   },
   {
    "duration": 160,
    "start_time": "2023-02-11T07:04:16.744Z"
   },
   {
    "duration": 156,
    "start_time": "2023-02-11T07:06:03.273Z"
   },
   {
    "duration": 576,
    "start_time": "2023-02-12T14:31:08.233Z"
   },
   {
    "duration": 49,
    "start_time": "2023-02-12T14:31:08.824Z"
   },
   {
    "duration": 2351,
    "start_time": "2023-02-12T14:31:08.874Z"
   },
   {
    "duration": 12,
    "start_time": "2023-02-12T14:31:11.244Z"
   },
   {
    "duration": 4,
    "start_time": "2023-02-12T14:31:11.258Z"
   },
   {
    "duration": 6,
    "start_time": "2023-02-12T14:31:11.263Z"
   },
   {
    "duration": 5,
    "start_time": "2023-02-12T14:31:11.271Z"
   },
   {
    "duration": 6,
    "start_time": "2023-02-12T14:31:11.277Z"
   },
   {
    "duration": 7,
    "start_time": "2023-02-12T14:31:11.284Z"
   },
   {
    "duration": 8,
    "start_time": "2023-02-12T14:31:11.293Z"
   },
   {
    "duration": 41,
    "start_time": "2023-02-12T14:31:11.302Z"
   },
   {
    "duration": 7,
    "start_time": "2023-02-12T14:31:11.344Z"
   },
   {
    "duration": 29,
    "start_time": "2023-02-12T14:31:11.353Z"
   },
   {
    "duration": 4,
    "start_time": "2023-02-12T14:31:11.385Z"
   },
   {
    "duration": 146,
    "start_time": "2023-02-12T14:31:11.390Z"
   },
   {
    "duration": 27,
    "start_time": "2023-02-12T14:31:11.538Z"
   },
   {
    "duration": 5,
    "start_time": "2023-02-12T14:31:11.567Z"
   },
   {
    "duration": 48,
    "start_time": "2023-02-12T14:31:11.574Z"
   },
   {
    "duration": 11,
    "start_time": "2023-02-12T14:31:11.623Z"
   },
   {
    "duration": 44,
    "start_time": "2023-02-12T14:31:11.637Z"
   },
   {
    "duration": 18,
    "start_time": "2023-02-12T14:31:11.682Z"
   },
   {
    "duration": 21,
    "start_time": "2023-02-12T14:31:11.701Z"
   },
   {
    "duration": 30,
    "start_time": "2023-02-12T14:31:11.734Z"
   },
   {
    "duration": 7,
    "start_time": "2023-02-12T14:31:11.766Z"
   },
   {
    "duration": 161,
    "start_time": "2023-02-12T14:31:11.774Z"
   },
   {
    "duration": 8,
    "start_time": "2023-02-12T14:31:11.937Z"
   },
   {
    "duration": 31,
    "start_time": "2023-02-12T14:31:11.947Z"
   },
   {
    "duration": 77,
    "start_time": "2023-02-12T14:31:11.979Z"
   },
   {
    "duration": 8,
    "start_time": "2023-02-12T14:31:12.057Z"
   },
   {
    "duration": 6,
    "start_time": "2023-02-12T14:31:12.066Z"
   },
   {
    "duration": 51,
    "start_time": "2023-02-12T14:31:12.073Z"
   },
   {
    "duration": 35,
    "start_time": "2023-02-12T14:31:12.125Z"
   },
   {
    "duration": 403,
    "start_time": "2023-02-12T14:31:12.161Z"
   },
   {
    "duration": 265,
    "start_time": "2023-02-12T14:31:12.566Z"
   },
   {
    "duration": 147,
    "start_time": "2023-02-12T14:31:12.833Z"
   },
   {
    "duration": 174,
    "start_time": "2023-02-12T14:31:12.982Z"
   },
   {
    "duration": 142,
    "start_time": "2023-02-12T14:31:13.158Z"
   },
   {
    "duration": 161,
    "start_time": "2023-02-12T14:31:13.302Z"
   },
   {
    "duration": 142,
    "start_time": "2023-02-12T14:31:13.464Z"
   },
   {
    "duration": 179,
    "start_time": "2023-02-12T14:31:13.616Z"
   },
   {
    "duration": 154,
    "start_time": "2023-02-12T14:31:13.799Z"
   },
   {
    "duration": 164,
    "start_time": "2023-02-12T14:31:13.955Z"
   },
   {
    "duration": 920,
    "start_time": "2023-02-12T14:31:14.121Z"
   },
   {
    "duration": 0,
    "start_time": "2023-02-12T14:31:15.043Z"
   },
   {
    "duration": 0,
    "start_time": "2023-02-12T14:31:15.044Z"
   },
   {
    "duration": 0,
    "start_time": "2023-02-12T14:31:15.045Z"
   },
   {
    "duration": 0,
    "start_time": "2023-02-12T14:31:15.046Z"
   },
   {
    "duration": 162,
    "start_time": "2023-02-12T14:31:41.836Z"
   },
   {
    "duration": 167,
    "start_time": "2023-02-12T14:31:47.271Z"
   },
   {
    "duration": 243,
    "start_time": "2023-02-12T14:31:52.007Z"
   },
   {
    "duration": 143,
    "start_time": "2023-02-12T14:32:01.132Z"
   },
   {
    "duration": 150,
    "start_time": "2023-02-12T14:32:19.733Z"
   },
   {
    "duration": 71,
    "start_time": "2023-02-12T14:41:16.476Z"
   },
   {
    "duration": 5,
    "start_time": "2023-02-12T14:44:23.092Z"
   },
   {
    "duration": 6,
    "start_time": "2023-02-12T14:44:56.673Z"
   },
   {
    "duration": 167,
    "start_time": "2023-02-12T14:45:26.368Z"
   },
   {
    "duration": 139,
    "start_time": "2023-02-12T14:46:37.543Z"
   },
   {
    "duration": 48,
    "start_time": "2023-02-12T16:38:56.810Z"
   },
   {
    "duration": 12,
    "start_time": "2023-02-12T16:39:12.323Z"
   },
   {
    "duration": 18,
    "start_time": "2023-02-12T16:39:25.433Z"
   },
   {
    "duration": 44,
    "start_time": "2023-02-12T16:42:27.497Z"
   },
   {
    "duration": 10,
    "start_time": "2023-02-12T16:43:50.336Z"
   },
   {
    "duration": 9,
    "start_time": "2023-02-12T16:45:04.985Z"
   },
   {
    "duration": 40,
    "start_time": "2023-02-12T16:45:45.897Z"
   },
   {
    "duration": 34,
    "start_time": "2023-02-12T16:46:03.073Z"
   },
   {
    "duration": 42,
    "start_time": "2023-02-12T16:48:23.088Z"
   },
   {
    "duration": 26,
    "start_time": "2023-02-12T16:49:19.533Z"
   },
   {
    "duration": 24,
    "start_time": "2023-02-12T16:49:30.663Z"
   },
   {
    "duration": 47,
    "start_time": "2023-02-12T16:49:54.888Z"
   },
   {
    "duration": 56,
    "start_time": "2023-02-12T16:50:07.289Z"
   },
   {
    "duration": 27,
    "start_time": "2023-02-12T16:53:50.340Z"
   },
   {
    "duration": 52,
    "start_time": "2023-02-12T17:02:32.395Z"
   },
   {
    "duration": 36,
    "start_time": "2023-02-12T17:06:29.900Z"
   },
   {
    "duration": 18,
    "start_time": "2023-02-12T17:07:56.442Z"
   },
   {
    "duration": 25,
    "start_time": "2023-02-12T17:09:26.840Z"
   },
   {
    "duration": 4,
    "start_time": "2023-02-12T17:10:48.796Z"
   },
   {
    "duration": 34,
    "start_time": "2023-02-12T17:10:56.485Z"
   },
   {
    "duration": 31,
    "start_time": "2023-02-12T17:22:57.617Z"
   },
   {
    "duration": 30,
    "start_time": "2023-02-12T17:23:13.448Z"
   },
   {
    "duration": 31,
    "start_time": "2023-02-12T17:23:18.784Z"
   },
   {
    "duration": 25,
    "start_time": "2023-02-12T17:34:17.590Z"
   },
   {
    "duration": 26,
    "start_time": "2023-02-12T17:34:51.597Z"
   },
   {
    "duration": 23,
    "start_time": "2023-02-12T17:38:11.260Z"
   },
   {
    "duration": 503,
    "start_time": "2023-02-12T17:38:20.607Z"
   },
   {
    "duration": 46,
    "start_time": "2023-02-12T17:38:21.113Z"
   },
   {
    "duration": 2147,
    "start_time": "2023-02-12T17:38:21.161Z"
   },
   {
    "duration": 15,
    "start_time": "2023-02-12T17:38:23.313Z"
   },
   {
    "duration": 7,
    "start_time": "2023-02-12T17:38:23.329Z"
   },
   {
    "duration": 6,
    "start_time": "2023-02-12T17:38:23.338Z"
   },
   {
    "duration": 6,
    "start_time": "2023-02-12T17:38:23.346Z"
   },
   {
    "duration": 11,
    "start_time": "2023-02-12T17:38:23.353Z"
   },
   {
    "duration": 5,
    "start_time": "2023-02-12T17:38:23.365Z"
   },
   {
    "duration": 37,
    "start_time": "2023-02-12T17:38:23.373Z"
   },
   {
    "duration": 19,
    "start_time": "2023-02-12T17:38:23.412Z"
   },
   {
    "duration": 8,
    "start_time": "2023-02-12T17:38:23.432Z"
   },
   {
    "duration": 31,
    "start_time": "2023-02-12T17:38:23.442Z"
   },
   {
    "duration": 3,
    "start_time": "2023-02-12T17:38:23.475Z"
   },
   {
    "duration": 155,
    "start_time": "2023-02-12T17:38:23.480Z"
   },
   {
    "duration": 27,
    "start_time": "2023-02-12T17:38:23.637Z"
   },
   {
    "duration": 4,
    "start_time": "2023-02-12T17:38:23.666Z"
   },
   {
    "duration": 42,
    "start_time": "2023-02-12T17:38:23.671Z"
   },
   {
    "duration": 11,
    "start_time": "2023-02-12T17:38:23.715Z"
   },
   {
    "duration": 39,
    "start_time": "2023-02-12T17:38:23.727Z"
   },
   {
    "duration": 15,
    "start_time": "2023-02-12T17:38:23.768Z"
   },
   {
    "duration": 37,
    "start_time": "2023-02-12T17:38:23.784Z"
   },
   {
    "duration": 45,
    "start_time": "2023-02-12T17:38:23.824Z"
   },
   {
    "duration": 6,
    "start_time": "2023-02-12T17:38:23.870Z"
   },
   {
    "duration": 151,
    "start_time": "2023-02-12T17:38:23.878Z"
   },
   {
    "duration": 10,
    "start_time": "2023-02-12T17:38:24.030Z"
   },
   {
    "duration": 35,
    "start_time": "2023-02-12T17:38:24.041Z"
   },
   {
    "duration": 72,
    "start_time": "2023-02-12T17:38:24.079Z"
   },
   {
    "duration": 8,
    "start_time": "2023-02-12T17:38:24.152Z"
   },
   {
    "duration": 5,
    "start_time": "2023-02-12T17:38:24.161Z"
   },
   {
    "duration": 63,
    "start_time": "2023-02-12T17:38:24.168Z"
   },
   {
    "duration": 32,
    "start_time": "2023-02-12T17:38:24.233Z"
   },
   {
    "duration": 392,
    "start_time": "2023-02-12T17:38:24.266Z"
   },
   {
    "duration": 146,
    "start_time": "2023-02-12T17:38:24.660Z"
   },
   {
    "duration": 201,
    "start_time": "2023-02-12T17:38:24.815Z"
   },
   {
    "duration": 167,
    "start_time": "2023-02-12T17:38:25.018Z"
   },
   {
    "duration": 162,
    "start_time": "2023-02-12T17:38:25.187Z"
   },
   {
    "duration": 152,
    "start_time": "2023-02-12T17:38:25.350Z"
   },
   {
    "duration": 160,
    "start_time": "2023-02-12T17:38:25.504Z"
   },
   {
    "duration": 146,
    "start_time": "2023-02-12T17:38:25.666Z"
   },
   {
    "duration": 148,
    "start_time": "2023-02-12T17:38:25.814Z"
   },
   {
    "duration": 170,
    "start_time": "2023-02-12T17:38:25.963Z"
   },
   {
    "duration": 164,
    "start_time": "2023-02-12T17:38:26.135Z"
   },
   {
    "duration": 166,
    "start_time": "2023-02-12T17:38:26.301Z"
   },
   {
    "duration": 159,
    "start_time": "2023-02-12T17:38:26.469Z"
   },
   {
    "duration": 262,
    "start_time": "2023-02-12T17:38:26.630Z"
   },
   {
    "duration": 184,
    "start_time": "2023-02-12T17:38:26.894Z"
   },
   {
    "duration": 173,
    "start_time": "2023-02-12T17:38:27.081Z"
   },
   {
    "duration": 104,
    "start_time": "2023-02-12T17:38:27.255Z"
   },
   {
    "duration": 0,
    "start_time": "2023-02-12T17:38:27.360Z"
   },
   {
    "duration": 0,
    "start_time": "2023-02-12T17:38:27.361Z"
   },
   {
    "duration": 28,
    "start_time": "2023-02-12T17:38:40.447Z"
   },
   {
    "duration": 30,
    "start_time": "2023-02-12T17:38:43.367Z"
   },
   {
    "duration": 23,
    "start_time": "2023-02-12T17:38:50.463Z"
   },
   {
    "duration": 167,
    "start_time": "2023-02-12T17:40:24.653Z"
   },
   {
    "duration": 26,
    "start_time": "2023-02-12T17:41:01.213Z"
   },
   {
    "duration": 667,
    "start_time": "2023-02-12T17:41:11.557Z"
   },
   {
    "duration": 4,
    "start_time": "2023-02-12T17:43:04.580Z"
   },
   {
    "duration": 24,
    "start_time": "2023-02-12T17:43:14.437Z"
   },
   {
    "duration": 489,
    "start_time": "2023-02-12T17:43:25.639Z"
   },
   {
    "duration": 42,
    "start_time": "2023-02-12T17:43:26.130Z"
   },
   {
    "duration": 2186,
    "start_time": "2023-02-12T17:43:26.174Z"
   },
   {
    "duration": 9,
    "start_time": "2023-02-12T17:43:28.362Z"
   },
   {
    "duration": 6,
    "start_time": "2023-02-12T17:43:28.372Z"
   },
   {
    "duration": 6,
    "start_time": "2023-02-12T17:43:28.380Z"
   },
   {
    "duration": 6,
    "start_time": "2023-02-12T17:43:28.387Z"
   },
   {
    "duration": 20,
    "start_time": "2023-02-12T17:43:28.394Z"
   },
   {
    "duration": 10,
    "start_time": "2023-02-12T17:43:28.416Z"
   },
   {
    "duration": 13,
    "start_time": "2023-02-12T17:43:28.429Z"
   },
   {
    "duration": 16,
    "start_time": "2023-02-12T17:43:28.443Z"
   },
   {
    "duration": 8,
    "start_time": "2023-02-12T17:43:28.460Z"
   },
   {
    "duration": 48,
    "start_time": "2023-02-12T17:43:28.469Z"
   },
   {
    "duration": 5,
    "start_time": "2023-02-12T17:43:28.519Z"
   },
   {
    "duration": 139,
    "start_time": "2023-02-12T17:43:28.525Z"
   },
   {
    "duration": 26,
    "start_time": "2023-02-12T17:43:28.665Z"
   },
   {
    "duration": 4,
    "start_time": "2023-02-12T17:43:28.692Z"
   },
   {
    "duration": 41,
    "start_time": "2023-02-12T17:43:28.698Z"
   },
   {
    "duration": 8,
    "start_time": "2023-02-12T17:43:28.740Z"
   },
   {
    "duration": 39,
    "start_time": "2023-02-12T17:43:28.750Z"
   },
   {
    "duration": 37,
    "start_time": "2023-02-12T17:43:28.791Z"
   },
   {
    "duration": 4,
    "start_time": "2023-02-12T17:43:28.830Z"
   },
   {
    "duration": 35,
    "start_time": "2023-02-12T17:43:28.836Z"
   },
   {
    "duration": 7,
    "start_time": "2023-02-12T17:43:28.873Z"
   },
   {
    "duration": 179,
    "start_time": "2023-02-12T17:43:28.881Z"
   },
   {
    "duration": 9,
    "start_time": "2023-02-12T17:43:29.061Z"
   },
   {
    "duration": 47,
    "start_time": "2023-02-12T17:43:29.071Z"
   },
   {
    "duration": 56,
    "start_time": "2023-02-12T17:43:29.122Z"
   },
   {
    "duration": 8,
    "start_time": "2023-02-12T17:43:29.180Z"
   },
   {
    "duration": 27,
    "start_time": "2023-02-12T17:43:29.189Z"
   },
   {
    "duration": 45,
    "start_time": "2023-02-12T17:43:29.218Z"
   },
   {
    "duration": 32,
    "start_time": "2023-02-12T17:43:29.264Z"
   },
   {
    "duration": 388,
    "start_time": "2023-02-12T17:43:29.297Z"
   },
   {
    "duration": 151,
    "start_time": "2023-02-12T17:43:29.687Z"
   },
   {
    "duration": 207,
    "start_time": "2023-02-12T17:43:29.839Z"
   },
   {
    "duration": 157,
    "start_time": "2023-02-12T17:43:30.048Z"
   },
   {
    "duration": 143,
    "start_time": "2023-02-12T17:43:30.211Z"
   },
   {
    "duration": 148,
    "start_time": "2023-02-12T17:43:30.356Z"
   },
   {
    "duration": 145,
    "start_time": "2023-02-12T17:43:30.505Z"
   },
   {
    "duration": 152,
    "start_time": "2023-02-12T17:43:30.651Z"
   },
   {
    "duration": 138,
    "start_time": "2023-02-12T17:43:30.816Z"
   },
   {
    "duration": 171,
    "start_time": "2023-02-12T17:43:30.956Z"
   },
   {
    "duration": 164,
    "start_time": "2023-02-12T17:43:31.130Z"
   },
   {
    "duration": 169,
    "start_time": "2023-02-12T17:43:31.296Z"
   },
   {
    "duration": 151,
    "start_time": "2023-02-12T17:43:31.467Z"
   },
   {
    "duration": 298,
    "start_time": "2023-02-12T17:43:31.620Z"
   },
   {
    "duration": 157,
    "start_time": "2023-02-12T17:43:31.921Z"
   },
   {
    "duration": 144,
    "start_time": "2023-02-12T17:43:32.079Z"
   },
   {
    "duration": 98,
    "start_time": "2023-02-12T17:43:32.225Z"
   },
   {
    "duration": 0,
    "start_time": "2023-02-12T17:43:32.325Z"
   },
   {
    "duration": 0,
    "start_time": "2023-02-12T17:43:32.326Z"
   },
   {
    "duration": 35,
    "start_time": "2023-02-12T17:43:33.263Z"
   },
   {
    "duration": 28,
    "start_time": "2023-02-12T17:43:48.504Z"
   },
   {
    "duration": 25,
    "start_time": "2023-02-12T17:44:04.576Z"
   },
   {
    "duration": 667,
    "start_time": "2023-02-12T17:47:49.762Z"
   },
   {
    "duration": 685,
    "start_time": "2023-02-12T17:48:09.578Z"
   },
   {
    "duration": 282,
    "start_time": "2023-02-12T17:48:30.883Z"
   },
   {
    "duration": 266,
    "start_time": "2023-02-12T17:50:14.582Z"
   },
   {
    "duration": 305,
    "start_time": "2023-02-12T17:50:43.579Z"
   },
   {
    "duration": 295,
    "start_time": "2023-02-12T17:50:59.035Z"
   },
   {
    "duration": 644,
    "start_time": "2023-02-12T17:56:27.587Z"
   },
   {
    "duration": 617,
    "start_time": "2023-02-12T17:59:25.259Z"
   },
   {
    "duration": 190,
    "start_time": "2023-02-12T18:00:35.497Z"
   },
   {
    "duration": 788,
    "start_time": "2023-02-12T18:00:56.401Z"
   },
   {
    "duration": 1017,
    "start_time": "2023-02-12T18:02:26.985Z"
   },
   {
    "duration": 635,
    "start_time": "2023-02-12T18:03:06.849Z"
   },
   {
    "duration": 604,
    "start_time": "2023-02-12T18:03:52.618Z"
   },
   {
    "duration": 710,
    "start_time": "2023-02-12T18:09:13.774Z"
   },
   {
    "duration": 25,
    "start_time": "2023-02-12T18:13:18.563Z"
   },
   {
    "duration": 15,
    "start_time": "2023-02-12T18:19:40.512Z"
   },
   {
    "duration": 20,
    "start_time": "2023-02-12T18:20:44.711Z"
   },
   {
    "duration": 29,
    "start_time": "2023-02-12T18:20:54.327Z"
   },
   {
    "duration": 5219,
    "start_time": "2023-02-12T18:30:00.266Z"
   },
   {
    "duration": 178,
    "start_time": "2023-02-12T18:31:58.224Z"
   },
   {
    "duration": 982,
    "start_time": "2023-02-12T18:34:49.299Z"
   },
   {
    "duration": 546,
    "start_time": "2023-02-12T18:42:14.018Z"
   },
   {
    "duration": 42,
    "start_time": "2023-02-12T18:42:14.566Z"
   },
   {
    "duration": 2147,
    "start_time": "2023-02-12T18:42:14.609Z"
   },
   {
    "duration": 17,
    "start_time": "2023-02-12T18:42:16.760Z"
   },
   {
    "duration": 10,
    "start_time": "2023-02-12T18:42:16.778Z"
   },
   {
    "duration": 7,
    "start_time": "2023-02-12T18:42:16.790Z"
   },
   {
    "duration": 6,
    "start_time": "2023-02-12T18:42:16.799Z"
   },
   {
    "duration": 11,
    "start_time": "2023-02-12T18:42:16.807Z"
   },
   {
    "duration": 15,
    "start_time": "2023-02-12T18:42:16.820Z"
   },
   {
    "duration": 16,
    "start_time": "2023-02-12T18:42:16.838Z"
   },
   {
    "duration": 15,
    "start_time": "2023-02-12T18:42:16.857Z"
   },
   {
    "duration": 9,
    "start_time": "2023-02-12T18:42:16.873Z"
   },
   {
    "duration": 39,
    "start_time": "2023-02-12T18:42:16.884Z"
   },
   {
    "duration": 4,
    "start_time": "2023-02-12T18:42:16.925Z"
   },
   {
    "duration": 142,
    "start_time": "2023-02-12T18:42:16.930Z"
   },
   {
    "duration": 47,
    "start_time": "2023-02-12T18:42:17.074Z"
   },
   {
    "duration": 5,
    "start_time": "2023-02-12T18:42:17.122Z"
   },
   {
    "duration": 24,
    "start_time": "2023-02-12T18:42:17.129Z"
   },
   {
    "duration": 8,
    "start_time": "2023-02-12T18:42:17.155Z"
   },
   {
    "duration": 80,
    "start_time": "2023-02-12T18:42:17.164Z"
   },
   {
    "duration": 16,
    "start_time": "2023-02-12T18:42:17.246Z"
   },
   {
    "duration": 4,
    "start_time": "2023-02-12T18:42:17.263Z"
   },
   {
    "duration": 60,
    "start_time": "2023-02-12T18:42:17.269Z"
   },
   {
    "duration": 6,
    "start_time": "2023-02-12T18:42:17.330Z"
   },
   {
    "duration": 159,
    "start_time": "2023-02-12T18:42:17.338Z"
   },
   {
    "duration": 17,
    "start_time": "2023-02-12T18:42:17.499Z"
   },
   {
    "duration": 29,
    "start_time": "2023-02-12T18:42:17.518Z"
   },
   {
    "duration": 84,
    "start_time": "2023-02-12T18:42:17.551Z"
   },
   {
    "duration": 7,
    "start_time": "2023-02-12T18:42:17.637Z"
   },
   {
    "duration": 10,
    "start_time": "2023-02-12T18:42:17.646Z"
   },
   {
    "duration": 58,
    "start_time": "2023-02-12T18:42:17.658Z"
   },
   {
    "duration": 33,
    "start_time": "2023-02-12T18:42:17.718Z"
   },
   {
    "duration": 398,
    "start_time": "2023-02-12T18:42:17.753Z"
   },
   {
    "duration": 162,
    "start_time": "2023-02-12T18:42:18.153Z"
   },
   {
    "duration": 310,
    "start_time": "2023-02-12T18:42:18.317Z"
   },
   {
    "duration": 155,
    "start_time": "2023-02-12T18:42:18.628Z"
   },
   {
    "duration": 142,
    "start_time": "2023-02-12T18:42:18.785Z"
   },
   {
    "duration": 156,
    "start_time": "2023-02-12T18:42:18.929Z"
   },
   {
    "duration": 148,
    "start_time": "2023-02-12T18:42:19.086Z"
   },
   {
    "duration": 169,
    "start_time": "2023-02-12T18:42:19.236Z"
   },
   {
    "duration": 143,
    "start_time": "2023-02-12T18:42:19.407Z"
   },
   {
    "duration": 158,
    "start_time": "2023-02-12T18:42:19.553Z"
   },
   {
    "duration": 148,
    "start_time": "2023-02-12T18:42:19.713Z"
   },
   {
    "duration": 152,
    "start_time": "2023-02-12T18:42:19.863Z"
   },
   {
    "duration": 158,
    "start_time": "2023-02-12T18:42:20.016Z"
   },
   {
    "duration": 258,
    "start_time": "2023-02-12T18:42:20.175Z"
   },
   {
    "duration": 175,
    "start_time": "2023-02-12T18:42:20.435Z"
   },
   {
    "duration": 142,
    "start_time": "2023-02-12T18:42:20.611Z"
   },
   {
    "duration": 948,
    "start_time": "2023-02-12T18:42:20.755Z"
   },
   {
    "duration": 26,
    "start_time": "2023-02-12T18:42:21.705Z"
   },
   {
    "duration": 580,
    "start_time": "2023-02-12T18:42:21.732Z"
   },
   {
    "duration": 83,
    "start_time": "2023-02-12T18:48:00.597Z"
   },
   {
    "duration": 262,
    "start_time": "2023-02-12T18:48:11.647Z"
   },
   {
    "duration": 994,
    "start_time": "2023-02-12T18:49:20.236Z"
   },
   {
    "duration": 930,
    "start_time": "2023-02-12T18:49:34.139Z"
   },
   {
    "duration": 711,
    "start_time": "2023-02-13T16:01:53.068Z"
   },
   {
    "duration": 46,
    "start_time": "2023-02-13T16:01:53.781Z"
   },
   {
    "duration": 2316,
    "start_time": "2023-02-13T16:01:53.828Z"
   },
   {
    "duration": 10,
    "start_time": "2023-02-13T16:01:56.146Z"
   },
   {
    "duration": 5,
    "start_time": "2023-02-13T16:01:56.158Z"
   },
   {
    "duration": 9,
    "start_time": "2023-02-13T16:01:56.164Z"
   },
   {
    "duration": 5,
    "start_time": "2023-02-13T16:01:56.175Z"
   },
   {
    "duration": 5,
    "start_time": "2023-02-13T16:01:56.182Z"
   },
   {
    "duration": 19,
    "start_time": "2023-02-13T16:01:56.188Z"
   },
   {
    "duration": 8,
    "start_time": "2023-02-13T16:01:56.211Z"
   },
   {
    "duration": 17,
    "start_time": "2023-02-13T16:01:56.221Z"
   },
   {
    "duration": 10,
    "start_time": "2023-02-13T16:01:56.240Z"
   },
   {
    "duration": 62,
    "start_time": "2023-02-13T16:01:56.251Z"
   },
   {
    "duration": 4,
    "start_time": "2023-02-13T16:01:56.315Z"
   },
   {
    "duration": 143,
    "start_time": "2023-02-13T16:01:56.321Z"
   },
   {
    "duration": 39,
    "start_time": "2023-02-13T16:01:56.466Z"
   },
   {
    "duration": 5,
    "start_time": "2023-02-13T16:01:56.506Z"
   },
   {
    "duration": 45,
    "start_time": "2023-02-13T16:01:56.512Z"
   },
   {
    "duration": 11,
    "start_time": "2023-02-13T16:01:56.559Z"
   },
   {
    "duration": 70,
    "start_time": "2023-02-13T16:01:56.572Z"
   },
   {
    "duration": 19,
    "start_time": "2023-02-13T16:01:56.644Z"
   },
   {
    "duration": 9,
    "start_time": "2023-02-13T16:01:56.665Z"
   },
   {
    "duration": 79,
    "start_time": "2023-02-13T16:01:56.676Z"
   },
   {
    "duration": 8,
    "start_time": "2023-02-13T16:01:56.757Z"
   },
   {
    "duration": 193,
    "start_time": "2023-02-13T16:01:56.767Z"
   },
   {
    "duration": 8,
    "start_time": "2023-02-13T16:01:56.962Z"
   },
   {
    "duration": 45,
    "start_time": "2023-02-13T16:01:56.972Z"
   },
   {
    "duration": 56,
    "start_time": "2023-02-13T16:01:57.022Z"
   },
   {
    "duration": 25,
    "start_time": "2023-02-13T16:01:57.080Z"
   },
   {
    "duration": 6,
    "start_time": "2023-02-13T16:01:57.107Z"
   },
   {
    "duration": 37,
    "start_time": "2023-02-13T16:01:57.115Z"
   },
   {
    "duration": 54,
    "start_time": "2023-02-13T16:01:57.154Z"
   },
   {
    "duration": 336,
    "start_time": "2023-02-13T16:01:57.210Z"
   },
   {
    "duration": 227,
    "start_time": "2023-02-13T16:01:57.547Z"
   },
   {
    "duration": 154,
    "start_time": "2023-02-13T16:01:57.776Z"
   },
   {
    "duration": 165,
    "start_time": "2023-02-13T16:01:57.932Z"
   },
   {
    "duration": 146,
    "start_time": "2023-02-13T16:01:58.104Z"
   },
   {
    "duration": 171,
    "start_time": "2023-02-13T16:01:58.252Z"
   },
   {
    "duration": 150,
    "start_time": "2023-02-13T16:01:58.425Z"
   },
   {
    "duration": 159,
    "start_time": "2023-02-13T16:01:58.576Z"
   },
   {
    "duration": 152,
    "start_time": "2023-02-13T16:01:58.737Z"
   },
   {
    "duration": 182,
    "start_time": "2023-02-13T16:01:58.891Z"
   },
   {
    "duration": 169,
    "start_time": "2023-02-13T16:01:59.075Z"
   },
   {
    "duration": 170,
    "start_time": "2023-02-13T16:01:59.246Z"
   },
   {
    "duration": 244,
    "start_time": "2023-02-13T16:01:59.418Z"
   },
   {
    "duration": 201,
    "start_time": "2023-02-13T16:01:59.664Z"
   },
   {
    "duration": 181,
    "start_time": "2023-02-13T16:01:59.867Z"
   },
   {
    "duration": 167,
    "start_time": "2023-02-13T16:02:00.049Z"
   },
   {
    "duration": 99,
    "start_time": "2023-02-13T16:02:00.220Z"
   },
   {
    "duration": 0,
    "start_time": "2023-02-13T16:02:00.321Z"
   },
   {
    "duration": 0,
    "start_time": "2023-02-13T16:02:00.323Z"
   },
   {
    "duration": 74,
    "start_time": "2023-02-13T16:02:38.087Z"
   },
   {
    "duration": 7,
    "start_time": "2023-02-13T16:03:03.262Z"
   },
   {
    "duration": 85,
    "start_time": "2023-02-13T16:03:19.989Z"
   },
   {
    "duration": 973,
    "start_time": "2023-02-13T16:03:32.813Z"
   },
   {
    "duration": 1015,
    "start_time": "2023-02-13T16:19:05.248Z"
   },
   {
    "duration": 1146,
    "start_time": "2023-02-13T16:19:29.174Z"
   },
   {
    "duration": 502,
    "start_time": "2023-02-13T16:19:55.421Z"
   },
   {
    "duration": 43,
    "start_time": "2023-02-13T16:19:55.925Z"
   },
   {
    "duration": 2367,
    "start_time": "2023-02-13T16:19:55.969Z"
   },
   {
    "duration": 11,
    "start_time": "2023-02-13T16:19:58.338Z"
   },
   {
    "duration": 9,
    "start_time": "2023-02-13T16:19:58.352Z"
   },
   {
    "duration": 8,
    "start_time": "2023-02-13T16:19:58.363Z"
   },
   {
    "duration": 7,
    "start_time": "2023-02-13T16:19:58.373Z"
   },
   {
    "duration": 17,
    "start_time": "2023-02-13T16:19:58.382Z"
   },
   {
    "duration": 28,
    "start_time": "2023-02-13T16:19:58.400Z"
   },
   {
    "duration": 25,
    "start_time": "2023-02-13T16:19:58.429Z"
   },
   {
    "duration": 18,
    "start_time": "2023-02-13T16:19:58.455Z"
   },
   {
    "duration": 8,
    "start_time": "2023-02-13T16:19:58.475Z"
   },
   {
    "duration": 37,
    "start_time": "2023-02-13T16:19:58.484Z"
   },
   {
    "duration": 4,
    "start_time": "2023-02-13T16:19:58.524Z"
   },
   {
    "duration": 137,
    "start_time": "2023-02-13T16:19:58.530Z"
   },
   {
    "duration": 46,
    "start_time": "2023-02-13T16:19:58.669Z"
   },
   {
    "duration": 5,
    "start_time": "2023-02-13T16:19:58.717Z"
   },
   {
    "duration": 29,
    "start_time": "2023-02-13T16:19:58.724Z"
   },
   {
    "duration": 11,
    "start_time": "2023-02-13T16:19:58.755Z"
   },
   {
    "duration": 87,
    "start_time": "2023-02-13T16:19:58.768Z"
   },
   {
    "duration": 19,
    "start_time": "2023-02-13T16:19:58.856Z"
   },
   {
    "duration": 5,
    "start_time": "2023-02-13T16:19:58.877Z"
   },
   {
    "duration": 50,
    "start_time": "2023-02-13T16:19:58.884Z"
   },
   {
    "duration": 6,
    "start_time": "2023-02-13T16:19:58.936Z"
   },
   {
    "duration": 179,
    "start_time": "2023-02-13T16:19:58.944Z"
   },
   {
    "duration": 8,
    "start_time": "2023-02-13T16:19:59.125Z"
   },
   {
    "duration": 37,
    "start_time": "2023-02-13T16:19:59.135Z"
   },
   {
    "duration": 80,
    "start_time": "2023-02-13T16:19:59.173Z"
   },
   {
    "duration": 9,
    "start_time": "2023-02-13T16:19:59.255Z"
   },
   {
    "duration": 6,
    "start_time": "2023-02-13T16:19:59.266Z"
   },
   {
    "duration": 61,
    "start_time": "2023-02-13T16:19:59.274Z"
   },
   {
    "duration": 35,
    "start_time": "2023-02-13T16:19:59.337Z"
   },
   {
    "duration": 357,
    "start_time": "2023-02-13T16:19:59.374Z"
   },
   {
    "duration": 154,
    "start_time": "2023-02-13T16:19:59.733Z"
   },
   {
    "duration": 214,
    "start_time": "2023-02-13T16:19:59.888Z"
   },
   {
    "duration": 183,
    "start_time": "2023-02-13T16:20:00.107Z"
   },
   {
    "duration": 155,
    "start_time": "2023-02-13T16:20:00.292Z"
   },
   {
    "duration": 168,
    "start_time": "2023-02-13T16:20:00.449Z"
   },
   {
    "duration": 145,
    "start_time": "2023-02-13T16:20:00.622Z"
   },
   {
    "duration": 182,
    "start_time": "2023-02-13T16:20:00.769Z"
   },
   {
    "duration": 189,
    "start_time": "2023-02-13T16:20:00.955Z"
   },
   {
    "duration": 200,
    "start_time": "2023-02-13T16:20:01.146Z"
   },
   {
    "duration": 187,
    "start_time": "2023-02-13T16:20:01.348Z"
   },
   {
    "duration": 164,
    "start_time": "2023-02-13T16:20:01.536Z"
   },
   {
    "duration": 173,
    "start_time": "2023-02-13T16:20:01.705Z"
   },
   {
    "duration": 273,
    "start_time": "2023-02-13T16:20:01.880Z"
   },
   {
    "duration": 171,
    "start_time": "2023-02-13T16:20:02.155Z"
   },
   {
    "duration": 168,
    "start_time": "2023-02-13T16:20:02.328Z"
   },
   {
    "duration": 995,
    "start_time": "2023-02-13T16:20:02.498Z"
   },
   {
    "duration": 40,
    "start_time": "2023-02-13T16:20:03.494Z"
   },
   {
    "duration": 619,
    "start_time": "2023-02-13T16:20:03.536Z"
   },
   {
    "duration": 568,
    "start_time": "2023-02-14T14:04:57.395Z"
   },
   {
    "duration": 46,
    "start_time": "2023-02-14T14:04:57.965Z"
   },
   {
    "duration": 2756,
    "start_time": "2023-02-14T14:04:58.012Z"
   },
   {
    "duration": 11,
    "start_time": "2023-02-14T14:05:00.771Z"
   },
   {
    "duration": 33,
    "start_time": "2023-02-14T14:05:00.783Z"
   },
   {
    "duration": 47,
    "start_time": "2023-02-14T14:05:00.818Z"
   },
   {
    "duration": 21,
    "start_time": "2023-02-14T14:05:00.867Z"
   },
   {
    "duration": 28,
    "start_time": "2023-02-14T14:05:00.890Z"
   },
   {
    "duration": 11,
    "start_time": "2023-02-14T14:05:00.920Z"
   },
   {
    "duration": 33,
    "start_time": "2023-02-14T14:05:00.938Z"
   },
   {
    "duration": 51,
    "start_time": "2023-02-14T14:05:00.973Z"
   },
   {
    "duration": 38,
    "start_time": "2023-02-14T14:05:01.027Z"
   },
   {
    "duration": 44,
    "start_time": "2023-02-14T14:05:01.067Z"
   },
   {
    "duration": 5,
    "start_time": "2023-02-14T14:05:01.114Z"
   },
   {
    "duration": 175,
    "start_time": "2023-02-14T14:05:01.121Z"
   },
   {
    "duration": 38,
    "start_time": "2023-02-14T14:05:01.299Z"
   },
   {
    "duration": 13,
    "start_time": "2023-02-14T14:05:01.341Z"
   },
   {
    "duration": 35,
    "start_time": "2023-02-14T14:05:01.355Z"
   },
   {
    "duration": 30,
    "start_time": "2023-02-14T14:05:01.392Z"
   },
   {
    "duration": 72,
    "start_time": "2023-02-14T14:05:01.423Z"
   },
   {
    "duration": 37,
    "start_time": "2023-02-14T14:05:01.498Z"
   },
   {
    "duration": 11,
    "start_time": "2023-02-14T14:05:01.545Z"
   },
   {
    "duration": 43,
    "start_time": "2023-02-14T14:05:01.558Z"
   },
   {
    "duration": 7,
    "start_time": "2023-02-14T14:05:01.603Z"
   },
   {
    "duration": 184,
    "start_time": "2023-02-14T14:05:01.612Z"
   },
   {
    "duration": 9,
    "start_time": "2023-02-14T14:05:01.798Z"
   },
   {
    "duration": 49,
    "start_time": "2023-02-14T14:05:01.809Z"
   },
   {
    "duration": 70,
    "start_time": "2023-02-14T14:05:01.861Z"
   },
   {
    "duration": 16,
    "start_time": "2023-02-14T14:05:01.932Z"
   },
   {
    "duration": 10,
    "start_time": "2023-02-14T14:05:01.957Z"
   },
   {
    "duration": 42,
    "start_time": "2023-02-14T14:05:01.969Z"
   },
   {
    "duration": 64,
    "start_time": "2023-02-14T14:05:02.013Z"
   },
   {
    "duration": 407,
    "start_time": "2023-02-14T14:05:02.079Z"
   },
   {
    "duration": 268,
    "start_time": "2023-02-14T14:05:02.487Z"
   },
   {
    "duration": 165,
    "start_time": "2023-02-14T14:05:02.757Z"
   },
   {
    "duration": 233,
    "start_time": "2023-02-14T14:05:02.924Z"
   },
   {
    "duration": 183,
    "start_time": "2023-02-14T14:05:03.159Z"
   },
   {
    "duration": 171,
    "start_time": "2023-02-14T14:05:03.346Z"
   },
   {
    "duration": 165,
    "start_time": "2023-02-14T14:05:03.519Z"
   },
   {
    "duration": 177,
    "start_time": "2023-02-14T14:05:03.687Z"
   },
   {
    "duration": 185,
    "start_time": "2023-02-14T14:05:03.867Z"
   },
   {
    "duration": 183,
    "start_time": "2023-02-14T14:05:04.054Z"
   },
   {
    "duration": 175,
    "start_time": "2023-02-14T14:05:04.238Z"
   },
   {
    "duration": 182,
    "start_time": "2023-02-14T14:05:04.416Z"
   },
   {
    "duration": 285,
    "start_time": "2023-02-14T14:05:04.600Z"
   },
   {
    "duration": 206,
    "start_time": "2023-02-14T14:05:04.886Z"
   },
   {
    "duration": 220,
    "start_time": "2023-02-14T14:05:05.094Z"
   },
   {
    "duration": 164,
    "start_time": "2023-02-14T14:05:05.316Z"
   },
   {
    "duration": 1191,
    "start_time": "2023-02-14T14:05:05.482Z"
   },
   {
    "duration": 28,
    "start_time": "2023-02-14T14:05:06.676Z"
   },
   {
    "duration": 709,
    "start_time": "2023-02-14T14:05:06.706Z"
   },
   {
    "duration": 221,
    "start_time": "2023-02-14T14:05:16.635Z"
   },
   {
    "duration": 319,
    "start_time": "2023-02-14T14:05:36.961Z"
   },
   {
    "duration": 171,
    "start_time": "2023-02-14T14:05:53.644Z"
   },
   {
    "duration": 205,
    "start_time": "2023-02-14T14:10:48.086Z"
   },
   {
    "duration": 214,
    "start_time": "2023-02-14T14:10:56.473Z"
   },
   {
    "duration": 197,
    "start_time": "2023-02-14T14:11:04.352Z"
   },
   {
    "duration": 216,
    "start_time": "2023-02-14T14:11:32.548Z"
   },
   {
    "duration": 278,
    "start_time": "2023-02-14T14:19:31.657Z"
   },
   {
    "duration": 194,
    "start_time": "2023-02-14T14:19:45.544Z"
   },
   {
    "duration": 198,
    "start_time": "2023-02-14T14:19:53.425Z"
   },
   {
    "duration": 230,
    "start_time": "2023-02-14T14:19:58.170Z"
   },
   {
    "duration": 230,
    "start_time": "2023-02-14T14:26:36.620Z"
   },
   {
    "duration": 227,
    "start_time": "2023-02-14T14:26:54.086Z"
   },
   {
    "duration": 170,
    "start_time": "2023-02-14T14:27:05.979Z"
   },
   {
    "duration": 52,
    "start_time": "2023-02-14T14:30:27.294Z"
   },
   {
    "duration": 132,
    "start_time": "2023-02-14T14:36:16.649Z"
   },
   {
    "duration": 575,
    "start_time": "2023-02-14T14:41:22.045Z"
   },
   {
    "duration": 44,
    "start_time": "2023-02-14T14:41:22.623Z"
   },
   {
    "duration": 2388,
    "start_time": "2023-02-14T14:41:22.668Z"
   },
   {
    "duration": 15,
    "start_time": "2023-02-14T14:41:25.059Z"
   },
   {
    "duration": 31,
    "start_time": "2023-02-14T14:41:25.076Z"
   },
   {
    "duration": 36,
    "start_time": "2023-02-14T14:41:25.109Z"
   },
   {
    "duration": 45,
    "start_time": "2023-02-14T14:41:25.147Z"
   },
   {
    "duration": 57,
    "start_time": "2023-02-14T14:41:25.194Z"
   },
   {
    "duration": 25,
    "start_time": "2023-02-14T14:41:25.253Z"
   },
   {
    "duration": 44,
    "start_time": "2023-02-14T14:41:25.282Z"
   },
   {
    "duration": 34,
    "start_time": "2023-02-14T14:41:25.328Z"
   },
   {
    "duration": 32,
    "start_time": "2023-02-14T14:41:25.364Z"
   },
   {
    "duration": 39,
    "start_time": "2023-02-14T14:41:25.398Z"
   },
   {
    "duration": 14,
    "start_time": "2023-02-14T14:41:25.439Z"
   },
   {
    "duration": 218,
    "start_time": "2023-02-14T14:41:25.454Z"
   },
   {
    "duration": 28,
    "start_time": "2023-02-14T14:41:25.674Z"
   },
   {
    "duration": 23,
    "start_time": "2023-02-14T14:41:25.704Z"
   },
   {
    "duration": 75,
    "start_time": "2023-02-14T14:41:25.729Z"
   },
   {
    "duration": 15,
    "start_time": "2023-02-14T14:41:25.806Z"
   },
   {
    "duration": 45,
    "start_time": "2023-02-14T14:41:25.823Z"
   },
   {
    "duration": 21,
    "start_time": "2023-02-14T14:41:25.870Z"
   },
   {
    "duration": 7,
    "start_time": "2023-02-14T14:41:25.893Z"
   },
   {
    "duration": 49,
    "start_time": "2023-02-14T14:41:25.902Z"
   },
   {
    "duration": 8,
    "start_time": "2023-02-14T14:41:25.954Z"
   },
   {
    "duration": 196,
    "start_time": "2023-02-14T14:41:25.964Z"
   },
   {
    "duration": 9,
    "start_time": "2023-02-14T14:41:26.162Z"
   },
   {
    "duration": 34,
    "start_time": "2023-02-14T14:41:26.173Z"
   },
   {
    "duration": 44,
    "start_time": "2023-02-14T14:41:26.212Z"
   },
   {
    "duration": 11,
    "start_time": "2023-02-14T14:41:26.258Z"
   },
   {
    "duration": 7,
    "start_time": "2023-02-14T14:41:26.271Z"
   },
   {
    "duration": 76,
    "start_time": "2023-02-14T14:41:26.280Z"
   },
   {
    "duration": 44,
    "start_time": "2023-02-14T14:41:26.358Z"
   },
   {
    "duration": 389,
    "start_time": "2023-02-14T14:41:26.404Z"
   },
   {
    "duration": 201,
    "start_time": "2023-02-14T14:41:26.795Z"
   },
   {
    "duration": 332,
    "start_time": "2023-02-14T14:41:26.998Z"
   },
   {
    "duration": 196,
    "start_time": "2023-02-14T14:41:27.331Z"
   },
   {
    "duration": 164,
    "start_time": "2023-02-14T14:41:27.529Z"
   },
   {
    "duration": 260,
    "start_time": "2023-02-14T14:41:27.695Z"
   },
   {
    "duration": 224,
    "start_time": "2023-02-14T14:41:27.957Z"
   },
   {
    "duration": 193,
    "start_time": "2023-02-14T14:41:28.182Z"
   },
   {
    "duration": 191,
    "start_time": "2023-02-14T14:41:28.377Z"
   },
   {
    "duration": 197,
    "start_time": "2023-02-14T14:41:28.570Z"
   },
   {
    "duration": 200,
    "start_time": "2023-02-14T14:41:28.769Z"
   },
   {
    "duration": 197,
    "start_time": "2023-02-14T14:41:28.971Z"
   },
   {
    "duration": 192,
    "start_time": "2023-02-14T14:41:29.170Z"
   },
   {
    "duration": 301,
    "start_time": "2023-02-14T14:41:29.364Z"
   },
   {
    "duration": 174,
    "start_time": "2023-02-14T14:41:29.667Z"
   },
   {
    "duration": 184,
    "start_time": "2023-02-14T14:41:29.843Z"
   },
   {
    "duration": 1167,
    "start_time": "2023-02-14T14:41:30.029Z"
   },
   {
    "duration": 40,
    "start_time": "2023-02-14T14:41:31.198Z"
   },
   {
    "duration": 644,
    "start_time": "2023-02-14T14:41:31.239Z"
   },
   {
    "duration": 209,
    "start_time": "2023-02-14T14:47:26.711Z"
   },
   {
    "duration": 194,
    "start_time": "2023-02-14T14:48:31.640Z"
   },
   {
    "duration": 187,
    "start_time": "2023-02-14T14:49:12.455Z"
   },
   {
    "duration": 311,
    "start_time": "2023-02-14T14:52:32.949Z"
   },
   {
    "duration": 259,
    "start_time": "2023-02-14T14:56:35.617Z"
   },
   {
    "duration": 546,
    "start_time": "2023-02-14T17:31:49.928Z"
   },
   {
    "duration": 45,
    "start_time": "2023-02-14T17:31:50.476Z"
   },
   {
    "duration": 2552,
    "start_time": "2023-02-14T17:31:50.523Z"
   },
   {
    "duration": 10,
    "start_time": "2023-02-14T17:31:53.078Z"
   },
   {
    "duration": 14,
    "start_time": "2023-02-14T17:31:53.089Z"
   },
   {
    "duration": 13,
    "start_time": "2023-02-14T17:31:53.105Z"
   },
   {
    "duration": 10,
    "start_time": "2023-02-14T17:31:53.119Z"
   },
   {
    "duration": 8,
    "start_time": "2023-02-14T17:31:53.131Z"
   },
   {
    "duration": 13,
    "start_time": "2023-02-14T17:31:53.140Z"
   },
   {
    "duration": 13,
    "start_time": "2023-02-14T17:31:53.156Z"
   },
   {
    "duration": 24,
    "start_time": "2023-02-14T17:31:53.170Z"
   },
   {
    "duration": 9,
    "start_time": "2023-02-14T17:31:53.195Z"
   },
   {
    "duration": 44,
    "start_time": "2023-02-14T17:31:53.206Z"
   },
   {
    "duration": 6,
    "start_time": "2023-02-14T17:31:53.251Z"
   },
   {
    "duration": 189,
    "start_time": "2023-02-14T17:31:53.259Z"
   },
   {
    "duration": 34,
    "start_time": "2023-02-14T17:31:53.450Z"
   },
   {
    "duration": 55,
    "start_time": "2023-02-14T17:31:53.486Z"
   },
   {
    "duration": 61,
    "start_time": "2023-02-14T17:31:53.543Z"
   },
   {
    "duration": 79,
    "start_time": "2023-02-14T17:31:53.606Z"
   },
   {
    "duration": 71,
    "start_time": "2023-02-14T17:31:53.687Z"
   },
   {
    "duration": 18,
    "start_time": "2023-02-14T17:31:53.760Z"
   },
   {
    "duration": 6,
    "start_time": "2023-02-14T17:31:53.838Z"
   },
   {
    "duration": 104,
    "start_time": "2023-02-14T17:31:53.846Z"
   },
   {
    "duration": 7,
    "start_time": "2023-02-14T17:31:53.951Z"
   },
   {
    "duration": 397,
    "start_time": "2023-02-14T17:31:53.960Z"
   },
   {
    "duration": 9,
    "start_time": "2023-02-14T17:31:54.358Z"
   },
   {
    "duration": 79,
    "start_time": "2023-02-14T17:31:54.369Z"
   },
   {
    "duration": 59,
    "start_time": "2023-02-14T17:31:54.451Z"
   },
   {
    "duration": 29,
    "start_time": "2023-02-14T17:31:54.512Z"
   },
   {
    "duration": 15,
    "start_time": "2023-02-14T17:31:54.543Z"
   },
   {
    "duration": 58,
    "start_time": "2023-02-14T17:31:54.560Z"
   },
   {
    "duration": 66,
    "start_time": "2023-02-14T17:31:54.637Z"
   },
   {
    "duration": 414,
    "start_time": "2023-02-14T17:31:54.706Z"
   },
   {
    "duration": 168,
    "start_time": "2023-02-14T17:31:55.122Z"
   },
   {
    "duration": 265,
    "start_time": "2023-02-14T17:31:55.292Z"
   },
   {
    "duration": 182,
    "start_time": "2023-02-14T17:31:55.559Z"
   },
   {
    "duration": 267,
    "start_time": "2023-02-14T17:31:55.743Z"
   },
   {
    "duration": 179,
    "start_time": "2023-02-14T17:31:56.012Z"
   },
   {
    "duration": 167,
    "start_time": "2023-02-14T17:31:56.192Z"
   },
   {
    "duration": 90,
    "start_time": "2023-02-14T17:31:56.360Z"
   },
   {
    "duration": 0,
    "start_time": "2023-02-14T17:31:56.451Z"
   },
   {
    "duration": 0,
    "start_time": "2023-02-14T17:31:56.452Z"
   },
   {
    "duration": 0,
    "start_time": "2023-02-14T17:31:56.453Z"
   },
   {
    "duration": 0,
    "start_time": "2023-02-14T17:31:56.455Z"
   },
   {
    "duration": 0,
    "start_time": "2023-02-14T17:31:56.456Z"
   },
   {
    "duration": 0,
    "start_time": "2023-02-14T17:31:56.457Z"
   },
   {
    "duration": 0,
    "start_time": "2023-02-14T17:31:56.458Z"
   },
   {
    "duration": 0,
    "start_time": "2023-02-14T17:31:56.459Z"
   },
   {
    "duration": 0,
    "start_time": "2023-02-14T17:31:56.460Z"
   },
   {
    "duration": 0,
    "start_time": "2023-02-14T17:31:56.461Z"
   },
   {
    "duration": 0,
    "start_time": "2023-02-14T17:31:56.462Z"
   },
   {
    "duration": 0,
    "start_time": "2023-02-14T17:31:56.463Z"
   },
   {
    "duration": 0,
    "start_time": "2023-02-14T17:31:56.464Z"
   },
   {
    "duration": 0,
    "start_time": "2023-02-14T17:31:56.465Z"
   },
   {
    "duration": 623,
    "start_time": "2023-02-15T01:57:51.082Z"
   },
   {
    "duration": 59,
    "start_time": "2023-02-15T01:57:51.707Z"
   },
   {
    "duration": 2516,
    "start_time": "2023-02-15T01:57:51.768Z"
   },
   {
    "duration": 11,
    "start_time": "2023-02-15T01:57:54.287Z"
   },
   {
    "duration": 6,
    "start_time": "2023-02-15T01:57:54.301Z"
   },
   {
    "duration": 7,
    "start_time": "2023-02-15T01:57:54.309Z"
   },
   {
    "duration": 37,
    "start_time": "2023-02-15T01:57:54.318Z"
   },
   {
    "duration": 7,
    "start_time": "2023-02-15T01:57:54.357Z"
   },
   {
    "duration": 8,
    "start_time": "2023-02-15T01:57:54.366Z"
   },
   {
    "duration": 7,
    "start_time": "2023-02-15T01:57:54.376Z"
   },
   {
    "duration": 15,
    "start_time": "2023-02-15T01:57:54.385Z"
   },
   {
    "duration": 29,
    "start_time": "2023-02-15T01:57:54.402Z"
   },
   {
    "duration": 40,
    "start_time": "2023-02-15T01:57:54.432Z"
   },
   {
    "duration": 5,
    "start_time": "2023-02-15T01:57:54.473Z"
   },
   {
    "duration": 156,
    "start_time": "2023-02-15T01:57:54.479Z"
   },
   {
    "duration": 31,
    "start_time": "2023-02-15T01:57:54.640Z"
   },
   {
    "duration": 6,
    "start_time": "2023-02-15T01:57:54.673Z"
   },
   {
    "duration": 47,
    "start_time": "2023-02-15T01:57:54.680Z"
   },
   {
    "duration": 22,
    "start_time": "2023-02-15T01:57:54.728Z"
   },
   {
    "duration": 41,
    "start_time": "2023-02-15T01:57:54.752Z"
   },
   {
    "duration": 21,
    "start_time": "2023-02-15T01:57:54.795Z"
   },
   {
    "duration": 31,
    "start_time": "2023-02-15T01:57:54.817Z"
   },
   {
    "duration": 33,
    "start_time": "2023-02-15T01:57:54.850Z"
   },
   {
    "duration": 10,
    "start_time": "2023-02-15T01:57:54.885Z"
   },
   {
    "duration": 161,
    "start_time": "2023-02-15T01:57:54.897Z"
   },
   {
    "duration": 9,
    "start_time": "2023-02-15T01:57:55.059Z"
   },
   {
    "duration": 66,
    "start_time": "2023-02-15T01:57:55.069Z"
   },
   {
    "duration": 60,
    "start_time": "2023-02-15T01:57:55.140Z"
   },
   {
    "duration": 17,
    "start_time": "2023-02-15T01:57:55.202Z"
   },
   {
    "duration": 27,
    "start_time": "2023-02-15T01:57:55.220Z"
   },
   {
    "duration": 39,
    "start_time": "2023-02-15T01:57:55.248Z"
   },
   {
    "duration": 50,
    "start_time": "2023-02-15T01:57:55.288Z"
   },
   {
    "duration": 400,
    "start_time": "2023-02-15T01:57:55.340Z"
   },
   {
    "duration": 219,
    "start_time": "2023-02-15T01:57:55.743Z"
   },
   {
    "duration": 174,
    "start_time": "2023-02-15T01:57:55.963Z"
   },
   {
    "duration": 170,
    "start_time": "2023-02-15T01:57:56.138Z"
   },
   {
    "duration": 252,
    "start_time": "2023-02-15T01:57:56.318Z"
   },
   {
    "duration": 235,
    "start_time": "2023-02-15T01:57:56.573Z"
   },
   {
    "duration": 169,
    "start_time": "2023-02-15T01:57:56.809Z"
   },
   {
    "duration": 180,
    "start_time": "2023-02-15T01:57:56.980Z"
   },
   {
    "duration": 161,
    "start_time": "2023-02-15T01:57:57.161Z"
   },
   {
    "duration": 153,
    "start_time": "2023-02-15T01:57:57.331Z"
   },
   {
    "duration": 185,
    "start_time": "2023-02-15T01:57:57.486Z"
   },
   {
    "duration": 63,
    "start_time": "2023-02-15T01:57:57.672Z"
   },
   {
    "duration": 0,
    "start_time": "2023-02-15T01:57:57.736Z"
   },
   {
    "duration": 0,
    "start_time": "2023-02-15T01:57:57.737Z"
   },
   {
    "duration": 0,
    "start_time": "2023-02-15T01:57:57.739Z"
   },
   {
    "duration": 0,
    "start_time": "2023-02-15T01:57:57.741Z"
   },
   {
    "duration": 0,
    "start_time": "2023-02-15T01:57:57.742Z"
   },
   {
    "duration": 0,
    "start_time": "2023-02-15T01:57:57.743Z"
   },
   {
    "duration": 0,
    "start_time": "2023-02-15T01:57:57.744Z"
   },
   {
    "duration": 0,
    "start_time": "2023-02-15T01:57:57.745Z"
   },
   {
    "duration": 0,
    "start_time": "2023-02-15T01:57:57.746Z"
   },
   {
    "duration": 518,
    "start_time": "2023-02-15T01:58:17.734Z"
   },
   {
    "duration": 43,
    "start_time": "2023-02-15T01:58:18.254Z"
   },
   {
    "duration": 2274,
    "start_time": "2023-02-15T01:58:18.298Z"
   },
   {
    "duration": 11,
    "start_time": "2023-02-15T01:58:20.574Z"
   },
   {
    "duration": 6,
    "start_time": "2023-02-15T01:58:20.588Z"
   },
   {
    "duration": 7,
    "start_time": "2023-02-15T01:58:20.596Z"
   },
   {
    "duration": 12,
    "start_time": "2023-02-15T01:58:20.605Z"
   },
   {
    "duration": 38,
    "start_time": "2023-02-15T01:58:20.618Z"
   },
   {
    "duration": 7,
    "start_time": "2023-02-15T01:58:20.659Z"
   },
   {
    "duration": 11,
    "start_time": "2023-02-15T01:58:20.668Z"
   },
   {
    "duration": 19,
    "start_time": "2023-02-15T01:58:20.680Z"
   },
   {
    "duration": 8,
    "start_time": "2023-02-15T01:58:20.700Z"
   },
   {
    "duration": 58,
    "start_time": "2023-02-15T01:58:20.710Z"
   },
   {
    "duration": 6,
    "start_time": "2023-02-15T01:58:20.772Z"
   },
   {
    "duration": 164,
    "start_time": "2023-02-15T01:58:20.780Z"
   },
   {
    "duration": 29,
    "start_time": "2023-02-15T01:58:20.947Z"
   },
   {
    "duration": 4,
    "start_time": "2023-02-15T01:58:20.978Z"
   },
   {
    "duration": 55,
    "start_time": "2023-02-15T01:58:20.984Z"
   },
   {
    "duration": 9,
    "start_time": "2023-02-15T01:58:21.045Z"
   },
   {
    "duration": 50,
    "start_time": "2023-02-15T01:58:21.056Z"
   },
   {
    "duration": 35,
    "start_time": "2023-02-15T01:58:21.108Z"
   },
   {
    "duration": 19,
    "start_time": "2023-02-15T01:58:21.145Z"
   },
   {
    "duration": 35,
    "start_time": "2023-02-15T01:58:21.166Z"
   },
   {
    "duration": 17,
    "start_time": "2023-02-15T01:58:21.202Z"
   },
   {
    "duration": 176,
    "start_time": "2023-02-15T01:58:21.231Z"
   },
   {
    "duration": 25,
    "start_time": "2023-02-15T01:58:21.410Z"
   },
   {
    "duration": 35,
    "start_time": "2023-02-15T01:58:21.437Z"
   },
   {
    "duration": 67,
    "start_time": "2023-02-15T01:58:21.474Z"
   },
   {
    "duration": 9,
    "start_time": "2023-02-15T01:58:21.542Z"
   },
   {
    "duration": 6,
    "start_time": "2023-02-15T01:58:21.553Z"
   },
   {
    "duration": 76,
    "start_time": "2023-02-15T01:58:21.561Z"
   },
   {
    "duration": 38,
    "start_time": "2023-02-15T01:58:21.638Z"
   },
   {
    "duration": 398,
    "start_time": "2023-02-15T01:58:21.678Z"
   },
   {
    "duration": 183,
    "start_time": "2023-02-15T01:58:22.078Z"
   },
   {
    "duration": 230,
    "start_time": "2023-02-15T01:58:22.262Z"
   },
   {
    "duration": 207,
    "start_time": "2023-02-15T01:58:22.494Z"
   },
   {
    "duration": 247,
    "start_time": "2023-02-15T01:58:22.703Z"
   },
   {
    "duration": 201,
    "start_time": "2023-02-15T01:58:22.957Z"
   },
   {
    "duration": 169,
    "start_time": "2023-02-15T01:58:23.159Z"
   },
   {
    "duration": 163,
    "start_time": "2023-02-15T01:58:23.329Z"
   },
   {
    "duration": 158,
    "start_time": "2023-02-15T01:58:23.496Z"
   },
   {
    "duration": 179,
    "start_time": "2023-02-15T01:58:23.655Z"
   },
   {
    "duration": 157,
    "start_time": "2023-02-15T01:58:23.836Z"
   },
   {
    "duration": 170,
    "start_time": "2023-02-15T01:58:23.995Z"
   },
   {
    "duration": 267,
    "start_time": "2023-02-15T01:58:24.167Z"
   },
   {
    "duration": 187,
    "start_time": "2023-02-15T01:58:24.436Z"
   },
   {
    "duration": 55,
    "start_time": "2023-02-15T01:58:24.632Z"
   },
   {
    "duration": 0,
    "start_time": "2023-02-15T01:58:24.688Z"
   },
   {
    "duration": 0,
    "start_time": "2023-02-15T01:58:24.690Z"
   },
   {
    "duration": 0,
    "start_time": "2023-02-15T01:58:24.691Z"
   },
   {
    "duration": 0,
    "start_time": "2023-02-15T01:58:24.692Z"
   },
   {
    "duration": 1,
    "start_time": "2023-02-15T01:58:24.693Z"
   },
   {
    "duration": 553,
    "start_time": "2023-02-15T01:58:53.938Z"
   },
   {
    "duration": 119,
    "start_time": "2023-02-15T01:58:54.510Z"
   },
   {
    "duration": 2377,
    "start_time": "2023-02-15T01:58:54.631Z"
   },
   {
    "duration": 28,
    "start_time": "2023-02-15T01:58:57.010Z"
   },
   {
    "duration": 8,
    "start_time": "2023-02-15T01:58:57.041Z"
   },
   {
    "duration": 8,
    "start_time": "2023-02-15T01:58:57.051Z"
   },
   {
    "duration": 7,
    "start_time": "2023-02-15T01:58:57.060Z"
   },
   {
    "duration": 13,
    "start_time": "2023-02-15T01:58:57.068Z"
   },
   {
    "duration": 5,
    "start_time": "2023-02-15T01:58:57.083Z"
   },
   {
    "duration": 46,
    "start_time": "2023-02-15T01:58:57.090Z"
   },
   {
    "duration": 24,
    "start_time": "2023-02-15T01:58:57.137Z"
   },
   {
    "duration": 8,
    "start_time": "2023-02-15T01:58:57.163Z"
   },
   {
    "duration": 30,
    "start_time": "2023-02-15T01:58:57.173Z"
   },
   {
    "duration": 16,
    "start_time": "2023-02-15T01:58:57.219Z"
   },
   {
    "duration": 156,
    "start_time": "2023-02-15T01:58:57.238Z"
   },
   {
    "duration": 51,
    "start_time": "2023-02-15T01:58:57.396Z"
   },
   {
    "duration": 6,
    "start_time": "2023-02-15T01:58:57.448Z"
   },
   {
    "duration": 27,
    "start_time": "2023-02-15T01:58:57.455Z"
   },
   {
    "duration": 11,
    "start_time": "2023-02-15T01:58:57.484Z"
   },
   {
    "duration": 65,
    "start_time": "2023-02-15T01:58:57.496Z"
   },
   {
    "duration": 17,
    "start_time": "2023-02-15T01:58:57.563Z"
   },
   {
    "duration": 5,
    "start_time": "2023-02-15T01:58:57.582Z"
   },
   {
    "duration": 56,
    "start_time": "2023-02-15T01:58:57.589Z"
   },
   {
    "duration": 6,
    "start_time": "2023-02-15T01:58:57.648Z"
   },
   {
    "duration": 182,
    "start_time": "2023-02-15T01:58:57.655Z"
   },
   {
    "duration": 10,
    "start_time": "2023-02-15T01:58:57.838Z"
   },
   {
    "duration": 36,
    "start_time": "2023-02-15T01:58:57.850Z"
   },
   {
    "duration": 67,
    "start_time": "2023-02-15T01:58:57.888Z"
   },
   {
    "duration": 8,
    "start_time": "2023-02-15T01:58:57.956Z"
   },
   {
    "duration": 6,
    "start_time": "2023-02-15T01:58:57.965Z"
   },
   {
    "duration": 73,
    "start_time": "2023-02-15T01:58:57.973Z"
   },
   {
    "duration": 88,
    "start_time": "2023-02-15T01:58:58.048Z"
   },
   {
    "duration": 470,
    "start_time": "2023-02-15T01:58:58.138Z"
   },
   {
    "duration": 162,
    "start_time": "2023-02-15T01:58:58.609Z"
   },
   {
    "duration": 224,
    "start_time": "2023-02-15T01:58:58.772Z"
   },
   {
    "duration": 173,
    "start_time": "2023-02-15T01:58:58.997Z"
   },
   {
    "duration": 241,
    "start_time": "2023-02-15T01:58:59.172Z"
   },
   {
    "duration": 164,
    "start_time": "2023-02-15T01:58:59.418Z"
   },
   {
    "duration": 162,
    "start_time": "2023-02-15T01:58:59.584Z"
   },
   {
    "duration": 156,
    "start_time": "2023-02-15T01:58:59.747Z"
   },
   {
    "duration": 161,
    "start_time": "2023-02-15T01:58:59.915Z"
   },
   {
    "duration": 173,
    "start_time": "2023-02-15T01:59:00.078Z"
   },
   {
    "duration": 161,
    "start_time": "2023-02-15T01:59:00.254Z"
   },
   {
    "duration": 175,
    "start_time": "2023-02-15T01:59:00.416Z"
   },
   {
    "duration": 274,
    "start_time": "2023-02-15T01:59:00.593Z"
   },
   {
    "duration": 179,
    "start_time": "2023-02-15T01:59:00.869Z"
   },
   {
    "duration": 149,
    "start_time": "2023-02-15T01:59:01.050Z"
   },
   {
    "duration": 175,
    "start_time": "2023-02-15T01:59:01.200Z"
   },
   {
    "duration": 1019,
    "start_time": "2023-02-15T01:59:01.377Z"
   },
   {
    "duration": 55,
    "start_time": "2023-02-15T01:59:02.398Z"
   },
   {
    "duration": 626,
    "start_time": "2023-02-15T01:59:02.454Z"
   },
   {
    "duration": 594,
    "start_time": "2023-02-15T20:46:23.838Z"
   },
   {
    "duration": 49,
    "start_time": "2023-02-15T20:46:24.435Z"
   },
   {
    "duration": 2612,
    "start_time": "2023-02-15T20:46:24.486Z"
   },
   {
    "duration": 25,
    "start_time": "2023-02-15T20:46:27.100Z"
   },
   {
    "duration": 6,
    "start_time": "2023-02-15T20:46:27.127Z"
   },
   {
    "duration": 29,
    "start_time": "2023-02-15T20:46:27.135Z"
   },
   {
    "duration": 11,
    "start_time": "2023-02-15T20:46:27.166Z"
   },
   {
    "duration": 9,
    "start_time": "2023-02-15T20:46:27.179Z"
   },
   {
    "duration": 15,
    "start_time": "2023-02-15T20:46:27.190Z"
   },
   {
    "duration": 12,
    "start_time": "2023-02-15T20:46:27.207Z"
   },
   {
    "duration": 32,
    "start_time": "2023-02-15T20:46:27.228Z"
   },
   {
    "duration": 9,
    "start_time": "2023-02-15T20:46:27.262Z"
   },
   {
    "duration": 53,
    "start_time": "2023-02-15T20:46:27.273Z"
   },
   {
    "duration": 6,
    "start_time": "2023-02-15T20:46:27.336Z"
   },
   {
    "duration": 150,
    "start_time": "2023-02-15T20:46:27.344Z"
   },
   {
    "duration": 40,
    "start_time": "2023-02-15T20:46:27.496Z"
   },
   {
    "duration": 8,
    "start_time": "2023-02-15T20:46:27.538Z"
   },
   {
    "duration": 47,
    "start_time": "2023-02-15T20:46:27.548Z"
   },
   {
    "duration": 40,
    "start_time": "2023-02-15T20:46:27.597Z"
   },
   {
    "duration": 55,
    "start_time": "2023-02-15T20:46:27.639Z"
   },
   {
    "duration": 40,
    "start_time": "2023-02-15T20:46:27.696Z"
   },
   {
    "duration": 8,
    "start_time": "2023-02-15T20:46:27.739Z"
   },
   {
    "duration": 37,
    "start_time": "2023-02-15T20:46:27.748Z"
   },
   {
    "duration": 6,
    "start_time": "2023-02-15T20:46:27.787Z"
   },
   {
    "duration": 178,
    "start_time": "2023-02-15T20:46:27.796Z"
   },
   {
    "duration": 8,
    "start_time": "2023-02-15T20:46:27.977Z"
   },
   {
    "duration": 54,
    "start_time": "2023-02-15T20:46:27.986Z"
   },
   {
    "duration": 53,
    "start_time": "2023-02-15T20:46:28.042Z"
   },
   {
    "duration": 40,
    "start_time": "2023-02-15T20:46:28.097Z"
   },
   {
    "duration": 8,
    "start_time": "2023-02-15T20:46:28.140Z"
   },
   {
    "duration": 55,
    "start_time": "2023-02-15T20:46:28.151Z"
   },
   {
    "duration": 49,
    "start_time": "2023-02-15T20:46:28.208Z"
   },
   {
    "duration": 453,
    "start_time": "2023-02-15T20:46:28.260Z"
   },
   {
    "duration": 171,
    "start_time": "2023-02-15T20:46:28.715Z"
   },
   {
    "duration": 260,
    "start_time": "2023-02-15T20:46:28.887Z"
   },
   {
    "duration": 191,
    "start_time": "2023-02-15T20:46:29.150Z"
   },
   {
    "duration": 272,
    "start_time": "2023-02-15T20:46:29.343Z"
   },
   {
    "duration": 186,
    "start_time": "2023-02-15T20:46:29.617Z"
   },
   {
    "duration": 163,
    "start_time": "2023-02-15T20:46:29.805Z"
   },
   {
    "duration": 171,
    "start_time": "2023-02-15T20:46:29.970Z"
   },
   {
    "duration": 160,
    "start_time": "2023-02-15T20:46:30.144Z"
   },
   {
    "duration": 207,
    "start_time": "2023-02-15T20:46:30.306Z"
   },
   {
    "duration": 201,
    "start_time": "2023-02-15T20:46:30.515Z"
   },
   {
    "duration": 219,
    "start_time": "2023-02-15T20:46:30.717Z"
   },
   {
    "duration": 289,
    "start_time": "2023-02-15T20:46:30.938Z"
   },
   {
    "duration": 186,
    "start_time": "2023-02-15T20:46:31.229Z"
   },
   {
    "duration": 190,
    "start_time": "2023-02-15T20:46:31.417Z"
   },
   {
    "duration": 184,
    "start_time": "2023-02-15T20:46:31.609Z"
   },
   {
    "duration": 1147,
    "start_time": "2023-02-15T20:46:31.795Z"
   },
   {
    "duration": 27,
    "start_time": "2023-02-15T20:46:32.944Z"
   },
   {
    "duration": 737,
    "start_time": "2023-02-15T20:46:32.973Z"
   },
   {
    "duration": 18,
    "start_time": "2023-02-15T20:47:43.131Z"
   },
   {
    "duration": 93,
    "start_time": "2023-02-15T20:47:47.958Z"
   },
   {
    "duration": 97,
    "start_time": "2023-02-15T20:47:56.438Z"
   },
   {
    "duration": 9,
    "start_time": "2023-02-15T20:48:30.402Z"
   },
   {
    "duration": 48,
    "start_time": "2023-02-16T17:11:49.601Z"
   },
   {
    "duration": 432,
    "start_time": "2023-02-16T17:11:54.610Z"
   },
   {
    "duration": 187,
    "start_time": "2023-02-16T17:11:55.044Z"
   },
   {
    "duration": 3,
    "start_time": "2023-02-16T17:11:55.233Z"
   },
   {
    "duration": 2555,
    "start_time": "2023-02-16T17:11:55.238Z"
   },
   {
    "duration": 11,
    "start_time": "2023-02-16T17:11:57.795Z"
   },
   {
    "duration": 5,
    "start_time": "2023-02-16T17:11:57.808Z"
   },
   {
    "duration": 9,
    "start_time": "2023-02-16T17:11:57.815Z"
   },
   {
    "duration": 10,
    "start_time": "2023-02-16T17:11:57.827Z"
   },
   {
    "duration": 6,
    "start_time": "2023-02-16T17:11:57.839Z"
   },
   {
    "duration": 16,
    "start_time": "2023-02-16T17:11:57.849Z"
   },
   {
    "duration": 10,
    "start_time": "2023-02-16T17:11:57.899Z"
   },
   {
    "duration": 24,
    "start_time": "2023-02-16T17:11:57.911Z"
   },
   {
    "duration": 9,
    "start_time": "2023-02-16T17:11:57.937Z"
   },
   {
    "duration": 56,
    "start_time": "2023-02-16T17:11:57.948Z"
   },
   {
    "duration": 6,
    "start_time": "2023-02-16T17:11:58.006Z"
   },
   {
    "duration": 180,
    "start_time": "2023-02-16T17:11:58.014Z"
   },
   {
    "duration": 31,
    "start_time": "2023-02-16T17:11:58.195Z"
   },
   {
    "duration": 6,
    "start_time": "2023-02-16T17:11:58.228Z"
   },
   {
    "duration": 26,
    "start_time": "2023-02-16T17:11:58.236Z"
   },
   {
    "duration": 36,
    "start_time": "2023-02-16T17:11:58.264Z"
   },
   {
    "duration": 43,
    "start_time": "2023-02-16T17:11:58.302Z"
   },
   {
    "duration": 41,
    "start_time": "2023-02-16T17:11:58.347Z"
   },
   {
    "duration": 18,
    "start_time": "2023-02-16T17:11:58.390Z"
   },
   {
    "duration": 39,
    "start_time": "2023-02-16T17:11:58.410Z"
   },
   {
    "duration": 12,
    "start_time": "2023-02-16T17:11:58.451Z"
   },
   {
    "duration": 175,
    "start_time": "2023-02-16T17:11:58.466Z"
   },
   {
    "duration": 11,
    "start_time": "2023-02-16T17:11:58.643Z"
   },
   {
    "duration": 52,
    "start_time": "2023-02-16T17:11:58.658Z"
   },
   {
    "duration": 62,
    "start_time": "2023-02-16T17:11:58.711Z"
   },
   {
    "duration": 25,
    "start_time": "2023-02-16T17:11:58.775Z"
   },
   {
    "duration": 7,
    "start_time": "2023-02-16T17:11:58.802Z"
   },
   {
    "duration": 45,
    "start_time": "2023-02-16T17:11:58.811Z"
   },
   {
    "duration": 54,
    "start_time": "2023-02-16T17:11:58.857Z"
   },
   {
    "duration": 325,
    "start_time": "2023-02-16T17:11:58.913Z"
   },
   {
    "duration": 271,
    "start_time": "2023-02-16T17:11:59.240Z"
   },
   {
    "duration": 173,
    "start_time": "2023-02-16T17:11:59.513Z"
   },
   {
    "duration": 191,
    "start_time": "2023-02-16T17:11:59.688Z"
   },
   {
    "duration": 277,
    "start_time": "2023-02-16T17:11:59.881Z"
   },
   {
    "duration": 174,
    "start_time": "2023-02-16T17:12:00.160Z"
   },
   {
    "duration": 235,
    "start_time": "2023-02-16T17:12:00.336Z"
   },
   {
    "duration": 197,
    "start_time": "2023-02-16T17:12:00.573Z"
   },
   {
    "duration": 177,
    "start_time": "2023-02-16T17:12:00.772Z"
   },
   {
    "duration": 208,
    "start_time": "2023-02-16T17:12:00.951Z"
   },
   {
    "duration": 197,
    "start_time": "2023-02-16T17:12:01.161Z"
   },
   {
    "duration": 266,
    "start_time": "2023-02-16T17:12:01.361Z"
   },
   {
    "duration": 172,
    "start_time": "2023-02-16T17:12:01.629Z"
   },
   {
    "duration": 181,
    "start_time": "2023-02-16T17:12:01.803Z"
   },
   {
    "duration": 169,
    "start_time": "2023-02-16T17:12:01.986Z"
   },
   {
    "duration": 156,
    "start_time": "2023-02-16T17:12:02.157Z"
   },
   {
    "duration": 1028,
    "start_time": "2023-02-16T17:12:02.314Z"
   },
   {
    "duration": 25,
    "start_time": "2023-02-16T17:12:03.344Z"
   },
   {
    "duration": 675,
    "start_time": "2023-02-16T17:12:03.371Z"
   },
   {
    "duration": 7,
    "start_time": "2023-02-16T17:14:46.320Z"
   },
   {
    "duration": 140,
    "start_time": "2023-02-16T17:16:36.319Z"
   },
   {
    "duration": 436,
    "start_time": "2023-02-16T17:16:50.178Z"
   },
   {
    "duration": 98,
    "start_time": "2023-02-16T17:16:50.616Z"
   },
   {
    "duration": 3,
    "start_time": "2023-02-16T17:16:50.716Z"
   },
   {
    "duration": 2188,
    "start_time": "2023-02-16T17:16:50.721Z"
   },
   {
    "duration": 10,
    "start_time": "2023-02-16T17:16:52.912Z"
   },
   {
    "duration": 5,
    "start_time": "2023-02-16T17:16:52.924Z"
   },
   {
    "duration": 10,
    "start_time": "2023-02-16T17:16:52.930Z"
   },
   {
    "duration": 6,
    "start_time": "2023-02-16T17:16:52.941Z"
   },
   {
    "duration": 7,
    "start_time": "2023-02-16T17:16:52.949Z"
   },
   {
    "duration": 7,
    "start_time": "2023-02-16T17:16:52.958Z"
   },
   {
    "duration": 9,
    "start_time": "2023-02-16T17:16:52.967Z"
   },
   {
    "duration": 15,
    "start_time": "2023-02-16T17:16:53.000Z"
   },
   {
    "duration": 8,
    "start_time": "2023-02-16T17:16:53.016Z"
   },
   {
    "duration": 31,
    "start_time": "2023-02-16T17:16:53.028Z"
   },
   {
    "duration": 6,
    "start_time": "2023-02-16T17:16:53.062Z"
   },
   {
    "duration": 160,
    "start_time": "2023-02-16T17:16:53.069Z"
   },
   {
    "duration": 25,
    "start_time": "2023-02-16T17:16:53.231Z"
   },
   {
    "duration": 5,
    "start_time": "2023-02-16T17:16:53.258Z"
   },
   {
    "duration": 40,
    "start_time": "2023-02-16T17:16:53.265Z"
   },
   {
    "duration": 11,
    "start_time": "2023-02-16T17:16:53.307Z"
   },
   {
    "duration": 34,
    "start_time": "2023-02-16T17:16:53.320Z"
   },
   {
    "duration": 16,
    "start_time": "2023-02-16T17:16:53.356Z"
   },
   {
    "duration": 27,
    "start_time": "2023-02-16T17:16:53.373Z"
   },
   {
    "duration": 28,
    "start_time": "2023-02-16T17:16:53.402Z"
   },
   {
    "duration": 10,
    "start_time": "2023-02-16T17:16:53.431Z"
   },
   {
    "duration": 159,
    "start_time": "2023-02-16T17:16:53.443Z"
   },
   {
    "duration": 10,
    "start_time": "2023-02-16T17:16:53.603Z"
   },
   {
    "duration": 31,
    "start_time": "2023-02-16T17:16:53.614Z"
   },
   {
    "duration": 66,
    "start_time": "2023-02-16T17:16:53.647Z"
   },
   {
    "duration": 9,
    "start_time": "2023-02-16T17:16:53.715Z"
   },
   {
    "duration": 5,
    "start_time": "2023-02-16T17:16:53.726Z"
   },
   {
    "duration": 39,
    "start_time": "2023-02-16T17:16:53.733Z"
   },
   {
    "duration": 61,
    "start_time": "2023-02-16T17:16:53.773Z"
   },
   {
    "duration": 329,
    "start_time": "2023-02-16T17:16:53.836Z"
   },
   {
    "duration": 214,
    "start_time": "2023-02-16T17:16:54.167Z"
   },
   {
    "duration": 281,
    "start_time": "2023-02-16T17:16:54.386Z"
   },
   {
    "duration": 168,
    "start_time": "2023-02-16T17:16:54.669Z"
   },
   {
    "duration": 279,
    "start_time": "2023-02-16T17:16:54.838Z"
   },
   {
    "duration": 199,
    "start_time": "2023-02-16T17:16:55.118Z"
   },
   {
    "duration": 192,
    "start_time": "2023-02-16T17:16:55.320Z"
   },
   {
    "duration": 180,
    "start_time": "2023-02-16T17:16:55.516Z"
   },
   {
    "duration": 170,
    "start_time": "2023-02-16T17:16:55.699Z"
   },
   {
    "duration": 211,
    "start_time": "2023-02-16T17:16:55.871Z"
   },
   {
    "duration": 170,
    "start_time": "2023-02-16T17:16:56.084Z"
   },
   {
    "duration": 183,
    "start_time": "2023-02-16T17:16:56.255Z"
   },
   {
    "duration": 262,
    "start_time": "2023-02-16T17:16:56.440Z"
   },
   {
    "duration": 199,
    "start_time": "2023-02-16T17:16:56.704Z"
   },
   {
    "duration": 206,
    "start_time": "2023-02-16T17:16:56.904Z"
   },
   {
    "duration": 183,
    "start_time": "2023-02-16T17:16:57.112Z"
   },
   {
    "duration": 1025,
    "start_time": "2023-02-16T17:16:57.297Z"
   },
   {
    "duration": 25,
    "start_time": "2023-02-16T17:16:58.324Z"
   },
   {
    "duration": 616,
    "start_time": "2023-02-16T17:16:58.351Z"
   },
   {
    "duration": 4,
    "start_time": "2023-02-16T17:23:54.028Z"
   },
   {
    "duration": 46,
    "start_time": "2023-02-16T17:24:16.369Z"
   },
   {
    "duration": 393,
    "start_time": "2023-02-16T17:24:44.528Z"
   },
   {
    "duration": 108,
    "start_time": "2023-02-16T17:24:44.922Z"
   },
   {
    "duration": 42,
    "start_time": "2023-02-16T17:24:45.031Z"
   },
   {
    "duration": 2310,
    "start_time": "2023-02-16T17:24:45.075Z"
   },
   {
    "duration": 9,
    "start_time": "2023-02-16T17:24:47.387Z"
   },
   {
    "duration": 17,
    "start_time": "2023-02-16T17:24:47.399Z"
   },
   {
    "duration": 7,
    "start_time": "2023-02-16T17:24:47.418Z"
   },
   {
    "duration": 6,
    "start_time": "2023-02-16T17:24:47.426Z"
   },
   {
    "duration": 5,
    "start_time": "2023-02-16T17:24:47.433Z"
   },
   {
    "duration": 6,
    "start_time": "2023-02-16T17:24:47.440Z"
   },
   {
    "duration": 9,
    "start_time": "2023-02-16T17:24:47.447Z"
   },
   {
    "duration": 19,
    "start_time": "2023-02-16T17:24:47.458Z"
   },
   {
    "duration": 36,
    "start_time": "2023-02-16T17:24:47.478Z"
   },
   {
    "duration": 36,
    "start_time": "2023-02-16T17:24:47.516Z"
   },
   {
    "duration": 6,
    "start_time": "2023-02-16T17:24:47.554Z"
   },
   {
    "duration": 151,
    "start_time": "2023-02-16T17:24:47.561Z"
   },
   {
    "duration": 23,
    "start_time": "2023-02-16T17:24:47.713Z"
   },
   {
    "duration": 5,
    "start_time": "2023-02-16T17:24:47.737Z"
   },
   {
    "duration": 30,
    "start_time": "2023-02-16T17:24:47.743Z"
   },
   {
    "duration": 13,
    "start_time": "2023-02-16T17:24:47.775Z"
   },
   {
    "duration": 43,
    "start_time": "2023-02-16T17:24:47.789Z"
   },
   {
    "duration": 17,
    "start_time": "2023-02-16T17:24:47.833Z"
   },
   {
    "duration": 9,
    "start_time": "2023-02-16T17:24:47.852Z"
   },
   {
    "duration": 58,
    "start_time": "2023-02-16T17:24:47.862Z"
   },
   {
    "duration": 5,
    "start_time": "2023-02-16T17:24:47.922Z"
   },
   {
    "duration": 144,
    "start_time": "2023-02-16T17:24:47.929Z"
   },
   {
    "duration": 10,
    "start_time": "2023-02-16T17:24:48.075Z"
   },
   {
    "duration": 30,
    "start_time": "2023-02-16T17:24:48.099Z"
   },
   {
    "duration": 44,
    "start_time": "2023-02-16T17:24:48.131Z"
   },
   {
    "duration": 33,
    "start_time": "2023-02-16T17:24:48.177Z"
   },
   {
    "duration": 20,
    "start_time": "2023-02-16T17:24:48.212Z"
   },
   {
    "duration": 34,
    "start_time": "2023-02-16T17:24:48.234Z"
   },
   {
    "duration": 44,
    "start_time": "2023-02-16T17:24:48.270Z"
   },
   {
    "duration": 327,
    "start_time": "2023-02-16T17:24:48.315Z"
   },
   {
    "duration": 159,
    "start_time": "2023-02-16T17:24:48.644Z"
   },
   {
    "duration": 243,
    "start_time": "2023-02-16T17:24:48.811Z"
   },
   {
    "duration": 159,
    "start_time": "2023-02-16T17:24:49.056Z"
   },
   {
    "duration": 226,
    "start_time": "2023-02-16T17:24:49.216Z"
   },
   {
    "duration": 162,
    "start_time": "2023-02-16T17:24:49.444Z"
   },
   {
    "duration": 159,
    "start_time": "2023-02-16T17:24:49.610Z"
   },
   {
    "duration": 169,
    "start_time": "2023-02-16T17:24:49.772Z"
   },
   {
    "duration": 169,
    "start_time": "2023-02-16T17:24:49.943Z"
   },
   {
    "duration": 161,
    "start_time": "2023-02-16T17:24:50.115Z"
   },
   {
    "duration": 160,
    "start_time": "2023-02-16T17:24:50.278Z"
   },
   {
    "duration": 173,
    "start_time": "2023-02-16T17:24:50.440Z"
   },
   {
    "duration": 239,
    "start_time": "2023-02-16T17:24:50.614Z"
   },
   {
    "duration": 192,
    "start_time": "2023-02-16T17:24:50.855Z"
   },
   {
    "duration": 186,
    "start_time": "2023-02-16T17:24:51.050Z"
   },
   {
    "duration": 177,
    "start_time": "2023-02-16T17:24:51.238Z"
   },
   {
    "duration": 966,
    "start_time": "2023-02-16T17:24:51.416Z"
   },
   {
    "duration": 41,
    "start_time": "2023-02-16T17:24:52.384Z"
   },
   {
    "duration": 599,
    "start_time": "2023-02-16T17:24:52.428Z"
   },
   {
    "duration": 2199,
    "start_time": "2023-02-16T17:35:13.387Z"
   },
   {
    "duration": 5,
    "start_time": "2023-02-16T17:35:28.875Z"
   },
   {
    "duration": 12,
    "start_time": "2023-02-16T17:35:40.355Z"
   },
   {
    "duration": 423,
    "start_time": "2023-02-16T17:35:58.361Z"
   },
   {
    "duration": 129,
    "start_time": "2023-02-16T17:35:58.786Z"
   },
   {
    "duration": 50,
    "start_time": "2023-02-16T17:35:58.917Z"
   },
   {
    "duration": 2383,
    "start_time": "2023-02-16T17:35:58.970Z"
   },
   {
    "duration": 10,
    "start_time": "2023-02-16T17:36:01.355Z"
   },
   {
    "duration": 16,
    "start_time": "2023-02-16T17:36:01.367Z"
   },
   {
    "duration": 11,
    "start_time": "2023-02-16T17:36:01.385Z"
   },
   {
    "duration": 41,
    "start_time": "2023-02-16T17:36:01.397Z"
   },
   {
    "duration": 46,
    "start_time": "2023-02-16T17:36:01.440Z"
   },
   {
    "duration": 13,
    "start_time": "2023-02-16T17:36:01.489Z"
   },
   {
    "duration": 11,
    "start_time": "2023-02-16T17:36:01.503Z"
   },
   {
    "duration": 47,
    "start_time": "2023-02-16T17:36:01.516Z"
   },
   {
    "duration": 32,
    "start_time": "2023-02-16T17:36:01.565Z"
   },
   {
    "duration": 48,
    "start_time": "2023-02-16T17:36:01.601Z"
   },
   {
    "duration": 69,
    "start_time": "2023-02-16T17:36:01.651Z"
   },
   {
    "duration": 7,
    "start_time": "2023-02-16T17:36:01.722Z"
   },
   {
    "duration": 215,
    "start_time": "2023-02-16T17:36:01.731Z"
   },
   {
    "duration": 24,
    "start_time": "2023-02-16T17:36:01.948Z"
   },
   {
    "duration": 6,
    "start_time": "2023-02-16T17:36:01.973Z"
   },
   {
    "duration": 47,
    "start_time": "2023-02-16T17:36:01.980Z"
   },
   {
    "duration": 9,
    "start_time": "2023-02-16T17:36:02.029Z"
   },
   {
    "duration": 57,
    "start_time": "2023-02-16T17:36:02.040Z"
   },
   {
    "duration": 44,
    "start_time": "2023-02-16T17:36:02.098Z"
   },
   {
    "duration": 7,
    "start_time": "2023-02-16T17:36:02.144Z"
   },
   {
    "duration": 73,
    "start_time": "2023-02-16T17:36:02.154Z"
   },
   {
    "duration": 10,
    "start_time": "2023-02-16T17:36:02.232Z"
   },
   {
    "duration": 188,
    "start_time": "2023-02-16T17:36:02.245Z"
   },
   {
    "duration": 11,
    "start_time": "2023-02-16T17:36:02.438Z"
   },
   {
    "duration": 56,
    "start_time": "2023-02-16T17:36:02.451Z"
   },
   {
    "duration": 50,
    "start_time": "2023-02-16T17:36:02.513Z"
   },
   {
    "duration": 10,
    "start_time": "2023-02-16T17:36:02.565Z"
   },
   {
    "duration": 24,
    "start_time": "2023-02-16T17:36:02.576Z"
   },
   {
    "duration": 44,
    "start_time": "2023-02-16T17:36:02.601Z"
   },
   {
    "duration": 55,
    "start_time": "2023-02-16T17:36:02.647Z"
   },
   {
    "duration": 352,
    "start_time": "2023-02-16T17:36:02.704Z"
   },
   {
    "duration": 168,
    "start_time": "2023-02-16T17:36:03.058Z"
   },
   {
    "duration": 291,
    "start_time": "2023-02-16T17:36:03.228Z"
   },
   {
    "duration": 193,
    "start_time": "2023-02-16T17:36:03.521Z"
   },
   {
    "duration": 247,
    "start_time": "2023-02-16T17:36:03.716Z"
   },
   {
    "duration": 205,
    "start_time": "2023-02-16T17:36:03.965Z"
   },
   {
    "duration": 197,
    "start_time": "2023-02-16T17:36:04.172Z"
   },
   {
    "duration": 176,
    "start_time": "2023-02-16T17:36:04.370Z"
   },
   {
    "duration": 186,
    "start_time": "2023-02-16T17:36:04.548Z"
   },
   {
    "duration": 202,
    "start_time": "2023-02-16T17:36:04.736Z"
   },
   {
    "duration": 182,
    "start_time": "2023-02-16T17:36:04.939Z"
   },
   {
    "duration": 192,
    "start_time": "2023-02-16T17:36:05.122Z"
   },
   {
    "duration": 266,
    "start_time": "2023-02-16T17:36:05.317Z"
   },
   {
    "duration": 182,
    "start_time": "2023-02-16T17:36:05.585Z"
   },
   {
    "duration": 167,
    "start_time": "2023-02-16T17:36:05.769Z"
   },
   {
    "duration": 158,
    "start_time": "2023-02-16T17:36:05.938Z"
   },
   {
    "duration": 1154,
    "start_time": "2023-02-16T17:36:06.099Z"
   },
   {
    "duration": 26,
    "start_time": "2023-02-16T17:36:07.254Z"
   },
   {
    "duration": 704,
    "start_time": "2023-02-16T17:36:07.281Z"
   },
   {
    "duration": 13,
    "start_time": "2023-02-16T17:37:43.700Z"
   },
   {
    "duration": 6,
    "start_time": "2023-02-16T17:38:06.083Z"
   },
   {
    "duration": 48,
    "start_time": "2023-02-16T18:13:33.165Z"
   },
   {
    "duration": 76,
    "start_time": "2023-02-16T18:13:42.017Z"
   },
   {
    "duration": 49,
    "start_time": "2023-02-16T18:15:31.410Z"
   },
   {
    "duration": 217,
    "start_time": "2023-02-16T18:16:35.849Z"
   },
   {
    "duration": 243,
    "start_time": "2023-02-16T18:16:47.370Z"
   },
   {
    "duration": 261,
    "start_time": "2023-02-16T18:17:04.578Z"
   },
   {
    "duration": 411,
    "start_time": "2023-02-17T16:58:45.905Z"
   },
   {
    "duration": 154,
    "start_time": "2023-02-17T16:58:46.318Z"
   },
   {
    "duration": 40,
    "start_time": "2023-02-17T16:58:46.473Z"
   },
   {
    "duration": 2401,
    "start_time": "2023-02-17T16:58:46.516Z"
   },
   {
    "duration": 11,
    "start_time": "2023-02-17T16:58:48.919Z"
   },
   {
    "duration": 5,
    "start_time": "2023-02-17T16:58:48.931Z"
   },
   {
    "duration": 9,
    "start_time": "2023-02-17T16:58:48.938Z"
   },
   {
    "duration": 6,
    "start_time": "2023-02-17T16:58:48.949Z"
   },
   {
    "duration": 4,
    "start_time": "2023-02-17T16:58:48.957Z"
   },
   {
    "duration": 6,
    "start_time": "2023-02-17T16:58:48.963Z"
   },
   {
    "duration": 35,
    "start_time": "2023-02-17T16:58:48.971Z"
   },
   {
    "duration": 16,
    "start_time": "2023-02-17T16:58:49.009Z"
   },
   {
    "duration": 8,
    "start_time": "2023-02-17T16:58:49.026Z"
   },
   {
    "duration": 8,
    "start_time": "2023-02-17T16:58:49.035Z"
   },
   {
    "duration": 27,
    "start_time": "2023-02-17T16:58:49.045Z"
   },
   {
    "duration": 37,
    "start_time": "2023-02-17T16:58:49.074Z"
   },
   {
    "duration": 154,
    "start_time": "2023-02-17T16:58:49.112Z"
   },
   {
    "duration": 35,
    "start_time": "2023-02-17T16:58:49.268Z"
   },
   {
    "duration": 6,
    "start_time": "2023-02-17T16:58:49.305Z"
   },
   {
    "duration": 27,
    "start_time": "2023-02-17T16:58:49.313Z"
   },
   {
    "duration": 26,
    "start_time": "2023-02-17T16:58:49.341Z"
   },
   {
    "duration": 44,
    "start_time": "2023-02-17T16:58:49.369Z"
   },
   {
    "duration": 17,
    "start_time": "2023-02-17T16:58:49.415Z"
   },
   {
    "duration": 6,
    "start_time": "2023-02-17T16:58:49.433Z"
   },
   {
    "duration": 35,
    "start_time": "2023-02-17T16:58:49.440Z"
   },
   {
    "duration": 28,
    "start_time": "2023-02-17T16:58:49.476Z"
   },
   {
    "duration": 168,
    "start_time": "2023-02-17T16:58:49.507Z"
   },
   {
    "duration": 23,
    "start_time": "2023-02-17T16:58:49.680Z"
   },
   {
    "duration": 37,
    "start_time": "2023-02-17T16:58:49.705Z"
   },
   {
    "duration": 64,
    "start_time": "2023-02-17T16:58:49.744Z"
   },
   {
    "duration": 23,
    "start_time": "2023-02-17T16:58:49.809Z"
   },
   {
    "duration": 8,
    "start_time": "2023-02-17T16:58:49.833Z"
   },
   {
    "duration": 43,
    "start_time": "2023-02-17T16:58:49.843Z"
   },
   {
    "duration": 49,
    "start_time": "2023-02-17T16:58:49.887Z"
   },
   {
    "duration": 359,
    "start_time": "2023-02-17T16:58:49.937Z"
   },
   {
    "duration": 275,
    "start_time": "2023-02-17T16:58:50.298Z"
   },
   {
    "duration": 167,
    "start_time": "2023-02-17T16:58:50.575Z"
   },
   {
    "duration": 183,
    "start_time": "2023-02-17T16:58:50.744Z"
   },
   {
    "duration": 243,
    "start_time": "2023-02-17T16:58:50.929Z"
   },
   {
    "duration": 170,
    "start_time": "2023-02-17T16:58:51.173Z"
   },
   {
    "duration": 172,
    "start_time": "2023-02-17T16:58:51.345Z"
   },
   {
    "duration": 179,
    "start_time": "2023-02-17T16:58:51.519Z"
   },
   {
    "duration": 157,
    "start_time": "2023-02-17T16:58:51.702Z"
   },
   {
    "duration": 184,
    "start_time": "2023-02-17T16:58:51.861Z"
   },
   {
    "duration": 180,
    "start_time": "2023-02-17T16:58:52.047Z"
   },
   {
    "duration": 254,
    "start_time": "2023-02-17T16:58:52.229Z"
   },
   {
    "duration": 173,
    "start_time": "2023-02-17T16:58:52.485Z"
   },
   {
    "duration": 182,
    "start_time": "2023-02-17T16:58:52.660Z"
   },
   {
    "duration": 167,
    "start_time": "2023-02-17T16:58:52.844Z"
   },
   {
    "duration": 169,
    "start_time": "2023-02-17T16:58:53.013Z"
   },
   {
    "duration": 1032,
    "start_time": "2023-02-17T16:58:53.184Z"
   },
   {
    "duration": 32,
    "start_time": "2023-02-17T16:58:54.218Z"
   },
   {
    "duration": 678,
    "start_time": "2023-02-17T16:58:54.252Z"
   },
   {
    "duration": 341,
    "start_time": "2023-02-17T16:59:02.280Z"
   },
   {
    "duration": 145,
    "start_time": "2023-02-17T16:59:11.898Z"
   },
   {
    "duration": 168,
    "start_time": "2023-02-17T16:59:53.380Z"
   },
   {
    "duration": 174,
    "start_time": "2023-02-17T17:00:03.131Z"
   },
   {
    "duration": 161,
    "start_time": "2023-02-17T17:01:21.322Z"
   },
   {
    "duration": 208,
    "start_time": "2023-02-17T17:02:30.734Z"
   },
   {
    "duration": 194,
    "start_time": "2023-02-17T17:02:53.390Z"
   },
   {
    "duration": 161,
    "start_time": "2023-02-17T17:11:55.233Z"
   },
   {
    "duration": 868,
    "start_time": "2023-02-17T17:24:26.607Z"
   },
   {
    "duration": 967,
    "start_time": "2023-02-17T17:24:34.321Z"
   },
   {
    "duration": 10,
    "start_time": "2023-02-17T17:34:04.789Z"
   },
   {
    "duration": 720,
    "start_time": "2023-02-17T17:34:44.909Z"
   },
   {
    "duration": 15,
    "start_time": "2023-02-17T17:38:01.225Z"
   },
   {
    "duration": 683,
    "start_time": "2023-02-17T17:42:37.925Z"
   },
   {
    "duration": 12,
    "start_time": "2023-02-17T17:43:36.630Z"
   },
   {
    "duration": 181,
    "start_time": "2023-02-17T17:45:50.398Z"
   },
   {
    "duration": 46,
    "start_time": "2023-02-17T17:46:30.084Z"
   },
   {
    "duration": 124,
    "start_time": "2023-02-17T17:46:35.278Z"
   },
   {
    "duration": 133,
    "start_time": "2023-02-17T17:47:05.147Z"
   },
   {
    "duration": 658,
    "start_time": "2023-02-17T17:48:52.338Z"
   },
   {
    "duration": 137,
    "start_time": "2023-02-17T17:49:33.298Z"
   },
   {
    "duration": 137,
    "start_time": "2023-02-17T17:51:17.048Z"
   },
   {
    "duration": 127,
    "start_time": "2023-02-17T17:51:20.136Z"
   },
   {
    "duration": 166,
    "start_time": "2023-02-17T17:51:49.224Z"
   },
   {
    "duration": 144,
    "start_time": "2023-02-17T17:51:52.816Z"
   },
   {
    "duration": 136,
    "start_time": "2023-02-17T17:52:33.320Z"
   },
   {
    "duration": 142,
    "start_time": "2023-02-17T17:53:07.272Z"
   },
   {
    "duration": 130,
    "start_time": "2023-02-17T17:54:50.213Z"
   },
   {
    "duration": 145,
    "start_time": "2023-02-17T17:56:36.213Z"
   },
   {
    "duration": 615,
    "start_time": "2023-02-17T17:58:19.222Z"
   },
   {
    "duration": 634,
    "start_time": "2023-02-17T17:59:07.491Z"
   },
   {
    "duration": 152,
    "start_time": "2023-02-17T18:00:19.504Z"
   },
   {
    "duration": 46,
    "start_time": "2023-02-18T15:43:24.264Z"
   },
   {
    "duration": 484,
    "start_time": "2023-02-18T15:43:30.027Z"
   },
   {
    "duration": 158,
    "start_time": "2023-02-18T15:43:30.513Z"
   },
   {
    "duration": 45,
    "start_time": "2023-02-18T15:43:30.672Z"
   },
   {
    "duration": 2396,
    "start_time": "2023-02-18T15:43:30.719Z"
   },
   {
    "duration": 9,
    "start_time": "2023-02-18T15:43:33.117Z"
   },
   {
    "duration": 15,
    "start_time": "2023-02-18T15:43:33.127Z"
   },
   {
    "duration": 14,
    "start_time": "2023-02-18T15:43:33.144Z"
   },
   {
    "duration": 9,
    "start_time": "2023-02-18T15:43:33.159Z"
   },
   {
    "duration": 5,
    "start_time": "2023-02-18T15:43:33.170Z"
   },
   {
    "duration": 7,
    "start_time": "2023-02-18T15:43:33.178Z"
   },
   {
    "duration": 11,
    "start_time": "2023-02-18T15:43:33.187Z"
   },
   {
    "duration": 39,
    "start_time": "2023-02-18T15:43:33.200Z"
   },
   {
    "duration": 8,
    "start_time": "2023-02-18T15:43:33.241Z"
   },
   {
    "duration": 8,
    "start_time": "2023-02-18T15:43:33.251Z"
   },
   {
    "duration": 28,
    "start_time": "2023-02-18T15:43:33.260Z"
   },
   {
    "duration": 7,
    "start_time": "2023-02-18T15:43:33.289Z"
   },
   {
    "duration": 157,
    "start_time": "2023-02-18T15:43:33.297Z"
   },
   {
    "duration": 23,
    "start_time": "2023-02-18T15:43:33.456Z"
   },
   {
    "duration": 6,
    "start_time": "2023-02-18T15:43:33.481Z"
   },
   {
    "duration": 45,
    "start_time": "2023-02-18T15:43:33.488Z"
   },
   {
    "duration": 9,
    "start_time": "2023-02-18T15:43:33.535Z"
   },
   {
    "duration": 43,
    "start_time": "2023-02-18T15:43:33.546Z"
   },
   {
    "duration": 37,
    "start_time": "2023-02-18T15:43:33.591Z"
   },
   {
    "duration": 5,
    "start_time": "2023-02-18T15:43:33.630Z"
   },
   {
    "duration": 28,
    "start_time": "2023-02-18T15:43:33.636Z"
   },
   {
    "duration": 19,
    "start_time": "2023-02-18T15:43:33.666Z"
   },
   {
    "duration": 154,
    "start_time": "2023-02-18T15:43:33.686Z"
   },
   {
    "duration": 9,
    "start_time": "2023-02-18T15:43:33.843Z"
   },
   {
    "duration": 27,
    "start_time": "2023-02-18T15:43:33.854Z"
   },
   {
    "duration": 74,
    "start_time": "2023-02-18T15:43:33.882Z"
   },
   {
    "duration": 106,
    "start_time": "2023-02-18T15:43:33.958Z"
   },
   {
    "duration": 8,
    "start_time": "2023-02-18T15:43:34.066Z"
   },
   {
    "duration": 5,
    "start_time": "2023-02-18T15:43:34.076Z"
   },
   {
    "duration": 56,
    "start_time": "2023-02-18T15:43:34.083Z"
   },
   {
    "duration": 37,
    "start_time": "2023-02-18T15:43:34.141Z"
   },
   {
    "duration": 436,
    "start_time": "2023-02-18T15:43:34.180Z"
   },
   {
    "duration": 185,
    "start_time": "2023-02-18T15:43:34.617Z"
   },
   {
    "duration": 167,
    "start_time": "2023-02-18T15:43:34.804Z"
   },
   {
    "duration": 182,
    "start_time": "2023-02-18T15:43:34.973Z"
   },
   {
    "duration": 205,
    "start_time": "2023-02-18T15:43:35.156Z"
   },
   {
    "duration": 164,
    "start_time": "2023-02-18T15:43:35.363Z"
   },
   {
    "duration": 169,
    "start_time": "2023-02-18T15:43:35.528Z"
   },
   {
    "duration": 161,
    "start_time": "2023-02-18T15:43:35.699Z"
   },
   {
    "duration": 159,
    "start_time": "2023-02-18T15:43:35.862Z"
   },
   {
    "duration": 182,
    "start_time": "2023-02-18T15:43:36.027Z"
   },
   {
    "duration": 254,
    "start_time": "2023-02-18T15:43:36.211Z"
   },
   {
    "duration": 157,
    "start_time": "2023-02-18T15:43:36.467Z"
   },
   {
    "duration": 178,
    "start_time": "2023-02-18T15:43:36.625Z"
   },
   {
    "duration": 176,
    "start_time": "2023-02-18T15:43:36.805Z"
   },
   {
    "duration": 160,
    "start_time": "2023-02-18T15:43:36.982Z"
   },
   {
    "duration": 161,
    "start_time": "2023-02-18T15:43:37.144Z"
   },
   {
    "duration": 658,
    "start_time": "2023-02-18T15:43:37.307Z"
   },
   {
    "duration": 137,
    "start_time": "2023-02-18T15:43:37.967Z"
   },
   {
    "duration": 147,
    "start_time": "2023-02-18T15:43:38.105Z"
   },
   {
    "duration": 174,
    "start_time": "2023-02-18T15:43:38.253Z"
   },
   {
    "duration": 227,
    "start_time": "2023-02-18T15:43:38.428Z"
   },
   {
    "duration": 27,
    "start_time": "2023-02-18T15:43:38.657Z"
   },
   {
    "duration": 619,
    "start_time": "2023-02-18T15:43:38.686Z"
   },
   {
    "duration": 111,
    "start_time": "2023-02-18T15:45:32.283Z"
   },
   {
    "duration": 3,
    "start_time": "2023-02-18T15:49:51.298Z"
   },
   {
    "duration": 71,
    "start_time": "2023-02-18T15:50:01.696Z"
   },
   {
    "duration": 98,
    "start_time": "2023-02-18T15:50:09.265Z"
   },
   {
    "duration": 120,
    "start_time": "2023-02-18T15:53:34.078Z"
   },
   {
    "duration": 128,
    "start_time": "2023-02-18T15:54:09.165Z"
   },
   {
    "duration": 421,
    "start_time": "2023-02-18T15:57:32.017Z"
   },
   {
    "duration": 107,
    "start_time": "2023-02-18T15:57:32.444Z"
   },
   {
    "duration": 43,
    "start_time": "2023-02-18T15:57:32.552Z"
   },
   {
    "duration": 2374,
    "start_time": "2023-02-18T15:57:32.597Z"
   },
   {
    "duration": 10,
    "start_time": "2023-02-18T15:57:34.973Z"
   },
   {
    "duration": 5,
    "start_time": "2023-02-18T15:57:34.985Z"
   },
   {
    "duration": 10,
    "start_time": "2023-02-18T15:57:34.992Z"
   },
   {
    "duration": 6,
    "start_time": "2023-02-18T15:57:35.004Z"
   },
   {
    "duration": 11,
    "start_time": "2023-02-18T15:57:35.011Z"
   },
   {
    "duration": 27,
    "start_time": "2023-02-18T15:57:35.024Z"
   },
   {
    "duration": 11,
    "start_time": "2023-02-18T15:57:35.053Z"
   },
   {
    "duration": 31,
    "start_time": "2023-02-18T15:57:35.065Z"
   },
   {
    "duration": 8,
    "start_time": "2023-02-18T15:57:35.099Z"
   },
   {
    "duration": 82,
    "start_time": "2023-02-18T15:57:35.109Z"
   },
   {
    "duration": 29,
    "start_time": "2023-02-18T15:57:35.193Z"
   },
   {
    "duration": 13,
    "start_time": "2023-02-18T15:57:35.224Z"
   },
   {
    "duration": 145,
    "start_time": "2023-02-18T15:57:35.248Z"
   },
   {
    "duration": 23,
    "start_time": "2023-02-18T15:57:35.395Z"
   },
   {
    "duration": 11,
    "start_time": "2023-02-18T15:57:35.427Z"
   },
   {
    "duration": 52,
    "start_time": "2023-02-18T15:57:35.447Z"
   },
   {
    "duration": 40,
    "start_time": "2023-02-18T15:57:35.501Z"
   },
   {
    "duration": 66,
    "start_time": "2023-02-18T15:57:35.547Z"
   },
   {
    "duration": 21,
    "start_time": "2023-02-18T15:57:35.615Z"
   },
   {
    "duration": 19,
    "start_time": "2023-02-18T15:57:35.638Z"
   },
   {
    "duration": 111,
    "start_time": "2023-02-18T15:57:35.659Z"
   },
   {
    "duration": 30,
    "start_time": "2023-02-18T15:57:35.771Z"
   },
   {
    "duration": 5,
    "start_time": "2023-02-18T15:57:35.803Z"
   },
   {
    "duration": 188,
    "start_time": "2023-02-18T15:57:35.832Z"
   },
   {
    "duration": 15,
    "start_time": "2023-02-18T15:57:36.022Z"
   },
   {
    "duration": 40,
    "start_time": "2023-02-18T15:57:36.045Z"
   },
   {
    "duration": 74,
    "start_time": "2023-02-18T15:57:36.087Z"
   },
   {
    "duration": 134,
    "start_time": "2023-02-18T15:57:36.163Z"
   },
   {
    "duration": 9,
    "start_time": "2023-02-18T15:57:36.298Z"
   },
   {
    "duration": 22,
    "start_time": "2023-02-18T15:57:36.309Z"
   },
   {
    "duration": 50,
    "start_time": "2023-02-18T15:57:36.333Z"
   },
   {
    "duration": 54,
    "start_time": "2023-02-18T15:57:36.385Z"
   },
   {
    "duration": 461,
    "start_time": "2023-02-18T15:57:36.445Z"
   },
   {
    "duration": 181,
    "start_time": "2023-02-18T15:57:36.908Z"
   },
   {
    "duration": 178,
    "start_time": "2023-02-18T15:57:37.090Z"
   },
   {
    "duration": 182,
    "start_time": "2023-02-18T15:57:37.270Z"
   },
   {
    "duration": 216,
    "start_time": "2023-02-18T15:57:37.454Z"
   },
   {
    "duration": 183,
    "start_time": "2023-02-18T15:57:37.672Z"
   },
   {
    "duration": 179,
    "start_time": "2023-02-18T15:57:37.857Z"
   },
   {
    "duration": 176,
    "start_time": "2023-02-18T15:57:38.042Z"
   },
   {
    "duration": 167,
    "start_time": "2023-02-18T15:57:38.220Z"
   },
   {
    "duration": 188,
    "start_time": "2023-02-18T15:57:38.389Z"
   },
   {
    "duration": 256,
    "start_time": "2023-02-18T15:57:38.580Z"
   },
   {
    "duration": 166,
    "start_time": "2023-02-18T15:57:38.843Z"
   },
   {
    "duration": 189,
    "start_time": "2023-02-18T15:57:39.010Z"
   },
   {
    "duration": 195,
    "start_time": "2023-02-18T15:57:39.201Z"
   },
   {
    "duration": 168,
    "start_time": "2023-02-18T15:57:39.398Z"
   },
   {
    "duration": 166,
    "start_time": "2023-02-18T15:57:39.568Z"
   },
   {
    "duration": 735,
    "start_time": "2023-02-18T15:57:39.742Z"
   },
   {
    "duration": 168,
    "start_time": "2023-02-18T15:57:40.479Z"
   },
   {
    "duration": 173,
    "start_time": "2023-02-18T15:57:40.649Z"
   },
   {
    "duration": 216,
    "start_time": "2023-02-18T15:57:40.830Z"
   },
   {
    "duration": 237,
    "start_time": "2023-02-18T15:57:41.048Z"
   },
   {
    "duration": 41,
    "start_time": "2023-02-18T15:57:41.287Z"
   },
   {
    "duration": 655,
    "start_time": "2023-02-18T15:57:41.330Z"
   },
   {
    "duration": 129,
    "start_time": "2023-02-18T15:59:05.521Z"
   },
   {
    "duration": 460,
    "start_time": "2023-02-18T15:59:28.577Z"
   },
   {
    "duration": 123,
    "start_time": "2023-02-18T15:59:29.039Z"
   },
   {
    "duration": 44,
    "start_time": "2023-02-18T15:59:29.164Z"
   },
   {
    "duration": 2510,
    "start_time": "2023-02-18T15:59:29.209Z"
   },
   {
    "duration": 15,
    "start_time": "2023-02-18T15:59:31.721Z"
   },
   {
    "duration": 20,
    "start_time": "2023-02-18T15:59:31.739Z"
   },
   {
    "duration": 12,
    "start_time": "2023-02-18T15:59:31.761Z"
   },
   {
    "duration": 7,
    "start_time": "2023-02-18T15:59:31.775Z"
   },
   {
    "duration": 21,
    "start_time": "2023-02-18T15:59:31.784Z"
   },
   {
    "duration": 8,
    "start_time": "2023-02-18T15:59:31.809Z"
   },
   {
    "duration": 14,
    "start_time": "2023-02-18T15:59:31.819Z"
   },
   {
    "duration": 51,
    "start_time": "2023-02-18T15:59:31.835Z"
   },
   {
    "duration": 11,
    "start_time": "2023-02-18T15:59:31.888Z"
   },
   {
    "duration": 13,
    "start_time": "2023-02-18T15:59:31.901Z"
   },
   {
    "duration": 60,
    "start_time": "2023-02-18T15:59:31.916Z"
   },
   {
    "duration": 14,
    "start_time": "2023-02-18T15:59:31.978Z"
   },
   {
    "duration": 181,
    "start_time": "2023-02-18T15:59:31.994Z"
   },
   {
    "duration": 37,
    "start_time": "2023-02-18T15:59:32.177Z"
   },
   {
    "duration": 27,
    "start_time": "2023-02-18T15:59:32.216Z"
   },
   {
    "duration": 33,
    "start_time": "2023-02-18T15:59:32.246Z"
   },
   {
    "duration": 21,
    "start_time": "2023-02-18T15:59:32.280Z"
   },
   {
    "duration": 49,
    "start_time": "2023-02-18T15:59:32.303Z"
   },
   {
    "duration": 47,
    "start_time": "2023-02-18T15:59:32.354Z"
   },
   {
    "duration": 6,
    "start_time": "2023-02-18T15:59:32.403Z"
   },
   {
    "duration": 131,
    "start_time": "2023-02-18T15:59:32.411Z"
   },
   {
    "duration": 35,
    "start_time": "2023-02-18T15:59:32.544Z"
   },
   {
    "duration": 38,
    "start_time": "2023-02-18T15:59:32.581Z"
   },
   {
    "duration": 55,
    "start_time": "2023-02-18T15:59:32.623Z"
   },
   {
    "duration": 143,
    "start_time": "2023-02-18T15:59:32.679Z"
   },
   {
    "duration": 15,
    "start_time": "2023-02-18T15:59:32.824Z"
   },
   {
    "duration": 52,
    "start_time": "2023-02-18T15:59:32.847Z"
   },
   {
    "duration": 71,
    "start_time": "2023-02-18T15:59:32.901Z"
   },
   {
    "duration": 118,
    "start_time": "2023-02-18T15:59:32.974Z"
   },
   {
    "duration": 9,
    "start_time": "2023-02-18T15:59:33.094Z"
   },
   {
    "duration": 27,
    "start_time": "2023-02-18T15:59:33.105Z"
   },
   {
    "duration": 36,
    "start_time": "2023-02-18T15:59:33.140Z"
   },
   {
    "duration": 53,
    "start_time": "2023-02-18T15:59:33.178Z"
   },
   {
    "duration": 497,
    "start_time": "2023-02-18T15:59:33.233Z"
   },
   {
    "duration": 164,
    "start_time": "2023-02-18T15:59:33.737Z"
   },
   {
    "duration": 178,
    "start_time": "2023-02-18T15:59:33.903Z"
   },
   {
    "duration": 178,
    "start_time": "2023-02-18T15:59:34.083Z"
   },
   {
    "duration": 216,
    "start_time": "2023-02-18T15:59:34.263Z"
   },
   {
    "duration": 234,
    "start_time": "2023-02-18T15:59:34.480Z"
   },
   {
    "duration": 189,
    "start_time": "2023-02-18T15:59:34.717Z"
   },
   {
    "duration": 198,
    "start_time": "2023-02-18T15:59:34.908Z"
   },
   {
    "duration": 178,
    "start_time": "2023-02-18T15:59:35.108Z"
   },
   {
    "duration": 178,
    "start_time": "2023-02-18T15:59:35.288Z"
   },
   {
    "duration": 248,
    "start_time": "2023-02-18T15:59:35.468Z"
   },
   {
    "duration": 178,
    "start_time": "2023-02-18T15:59:35.718Z"
   },
   {
    "duration": 193,
    "start_time": "2023-02-18T15:59:35.897Z"
   },
   {
    "duration": 200,
    "start_time": "2023-02-18T15:59:36.092Z"
   },
   {
    "duration": 197,
    "start_time": "2023-02-18T15:59:36.294Z"
   },
   {
    "duration": 188,
    "start_time": "2023-02-18T15:59:36.494Z"
   },
   {
    "duration": 714,
    "start_time": "2023-02-18T15:59:36.684Z"
   },
   {
    "duration": 155,
    "start_time": "2023-02-18T15:59:37.400Z"
   },
   {
    "duration": 163,
    "start_time": "2023-02-18T15:59:37.557Z"
   },
   {
    "duration": 188,
    "start_time": "2023-02-18T15:59:37.728Z"
   },
   {
    "duration": 260,
    "start_time": "2023-02-18T15:59:37.918Z"
   },
   {
    "duration": 27,
    "start_time": "2023-02-18T15:59:38.180Z"
   },
   {
    "duration": 655,
    "start_time": "2023-02-18T15:59:38.209Z"
   },
   {
    "duration": 118,
    "start_time": "2023-02-18T16:06:51.444Z"
   },
   {
    "duration": 41,
    "start_time": "2023-02-18T16:07:32.971Z"
   },
   {
    "duration": 194,
    "start_time": "2023-02-18T16:07:39.624Z"
   },
   {
    "duration": 145,
    "start_time": "2023-02-18T16:17:21.591Z"
   },
   {
    "duration": 114,
    "start_time": "2023-02-18T16:17:45.974Z"
   },
   {
    "duration": 7,
    "start_time": "2023-02-18T16:18:42.693Z"
   },
   {
    "duration": 109,
    "start_time": "2023-02-18T16:20:49.332Z"
   },
   {
    "duration": 391,
    "start_time": "2023-02-19T06:42:21.094Z"
   },
   {
    "duration": 338,
    "start_time": "2023-02-19T06:42:21.487Z"
   },
   {
    "duration": 41,
    "start_time": "2023-02-19T06:42:21.827Z"
   },
   {
    "duration": 2529,
    "start_time": "2023-02-19T06:42:21.871Z"
   },
   {
    "duration": 12,
    "start_time": "2023-02-19T06:42:24.403Z"
   },
   {
    "duration": 24,
    "start_time": "2023-02-19T06:42:24.417Z"
   },
   {
    "duration": 14,
    "start_time": "2023-02-19T06:42:24.443Z"
   },
   {
    "duration": 22,
    "start_time": "2023-02-19T06:42:24.459Z"
   },
   {
    "duration": 15,
    "start_time": "2023-02-19T06:42:24.483Z"
   },
   {
    "duration": 7,
    "start_time": "2023-02-19T06:42:24.501Z"
   },
   {
    "duration": 9,
    "start_time": "2023-02-19T06:42:24.510Z"
   },
   {
    "duration": 25,
    "start_time": "2023-02-19T06:42:24.520Z"
   },
   {
    "duration": 7,
    "start_time": "2023-02-19T06:42:24.547Z"
   },
   {
    "duration": 25,
    "start_time": "2023-02-19T06:42:24.556Z"
   },
   {
    "duration": 29,
    "start_time": "2023-02-19T06:42:24.582Z"
   },
   {
    "duration": 7,
    "start_time": "2023-02-19T06:42:24.613Z"
   },
   {
    "duration": 16,
    "start_time": "2023-02-19T06:42:24.622Z"
   },
   {
    "duration": 152,
    "start_time": "2023-02-19T06:42:24.641Z"
   },
   {
    "duration": 25,
    "start_time": "2023-02-19T06:42:24.795Z"
   },
   {
    "duration": 23,
    "start_time": "2023-02-19T06:42:24.821Z"
   },
   {
    "duration": 23,
    "start_time": "2023-02-19T06:42:24.846Z"
   },
   {
    "duration": 18,
    "start_time": "2023-02-19T06:42:24.871Z"
   },
   {
    "duration": 52,
    "start_time": "2023-02-19T06:42:24.891Z"
   },
   {
    "duration": 27,
    "start_time": "2023-02-19T06:42:24.945Z"
   },
   {
    "duration": 6,
    "start_time": "2023-02-19T06:42:24.973Z"
   },
   {
    "duration": 110,
    "start_time": "2023-02-19T06:42:24.980Z"
   },
   {
    "duration": 30,
    "start_time": "2023-02-19T06:42:25.092Z"
   },
   {
    "duration": 6,
    "start_time": "2023-02-19T06:42:25.141Z"
   },
   {
    "duration": 51,
    "start_time": "2023-02-19T06:42:25.148Z"
   },
   {
    "duration": 10,
    "start_time": "2023-02-19T06:42:25.201Z"
   },
   {
    "duration": 42,
    "start_time": "2023-02-19T06:42:25.212Z"
   },
   {
    "duration": 137,
    "start_time": "2023-02-19T06:42:25.256Z"
   },
   {
    "duration": 68,
    "start_time": "2023-02-19T06:42:25.395Z"
   },
   {
    "duration": 123,
    "start_time": "2023-02-19T06:42:25.464Z"
   },
   {
    "duration": 8,
    "start_time": "2023-02-19T06:42:25.589Z"
   },
   {
    "duration": 26,
    "start_time": "2023-02-19T06:42:25.599Z"
   },
   {
    "duration": 25,
    "start_time": "2023-02-19T06:42:25.627Z"
   },
   {
    "duration": 45,
    "start_time": "2023-02-19T06:42:25.654Z"
   },
   {
    "duration": 40,
    "start_time": "2023-02-19T06:42:25.700Z"
   },
   {
    "duration": 420,
    "start_time": "2023-02-19T06:42:25.742Z"
   },
   {
    "duration": 166,
    "start_time": "2023-02-19T06:42:26.164Z"
   },
   {
    "duration": 161,
    "start_time": "2023-02-19T06:42:26.338Z"
   },
   {
    "duration": 165,
    "start_time": "2023-02-19T06:42:26.501Z"
   },
   {
    "duration": 78,
    "start_time": "2023-02-19T06:42:26.668Z"
   },
   {
    "duration": 0,
    "start_time": "2023-02-19T06:42:26.749Z"
   },
   {
    "duration": 0,
    "start_time": "2023-02-19T06:42:26.750Z"
   },
   {
    "duration": 0,
    "start_time": "2023-02-19T06:42:26.752Z"
   },
   {
    "duration": 0,
    "start_time": "2023-02-19T06:42:26.754Z"
   },
   {
    "duration": 0,
    "start_time": "2023-02-19T06:42:26.755Z"
   },
   {
    "duration": 0,
    "start_time": "2023-02-19T06:42:26.756Z"
   },
   {
    "duration": 0,
    "start_time": "2023-02-19T06:42:26.758Z"
   },
   {
    "duration": 0,
    "start_time": "2023-02-19T06:42:26.760Z"
   },
   {
    "duration": 0,
    "start_time": "2023-02-19T06:42:26.761Z"
   },
   {
    "duration": 0,
    "start_time": "2023-02-19T06:42:26.762Z"
   },
   {
    "duration": 0,
    "start_time": "2023-02-19T06:42:26.764Z"
   },
   {
    "duration": 0,
    "start_time": "2023-02-19T06:42:26.765Z"
   },
   {
    "duration": 0,
    "start_time": "2023-02-19T06:42:26.767Z"
   },
   {
    "duration": 0,
    "start_time": "2023-02-19T06:42:26.769Z"
   },
   {
    "duration": 0,
    "start_time": "2023-02-19T06:42:26.770Z"
   },
   {
    "duration": 0,
    "start_time": "2023-02-19T06:42:26.771Z"
   },
   {
    "duration": 0,
    "start_time": "2023-02-19T06:42:26.773Z"
   },
   {
    "duration": 0,
    "start_time": "2023-02-19T06:42:26.775Z"
   },
   {
    "duration": 8,
    "start_time": "2023-02-19T06:46:06.250Z"
   },
   {
    "duration": 203,
    "start_time": "2023-02-19T06:48:07.765Z"
   },
   {
    "duration": 162,
    "start_time": "2023-02-19T06:57:11.866Z"
   },
   {
    "duration": 114,
    "start_time": "2023-02-19T07:03:28.455Z"
   },
   {
    "duration": 447,
    "start_time": "2023-02-19T07:03:42.377Z"
   },
   {
    "duration": 111,
    "start_time": "2023-02-19T07:03:42.827Z"
   },
   {
    "duration": 40,
    "start_time": "2023-02-19T07:03:42.942Z"
   },
   {
    "duration": 2296,
    "start_time": "2023-02-19T07:03:42.984Z"
   },
   {
    "duration": 12,
    "start_time": "2023-02-19T07:03:45.282Z"
   },
   {
    "duration": 23,
    "start_time": "2023-02-19T07:03:45.297Z"
   },
   {
    "duration": 12,
    "start_time": "2023-02-19T07:03:45.322Z"
   },
   {
    "duration": 7,
    "start_time": "2023-02-19T07:03:45.335Z"
   },
   {
    "duration": 19,
    "start_time": "2023-02-19T07:03:45.344Z"
   },
   {
    "duration": 10,
    "start_time": "2023-02-19T07:03:45.367Z"
   },
   {
    "duration": 27,
    "start_time": "2023-02-19T07:03:45.380Z"
   },
   {
    "duration": 26,
    "start_time": "2023-02-19T07:03:45.409Z"
   },
   {
    "duration": 8,
    "start_time": "2023-02-19T07:03:45.437Z"
   },
   {
    "duration": 19,
    "start_time": "2023-02-19T07:03:45.447Z"
   },
   {
    "duration": 39,
    "start_time": "2023-02-19T07:03:45.467Z"
   },
   {
    "duration": 14,
    "start_time": "2023-02-19T07:03:45.508Z"
   },
   {
    "duration": 13,
    "start_time": "2023-02-19T07:03:45.525Z"
   },
   {
    "duration": 153,
    "start_time": "2023-02-19T07:03:45.540Z"
   },
   {
    "duration": 26,
    "start_time": "2023-02-19T07:03:45.695Z"
   },
   {
    "duration": 18,
    "start_time": "2023-02-19T07:03:45.723Z"
   },
   {
    "duration": 30,
    "start_time": "2023-02-19T07:03:45.743Z"
   },
   {
    "duration": 16,
    "start_time": "2023-02-19T07:03:45.776Z"
   },
   {
    "duration": 57,
    "start_time": "2023-02-19T07:03:45.794Z"
   },
   {
    "duration": 20,
    "start_time": "2023-02-19T07:03:45.853Z"
   },
   {
    "duration": 6,
    "start_time": "2023-02-19T07:03:45.875Z"
   },
   {
    "duration": 154,
    "start_time": "2023-02-19T07:03:45.883Z"
   },
   {
    "duration": 42,
    "start_time": "2023-02-19T07:03:46.039Z"
   },
   {
    "duration": 9,
    "start_time": "2023-02-19T07:03:46.087Z"
   },
   {
    "duration": 55,
    "start_time": "2023-02-19T07:03:46.097Z"
   },
   {
    "duration": 148,
    "start_time": "2023-02-19T07:03:46.153Z"
   },
   {
    "duration": 15,
    "start_time": "2023-02-19T07:03:46.302Z"
   },
   {
    "duration": 153,
    "start_time": "2023-02-19T07:03:46.319Z"
   },
   {
    "duration": 32,
    "start_time": "2023-02-19T07:03:46.473Z"
   },
   {
    "duration": 159,
    "start_time": "2023-02-19T07:03:46.507Z"
   },
   {
    "duration": 9,
    "start_time": "2023-02-19T07:03:46.668Z"
   },
   {
    "duration": 71,
    "start_time": "2023-02-19T07:03:46.679Z"
   },
   {
    "duration": 0,
    "start_time": "2023-02-19T07:03:46.752Z"
   },
   {
    "duration": 0,
    "start_time": "2023-02-19T07:03:46.754Z"
   },
   {
    "duration": 0,
    "start_time": "2023-02-19T07:03:46.756Z"
   },
   {
    "duration": 0,
    "start_time": "2023-02-19T07:03:46.757Z"
   },
   {
    "duration": 0,
    "start_time": "2023-02-19T07:03:46.759Z"
   },
   {
    "duration": 0,
    "start_time": "2023-02-19T07:03:46.761Z"
   },
   {
    "duration": 0,
    "start_time": "2023-02-19T07:03:46.763Z"
   },
   {
    "duration": 0,
    "start_time": "2023-02-19T07:03:46.764Z"
   },
   {
    "duration": 0,
    "start_time": "2023-02-19T07:03:46.767Z"
   },
   {
    "duration": 0,
    "start_time": "2023-02-19T07:03:46.768Z"
   },
   {
    "duration": 0,
    "start_time": "2023-02-19T07:03:46.769Z"
   },
   {
    "duration": 0,
    "start_time": "2023-02-19T07:03:46.771Z"
   },
   {
    "duration": 0,
    "start_time": "2023-02-19T07:03:46.772Z"
   },
   {
    "duration": 0,
    "start_time": "2023-02-19T07:03:46.773Z"
   },
   {
    "duration": 0,
    "start_time": "2023-02-19T07:03:46.775Z"
   },
   {
    "duration": 0,
    "start_time": "2023-02-19T07:03:46.776Z"
   },
   {
    "duration": 0,
    "start_time": "2023-02-19T07:03:46.778Z"
   },
   {
    "duration": 0,
    "start_time": "2023-02-19T07:03:46.779Z"
   },
   {
    "duration": 0,
    "start_time": "2023-02-19T07:03:46.780Z"
   },
   {
    "duration": 0,
    "start_time": "2023-02-19T07:03:46.782Z"
   },
   {
    "duration": 0,
    "start_time": "2023-02-19T07:03:46.784Z"
   },
   {
    "duration": 0,
    "start_time": "2023-02-19T07:03:46.786Z"
   },
   {
    "duration": 0,
    "start_time": "2023-02-19T07:03:46.787Z"
   },
   {
    "duration": 0,
    "start_time": "2023-02-19T07:03:46.788Z"
   },
   {
    "duration": 0,
    "start_time": "2023-02-19T07:03:46.790Z"
   },
   {
    "duration": 0,
    "start_time": "2023-02-19T07:03:46.838Z"
   },
   {
    "duration": 3,
    "start_time": "2023-02-19T07:04:35.458Z"
   },
   {
    "duration": 13,
    "start_time": "2023-02-19T07:08:00.554Z"
   },
   {
    "duration": 445,
    "start_time": "2023-02-19T07:08:08.774Z"
   },
   {
    "duration": 166,
    "start_time": "2023-02-19T07:08:09.222Z"
   },
   {
    "duration": 78,
    "start_time": "2023-02-19T07:08:09.391Z"
   },
   {
    "duration": 2784,
    "start_time": "2023-02-19T07:08:09.472Z"
   },
   {
    "duration": 11,
    "start_time": "2023-02-19T07:08:12.259Z"
   },
   {
    "duration": 11,
    "start_time": "2023-02-19T07:08:12.272Z"
   },
   {
    "duration": 7,
    "start_time": "2023-02-19T07:08:12.285Z"
   },
   {
    "duration": 6,
    "start_time": "2023-02-19T07:08:12.294Z"
   },
   {
    "duration": 12,
    "start_time": "2023-02-19T07:08:12.301Z"
   },
   {
    "duration": 23,
    "start_time": "2023-02-19T07:08:12.316Z"
   },
   {
    "duration": 37,
    "start_time": "2023-02-19T07:08:12.341Z"
   },
   {
    "duration": 36,
    "start_time": "2023-02-19T07:08:12.380Z"
   },
   {
    "duration": 11,
    "start_time": "2023-02-19T07:08:12.419Z"
   },
   {
    "duration": 33,
    "start_time": "2023-02-19T07:08:12.433Z"
   },
   {
    "duration": 53,
    "start_time": "2023-02-19T07:08:12.468Z"
   },
   {
    "duration": 8,
    "start_time": "2023-02-19T07:08:12.523Z"
   },
   {
    "duration": 31,
    "start_time": "2023-02-19T07:08:12.534Z"
   },
   {
    "duration": 194,
    "start_time": "2023-02-19T07:08:12.567Z"
   },
   {
    "duration": 26,
    "start_time": "2023-02-19T07:08:12.763Z"
   },
   {
    "duration": 9,
    "start_time": "2023-02-19T07:08:12.791Z"
   },
   {
    "duration": 53,
    "start_time": "2023-02-19T07:08:12.802Z"
   },
   {
    "duration": 14,
    "start_time": "2023-02-19T07:08:12.857Z"
   },
   {
    "duration": 39,
    "start_time": "2023-02-19T07:08:12.873Z"
   },
   {
    "duration": 34,
    "start_time": "2023-02-19T07:08:12.914Z"
   },
   {
    "duration": 8,
    "start_time": "2023-02-19T07:08:12.950Z"
   },
   {
    "duration": 152,
    "start_time": "2023-02-19T07:08:12.960Z"
   },
   {
    "duration": 48,
    "start_time": "2023-02-19T07:08:13.114Z"
   },
   {
    "duration": 8,
    "start_time": "2023-02-19T07:08:13.166Z"
   },
   {
    "duration": 47,
    "start_time": "2023-02-19T07:08:13.175Z"
   },
   {
    "duration": 165,
    "start_time": "2023-02-19T07:08:13.237Z"
   },
   {
    "duration": 20,
    "start_time": "2023-02-19T07:08:13.404Z"
   },
   {
    "duration": 150,
    "start_time": "2023-02-19T07:08:13.436Z"
   },
   {
    "duration": 30,
    "start_time": "2023-02-19T07:08:13.588Z"
   },
   {
    "duration": 143,
    "start_time": "2023-02-19T07:08:13.620Z"
   },
   {
    "duration": 9,
    "start_time": "2023-02-19T07:08:13.764Z"
   },
   {
    "duration": 6,
    "start_time": "2023-02-19T07:08:13.775Z"
   },
   {
    "duration": 20,
    "start_time": "2023-02-19T07:08:13.782Z"
   },
   {
    "duration": 70,
    "start_time": "2023-02-19T07:08:13.804Z"
   },
   {
    "duration": 35,
    "start_time": "2023-02-19T07:08:13.876Z"
   },
   {
    "duration": 503,
    "start_time": "2023-02-19T07:08:13.913Z"
   },
   {
    "duration": 215,
    "start_time": "2023-02-19T07:08:14.418Z"
   },
   {
    "duration": 212,
    "start_time": "2023-02-19T07:08:14.635Z"
   },
   {
    "duration": 205,
    "start_time": "2023-02-19T07:08:14.849Z"
   },
   {
    "duration": 231,
    "start_time": "2023-02-19T07:08:15.056Z"
   },
   {
    "duration": 195,
    "start_time": "2023-02-19T07:08:15.289Z"
   },
   {
    "duration": 187,
    "start_time": "2023-02-19T07:08:15.486Z"
   },
   {
    "duration": 194,
    "start_time": "2023-02-19T07:08:15.675Z"
   },
   {
    "duration": 176,
    "start_time": "2023-02-19T07:08:15.870Z"
   },
   {
    "duration": 263,
    "start_time": "2023-02-19T07:08:16.049Z"
   },
   {
    "duration": 207,
    "start_time": "2023-02-19T07:08:16.314Z"
   },
   {
    "duration": 203,
    "start_time": "2023-02-19T07:08:16.524Z"
   },
   {
    "duration": 203,
    "start_time": "2023-02-19T07:08:16.729Z"
   },
   {
    "duration": 221,
    "start_time": "2023-02-19T07:08:16.938Z"
   },
   {
    "duration": 191,
    "start_time": "2023-02-19T07:08:17.162Z"
   },
   {
    "duration": 217,
    "start_time": "2023-02-19T07:08:17.356Z"
   },
   {
    "duration": 828,
    "start_time": "2023-02-19T07:08:17.576Z"
   },
   {
    "duration": 162,
    "start_time": "2023-02-19T07:08:18.406Z"
   },
   {
    "duration": 168,
    "start_time": "2023-02-19T07:08:18.570Z"
   },
   {
    "duration": 278,
    "start_time": "2023-02-19T07:08:18.742Z"
   },
   {
    "duration": 175,
    "start_time": "2023-02-19T07:08:19.022Z"
   },
   {
    "duration": 24,
    "start_time": "2023-02-19T07:08:19.199Z"
   },
   {
    "duration": 750,
    "start_time": "2023-02-19T07:08:19.225Z"
   },
   {
    "duration": 5,
    "start_time": "2023-02-19T07:09:40.654Z"
   },
   {
    "duration": 14,
    "start_time": "2023-02-19T07:10:40.796Z"
   },
   {
    "duration": 446,
    "start_time": "2023-02-19T07:10:47.865Z"
   },
   {
    "duration": 115,
    "start_time": "2023-02-19T07:10:48.313Z"
   },
   {
    "duration": 49,
    "start_time": "2023-02-19T07:10:48.430Z"
   },
   {
    "duration": 2583,
    "start_time": "2023-02-19T07:10:48.481Z"
   },
   {
    "duration": 11,
    "start_time": "2023-02-19T07:10:51.065Z"
   },
   {
    "duration": 7,
    "start_time": "2023-02-19T07:10:51.077Z"
   },
   {
    "duration": 15,
    "start_time": "2023-02-19T07:10:51.086Z"
   },
   {
    "duration": 10,
    "start_time": "2023-02-19T07:10:51.103Z"
   },
   {
    "duration": 16,
    "start_time": "2023-02-19T07:10:51.115Z"
   },
   {
    "duration": 23,
    "start_time": "2023-02-19T07:10:51.133Z"
   },
   {
    "duration": 11,
    "start_time": "2023-02-19T07:10:51.158Z"
   },
   {
    "duration": 27,
    "start_time": "2023-02-19T07:10:51.170Z"
   },
   {
    "duration": 8,
    "start_time": "2023-02-19T07:10:51.198Z"
   },
   {
    "duration": 11,
    "start_time": "2023-02-19T07:10:51.207Z"
   },
   {
    "duration": 42,
    "start_time": "2023-02-19T07:10:51.220Z"
   },
   {
    "duration": 6,
    "start_time": "2023-02-19T07:10:51.264Z"
   },
   {
    "duration": 4,
    "start_time": "2023-02-19T07:10:51.272Z"
   },
   {
    "duration": 174,
    "start_time": "2023-02-19T07:10:51.278Z"
   },
   {
    "duration": 25,
    "start_time": "2023-02-19T07:10:51.453Z"
   },
   {
    "duration": 16,
    "start_time": "2023-02-19T07:10:51.480Z"
   },
   {
    "duration": 28,
    "start_time": "2023-02-19T07:10:51.497Z"
   },
   {
    "duration": 19,
    "start_time": "2023-02-19T07:10:51.527Z"
   },
   {
    "duration": 51,
    "start_time": "2023-02-19T07:10:51.548Z"
   },
   {
    "duration": 22,
    "start_time": "2023-02-19T07:10:51.601Z"
   },
   {
    "duration": 6,
    "start_time": "2023-02-19T07:10:51.624Z"
   },
   {
    "duration": 131,
    "start_time": "2023-02-19T07:10:51.638Z"
   },
   {
    "duration": 30,
    "start_time": "2023-02-19T07:10:51.771Z"
   },
   {
    "duration": 21,
    "start_time": "2023-02-19T07:10:51.805Z"
   },
   {
    "duration": 48,
    "start_time": "2023-02-19T07:10:51.828Z"
   },
   {
    "duration": 179,
    "start_time": "2023-02-19T07:10:51.878Z"
   },
   {
    "duration": 16,
    "start_time": "2023-02-19T07:10:52.058Z"
   },
   {
    "duration": 144,
    "start_time": "2023-02-19T07:10:52.076Z"
   },
   {
    "duration": 49,
    "start_time": "2023-02-19T07:10:52.222Z"
   },
   {
    "duration": 161,
    "start_time": "2023-02-19T07:10:52.273Z"
   },
   {
    "duration": 12,
    "start_time": "2023-02-19T07:10:52.436Z"
   },
   {
    "duration": 33,
    "start_time": "2023-02-19T07:10:52.451Z"
   },
   {
    "duration": 21,
    "start_time": "2023-02-19T07:10:52.486Z"
   },
   {
    "duration": 79,
    "start_time": "2023-02-19T07:10:52.510Z"
   },
   {
    "duration": 49,
    "start_time": "2023-02-19T07:10:52.591Z"
   },
   {
    "duration": 478,
    "start_time": "2023-02-19T07:10:52.643Z"
   },
   {
    "duration": 190,
    "start_time": "2023-02-19T07:10:53.123Z"
   },
   {
    "duration": 211,
    "start_time": "2023-02-19T07:10:53.314Z"
   },
   {
    "duration": 193,
    "start_time": "2023-02-19T07:10:53.527Z"
   },
   {
    "duration": 230,
    "start_time": "2023-02-19T07:10:53.722Z"
   },
   {
    "duration": 176,
    "start_time": "2023-02-19T07:10:53.953Z"
   },
   {
    "duration": 194,
    "start_time": "2023-02-19T07:10:54.131Z"
   },
   {
    "duration": 183,
    "start_time": "2023-02-19T07:10:54.327Z"
   },
   {
    "duration": 190,
    "start_time": "2023-02-19T07:10:54.512Z"
   },
   {
    "duration": 265,
    "start_time": "2023-02-19T07:10:54.704Z"
   },
   {
    "duration": 193,
    "start_time": "2023-02-19T07:10:54.971Z"
   },
   {
    "duration": 188,
    "start_time": "2023-02-19T07:10:55.166Z"
   },
   {
    "duration": 198,
    "start_time": "2023-02-19T07:10:55.356Z"
   },
   {
    "duration": 204,
    "start_time": "2023-02-19T07:10:55.557Z"
   },
   {
    "duration": 181,
    "start_time": "2023-02-19T07:10:55.763Z"
   },
   {
    "duration": 174,
    "start_time": "2023-02-19T07:10:55.946Z"
   },
   {
    "duration": 829,
    "start_time": "2023-02-19T07:10:56.122Z"
   },
   {
    "duration": 144,
    "start_time": "2023-02-19T07:10:56.953Z"
   },
   {
    "duration": 181,
    "start_time": "2023-02-19T07:10:57.099Z"
   },
   {
    "duration": 289,
    "start_time": "2023-02-19T07:10:57.282Z"
   },
   {
    "duration": 178,
    "start_time": "2023-02-19T07:10:57.573Z"
   },
   {
    "duration": 30,
    "start_time": "2023-02-19T07:10:57.754Z"
   },
   {
    "duration": 751,
    "start_time": "2023-02-19T07:10:57.786Z"
   },
   {
    "duration": 8,
    "start_time": "2023-02-19T07:47:48.004Z"
   },
   {
    "duration": 430,
    "start_time": "2023-02-19T07:49:46.166Z"
   },
   {
    "duration": 123,
    "start_time": "2023-02-19T07:49:46.599Z"
   },
   {
    "duration": 50,
    "start_time": "2023-02-19T07:49:46.724Z"
   },
   {
    "duration": 2520,
    "start_time": "2023-02-19T07:49:46.776Z"
   },
   {
    "duration": 11,
    "start_time": "2023-02-19T07:49:49.298Z"
   },
   {
    "duration": 11,
    "start_time": "2023-02-19T07:49:49.311Z"
   },
   {
    "duration": 15,
    "start_time": "2023-02-19T07:49:49.324Z"
   },
   {
    "duration": 7,
    "start_time": "2023-02-19T07:49:49.341Z"
   },
   {
    "duration": 7,
    "start_time": "2023-02-19T07:49:49.350Z"
   },
   {
    "duration": 8,
    "start_time": "2023-02-19T07:49:49.362Z"
   },
   {
    "duration": 12,
    "start_time": "2023-02-19T07:49:49.373Z"
   },
   {
    "duration": 54,
    "start_time": "2023-02-19T07:49:49.388Z"
   },
   {
    "duration": 9,
    "start_time": "2023-02-19T07:49:49.444Z"
   },
   {
    "duration": 10,
    "start_time": "2023-02-19T07:49:49.455Z"
   },
   {
    "duration": 71,
    "start_time": "2023-02-19T07:49:49.467Z"
   },
   {
    "duration": 8,
    "start_time": "2023-02-19T07:49:49.540Z"
   },
   {
    "duration": 10,
    "start_time": "2023-02-19T07:49:49.550Z"
   },
   {
    "duration": 164,
    "start_time": "2023-02-19T07:49:49.562Z"
   },
   {
    "duration": 33,
    "start_time": "2023-02-19T07:49:49.728Z"
   },
   {
    "duration": 6,
    "start_time": "2023-02-19T07:49:49.763Z"
   },
   {
    "duration": 32,
    "start_time": "2023-02-19T07:49:49.771Z"
   },
   {
    "duration": 34,
    "start_time": "2023-02-19T07:49:49.804Z"
   },
   {
    "duration": 46,
    "start_time": "2023-02-19T07:49:49.840Z"
   },
   {
    "duration": 19,
    "start_time": "2023-02-19T07:49:49.888Z"
   },
   {
    "duration": 31,
    "start_time": "2023-02-19T07:49:49.909Z"
   },
   {
    "duration": 123,
    "start_time": "2023-02-19T07:49:49.942Z"
   },
   {
    "duration": 13,
    "start_time": "2023-02-19T07:49:50.068Z"
   },
   {
    "duration": 8,
    "start_time": "2023-02-19T07:49:50.087Z"
   },
   {
    "duration": 70,
    "start_time": "2023-02-19T07:49:50.098Z"
   },
   {
    "duration": 199,
    "start_time": "2023-02-19T07:49:50.171Z"
   },
   {
    "duration": 15,
    "start_time": "2023-02-19T07:49:50.372Z"
   },
   {
    "duration": 151,
    "start_time": "2023-02-19T07:49:50.389Z"
   },
   {
    "duration": 32,
    "start_time": "2023-02-19T07:49:50.542Z"
   },
   {
    "duration": 153,
    "start_time": "2023-02-19T07:49:50.576Z"
   },
   {
    "duration": 10,
    "start_time": "2023-02-19T07:49:50.732Z"
   },
   {
    "duration": 14,
    "start_time": "2023-02-19T07:49:50.744Z"
   },
   {
    "duration": 8,
    "start_time": "2023-02-19T07:49:50.761Z"
   },
   {
    "duration": 22,
    "start_time": "2023-02-19T07:49:50.771Z"
   },
   {
    "duration": 56,
    "start_time": "2023-02-19T07:49:50.796Z"
   },
   {
    "duration": 42,
    "start_time": "2023-02-19T07:49:50.854Z"
   },
   {
    "duration": 468,
    "start_time": "2023-02-19T07:49:50.899Z"
   },
   {
    "duration": 185,
    "start_time": "2023-02-19T07:49:51.369Z"
   },
   {
    "duration": 188,
    "start_time": "2023-02-19T07:49:51.556Z"
   },
   {
    "duration": 179,
    "start_time": "2023-02-19T07:49:51.746Z"
   },
   {
    "duration": 231,
    "start_time": "2023-02-19T07:49:51.927Z"
   },
   {
    "duration": 178,
    "start_time": "2023-02-19T07:49:52.160Z"
   },
   {
    "duration": 262,
    "start_time": "2023-02-19T07:49:52.340Z"
   },
   {
    "duration": 262,
    "start_time": "2023-02-19T07:49:52.605Z"
   },
   {
    "duration": 178,
    "start_time": "2023-02-19T07:49:52.869Z"
   },
   {
    "duration": 280,
    "start_time": "2023-02-19T07:49:53.049Z"
   },
   {
    "duration": 194,
    "start_time": "2023-02-19T07:49:53.331Z"
   },
   {
    "duration": 200,
    "start_time": "2023-02-19T07:49:53.527Z"
   },
   {
    "duration": 197,
    "start_time": "2023-02-19T07:49:53.729Z"
   },
   {
    "duration": 196,
    "start_time": "2023-02-19T07:49:53.928Z"
   },
   {
    "duration": 192,
    "start_time": "2023-02-19T07:49:54.126Z"
   },
   {
    "duration": 193,
    "start_time": "2023-02-19T07:49:54.321Z"
   },
   {
    "duration": 782,
    "start_time": "2023-02-19T07:49:54.516Z"
   },
   {
    "duration": 150,
    "start_time": "2023-02-19T07:49:55.300Z"
   },
   {
    "duration": 165,
    "start_time": "2023-02-19T07:49:55.452Z"
   },
   {
    "duration": 291,
    "start_time": "2023-02-19T07:49:55.619Z"
   },
   {
    "duration": 176,
    "start_time": "2023-02-19T07:49:55.912Z"
   },
   {
    "duration": 31,
    "start_time": "2023-02-19T07:49:56.091Z"
   },
   {
    "duration": 752,
    "start_time": "2023-02-19T07:49:56.124Z"
   },
   {
    "duration": 123,
    "start_time": "2023-02-19T07:59:33.748Z"
   },
   {
    "duration": 452,
    "start_time": "2023-02-19T07:59:54.893Z"
   },
   {
    "duration": 130,
    "start_time": "2023-02-19T07:59:55.348Z"
   },
   {
    "duration": 61,
    "start_time": "2023-02-19T07:59:55.480Z"
   },
   {
    "duration": 2520,
    "start_time": "2023-02-19T07:59:55.544Z"
   },
   {
    "duration": 12,
    "start_time": "2023-02-19T07:59:58.066Z"
   },
   {
    "duration": 28,
    "start_time": "2023-02-19T07:59:58.079Z"
   },
   {
    "duration": 15,
    "start_time": "2023-02-19T07:59:58.109Z"
   },
   {
    "duration": 14,
    "start_time": "2023-02-19T07:59:58.126Z"
   },
   {
    "duration": 32,
    "start_time": "2023-02-19T07:59:58.142Z"
   },
   {
    "duration": 24,
    "start_time": "2023-02-19T07:59:58.178Z"
   },
   {
    "duration": 29,
    "start_time": "2023-02-19T07:59:58.204Z"
   },
   {
    "duration": 29,
    "start_time": "2023-02-19T07:59:58.236Z"
   },
   {
    "duration": 11,
    "start_time": "2023-02-19T07:59:58.267Z"
   },
   {
    "duration": 30,
    "start_time": "2023-02-19T07:59:58.280Z"
   },
   {
    "duration": 58,
    "start_time": "2023-02-19T07:59:58.312Z"
   },
   {
    "duration": 8,
    "start_time": "2023-02-19T07:59:58.372Z"
   },
   {
    "duration": 17,
    "start_time": "2023-02-19T07:59:58.382Z"
   },
   {
    "duration": 131,
    "start_time": "2023-02-19T07:59:58.401Z"
   },
   {
    "duration": 164,
    "start_time": "2023-02-19T07:59:58.534Z"
   },
   {
    "duration": 37,
    "start_time": "2023-02-19T07:59:58.700Z"
   },
   {
    "duration": 7,
    "start_time": "2023-02-19T07:59:58.739Z"
   },
   {
    "duration": 36,
    "start_time": "2023-02-19T07:59:58.748Z"
   },
   {
    "duration": 11,
    "start_time": "2023-02-19T07:59:58.786Z"
   },
   {
    "duration": 89,
    "start_time": "2023-02-19T07:59:58.798Z"
   },
   {
    "duration": 16,
    "start_time": "2023-02-19T07:59:58.889Z"
   },
   {
    "duration": 7,
    "start_time": "2023-02-19T07:59:58.907Z"
   },
   {
    "duration": 120,
    "start_time": "2023-02-19T07:59:58.938Z"
   },
   {
    "duration": 11,
    "start_time": "2023-02-19T07:59:59.062Z"
   },
   {
    "duration": 10,
    "start_time": "2023-02-19T07:59:59.074Z"
   },
   {
    "duration": 60,
    "start_time": "2023-02-19T07:59:59.086Z"
   },
   {
    "duration": 161,
    "start_time": "2023-02-19T07:59:59.148Z"
   },
   {
    "duration": 27,
    "start_time": "2023-02-19T07:59:59.311Z"
   },
   {
    "duration": 148,
    "start_time": "2023-02-19T07:59:59.340Z"
   },
   {
    "duration": 51,
    "start_time": "2023-02-19T07:59:59.490Z"
   },
   {
    "duration": 153,
    "start_time": "2023-02-19T07:59:59.543Z"
   },
   {
    "duration": 6,
    "start_time": "2023-02-19T07:59:59.698Z"
   },
   {
    "duration": 14,
    "start_time": "2023-02-19T07:59:59.706Z"
   },
   {
    "duration": 18,
    "start_time": "2023-02-19T07:59:59.722Z"
   },
   {
    "duration": 10,
    "start_time": "2023-02-19T07:59:59.742Z"
   },
   {
    "duration": 42,
    "start_time": "2023-02-19T07:59:59.754Z"
   },
   {
    "duration": 60,
    "start_time": "2023-02-19T07:59:59.798Z"
   },
   {
    "duration": 459,
    "start_time": "2023-02-19T07:59:59.860Z"
   },
   {
    "duration": 194,
    "start_time": "2023-02-19T08:00:00.321Z"
   },
   {
    "duration": 193,
    "start_time": "2023-02-19T08:00:00.517Z"
   },
   {
    "duration": 211,
    "start_time": "2023-02-19T08:00:00.712Z"
   },
   {
    "duration": 218,
    "start_time": "2023-02-19T08:00:00.925Z"
   },
   {
    "duration": 166,
    "start_time": "2023-02-19T08:00:01.145Z"
   },
   {
    "duration": 196,
    "start_time": "2023-02-19T08:00:01.313Z"
   },
   {
    "duration": 188,
    "start_time": "2023-02-19T08:00:01.511Z"
   },
   {
    "duration": 243,
    "start_time": "2023-02-19T08:00:01.702Z"
   },
   {
    "duration": 175,
    "start_time": "2023-02-19T08:00:01.947Z"
   },
   {
    "duration": 192,
    "start_time": "2023-02-19T08:00:02.124Z"
   },
   {
    "duration": 220,
    "start_time": "2023-02-19T08:00:02.318Z"
   },
   {
    "duration": 235,
    "start_time": "2023-02-19T08:00:02.541Z"
   },
   {
    "duration": 195,
    "start_time": "2023-02-19T08:00:02.778Z"
   },
   {
    "duration": 168,
    "start_time": "2023-02-19T08:00:02.975Z"
   },
   {
    "duration": 160,
    "start_time": "2023-02-19T08:00:03.145Z"
   },
   {
    "duration": 798,
    "start_time": "2023-02-19T08:00:03.308Z"
   },
   {
    "duration": 147,
    "start_time": "2023-02-19T08:00:04.108Z"
   },
   {
    "duration": 282,
    "start_time": "2023-02-19T08:00:04.258Z"
   },
   {
    "duration": 227,
    "start_time": "2023-02-19T08:00:04.542Z"
   },
   {
    "duration": 187,
    "start_time": "2023-02-19T08:00:04.771Z"
   },
   {
    "duration": 29,
    "start_time": "2023-02-19T08:00:04.961Z"
   },
   {
    "duration": 756,
    "start_time": "2023-02-19T08:00:04.993Z"
   },
   {
    "duration": 4,
    "start_time": "2023-02-19T08:01:03.579Z"
   },
   {
    "duration": 8,
    "start_time": "2023-02-19T08:05:50.338Z"
   },
   {
    "duration": 488,
    "start_time": "2023-02-19T08:05:57.213Z"
   },
   {
    "duration": 116,
    "start_time": "2023-02-19T08:05:57.704Z"
   },
   {
    "duration": 46,
    "start_time": "2023-02-19T08:05:57.822Z"
   },
   {
    "duration": 2497,
    "start_time": "2023-02-19T08:05:57.871Z"
   },
   {
    "duration": 12,
    "start_time": "2023-02-19T08:06:00.369Z"
   },
   {
    "duration": 74,
    "start_time": "2023-02-19T08:06:00.382Z"
   },
   {
    "duration": 57,
    "start_time": "2023-02-19T08:06:00.458Z"
   },
   {
    "duration": 77,
    "start_time": "2023-02-19T08:06:00.517Z"
   },
   {
    "duration": 48,
    "start_time": "2023-02-19T08:06:00.595Z"
   },
   {
    "duration": 36,
    "start_time": "2023-02-19T08:06:00.646Z"
   },
   {
    "duration": 31,
    "start_time": "2023-02-19T08:06:00.683Z"
   },
   {
    "duration": 55,
    "start_time": "2023-02-19T08:06:00.716Z"
   },
   {
    "duration": 46,
    "start_time": "2023-02-19T08:06:00.773Z"
   },
   {
    "duration": 56,
    "start_time": "2023-02-19T08:06:00.821Z"
   },
   {
    "duration": 46,
    "start_time": "2023-02-19T08:06:00.879Z"
   },
   {
    "duration": 12,
    "start_time": "2023-02-19T08:06:00.927Z"
   },
   {
    "duration": 34,
    "start_time": "2023-02-19T08:06:00.941Z"
   },
   {
    "duration": 130,
    "start_time": "2023-02-19T08:06:00.977Z"
   },
   {
    "duration": 9,
    "start_time": "2023-02-19T08:06:01.109Z"
   },
   {
    "duration": 192,
    "start_time": "2023-02-19T08:06:01.120Z"
   },
   {
    "duration": 34,
    "start_time": "2023-02-19T08:06:01.314Z"
   },
   {
    "duration": 29,
    "start_time": "2023-02-19T08:06:01.350Z"
   },
   {
    "duration": 61,
    "start_time": "2023-02-19T08:06:01.381Z"
   },
   {
    "duration": 55,
    "start_time": "2023-02-19T08:06:01.444Z"
   },
   {
    "duration": 62,
    "start_time": "2023-02-19T08:06:01.501Z"
   },
   {
    "duration": 59,
    "start_time": "2023-02-19T08:06:01.565Z"
   },
   {
    "duration": 46,
    "start_time": "2023-02-19T08:06:01.626Z"
   },
   {
    "duration": 149,
    "start_time": "2023-02-19T08:06:01.676Z"
   },
   {
    "duration": 20,
    "start_time": "2023-02-19T08:06:01.827Z"
   },
   {
    "duration": 51,
    "start_time": "2023-02-19T08:06:01.848Z"
   },
   {
    "duration": 166,
    "start_time": "2023-02-19T08:06:01.901Z"
   },
   {
    "duration": 160,
    "start_time": "2023-02-19T08:06:02.069Z"
   },
   {
    "duration": 18,
    "start_time": "2023-02-19T08:06:02.231Z"
   },
   {
    "duration": 149,
    "start_time": "2023-02-19T08:06:02.251Z"
   },
   {
    "duration": 44,
    "start_time": "2023-02-19T08:06:02.403Z"
   },
   {
    "duration": 173,
    "start_time": "2023-02-19T08:06:02.450Z"
   },
   {
    "duration": 7,
    "start_time": "2023-02-19T08:06:02.625Z"
   },
   {
    "duration": 35,
    "start_time": "2023-02-19T08:06:02.637Z"
   },
   {
    "duration": 17,
    "start_time": "2023-02-19T08:06:02.674Z"
   },
   {
    "duration": 29,
    "start_time": "2023-02-19T08:06:02.693Z"
   },
   {
    "duration": 71,
    "start_time": "2023-02-19T08:06:02.723Z"
   },
   {
    "duration": 59,
    "start_time": "2023-02-19T08:06:02.795Z"
   },
   {
    "duration": 444,
    "start_time": "2023-02-19T08:06:02.855Z"
   },
   {
    "duration": 180,
    "start_time": "2023-02-19T08:06:03.301Z"
   },
   {
    "duration": 192,
    "start_time": "2023-02-19T08:06:03.483Z"
   },
   {
    "duration": 184,
    "start_time": "2023-02-19T08:06:03.677Z"
   },
   {
    "duration": 221,
    "start_time": "2023-02-19T08:06:03.863Z"
   },
   {
    "duration": 163,
    "start_time": "2023-02-19T08:06:04.086Z"
   },
   {
    "duration": 177,
    "start_time": "2023-02-19T08:06:04.251Z"
   },
   {
    "duration": 188,
    "start_time": "2023-02-19T08:06:04.430Z"
   },
   {
    "duration": 265,
    "start_time": "2023-02-19T08:06:04.620Z"
   },
   {
    "duration": 181,
    "start_time": "2023-02-19T08:06:04.886Z"
   },
   {
    "duration": 184,
    "start_time": "2023-02-19T08:06:05.069Z"
   },
   {
    "duration": 178,
    "start_time": "2023-02-19T08:06:05.255Z"
   },
   {
    "duration": 176,
    "start_time": "2023-02-19T08:06:05.438Z"
   },
   {
    "duration": 187,
    "start_time": "2023-02-19T08:06:05.616Z"
   },
   {
    "duration": 165,
    "start_time": "2023-02-19T08:06:05.805Z"
   },
   {
    "duration": 165,
    "start_time": "2023-02-19T08:06:05.972Z"
   },
   {
    "duration": 752,
    "start_time": "2023-02-19T08:06:06.140Z"
   },
   {
    "duration": 152,
    "start_time": "2023-02-19T08:06:06.894Z"
   },
   {
    "duration": 253,
    "start_time": "2023-02-19T08:06:07.048Z"
   },
   {
    "duration": 198,
    "start_time": "2023-02-19T08:06:07.303Z"
   },
   {
    "duration": 176,
    "start_time": "2023-02-19T08:06:07.504Z"
   },
   {
    "duration": 37,
    "start_time": "2023-02-19T08:06:07.682Z"
   },
   {
    "duration": 700,
    "start_time": "2023-02-19T08:06:07.720Z"
   },
   {
    "duration": 254,
    "start_time": "2023-02-19T08:07:12.621Z"
   },
   {
    "duration": 196,
    "start_time": "2023-02-19T08:07:18.716Z"
   },
   {
    "duration": 5,
    "start_time": "2023-02-19T08:08:06.652Z"
   },
   {
    "duration": 158,
    "start_time": "2023-02-19T08:08:17.140Z"
   },
   {
    "duration": 4,
    "start_time": "2023-02-19T08:09:38.076Z"
   },
   {
    "duration": 9,
    "start_time": "2023-02-19T08:12:39.962Z"
   },
   {
    "duration": 4,
    "start_time": "2023-02-19T08:13:02.009Z"
   },
   {
    "duration": 6,
    "start_time": "2023-02-19T08:13:12.721Z"
   },
   {
    "duration": 447,
    "start_time": "2023-02-19T08:21:26.131Z"
   },
   {
    "duration": 123,
    "start_time": "2023-02-19T08:21:26.580Z"
   },
   {
    "duration": 70,
    "start_time": "2023-02-19T08:21:26.705Z"
   },
   {
    "duration": 2503,
    "start_time": "2023-02-19T08:21:26.777Z"
   },
   {
    "duration": 11,
    "start_time": "2023-02-19T08:21:29.282Z"
   },
   {
    "duration": 20,
    "start_time": "2023-02-19T08:21:29.295Z"
   },
   {
    "duration": 15,
    "start_time": "2023-02-19T08:21:29.317Z"
   },
   {
    "duration": 7,
    "start_time": "2023-02-19T08:21:29.334Z"
   },
   {
    "duration": 5,
    "start_time": "2023-02-19T08:21:29.343Z"
   },
   {
    "duration": 7,
    "start_time": "2023-02-19T08:21:29.350Z"
   },
   {
    "duration": 14,
    "start_time": "2023-02-19T08:21:29.359Z"
   },
   {
    "duration": 48,
    "start_time": "2023-02-19T08:21:29.375Z"
   },
   {
    "duration": 13,
    "start_time": "2023-02-19T08:21:29.426Z"
   },
   {
    "duration": 14,
    "start_time": "2023-02-19T08:21:29.441Z"
   },
   {
    "duration": 35,
    "start_time": "2023-02-19T08:21:29.457Z"
   },
   {
    "duration": 7,
    "start_time": "2023-02-19T08:21:29.494Z"
   },
   {
    "duration": 34,
    "start_time": "2023-02-19T08:21:29.503Z"
   },
   {
    "duration": 109,
    "start_time": "2023-02-19T08:21:29.540Z"
   },
   {
    "duration": 10,
    "start_time": "2023-02-19T08:21:29.650Z"
   },
   {
    "duration": 160,
    "start_time": "2023-02-19T08:21:29.662Z"
   },
   {
    "duration": 34,
    "start_time": "2023-02-19T08:21:29.824Z"
   },
   {
    "duration": 6,
    "start_time": "2023-02-19T08:21:29.860Z"
   },
   {
    "duration": 29,
    "start_time": "2023-02-19T08:21:29.867Z"
   },
   {
    "duration": 15,
    "start_time": "2023-02-19T08:21:29.898Z"
   },
   {
    "duration": 60,
    "start_time": "2023-02-19T08:21:29.915Z"
   },
   {
    "duration": 18,
    "start_time": "2023-02-19T08:21:29.976Z"
   },
   {
    "duration": 31,
    "start_time": "2023-02-19T08:21:29.995Z"
   },
   {
    "duration": 124,
    "start_time": "2023-02-19T08:21:30.030Z"
   },
   {
    "duration": 10,
    "start_time": "2023-02-19T08:21:30.155Z"
   },
   {
    "duration": 22,
    "start_time": "2023-02-19T08:21:30.167Z"
   },
   {
    "duration": 72,
    "start_time": "2023-02-19T08:21:30.191Z"
   },
   {
    "duration": 179,
    "start_time": "2023-02-19T08:21:30.265Z"
   },
   {
    "duration": 15,
    "start_time": "2023-02-19T08:21:30.446Z"
   },
   {
    "duration": 292,
    "start_time": "2023-02-19T08:21:30.463Z"
   },
   {
    "duration": 62,
    "start_time": "2023-02-19T08:21:30.758Z"
   },
   {
    "duration": 267,
    "start_time": "2023-02-19T08:21:30.822Z"
   },
   {
    "duration": 6,
    "start_time": "2023-02-19T08:21:31.091Z"
   },
   {
    "duration": 29,
    "start_time": "2023-02-19T08:21:31.099Z"
   },
   {
    "duration": 4,
    "start_time": "2023-02-19T08:21:31.131Z"
   },
   {
    "duration": 25,
    "start_time": "2023-02-19T08:21:31.136Z"
   },
   {
    "duration": 47,
    "start_time": "2023-02-19T08:21:31.164Z"
   },
   {
    "duration": 62,
    "start_time": "2023-02-19T08:21:31.213Z"
   },
   {
    "duration": 497,
    "start_time": "2023-02-19T08:21:31.277Z"
   },
   {
    "duration": 184,
    "start_time": "2023-02-19T08:21:31.777Z"
   },
   {
    "duration": 209,
    "start_time": "2023-02-19T08:21:31.964Z"
   },
   {
    "duration": 215,
    "start_time": "2023-02-19T08:21:32.175Z"
   },
   {
    "duration": 305,
    "start_time": "2023-02-19T08:21:32.392Z"
   },
   {
    "duration": 208,
    "start_time": "2023-02-19T08:21:32.700Z"
   },
   {
    "duration": 198,
    "start_time": "2023-02-19T08:21:32.910Z"
   },
   {
    "duration": 176,
    "start_time": "2023-02-19T08:21:33.110Z"
   },
   {
    "duration": 252,
    "start_time": "2023-02-19T08:21:33.288Z"
   },
   {
    "duration": 189,
    "start_time": "2023-02-19T08:21:33.541Z"
   },
   {
    "duration": 183,
    "start_time": "2023-02-19T08:21:33.732Z"
   },
   {
    "duration": 189,
    "start_time": "2023-02-19T08:21:33.917Z"
   },
   {
    "duration": 181,
    "start_time": "2023-02-19T08:21:34.108Z"
   },
   {
    "duration": 197,
    "start_time": "2023-02-19T08:21:34.290Z"
   },
   {
    "duration": 204,
    "start_time": "2023-02-19T08:21:34.489Z"
   },
   {
    "duration": 185,
    "start_time": "2023-02-19T08:21:34.695Z"
   },
   {
    "duration": 841,
    "start_time": "2023-02-19T08:21:34.882Z"
   },
   {
    "duration": 153,
    "start_time": "2023-02-19T08:21:35.725Z"
   },
   {
    "duration": 299,
    "start_time": "2023-02-19T08:21:35.879Z"
   },
   {
    "duration": 241,
    "start_time": "2023-02-19T08:21:36.181Z"
   },
   {
    "duration": 189,
    "start_time": "2023-02-19T08:21:36.424Z"
   },
   {
    "duration": 36,
    "start_time": "2023-02-19T08:21:36.615Z"
   },
   {
    "duration": 790,
    "start_time": "2023-02-19T08:21:36.654Z"
   },
   {
    "duration": 410,
    "start_time": "2023-02-19T17:19:59.460Z"
   },
   {
    "duration": 109,
    "start_time": "2023-02-19T17:19:59.873Z"
   },
   {
    "duration": 54,
    "start_time": "2023-02-19T17:19:59.984Z"
   },
   {
    "duration": 2616,
    "start_time": "2023-02-19T17:20:00.040Z"
   },
   {
    "duration": 18,
    "start_time": "2023-02-19T17:20:02.659Z"
   },
   {
    "duration": 26,
    "start_time": "2023-02-19T17:20:02.679Z"
   },
   {
    "duration": 28,
    "start_time": "2023-02-19T17:20:02.707Z"
   },
   {
    "duration": 13,
    "start_time": "2023-02-19T17:20:02.738Z"
   },
   {
    "duration": 9,
    "start_time": "2023-02-19T17:20:02.753Z"
   },
   {
    "duration": 13,
    "start_time": "2023-02-19T17:20:02.765Z"
   },
   {
    "duration": 8,
    "start_time": "2023-02-19T17:20:02.780Z"
   },
   {
    "duration": 36,
    "start_time": "2023-02-19T17:20:02.790Z"
   },
   {
    "duration": 14,
    "start_time": "2023-02-19T17:20:02.828Z"
   },
   {
    "duration": 12,
    "start_time": "2023-02-19T17:20:02.845Z"
   },
   {
    "duration": 35,
    "start_time": "2023-02-19T17:20:02.859Z"
   },
   {
    "duration": 41,
    "start_time": "2023-02-19T17:20:02.896Z"
   },
   {
    "duration": 3,
    "start_time": "2023-02-19T17:20:02.939Z"
   },
   {
    "duration": 110,
    "start_time": "2023-02-19T17:20:02.944Z"
   },
   {
    "duration": 12,
    "start_time": "2023-02-19T17:20:03.056Z"
   },
   {
    "duration": 180,
    "start_time": "2023-02-19T17:20:03.071Z"
   },
   {
    "duration": 25,
    "start_time": "2023-02-19T17:20:03.254Z"
   },
   {
    "duration": 9,
    "start_time": "2023-02-19T17:20:03.280Z"
   },
   {
    "duration": 56,
    "start_time": "2023-02-19T17:20:03.291Z"
   },
   {
    "duration": 12,
    "start_time": "2023-02-19T17:20:03.349Z"
   },
   {
    "duration": 62,
    "start_time": "2023-02-19T17:20:03.363Z"
   },
   {
    "duration": 52,
    "start_time": "2023-02-19T17:20:03.427Z"
   },
   {
    "duration": 14,
    "start_time": "2023-02-19T17:20:03.481Z"
   },
   {
    "duration": 113,
    "start_time": "2023-02-19T17:20:03.500Z"
   },
   {
    "duration": 10,
    "start_time": "2023-02-19T17:20:03.615Z"
   },
   {
    "duration": 17,
    "start_time": "2023-02-19T17:20:03.627Z"
   },
   {
    "duration": 66,
    "start_time": "2023-02-19T17:20:03.646Z"
   },
   {
    "duration": 147,
    "start_time": "2023-02-19T17:20:03.715Z"
   },
   {
    "duration": 14,
    "start_time": "2023-02-19T17:20:03.864Z"
   },
   {
    "duration": 140,
    "start_time": "2023-02-19T17:20:03.880Z"
   },
   {
    "duration": 38,
    "start_time": "2023-02-19T17:20:04.023Z"
   },
   {
    "duration": 143,
    "start_time": "2023-02-19T17:20:04.063Z"
   },
   {
    "duration": 9,
    "start_time": "2023-02-19T17:20:04.208Z"
   },
   {
    "duration": 35,
    "start_time": "2023-02-19T17:20:04.219Z"
   },
   {
    "duration": 8,
    "start_time": "2023-02-19T17:20:04.256Z"
   },
   {
    "duration": 29,
    "start_time": "2023-02-19T17:20:04.265Z"
   },
   {
    "duration": 85,
    "start_time": "2023-02-19T17:20:04.296Z"
   },
   {
    "duration": 69,
    "start_time": "2023-02-19T17:20:04.383Z"
   },
   {
    "duration": 626,
    "start_time": "2023-02-19T17:20:04.454Z"
   },
   {
    "duration": 183,
    "start_time": "2023-02-19T17:20:05.082Z"
   },
   {
    "duration": 191,
    "start_time": "2023-02-19T17:20:05.267Z"
   },
   {
    "duration": 188,
    "start_time": "2023-02-19T17:20:05.460Z"
   },
   {
    "duration": 281,
    "start_time": "2023-02-19T17:20:05.650Z"
   },
   {
    "duration": 216,
    "start_time": "2023-02-19T17:20:05.932Z"
   },
   {
    "duration": 177,
    "start_time": "2023-02-19T17:20:06.151Z"
   },
   {
    "duration": 194,
    "start_time": "2023-02-19T17:20:06.330Z"
   },
   {
    "duration": 324,
    "start_time": "2023-02-19T17:20:06.527Z"
   },
   {
    "duration": 179,
    "start_time": "2023-02-19T17:20:06.853Z"
   },
   {
    "duration": 170,
    "start_time": "2023-02-19T17:20:07.034Z"
   },
   {
    "duration": 195,
    "start_time": "2023-02-19T17:20:07.206Z"
   },
   {
    "duration": 179,
    "start_time": "2023-02-19T17:20:07.403Z"
   },
   {
    "duration": 219,
    "start_time": "2023-02-19T17:20:07.585Z"
   },
   {
    "duration": 230,
    "start_time": "2023-02-19T17:20:07.806Z"
   },
   {
    "duration": 259,
    "start_time": "2023-02-19T17:20:08.039Z"
   },
   {
    "duration": 831,
    "start_time": "2023-02-19T17:20:08.300Z"
   },
   {
    "duration": 206,
    "start_time": "2023-02-19T17:20:09.133Z"
   },
   {
    "duration": 294,
    "start_time": "2023-02-19T17:20:09.342Z"
   },
   {
    "duration": 272,
    "start_time": "2023-02-19T17:20:09.639Z"
   },
   {
    "duration": 223,
    "start_time": "2023-02-19T17:20:09.913Z"
   },
   {
    "duration": 25,
    "start_time": "2023-02-19T17:20:10.140Z"
   },
   {
    "duration": 705,
    "start_time": "2023-02-19T17:20:10.167Z"
   },
   {
    "duration": 18,
    "start_time": "2023-02-19T17:46:38.871Z"
   },
   {
    "duration": 91,
    "start_time": "2023-02-19T17:46:42.512Z"
   },
   {
    "duration": 417,
    "start_time": "2023-03-22T14:04:43.968Z"
   },
   {
    "duration": 175,
    "start_time": "2023-03-22T14:04:44.387Z"
   },
   {
    "duration": 44,
    "start_time": "2023-03-22T14:04:44.563Z"
   },
   {
    "duration": 2397,
    "start_time": "2023-03-22T14:04:44.609Z"
   },
   {
    "duration": 9,
    "start_time": "2023-03-22T14:04:47.008Z"
   },
   {
    "duration": 5,
    "start_time": "2023-03-22T14:04:47.018Z"
   },
   {
    "duration": 7,
    "start_time": "2023-03-22T14:04:47.024Z"
   },
   {
    "duration": 7,
    "start_time": "2023-03-22T14:04:47.033Z"
   },
   {
    "duration": 43,
    "start_time": "2023-03-22T14:04:47.041Z"
   },
   {
    "duration": 43,
    "start_time": "2023-03-22T14:04:47.087Z"
   },
   {
    "duration": 9,
    "start_time": "2023-03-22T14:04:47.132Z"
   },
   {
    "duration": 15,
    "start_time": "2023-03-22T14:04:47.142Z"
   },
   {
    "duration": 7,
    "start_time": "2023-03-22T14:04:47.159Z"
   },
   {
    "duration": 8,
    "start_time": "2023-03-22T14:04:47.167Z"
   },
   {
    "duration": 30,
    "start_time": "2023-03-22T14:04:47.177Z"
   },
   {
    "duration": 5,
    "start_time": "2023-03-22T14:04:47.208Z"
   },
   {
    "duration": 11,
    "start_time": "2023-03-22T14:04:47.215Z"
   },
   {
    "duration": 102,
    "start_time": "2023-03-22T14:04:47.228Z"
   },
   {
    "duration": 8,
    "start_time": "2023-03-22T14:04:47.332Z"
   },
   {
    "duration": 143,
    "start_time": "2023-03-22T14:04:47.342Z"
   },
   {
    "duration": 28,
    "start_time": "2023-03-22T14:04:47.486Z"
   },
   {
    "duration": 5,
    "start_time": "2023-03-22T14:04:47.516Z"
   },
   {
    "duration": 26,
    "start_time": "2023-03-22T14:04:47.522Z"
   },
   {
    "duration": 11,
    "start_time": "2023-03-22T14:04:47.549Z"
   },
   {
    "duration": 59,
    "start_time": "2023-03-22T14:04:47.561Z"
   },
   {
    "duration": 14,
    "start_time": "2023-03-22T14:04:47.622Z"
   },
   {
    "duration": 5,
    "start_time": "2023-03-22T14:04:47.638Z"
   },
   {
    "duration": 121,
    "start_time": "2023-03-22T14:04:47.647Z"
   },
   {
    "duration": 19,
    "start_time": "2023-03-22T14:04:47.769Z"
   },
   {
    "duration": 10,
    "start_time": "2023-03-22T14:04:47.792Z"
   },
   {
    "duration": 55,
    "start_time": "2023-03-22T14:04:47.804Z"
   },
   {
    "duration": 135,
    "start_time": "2023-03-22T14:04:47.861Z"
   },
   {
    "duration": 13,
    "start_time": "2023-03-22T14:04:47.999Z"
   },
   {
    "duration": 118,
    "start_time": "2023-03-22T14:04:48.014Z"
   },
   {
    "duration": 39,
    "start_time": "2023-03-22T14:04:48.134Z"
   },
   {
    "duration": 195,
    "start_time": "2023-03-22T14:04:48.175Z"
   },
   {
    "duration": 5,
    "start_time": "2023-03-22T14:04:48.372Z"
   },
   {
    "duration": 25,
    "start_time": "2023-03-22T14:04:48.379Z"
   },
   {
    "duration": 3,
    "start_time": "2023-03-22T14:04:48.406Z"
   },
   {
    "duration": 10,
    "start_time": "2023-03-22T14:04:48.410Z"
   },
   {
    "duration": 33,
    "start_time": "2023-03-22T14:04:48.421Z"
   },
   {
    "duration": 53,
    "start_time": "2023-03-22T14:04:48.456Z"
   },
   {
    "duration": 335,
    "start_time": "2023-03-22T14:04:48.510Z"
   },
   {
    "duration": 159,
    "start_time": "2023-03-22T14:04:48.847Z"
   },
   {
    "duration": 157,
    "start_time": "2023-03-22T14:04:49.008Z"
   },
   {
    "duration": 157,
    "start_time": "2023-03-22T14:04:49.166Z"
   },
   {
    "duration": 190,
    "start_time": "2023-03-22T14:04:49.325Z"
   },
   {
    "duration": 142,
    "start_time": "2023-03-22T14:04:49.517Z"
   },
   {
    "duration": 193,
    "start_time": "2023-03-22T14:04:49.661Z"
   },
   {
    "duration": 273,
    "start_time": "2023-03-22T14:04:49.857Z"
   },
   {
    "duration": 145,
    "start_time": "2023-03-22T14:04:50.131Z"
   },
   {
    "duration": 163,
    "start_time": "2023-03-22T14:04:50.278Z"
   },
   {
    "duration": 162,
    "start_time": "2023-03-22T14:04:50.442Z"
   },
   {
    "duration": 158,
    "start_time": "2023-03-22T14:04:50.606Z"
   },
   {
    "duration": 171,
    "start_time": "2023-03-22T14:04:50.765Z"
   },
   {
    "duration": 172,
    "start_time": "2023-03-22T14:04:50.938Z"
   },
   {
    "duration": 149,
    "start_time": "2023-03-22T14:04:51.112Z"
   },
   {
    "duration": 142,
    "start_time": "2023-03-22T14:04:51.263Z"
   },
   {
    "duration": 674,
    "start_time": "2023-03-22T14:04:51.407Z"
   },
   {
    "duration": 223,
    "start_time": "2023-03-22T14:04:52.082Z"
   },
   {
    "duration": 145,
    "start_time": "2023-03-22T14:04:52.307Z"
   },
   {
    "duration": 184,
    "start_time": "2023-03-22T14:04:52.453Z"
   },
   {
    "duration": 177,
    "start_time": "2023-03-22T14:04:52.639Z"
   },
   {
    "duration": 30,
    "start_time": "2023-03-22T14:04:52.818Z"
   },
   {
    "duration": 659,
    "start_time": "2023-03-22T14:04:52.850Z"
   },
   {
    "duration": 2706,
    "start_time": "2023-03-22T14:09:17.945Z"
   },
   {
    "duration": 2666,
    "start_time": "2023-03-22T14:09:33.034Z"
   },
   {
    "duration": 507,
    "start_time": "2023-08-01T17:16:58.100Z"
   },
   {
    "duration": 351,
    "start_time": "2023-08-01T17:16:58.610Z"
   },
   {
    "duration": 45,
    "start_time": "2023-08-01T17:16:58.963Z"
   },
   {
    "duration": 2603,
    "start_time": "2023-08-01T17:16:59.011Z"
   },
   {
    "duration": 13,
    "start_time": "2023-08-01T17:17:01.617Z"
   },
   {
    "duration": 91,
    "start_time": "2023-08-01T17:17:01.632Z"
   },
   {
    "duration": 54,
    "start_time": "2023-08-01T17:17:01.725Z"
   },
   {
    "duration": 36,
    "start_time": "2023-08-01T17:17:01.782Z"
   },
   {
    "duration": 39,
    "start_time": "2023-08-01T17:17:01.820Z"
   },
   {
    "duration": 27,
    "start_time": "2023-08-01T17:17:01.863Z"
   },
   {
    "duration": 53,
    "start_time": "2023-08-01T17:17:01.892Z"
   },
   {
    "duration": 54,
    "start_time": "2023-08-01T17:17:01.948Z"
   },
   {
    "duration": 16,
    "start_time": "2023-08-01T17:17:02.005Z"
   },
   {
    "duration": 38,
    "start_time": "2023-08-01T17:17:02.023Z"
   },
   {
    "duration": 56,
    "start_time": "2023-08-01T17:17:02.063Z"
   },
   {
    "duration": 49,
    "start_time": "2023-08-01T17:17:02.121Z"
   },
   {
    "duration": 39,
    "start_time": "2023-08-01T17:17:02.171Z"
   },
   {
    "duration": 155,
    "start_time": "2023-08-01T17:17:02.212Z"
   },
   {
    "duration": 11,
    "start_time": "2023-08-01T17:17:02.370Z"
   },
   {
    "duration": 174,
    "start_time": "2023-08-01T17:17:02.383Z"
   },
   {
    "duration": 27,
    "start_time": "2023-08-01T17:17:02.559Z"
   },
   {
    "duration": 40,
    "start_time": "2023-08-01T17:17:02.588Z"
   },
   {
    "duration": 95,
    "start_time": "2023-08-01T17:17:02.630Z"
   },
   {
    "duration": 69,
    "start_time": "2023-08-01T17:17:02.727Z"
   },
   {
    "duration": 94,
    "start_time": "2023-08-01T17:17:02.799Z"
   },
   {
    "duration": 15,
    "start_time": "2023-08-01T17:17:02.895Z"
   },
   {
    "duration": 83,
    "start_time": "2023-08-01T17:17:02.911Z"
   },
   {
    "duration": 188,
    "start_time": "2023-08-01T17:17:02.998Z"
   },
   {
    "duration": 10,
    "start_time": "2023-08-01T17:17:03.188Z"
   },
   {
    "duration": 20,
    "start_time": "2023-08-01T17:17:03.199Z"
   },
   {
    "duration": 40,
    "start_time": "2023-08-01T17:17:03.221Z"
   },
   {
    "duration": 157,
    "start_time": "2023-08-01T17:17:03.263Z"
   },
   {
    "duration": 15,
    "start_time": "2023-08-01T17:17:03.422Z"
   },
   {
    "duration": 148,
    "start_time": "2023-08-01T17:17:03.439Z"
   },
   {
    "duration": 39,
    "start_time": "2023-08-01T17:17:03.589Z"
   },
   {
    "duration": 268,
    "start_time": "2023-08-01T17:17:03.630Z"
   },
   {
    "duration": 13,
    "start_time": "2023-08-01T17:17:03.900Z"
   },
   {
    "duration": 19,
    "start_time": "2023-08-01T17:17:03.915Z"
   },
   {
    "duration": 5,
    "start_time": "2023-08-01T17:17:03.936Z"
   },
   {
    "duration": 17,
    "start_time": "2023-08-01T17:17:03.943Z"
   },
   {
    "duration": 77,
    "start_time": "2023-08-01T17:17:03.962Z"
   },
   {
    "duration": 41,
    "start_time": "2023-08-01T17:17:04.043Z"
   },
   {
    "duration": 343,
    "start_time": "2023-08-01T17:17:04.086Z"
   },
   {
    "duration": 168,
    "start_time": "2023-08-01T17:17:04.431Z"
   },
   {
    "duration": 167,
    "start_time": "2023-08-01T17:17:04.600Z"
   },
   {
    "duration": 174,
    "start_time": "2023-08-01T17:17:04.769Z"
   },
   {
    "duration": 221,
    "start_time": "2023-08-01T17:17:04.945Z"
   },
   {
    "duration": 177,
    "start_time": "2023-08-01T17:17:05.168Z"
   },
   {
    "duration": 180,
    "start_time": "2023-08-01T17:17:05.347Z"
   },
   {
    "duration": 272,
    "start_time": "2023-08-01T17:17:05.529Z"
   },
   {
    "duration": 205,
    "start_time": "2023-08-01T17:17:05.810Z"
   },
   {
    "duration": 193,
    "start_time": "2023-08-01T17:17:06.018Z"
   },
   {
    "duration": 173,
    "start_time": "2023-08-01T17:17:06.213Z"
   },
   {
    "duration": 177,
    "start_time": "2023-08-01T17:17:06.389Z"
   },
   {
    "duration": 172,
    "start_time": "2023-08-01T17:17:06.569Z"
   },
   {
    "duration": 198,
    "start_time": "2023-08-01T17:17:06.743Z"
   },
   {
    "duration": 161,
    "start_time": "2023-08-01T17:17:06.942Z"
   },
   {
    "duration": 165,
    "start_time": "2023-08-01T17:17:07.104Z"
   },
   {
    "duration": 737,
    "start_time": "2023-08-01T17:17:07.271Z"
   },
   {
    "duration": 261,
    "start_time": "2023-08-01T17:17:08.013Z"
   },
   {
    "duration": 171,
    "start_time": "2023-08-01T17:17:08.276Z"
   },
   {
    "duration": 202,
    "start_time": "2023-08-01T17:17:08.449Z"
   },
   {
    "duration": 157,
    "start_time": "2023-08-01T17:17:08.653Z"
   },
   {
    "duration": 27,
    "start_time": "2023-08-01T17:17:08.813Z"
   },
   {
    "duration": 670,
    "start_time": "2023-08-01T17:17:08.841Z"
   },
   {
    "duration": 443,
    "start_time": "2023-08-01T17:19:03.920Z"
   },
   {
    "duration": 112,
    "start_time": "2023-08-01T17:19:04.366Z"
   },
   {
    "duration": 51,
    "start_time": "2023-08-01T17:19:04.480Z"
   },
   {
    "duration": 2551,
    "start_time": "2023-08-01T17:19:04.534Z"
   },
   {
    "duration": 23,
    "start_time": "2023-08-01T17:19:07.087Z"
   },
   {
    "duration": 23,
    "start_time": "2023-08-01T17:19:07.113Z"
   },
   {
    "duration": 35,
    "start_time": "2023-08-01T17:19:07.138Z"
   },
   {
    "duration": 12,
    "start_time": "2023-08-01T17:19:07.174Z"
   },
   {
    "duration": 25,
    "start_time": "2023-08-01T17:19:07.188Z"
   },
   {
    "duration": 9,
    "start_time": "2023-08-01T17:19:07.216Z"
   },
   {
    "duration": 29,
    "start_time": "2023-08-01T17:19:07.227Z"
   },
   {
    "duration": 37,
    "start_time": "2023-08-01T17:19:07.258Z"
   },
   {
    "duration": 23,
    "start_time": "2023-08-01T17:19:07.297Z"
   },
   {
    "duration": 23,
    "start_time": "2023-08-01T17:19:07.322Z"
   },
   {
    "duration": 46,
    "start_time": "2023-08-01T17:19:07.347Z"
   },
   {
    "duration": 11,
    "start_time": "2023-08-01T17:19:07.395Z"
   },
   {
    "duration": 4,
    "start_time": "2023-08-01T17:19:07.408Z"
   },
   {
    "duration": 118,
    "start_time": "2023-08-01T17:19:07.414Z"
   },
   {
    "duration": 10,
    "start_time": "2023-08-01T17:19:07.534Z"
   },
   {
    "duration": 167,
    "start_time": "2023-08-01T17:19:07.546Z"
   },
   {
    "duration": 30,
    "start_time": "2023-08-01T17:19:07.715Z"
   },
   {
    "duration": 13,
    "start_time": "2023-08-01T17:19:07.748Z"
   },
   {
    "duration": 48,
    "start_time": "2023-08-01T17:19:07.763Z"
   },
   {
    "duration": 12,
    "start_time": "2023-08-01T17:19:07.813Z"
   },
   {
    "duration": 46,
    "start_time": "2023-08-01T17:19:07.827Z"
   },
   {
    "duration": 47,
    "start_time": "2023-08-01T17:19:07.876Z"
   },
   {
    "duration": 7,
    "start_time": "2023-08-01T17:19:07.925Z"
   },
   {
    "duration": 155,
    "start_time": "2023-08-01T17:19:07.937Z"
   },
   {
    "duration": 22,
    "start_time": "2023-08-01T17:19:08.094Z"
   },
   {
    "duration": 36,
    "start_time": "2023-08-01T17:19:08.118Z"
   },
   {
    "duration": 80,
    "start_time": "2023-08-01T17:19:08.157Z"
   },
   {
    "duration": 143,
    "start_time": "2023-08-01T17:19:08.240Z"
   },
   {
    "duration": 0,
    "start_time": "2023-08-01T17:19:08.386Z"
   },
   {
    "duration": 0,
    "start_time": "2023-08-01T17:19:08.389Z"
   },
   {
    "duration": 0,
    "start_time": "2023-08-01T17:19:08.391Z"
   },
   {
    "duration": 0,
    "start_time": "2023-08-01T17:19:08.392Z"
   },
   {
    "duration": 0,
    "start_time": "2023-08-01T17:19:08.394Z"
   },
   {
    "duration": 0,
    "start_time": "2023-08-01T17:19:08.396Z"
   },
   {
    "duration": 0,
    "start_time": "2023-08-01T17:19:08.397Z"
   },
   {
    "duration": 0,
    "start_time": "2023-08-01T17:19:08.399Z"
   },
   {
    "duration": 1,
    "start_time": "2023-08-01T17:19:08.400Z"
   },
   {
    "duration": 0,
    "start_time": "2023-08-01T17:19:08.402Z"
   },
   {
    "duration": 0,
    "start_time": "2023-08-01T17:19:08.404Z"
   },
   {
    "duration": 0,
    "start_time": "2023-08-01T17:19:08.405Z"
   },
   {
    "duration": 0,
    "start_time": "2023-08-01T17:19:08.407Z"
   },
   {
    "duration": 0,
    "start_time": "2023-08-01T17:19:08.409Z"
   },
   {
    "duration": 0,
    "start_time": "2023-08-01T17:19:08.410Z"
   },
   {
    "duration": 0,
    "start_time": "2023-08-01T17:19:08.412Z"
   },
   {
    "duration": 0,
    "start_time": "2023-08-01T17:19:08.414Z"
   },
   {
    "duration": 0,
    "start_time": "2023-08-01T17:19:08.416Z"
   },
   {
    "duration": 0,
    "start_time": "2023-08-01T17:19:08.417Z"
   },
   {
    "duration": 0,
    "start_time": "2023-08-01T17:19:08.419Z"
   },
   {
    "duration": 0,
    "start_time": "2023-08-01T17:19:08.421Z"
   },
   {
    "duration": 0,
    "start_time": "2023-08-01T17:19:08.422Z"
   },
   {
    "duration": 0,
    "start_time": "2023-08-01T17:19:08.424Z"
   },
   {
    "duration": 0,
    "start_time": "2023-08-01T17:19:08.426Z"
   },
   {
    "duration": 0,
    "start_time": "2023-08-01T17:19:08.427Z"
   },
   {
    "duration": 0,
    "start_time": "2023-08-01T17:19:08.428Z"
   },
   {
    "duration": 0,
    "start_time": "2023-08-01T17:19:08.430Z"
   },
   {
    "duration": 0,
    "start_time": "2023-08-01T17:19:08.432Z"
   },
   {
    "duration": 0,
    "start_time": "2023-08-01T17:19:08.434Z"
   },
   {
    "duration": 0,
    "start_time": "2023-08-01T17:19:08.435Z"
   },
   {
    "duration": 0,
    "start_time": "2023-08-01T17:19:08.437Z"
   },
   {
    "duration": 0,
    "start_time": "2023-08-01T17:19:08.439Z"
   },
   {
    "duration": 0,
    "start_time": "2023-08-01T17:19:08.441Z"
   }
  ],
  "kernelspec": {
   "display_name": "Python 3 (ipykernel)",
   "language": "python",
   "name": "python3"
  },
  "language_info": {
   "codemirror_mode": {
    "name": "ipython",
    "version": 3
   },
   "file_extension": ".py",
   "mimetype": "text/x-python",
   "name": "python",
   "nbconvert_exporter": "python",
   "pygments_lexer": "ipython3",
   "version": "3.9.5"
  },
  "toc": {
   "base_numbering": 1,
   "nav_menu": {},
   "number_sections": true,
   "sideBar": true,
   "skip_h1_title": true,
   "title_cell": "Table of Contents",
   "title_sidebar": "Contents",
   "toc_cell": false,
   "toc_position": {},
   "toc_section_display": true,
   "toc_window_display": false
  }
 },
 "nbformat": 4,
 "nbformat_minor": 2
}
