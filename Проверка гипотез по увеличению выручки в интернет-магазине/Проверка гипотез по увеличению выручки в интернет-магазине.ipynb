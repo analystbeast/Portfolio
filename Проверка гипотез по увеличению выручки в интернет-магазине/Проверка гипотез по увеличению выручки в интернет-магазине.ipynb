{
 "cells": [
  {
   "cell_type": "markdown",
   "metadata": {
    "toc": true
   },
   "source": [
    "<h1>Table of Contents<span class=\"tocSkip\"></span></h1>\n",
    "<div class=\"toc\"><ul class=\"toc-item\"><li><span><a href=\"#ВВЕДЕНИЕ\" data-toc-modified-id=\"ВВЕДЕНИЕ-1\"><span class=\"toc-item-num\">1&nbsp;&nbsp;</span>ВВЕДЕНИЕ</a></span></li><li><span><a href=\"#Лед-и-Рис\" data-toc-modified-id=\"Лед-и-Рис-2\"><span class=\"toc-item-num\">2&nbsp;&nbsp;</span>Лед и Рис</a></span></li><li><span><a href=\"#Анализ-результатов-А/В-тестирования\" data-toc-modified-id=\"Анализ-результатов-А/В-тестирования-3\"><span class=\"toc-item-num\">3&nbsp;&nbsp;</span>Анализ результатов А/В тестирования</a></span></li><li><span><a href=\"#Итоговый-вывод\" data-toc-modified-id=\"Итоговый-вывод-4\"><span class=\"toc-item-num\">4&nbsp;&nbsp;</span>Итоговый вывод</a></span></li></ul></div>"
   ]
  },
  {
   "cell_type": "markdown",
   "metadata": {},
   "source": [
    "# ВВЕДЕНИЕ\n",
    "\n",
    "Вместе с отделом маркетинга вы подготовили список гипотез для увеличения выручки.\n",
    "Приоритизируйте гипотезы, запустите A/B-тест и проанализируйте результаты. \n",
    "\n",
    "**Задачи:**\n",
    "1. Применить фреймворк ICE для приоритизации гипотез. Отсортировать их по убыванию приоритета.\n",
    "2. Применить фреймворк RICE для приоритизации гипотез. Отсортировать их по убыванию приоритета.\n",
    "3. Указать, как изменилась приоритизация гипотез при применении RICE вместо ICE. Объяснить, почему так произошло.\n",
    "4. Проанализировать результаты А/В теста и принять решение:\n",
    "* Остановить тест, зафиксировать победу одной из групп\n",
    "* Остановить тест, зафиксировать отсутствие различий между группами\n",
    "* Продолжить тест."
   ]
  },
  {
   "cell_type": "markdown",
   "metadata": {},
   "source": [
    "# Лед и Рис"
   ]
  },
  {
   "cell_type": "code",
   "execution_count": 1,
   "metadata": {},
   "outputs": [],
   "source": [
    "#Импортируем библиотеки\n",
    "\n",
    "import pandas as pd\n",
    "pd.set_option('display.max_colwidth', 600)\n",
    "import matplotlib.pyplot as plt\n",
    "import seaborn as sns\n",
    "import numpy as np\n",
    "import datetime as dt\n",
    "import scipy.stats as stats"
   ]
  },
  {
   "cell_type": "code",
   "execution_count": 2,
   "metadata": {},
   "outputs": [],
   "source": [
    "try:\n",
    "    data = pd.read_csv('/datasets/hypothesis.csv')\n",
    "except:\n",
    "    data = pd.read_csv('здесь была ссылка на датасет')"
   ]
  },
  {
   "cell_type": "code",
   "execution_count": 3,
   "metadata": {},
   "outputs": [
    {
     "data": {
      "text/html": [
       "<div>\n",
       "<style scoped>\n",
       "    .dataframe tbody tr th:only-of-type {\n",
       "        vertical-align: middle;\n",
       "    }\n",
       "\n",
       "    .dataframe tbody tr th {\n",
       "        vertical-align: top;\n",
       "    }\n",
       "\n",
       "    .dataframe thead th {\n",
       "        text-align: right;\n",
       "    }\n",
       "</style>\n",
       "<table border=\"1\" class=\"dataframe\">\n",
       "  <thead>\n",
       "    <tr style=\"text-align: right;\">\n",
       "      <th></th>\n",
       "      <th>Hypothesis</th>\n",
       "      <th>Reach</th>\n",
       "      <th>Impact</th>\n",
       "      <th>Confidence</th>\n",
       "      <th>Efforts</th>\n",
       "    </tr>\n",
       "  </thead>\n",
       "  <tbody>\n",
       "    <tr>\n",
       "      <th>0</th>\n",
       "      <td>Добавить два новых канала привлечения трафика, что позволит привлекать на 30% больше пользователей</td>\n",
       "      <td>3</td>\n",
       "      <td>10</td>\n",
       "      <td>8</td>\n",
       "      <td>6</td>\n",
       "    </tr>\n",
       "    <tr>\n",
       "      <th>1</th>\n",
       "      <td>Запустить собственную службу доставки, что сократит срок доставки заказов</td>\n",
       "      <td>2</td>\n",
       "      <td>5</td>\n",
       "      <td>4</td>\n",
       "      <td>10</td>\n",
       "    </tr>\n",
       "    <tr>\n",
       "      <th>2</th>\n",
       "      <td>Добавить блоки рекомендаций товаров на сайт интернет магазина, чтобы повысить конверсию и средний чек заказа</td>\n",
       "      <td>8</td>\n",
       "      <td>3</td>\n",
       "      <td>7</td>\n",
       "      <td>3</td>\n",
       "    </tr>\n",
       "    <tr>\n",
       "      <th>3</th>\n",
       "      <td>Изменить структура категорий, что увеличит конверсию, т.к. пользователи быстрее найдут нужный товар</td>\n",
       "      <td>8</td>\n",
       "      <td>3</td>\n",
       "      <td>3</td>\n",
       "      <td>8</td>\n",
       "    </tr>\n",
       "    <tr>\n",
       "      <th>4</th>\n",
       "      <td>Изменить цвет фона главной страницы, чтобы увеличить вовлеченность пользователей</td>\n",
       "      <td>3</td>\n",
       "      <td>1</td>\n",
       "      <td>1</td>\n",
       "      <td>1</td>\n",
       "    </tr>\n",
       "  </tbody>\n",
       "</table>\n",
       "</div>"
      ],
      "text/plain": [
       "                                                                                                     Hypothesis  \\\n",
       "0            Добавить два новых канала привлечения трафика, что позволит привлекать на 30% больше пользователей   \n",
       "1                                     Запустить собственную службу доставки, что сократит срок доставки заказов   \n",
       "2  Добавить блоки рекомендаций товаров на сайт интернет магазина, чтобы повысить конверсию и средний чек заказа   \n",
       "3           Изменить структура категорий, что увеличит конверсию, т.к. пользователи быстрее найдут нужный товар   \n",
       "4                              Изменить цвет фона главной страницы, чтобы увеличить вовлеченность пользователей   \n",
       "\n",
       "   Reach  Impact  Confidence  Efforts  \n",
       "0      3      10           8        6  \n",
       "1      2       5           4       10  \n",
       "2      8       3           7        3  \n",
       "3      8       3           3        8  \n",
       "4      3       1           1        1  "
      ]
     },
     "metadata": {},
     "output_type": "display_data"
    }
   ],
   "source": [
    "display(data.head())\n"
   ]
  },
  {
   "cell_type": "code",
   "execution_count": 4,
   "metadata": {},
   "outputs": [
    {
     "name": "stdout",
     "output_type": "stream",
     "text": [
      "<class 'pandas.core.frame.DataFrame'>\n",
      "RangeIndex: 9 entries, 0 to 8\n",
      "Data columns (total 5 columns):\n",
      " #   Column      Non-Null Count  Dtype \n",
      "---  ------      --------------  ----- \n",
      " 0   Hypothesis  9 non-null      object\n",
      " 1   Reach       9 non-null      int64 \n",
      " 2   Impact      9 non-null      int64 \n",
      " 3   Confidence  9 non-null      int64 \n",
      " 4   Efforts     9 non-null      int64 \n",
      "dtypes: int64(4), object(1)\n",
      "memory usage: 488.0+ bytes\n"
     ]
    }
   ],
   "source": [
    "data.info()"
   ]
  },
  {
   "cell_type": "code",
   "execution_count": 5,
   "metadata": {},
   "outputs": [],
   "source": [
    "data['ICE'] = (data['Impact']*data['Confidence'])/data['Efforts']\n",
    "data['RICE'] = (data['Reach']*data['Impact']*data['Confidence'])/data['Efforts']"
   ]
  },
  {
   "cell_type": "code",
   "execution_count": 6,
   "metadata": {},
   "outputs": [
    {
     "data": {
      "text/html": [
       "<div>\n",
       "<style scoped>\n",
       "    .dataframe tbody tr th:only-of-type {\n",
       "        vertical-align: middle;\n",
       "    }\n",
       "\n",
       "    .dataframe tbody tr th {\n",
       "        vertical-align: top;\n",
       "    }\n",
       "\n",
       "    .dataframe thead th {\n",
       "        text-align: right;\n",
       "    }\n",
       "</style>\n",
       "<table border=\"1\" class=\"dataframe\">\n",
       "  <thead>\n",
       "    <tr style=\"text-align: right;\">\n",
       "      <th></th>\n",
       "      <th>Hypothesis</th>\n",
       "      <th>Reach</th>\n",
       "      <th>Impact</th>\n",
       "      <th>Confidence</th>\n",
       "      <th>Efforts</th>\n",
       "      <th>ICE</th>\n",
       "      <th>RICE</th>\n",
       "    </tr>\n",
       "  </thead>\n",
       "  <tbody>\n",
       "    <tr>\n",
       "      <th>8</th>\n",
       "      <td>Запустить акцию, дающую скидку на товар в день рождения</td>\n",
       "      <td>1</td>\n",
       "      <td>9</td>\n",
       "      <td>9</td>\n",
       "      <td>5</td>\n",
       "      <td>16.200000</td>\n",
       "      <td>16.2</td>\n",
       "    </tr>\n",
       "    <tr>\n",
       "      <th>0</th>\n",
       "      <td>Добавить два новых канала привлечения трафика, что позволит привлекать на 30% больше пользователей</td>\n",
       "      <td>3</td>\n",
       "      <td>10</td>\n",
       "      <td>8</td>\n",
       "      <td>6</td>\n",
       "      <td>13.333333</td>\n",
       "      <td>40.0</td>\n",
       "    </tr>\n",
       "    <tr>\n",
       "      <th>7</th>\n",
       "      <td>Добавить форму подписки на все основные страницы, чтобы собрать базу клиентов для email-рассылок</td>\n",
       "      <td>10</td>\n",
       "      <td>7</td>\n",
       "      <td>8</td>\n",
       "      <td>5</td>\n",
       "      <td>11.200000</td>\n",
       "      <td>112.0</td>\n",
       "    </tr>\n",
       "    <tr>\n",
       "      <th>6</th>\n",
       "      <td>Показать на главной странице баннеры с актуальными акциями и распродажами, чтобы увеличить конверсию</td>\n",
       "      <td>5</td>\n",
       "      <td>3</td>\n",
       "      <td>8</td>\n",
       "      <td>3</td>\n",
       "      <td>8.000000</td>\n",
       "      <td>40.0</td>\n",
       "    </tr>\n",
       "    <tr>\n",
       "      <th>2</th>\n",
       "      <td>Добавить блоки рекомендаций товаров на сайт интернет магазина, чтобы повысить конверсию и средний чек заказа</td>\n",
       "      <td>8</td>\n",
       "      <td>3</td>\n",
       "      <td>7</td>\n",
       "      <td>3</td>\n",
       "      <td>7.000000</td>\n",
       "      <td>56.0</td>\n",
       "    </tr>\n",
       "    <tr>\n",
       "      <th>1</th>\n",
       "      <td>Запустить собственную службу доставки, что сократит срок доставки заказов</td>\n",
       "      <td>2</td>\n",
       "      <td>5</td>\n",
       "      <td>4</td>\n",
       "      <td>10</td>\n",
       "      <td>2.000000</td>\n",
       "      <td>4.0</td>\n",
       "    </tr>\n",
       "    <tr>\n",
       "      <th>5</th>\n",
       "      <td>Добавить страницу отзывов клиентов о магазине, что позволит увеличить количество заказов</td>\n",
       "      <td>3</td>\n",
       "      <td>2</td>\n",
       "      <td>2</td>\n",
       "      <td>3</td>\n",
       "      <td>1.333333</td>\n",
       "      <td>4.0</td>\n",
       "    </tr>\n",
       "    <tr>\n",
       "      <th>3</th>\n",
       "      <td>Изменить структура категорий, что увеличит конверсию, т.к. пользователи быстрее найдут нужный товар</td>\n",
       "      <td>8</td>\n",
       "      <td>3</td>\n",
       "      <td>3</td>\n",
       "      <td>8</td>\n",
       "      <td>1.125000</td>\n",
       "      <td>9.0</td>\n",
       "    </tr>\n",
       "    <tr>\n",
       "      <th>4</th>\n",
       "      <td>Изменить цвет фона главной страницы, чтобы увеличить вовлеченность пользователей</td>\n",
       "      <td>3</td>\n",
       "      <td>1</td>\n",
       "      <td>1</td>\n",
       "      <td>1</td>\n",
       "      <td>1.000000</td>\n",
       "      <td>3.0</td>\n",
       "    </tr>\n",
       "  </tbody>\n",
       "</table>\n",
       "</div>"
      ],
      "text/plain": [
       "                                                                                                     Hypothesis  \\\n",
       "8                                                       Запустить акцию, дающую скидку на товар в день рождения   \n",
       "0            Добавить два новых канала привлечения трафика, что позволит привлекать на 30% больше пользователей   \n",
       "7              Добавить форму подписки на все основные страницы, чтобы собрать базу клиентов для email-рассылок   \n",
       "6          Показать на главной странице баннеры с актуальными акциями и распродажами, чтобы увеличить конверсию   \n",
       "2  Добавить блоки рекомендаций товаров на сайт интернет магазина, чтобы повысить конверсию и средний чек заказа   \n",
       "1                                     Запустить собственную службу доставки, что сократит срок доставки заказов   \n",
       "5                      Добавить страницу отзывов клиентов о магазине, что позволит увеличить количество заказов   \n",
       "3           Изменить структура категорий, что увеличит конверсию, т.к. пользователи быстрее найдут нужный товар   \n",
       "4                              Изменить цвет фона главной страницы, чтобы увеличить вовлеченность пользователей   \n",
       "\n",
       "   Reach  Impact  Confidence  Efforts        ICE   RICE  \n",
       "8      1       9           9        5  16.200000   16.2  \n",
       "0      3      10           8        6  13.333333   40.0  \n",
       "7     10       7           8        5  11.200000  112.0  \n",
       "6      5       3           8        3   8.000000   40.0  \n",
       "2      8       3           7        3   7.000000   56.0  \n",
       "1      2       5           4       10   2.000000    4.0  \n",
       "5      3       2           2        3   1.333333    4.0  \n",
       "3      8       3           3        8   1.125000    9.0  \n",
       "4      3       1           1        1   1.000000    3.0  "
      ]
     },
     "metadata": {},
     "output_type": "display_data"
    }
   ],
   "source": [
    "display(data.sort_values(by='ICE', ascending=False))"
   ]
  },
  {
   "cell_type": "code",
   "execution_count": 7,
   "metadata": {},
   "outputs": [
    {
     "data": {
      "text/html": [
       "<div>\n",
       "<style scoped>\n",
       "    .dataframe tbody tr th:only-of-type {\n",
       "        vertical-align: middle;\n",
       "    }\n",
       "\n",
       "    .dataframe tbody tr th {\n",
       "        vertical-align: top;\n",
       "    }\n",
       "\n",
       "    .dataframe thead th {\n",
       "        text-align: right;\n",
       "    }\n",
       "</style>\n",
       "<table border=\"1\" class=\"dataframe\">\n",
       "  <thead>\n",
       "    <tr style=\"text-align: right;\">\n",
       "      <th></th>\n",
       "      <th>Hypothesis</th>\n",
       "      <th>Reach</th>\n",
       "      <th>Impact</th>\n",
       "      <th>Confidence</th>\n",
       "      <th>Efforts</th>\n",
       "      <th>ICE</th>\n",
       "      <th>RICE</th>\n",
       "    </tr>\n",
       "  </thead>\n",
       "  <tbody>\n",
       "    <tr>\n",
       "      <th>7</th>\n",
       "      <td>Добавить форму подписки на все основные страницы, чтобы собрать базу клиентов для email-рассылок</td>\n",
       "      <td>10</td>\n",
       "      <td>7</td>\n",
       "      <td>8</td>\n",
       "      <td>5</td>\n",
       "      <td>11.200000</td>\n",
       "      <td>112.0</td>\n",
       "    </tr>\n",
       "    <tr>\n",
       "      <th>2</th>\n",
       "      <td>Добавить блоки рекомендаций товаров на сайт интернет магазина, чтобы повысить конверсию и средний чек заказа</td>\n",
       "      <td>8</td>\n",
       "      <td>3</td>\n",
       "      <td>7</td>\n",
       "      <td>3</td>\n",
       "      <td>7.000000</td>\n",
       "      <td>56.0</td>\n",
       "    </tr>\n",
       "    <tr>\n",
       "      <th>0</th>\n",
       "      <td>Добавить два новых канала привлечения трафика, что позволит привлекать на 30% больше пользователей</td>\n",
       "      <td>3</td>\n",
       "      <td>10</td>\n",
       "      <td>8</td>\n",
       "      <td>6</td>\n",
       "      <td>13.333333</td>\n",
       "      <td>40.0</td>\n",
       "    </tr>\n",
       "    <tr>\n",
       "      <th>6</th>\n",
       "      <td>Показать на главной странице баннеры с актуальными акциями и распродажами, чтобы увеличить конверсию</td>\n",
       "      <td>5</td>\n",
       "      <td>3</td>\n",
       "      <td>8</td>\n",
       "      <td>3</td>\n",
       "      <td>8.000000</td>\n",
       "      <td>40.0</td>\n",
       "    </tr>\n",
       "    <tr>\n",
       "      <th>8</th>\n",
       "      <td>Запустить акцию, дающую скидку на товар в день рождения</td>\n",
       "      <td>1</td>\n",
       "      <td>9</td>\n",
       "      <td>9</td>\n",
       "      <td>5</td>\n",
       "      <td>16.200000</td>\n",
       "      <td>16.2</td>\n",
       "    </tr>\n",
       "    <tr>\n",
       "      <th>3</th>\n",
       "      <td>Изменить структура категорий, что увеличит конверсию, т.к. пользователи быстрее найдут нужный товар</td>\n",
       "      <td>8</td>\n",
       "      <td>3</td>\n",
       "      <td>3</td>\n",
       "      <td>8</td>\n",
       "      <td>1.125000</td>\n",
       "      <td>9.0</td>\n",
       "    </tr>\n",
       "    <tr>\n",
       "      <th>1</th>\n",
       "      <td>Запустить собственную службу доставки, что сократит срок доставки заказов</td>\n",
       "      <td>2</td>\n",
       "      <td>5</td>\n",
       "      <td>4</td>\n",
       "      <td>10</td>\n",
       "      <td>2.000000</td>\n",
       "      <td>4.0</td>\n",
       "    </tr>\n",
       "    <tr>\n",
       "      <th>5</th>\n",
       "      <td>Добавить страницу отзывов клиентов о магазине, что позволит увеличить количество заказов</td>\n",
       "      <td>3</td>\n",
       "      <td>2</td>\n",
       "      <td>2</td>\n",
       "      <td>3</td>\n",
       "      <td>1.333333</td>\n",
       "      <td>4.0</td>\n",
       "    </tr>\n",
       "    <tr>\n",
       "      <th>4</th>\n",
       "      <td>Изменить цвет фона главной страницы, чтобы увеличить вовлеченность пользователей</td>\n",
       "      <td>3</td>\n",
       "      <td>1</td>\n",
       "      <td>1</td>\n",
       "      <td>1</td>\n",
       "      <td>1.000000</td>\n",
       "      <td>3.0</td>\n",
       "    </tr>\n",
       "  </tbody>\n",
       "</table>\n",
       "</div>"
      ],
      "text/plain": [
       "                                                                                                     Hypothesis  \\\n",
       "7              Добавить форму подписки на все основные страницы, чтобы собрать базу клиентов для email-рассылок   \n",
       "2  Добавить блоки рекомендаций товаров на сайт интернет магазина, чтобы повысить конверсию и средний чек заказа   \n",
       "0            Добавить два новых канала привлечения трафика, что позволит привлекать на 30% больше пользователей   \n",
       "6          Показать на главной странице баннеры с актуальными акциями и распродажами, чтобы увеличить конверсию   \n",
       "8                                                       Запустить акцию, дающую скидку на товар в день рождения   \n",
       "3           Изменить структура категорий, что увеличит конверсию, т.к. пользователи быстрее найдут нужный товар   \n",
       "1                                     Запустить собственную службу доставки, что сократит срок доставки заказов   \n",
       "5                      Добавить страницу отзывов клиентов о магазине, что позволит увеличить количество заказов   \n",
       "4                              Изменить цвет фона главной страницы, чтобы увеличить вовлеченность пользователей   \n",
       "\n",
       "   Reach  Impact  Confidence  Efforts        ICE   RICE  \n",
       "7     10       7           8        5  11.200000  112.0  \n",
       "2      8       3           7        3   7.000000   56.0  \n",
       "0      3      10           8        6  13.333333   40.0  \n",
       "6      5       3           8        3   8.000000   40.0  \n",
       "8      1       9           9        5  16.200000   16.2  \n",
       "3      8       3           3        8   1.125000    9.0  \n",
       "1      2       5           4       10   2.000000    4.0  \n",
       "5      3       2           2        3   1.333333    4.0  \n",
       "4      3       1           1        1   1.000000    3.0  "
      ]
     },
     "metadata": {},
     "output_type": "display_data"
    }
   ],
   "source": [
    "display(data.sort_values(by='RICE', ascending=False))"
   ]
  },
  {
   "cell_type": "markdown",
   "metadata": {},
   "source": [
    "**Вывод:** обе методики направлены на выявление гипотез, которые дадут более высокий результат при меньших затратах. \n",
    "\n",
    "В рамках предложенных гипотез при применении предложенных фреймворков в топе гипотез оказываются оказываютя именно те варианты, которые обладают высокой степенью уверенности.\n",
    "\n",
    "**Приоритетные гипотезы по ICE-методике (по убыванию):**\n",
    "1. Запустить акцию, дающую скидку на товар в день рождения\n",
    "2. Добавить два новых канала привлечения трафика, что позволит привлекать на 30% больше пользователей\n",
    "3. Добавить форму подписки на все основные страницы, чтобы собрать базу клиентов для email-рассылок\n",
    "4. Показать на главной странице баннеры с актуальными акциями и распродажами, чтобы увеличить конверсию\n",
    "5. Добавить блоки рекомендаций товаров на сайт интернет магазина, чтобы повысить конверсию и средний чек заказа\t\n",
    "\n",
    "**Приоритетные гипотезы по RICE-методике (по убыванию):**\n",
    "1. Добавить форму подписки на все основные страницы, чтобы собрать базу клиентов для email-рассылок\n",
    "2. Добавить блоки рекомендаций товаров на сайт интернет магазина, чтобы повысить конверсию и средний чек заказа\n",
    "3. Добавить два новых канала привлечения трафика, что позволит привлекать на 30% больше пользователей\n",
    "4. Показать на главной странице баннеры с актуальными акциями и распродажами, чтобы увеличить конверсию\n",
    "\n",
    "Так как в RICE-методике учитываются охваты пользователей, то соответственно гипотезы затрагивающие большее количество пользователей получают дополнительный вес."
   ]
  },
  {
   "cell_type": "markdown",
   "metadata": {},
   "source": [
    "# Анализ результатов А/В тестирования"
   ]
  },
  {
   "cell_type": "markdown",
   "metadata": {},
   "source": [
    "Выгружаем необходимые данные."
   ]
  },
  {
   "cell_type": "code",
   "execution_count": 8,
   "metadata": {},
   "outputs": [],
   "source": [
    "try:\n",
    "    orders = pd.read_csv('/datasets/orders.csv')\n",
    "    visitors = pd.read_csv('/datasets/visitors.csv')\n",
    "except:\n",
    "    orders = pd.read_csv('https://code.s3.yandex.net/datasets/orders.csv')\n",
    "    visitors = pd.read_csv('https://code.s3.yandex.net/datasets/visitors.csv')"
   ]
  },
  {
   "cell_type": "code",
   "execution_count": 9,
   "metadata": {},
   "outputs": [
    {
     "data": {
      "text/html": [
       "<div>\n",
       "<style scoped>\n",
       "    .dataframe tbody tr th:only-of-type {\n",
       "        vertical-align: middle;\n",
       "    }\n",
       "\n",
       "    .dataframe tbody tr th {\n",
       "        vertical-align: top;\n",
       "    }\n",
       "\n",
       "    .dataframe thead th {\n",
       "        text-align: right;\n",
       "    }\n",
       "</style>\n",
       "<table border=\"1\" class=\"dataframe\">\n",
       "  <thead>\n",
       "    <tr style=\"text-align: right;\">\n",
       "      <th></th>\n",
       "      <th>transactionId</th>\n",
       "      <th>visitorId</th>\n",
       "      <th>date</th>\n",
       "      <th>revenue</th>\n",
       "      <th>group</th>\n",
       "    </tr>\n",
       "  </thead>\n",
       "  <tbody>\n",
       "    <tr>\n",
       "      <th>0</th>\n",
       "      <td>3667963787</td>\n",
       "      <td>3312258926</td>\n",
       "      <td>2019-08-15</td>\n",
       "      <td>1650</td>\n",
       "      <td>B</td>\n",
       "    </tr>\n",
       "    <tr>\n",
       "      <th>1</th>\n",
       "      <td>2804400009</td>\n",
       "      <td>3642806036</td>\n",
       "      <td>2019-08-15</td>\n",
       "      <td>730</td>\n",
       "      <td>B</td>\n",
       "    </tr>\n",
       "    <tr>\n",
       "      <th>2</th>\n",
       "      <td>2961555356</td>\n",
       "      <td>4069496402</td>\n",
       "      <td>2019-08-15</td>\n",
       "      <td>400</td>\n",
       "      <td>A</td>\n",
       "    </tr>\n",
       "    <tr>\n",
       "      <th>3</th>\n",
       "      <td>3797467345</td>\n",
       "      <td>1196621759</td>\n",
       "      <td>2019-08-15</td>\n",
       "      <td>9759</td>\n",
       "      <td>B</td>\n",
       "    </tr>\n",
       "    <tr>\n",
       "      <th>4</th>\n",
       "      <td>2282983706</td>\n",
       "      <td>2322279887</td>\n",
       "      <td>2019-08-15</td>\n",
       "      <td>2308</td>\n",
       "      <td>B</td>\n",
       "    </tr>\n",
       "  </tbody>\n",
       "</table>\n",
       "</div>"
      ],
      "text/plain": [
       "   transactionId   visitorId        date  revenue group\n",
       "0     3667963787  3312258926  2019-08-15     1650     B\n",
       "1     2804400009  3642806036  2019-08-15      730     B\n",
       "2     2961555356  4069496402  2019-08-15      400     A\n",
       "3     3797467345  1196621759  2019-08-15     9759     B\n",
       "4     2282983706  2322279887  2019-08-15     2308     B"
      ]
     },
     "metadata": {},
     "output_type": "display_data"
    }
   ],
   "source": [
    "display(orders.head())"
   ]
  },
  {
   "cell_type": "code",
   "execution_count": 10,
   "metadata": {},
   "outputs": [
    {
     "name": "stdout",
     "output_type": "stream",
     "text": [
      "<class 'pandas.core.frame.DataFrame'>\n",
      "RangeIndex: 1197 entries, 0 to 1196\n",
      "Data columns (total 5 columns):\n",
      " #   Column         Non-Null Count  Dtype \n",
      "---  ------         --------------  ----- \n",
      " 0   transactionId  1197 non-null   int64 \n",
      " 1   visitorId      1197 non-null   int64 \n",
      " 2   date           1197 non-null   object\n",
      " 3   revenue        1197 non-null   int64 \n",
      " 4   group          1197 non-null   object\n",
      "dtypes: int64(3), object(2)\n",
      "memory usage: 46.9+ KB\n"
     ]
    }
   ],
   "source": [
    "orders.info()"
   ]
  },
  {
   "cell_type": "code",
   "execution_count": 11,
   "metadata": {},
   "outputs": [
    {
     "data": {
      "text/html": [
       "<div>\n",
       "<style scoped>\n",
       "    .dataframe tbody tr th:only-of-type {\n",
       "        vertical-align: middle;\n",
       "    }\n",
       "\n",
       "    .dataframe tbody tr th {\n",
       "        vertical-align: top;\n",
       "    }\n",
       "\n",
       "    .dataframe thead th {\n",
       "        text-align: right;\n",
       "    }\n",
       "</style>\n",
       "<table border=\"1\" class=\"dataframe\">\n",
       "  <thead>\n",
       "    <tr style=\"text-align: right;\">\n",
       "      <th></th>\n",
       "      <th>date</th>\n",
       "      <th>group</th>\n",
       "      <th>visitors</th>\n",
       "    </tr>\n",
       "  </thead>\n",
       "  <tbody>\n",
       "    <tr>\n",
       "      <th>0</th>\n",
       "      <td>2019-08-01</td>\n",
       "      <td>A</td>\n",
       "      <td>719</td>\n",
       "    </tr>\n",
       "    <tr>\n",
       "      <th>1</th>\n",
       "      <td>2019-08-02</td>\n",
       "      <td>A</td>\n",
       "      <td>619</td>\n",
       "    </tr>\n",
       "    <tr>\n",
       "      <th>2</th>\n",
       "      <td>2019-08-03</td>\n",
       "      <td>A</td>\n",
       "      <td>507</td>\n",
       "    </tr>\n",
       "    <tr>\n",
       "      <th>3</th>\n",
       "      <td>2019-08-04</td>\n",
       "      <td>A</td>\n",
       "      <td>717</td>\n",
       "    </tr>\n",
       "    <tr>\n",
       "      <th>4</th>\n",
       "      <td>2019-08-05</td>\n",
       "      <td>A</td>\n",
       "      <td>756</td>\n",
       "    </tr>\n",
       "  </tbody>\n",
       "</table>\n",
       "</div>"
      ],
      "text/plain": [
       "         date group  visitors\n",
       "0  2019-08-01     A       719\n",
       "1  2019-08-02     A       619\n",
       "2  2019-08-03     A       507\n",
       "3  2019-08-04     A       717\n",
       "4  2019-08-05     A       756"
      ]
     },
     "metadata": {},
     "output_type": "display_data"
    }
   ],
   "source": [
    "display(visitors.head())"
   ]
  },
  {
   "cell_type": "code",
   "execution_count": 12,
   "metadata": {},
   "outputs": [
    {
     "name": "stdout",
     "output_type": "stream",
     "text": [
      "<class 'pandas.core.frame.DataFrame'>\n",
      "RangeIndex: 62 entries, 0 to 61\n",
      "Data columns (total 3 columns):\n",
      " #   Column    Non-Null Count  Dtype \n",
      "---  ------    --------------  ----- \n",
      " 0   date      62 non-null     object\n",
      " 1   group     62 non-null     object\n",
      " 2   visitors  62 non-null     int64 \n",
      "dtypes: int64(1), object(2)\n",
      "memory usage: 1.6+ KB\n"
     ]
    }
   ],
   "source": [
    "visitors.info()"
   ]
  },
  {
   "cell_type": "code",
   "execution_count": 13,
   "metadata": {},
   "outputs": [
    {
     "name": "stdout",
     "output_type": "stream",
     "text": [
      "Количество пустых значенний:\n",
      "transactionId    0\n",
      "visitorId        0\n",
      "date             0\n",
      "revenue          0\n",
      "group            0\n",
      "dtype: int64\n",
      "Количество дубликатов: 0\n"
     ]
    }
   ],
   "source": [
    "print('Количество пустых значенний:')\n",
    "print(orders.isna().sum())\n",
    "print('Количество дубликатов:', orders.duplicated().sum())"
   ]
  },
  {
   "cell_type": "code",
   "execution_count": 14,
   "metadata": {},
   "outputs": [
    {
     "name": "stdout",
     "output_type": "stream",
     "text": [
      "Количество пустых значенний:\n",
      "date        0\n",
      "group       0\n",
      "visitors    0\n",
      "dtype: int64\n",
      "Количество дубликатов: 0\n"
     ]
    }
   ],
   "source": [
    "print('Количество пустых значенний:')\n",
    "print(visitors.isna().sum())\n",
    "print('Количество дубликатов:',visitors.duplicated().sum())"
   ]
  },
  {
   "cell_type": "code",
   "execution_count": 15,
   "metadata": {},
   "outputs": [],
   "source": [
    "orders['date'] = orders['date'].map(\n",
    "    lambda x: dt.datetime.strptime(x, '%Y-%m-%d')\n",
    ")\n",
    "\n",
    "visitors['date'] = visitors['date'].map(\n",
    "    lambda x: dt.datetime.strptime(x, '%Y-%m-%d')\n",
    ")\n"
   ]
  },
  {
   "cell_type": "code",
   "execution_count": 16,
   "metadata": {},
   "outputs": [
    {
     "name": "stdout",
     "output_type": "stream",
     "text": [
      "<class 'pandas.core.frame.DataFrame'>\n",
      "RangeIndex: 62 entries, 0 to 61\n",
      "Data columns (total 3 columns):\n",
      " #   Column    Non-Null Count  Dtype         \n",
      "---  ------    --------------  -----         \n",
      " 0   date      62 non-null     datetime64[ns]\n",
      " 1   group     62 non-null     object        \n",
      " 2   visitors  62 non-null     int64         \n",
      "dtypes: datetime64[ns](1), int64(1), object(1)\n",
      "memory usage: 1.6+ KB\n",
      "None\n"
     ]
    }
   ],
   "source": [
    "print(visitors.info())"
   ]
  },
  {
   "cell_type": "markdown",
   "metadata": {},
   "source": [
    "Проверим, не пересекаются ли наши пользователи сайта в группах."
   ]
  },
  {
   "cell_type": "code",
   "execution_count": 17,
   "metadata": {},
   "outputs": [
    {
     "name": "stdout",
     "output_type": "stream",
     "text": [
      "Количество повторяющихся пользователей: 58\n"
     ]
    }
   ],
   "source": [
    "#Смотрим пересекающихся пользователей\n",
    "ordersA = orders.loc[orders['group'] == 'A']\n",
    "ordersB = orders.loc[orders['group'] == 'B']\n",
    "\n",
    "double_users = ordersA.loc[ordersA['visitorId'].isin(ordersB['visitorId'])]['visitorId'].unique()\n",
    "print('Количество повторяющихся пользователей:', len(double_users))\n"
   ]
  },
  {
   "cell_type": "code",
   "execution_count": 18,
   "metadata": {},
   "outputs": [
    {
     "name": "stdout",
     "output_type": "stream",
     "text": [
      "1197\n",
      "1016\n"
     ]
    }
   ],
   "source": [
    "print(len(orders))\n",
    "orders = orders[~orders['visitorId'].isin(double_users)]\n",
    "print(len(orders))\n"
   ]
  },
  {
   "cell_type": "markdown",
   "metadata": {},
   "source": [
    "**Создаем сводную таблицу:**"
   ]
  },
  {
   "cell_type": "code",
   "execution_count": 19,
   "metadata": {},
   "outputs": [
    {
     "data": {
      "text/html": [
       "<div>\n",
       "<style scoped>\n",
       "    .dataframe tbody tr th:only-of-type {\n",
       "        vertical-align: middle;\n",
       "    }\n",
       "\n",
       "    .dataframe tbody tr th {\n",
       "        vertical-align: top;\n",
       "    }\n",
       "\n",
       "    .dataframe thead th {\n",
       "        text-align: right;\n",
       "    }\n",
       "</style>\n",
       "<table border=\"1\" class=\"dataframe\">\n",
       "  <thead>\n",
       "    <tr style=\"text-align: right;\">\n",
       "      <th></th>\n",
       "      <th>date</th>\n",
       "      <th>ordersPerDateA</th>\n",
       "      <th>revenuePerDateA</th>\n",
       "      <th>ordersPerDateB</th>\n",
       "      <th>revenuePerDateB</th>\n",
       "      <th>ordersCummulativeA</th>\n",
       "      <th>revenueCummulativeA</th>\n",
       "      <th>ordersCummulativeB</th>\n",
       "      <th>revenueCummulativeB</th>\n",
       "      <th>visitorsPerDateA</th>\n",
       "      <th>visitorsPerDateB</th>\n",
       "      <th>visitorsCummulativeA</th>\n",
       "      <th>visitorsCummulativeB</th>\n",
       "    </tr>\n",
       "  </thead>\n",
       "  <tbody>\n",
       "    <tr>\n",
       "      <th>0</th>\n",
       "      <td>2019-08-01</td>\n",
       "      <td>23</td>\n",
       "      <td>142779</td>\n",
       "      <td>17</td>\n",
       "      <td>59758</td>\n",
       "      <td>23</td>\n",
       "      <td>142779</td>\n",
       "      <td>17</td>\n",
       "      <td>59758</td>\n",
       "      <td>719</td>\n",
       "      <td>713</td>\n",
       "      <td>719</td>\n",
       "      <td>713</td>\n",
       "    </tr>\n",
       "    <tr>\n",
       "      <th>1</th>\n",
       "      <td>2019-08-02</td>\n",
       "      <td>19</td>\n",
       "      <td>91602</td>\n",
       "      <td>23</td>\n",
       "      <td>162043</td>\n",
       "      <td>42</td>\n",
       "      <td>234381</td>\n",
       "      <td>40</td>\n",
       "      <td>221801</td>\n",
       "      <td>619</td>\n",
       "      <td>581</td>\n",
       "      <td>1338</td>\n",
       "      <td>1294</td>\n",
       "    </tr>\n",
       "    <tr>\n",
       "      <th>2</th>\n",
       "      <td>2019-08-03</td>\n",
       "      <td>24</td>\n",
       "      <td>112473</td>\n",
       "      <td>14</td>\n",
       "      <td>67049</td>\n",
       "      <td>66</td>\n",
       "      <td>346854</td>\n",
       "      <td>54</td>\n",
       "      <td>288850</td>\n",
       "      <td>507</td>\n",
       "      <td>509</td>\n",
       "      <td>1845</td>\n",
       "      <td>1803</td>\n",
       "    </tr>\n",
       "    <tr>\n",
       "      <th>3</th>\n",
       "      <td>2019-08-04</td>\n",
       "      <td>11</td>\n",
       "      <td>41176</td>\n",
       "      <td>14</td>\n",
       "      <td>96890</td>\n",
       "      <td>77</td>\n",
       "      <td>388030</td>\n",
       "      <td>68</td>\n",
       "      <td>385740</td>\n",
       "      <td>717</td>\n",
       "      <td>770</td>\n",
       "      <td>2562</td>\n",
       "      <td>2573</td>\n",
       "    </tr>\n",
       "    <tr>\n",
       "      <th>4</th>\n",
       "      <td>2019-08-05</td>\n",
       "      <td>22</td>\n",
       "      <td>86383</td>\n",
       "      <td>21</td>\n",
       "      <td>89908</td>\n",
       "      <td>99</td>\n",
       "      <td>474413</td>\n",
       "      <td>89</td>\n",
       "      <td>475648</td>\n",
       "      <td>756</td>\n",
       "      <td>707</td>\n",
       "      <td>3318</td>\n",
       "      <td>3280</td>\n",
       "    </tr>\n",
       "  </tbody>\n",
       "</table>\n",
       "</div>"
      ],
      "text/plain": [
       "        date  ordersPerDateA  revenuePerDateA  ordersPerDateB  \\\n",
       "0 2019-08-01              23           142779              17   \n",
       "1 2019-08-02              19            91602              23   \n",
       "2 2019-08-03              24           112473              14   \n",
       "3 2019-08-04              11            41176              14   \n",
       "4 2019-08-05              22            86383              21   \n",
       "\n",
       "   revenuePerDateB  ordersCummulativeA  revenueCummulativeA  \\\n",
       "0            59758                  23               142779   \n",
       "1           162043                  42               234381   \n",
       "2            67049                  66               346854   \n",
       "3            96890                  77               388030   \n",
       "4            89908                  99               474413   \n",
       "\n",
       "   ordersCummulativeB  revenueCummulativeB  visitorsPerDateA  \\\n",
       "0                  17                59758               719   \n",
       "1                  40               221801               619   \n",
       "2                  54               288850               507   \n",
       "3                  68               385740               717   \n",
       "4                  89               475648               756   \n",
       "\n",
       "   visitorsPerDateB  visitorsCummulativeA  visitorsCummulativeB  \n",
       "0               713                   719                   713  \n",
       "1               581                  1338                  1294  \n",
       "2               509                  1845                  1803  \n",
       "3               770                  2562                  2573  \n",
       "4               707                  3318                  3280  "
      ]
     },
     "metadata": {},
     "output_type": "display_data"
    }
   ],
   "source": [
    "visitorsADaily = visitors[visitors['group'] == 'A'][['date', 'visitors']]\n",
    "visitorsADaily.columns = ['date', 'visitorsPerDateA']\n",
    "\n",
    "visitorsACummulative = visitorsADaily.apply(\n",
    "    lambda x: visitorsADaily[visitorsADaily['date'] <= x['date']].agg(\n",
    "        {'date': 'max', 'visitorsPerDateA': 'sum'}\n",
    "    ),\n",
    "    axis=1,\n",
    ")\n",
    "visitorsACummulative.columns = ['date', 'visitorsCummulativeA']\n",
    "\n",
    "visitorsBDaily = visitors[visitors['group'] == 'B'][['date', 'visitors']]\n",
    "visitorsBDaily.columns = ['date', 'visitorsPerDateB']\n",
    "\n",
    "visitorsBCummulative = visitorsBDaily.apply(\n",
    "    lambda x: visitorsBDaily[visitorsBDaily['date'] <= x['date']].agg(\n",
    "        {'date': 'max', 'visitorsPerDateB': 'sum'}\n",
    "    ),\n",
    "    axis=1,\n",
    ")\n",
    "visitorsBCummulative.columns = ['date', 'visitorsCummulativeB']\n",
    "\n",
    "ordersADaily = (\n",
    "    orders[orders['group'] == 'A'][['date', 'transactionId', 'visitorId', 'revenue']]\n",
    "    .groupby('date', as_index=False)\n",
    "    .agg({'transactionId': pd.Series.nunique, 'revenue': 'sum'})\n",
    ")\n",
    "ordersADaily.columns = ['date', 'ordersPerDateA', 'revenuePerDateA']\n",
    "\n",
    "ordersACummulative = ordersADaily.apply(\n",
    "    lambda x: ordersADaily[ordersADaily['date'] <= x['date']].agg(\n",
    "        {'date': 'max', 'ordersPerDateA': 'sum', 'revenuePerDateA': 'sum'}\n",
    "    ),\n",
    "    axis=1,\n",
    ").sort_values(by=['date'])\n",
    "ordersACummulative.columns = [\n",
    "    'date',\n",
    "    'ordersCummulativeA',\n",
    "    'revenueCummulativeA',\n",
    "]\n",
    "\n",
    "ordersBDaily = (\n",
    "    orders[orders['group'] == 'B'][['date', 'transactionId', 'visitorId', 'revenue']]\n",
    "    .groupby('date', as_index=False)\n",
    "    .agg({'transactionId': pd.Series.nunique, 'revenue': 'sum'})\n",
    ")\n",
    "ordersBDaily.columns = ['date', 'ordersPerDateB', 'revenuePerDateB']\n",
    "\n",
    "ordersBCummulative = ordersBDaily.apply(\n",
    "    lambda x: ordersBDaily[ordersBDaily['date'] <= x['date']].agg(\n",
    "        {'date': 'max', 'ordersPerDateB': 'sum', 'revenuePerDateB': 'sum'}\n",
    "    ),\n",
    "    axis=1,\n",
    ").sort_values(by=['date'])\n",
    "ordersBCummulative.columns = [\n",
    "    'date',\n",
    "    'ordersCummulativeB',\n",
    "    'revenueCummulativeB',\n",
    "]\n",
    "\n",
    "data = (\n",
    "    ordersADaily.merge(\n",
    "        ordersBDaily, left_on='date', right_on='date', how='left'\n",
    "    )\n",
    "    .merge(ordersACummulative, left_on='date', right_on='date', how='left')\n",
    "    .merge(ordersBCummulative, left_on='date', right_on='date', how='left')\n",
    "    .merge(visitorsADaily, left_on='date', right_on='date', how='left')\n",
    "    .merge(visitorsBDaily, left_on='date', right_on='date', how='left')\n",
    "    .merge(visitorsACummulative, left_on='date', right_on='date', how='left')\n",
    "    .merge(visitorsBCummulative, left_on='date', right_on='date', how='left')\n",
    ")\n",
    "\n",
    "display(data.head(5))"
   ]
  },
  {
   "cell_type": "markdown",
   "metadata": {},
   "source": [
    "Приступаем к построению графиков."
   ]
  },
  {
   "cell_type": "code",
   "execution_count": 20,
   "metadata": {},
   "outputs": [
    {
     "data": {
      "image/png": "[encoded data removed]",
      "text/plain": [
       "<Figure size 1440x360 with 1 Axes>"
      ]
     },
     "metadata": {
      "needs_background": "light"
     },
     "output_type": "display_data"
    }
   ],
   "source": [
    "#График куммулятивной выручки\n",
    "plt.figure(figsize=(20,5))\n",
    "plt.title('График куммулятивной выручки', fontsize=22)\n",
    "plt.plot(data['date'], data['revenueCummulativeA'], label='A')\n",
    "plt.plot(data['date'], data['revenueCummulativeB'], label='B')\n",
    "#plt.xticks(rotation=60, horizontalalignment='right')\n",
    "plt.xlabel(\"Даты\")\n",
    "plt.ylabel(\"Выручка\")\n",
    "plt.legend();"
   ]
  },
  {
   "cell_type": "markdown",
   "metadata": {},
   "source": [
    "По накопленной выручке тестовая группа не уступает основной группе в динамике, однако имеется резкий всплеск, вероятно в тестовую группу попал аномальный по стоимости заказ. В разрезе среднего чека мы сможем детальнее рассмотреть динамику."
   ]
  },
  {
   "cell_type": "code",
   "execution_count": 21,
   "metadata": {},
   "outputs": [
    {
     "data": {
      "image/png": "[encoded data removed]",
      "text/plain": [
       "<Figure size 1440x360 with 1 Axes>"
      ]
     },
     "metadata": {
      "needs_background": "light"
     },
     "output_type": "display_data"
    }
   ],
   "source": [
    "#График куммулятивной выручки по среднему чеку\n",
    "plt.figure(figsize=(20,5))\n",
    "plt.title('График куммулятивной выручки по среднему чеку', fontsize=22)\n",
    "plt.plot(data['date'], data['revenueCummulativeA']/data['ordersCummulativeA'], label='A')\n",
    "plt.plot(data['date'], data['revenueCummulativeB']/data['ordersCummulativeB'], label='B')\n",
    "#plt.xticks(rotation=60, horizontalalignment='right')\n",
    "plt.xlabel(\"Даты\")\n",
    "plt.ylabel(\"Выручка\")\n",
    "plt.legend();"
   ]
  },
  {
   "cell_type": "markdown",
   "metadata": {},
   "source": [
    "Действительно, здесь мы можем наблюдать снижение накопленной выручки по среднему чеку, теория с аномальным заказом подтверждается. В противном случае, график группы В продолжал бы расти, но он имеет тенденцию к сближению с графиком группы А.  "
   ]
  },
  {
   "cell_type": "code",
   "execution_count": 22,
   "metadata": {},
   "outputs": [
    {
     "data": {
      "image/png": "[encoded data removed]",
      "text/plain": [
       "<Figure size 1440x360 with 1 Axes>"
      ]
     },
     "metadata": {
      "needs_background": "light"
     },
     "output_type": "display_data"
    }
   ],
   "source": [
    "#график относительного изменения кумулятивного среднего чека группы B к группе A\n",
    "plt.figure(figsize=(20,5))\n",
    "plt.title('График относительного изменения кумулятивного среднего чека группы B к группе A', fontsize=22)\n",
    "plt.plot(data['date'], (data['revenueCummulativeB']/data['ordersCummulativeB'])/(data['revenueCummulativeA']/data['ordersCummulativeA'])-1)\n",
    "plt.xlabel(\"Даты\")\n",
    "plt.ylabel(\"Значение коэфициента\")\n",
    "# добавляем ось X\n",
    "plt.axhline(y=0, color='black', linestyle='--');\n",
    "\n",
    "#plt.xticks(rotation=60, horizontalalignment='right'); "
   ]
  },
  {
   "cell_type": "markdown",
   "metadata": {},
   "source": [
    "График относительного изменения кумулятивного среднего чека группы B к группе A показывает ту же самую динамику. Однако можно заметить, что в целом тренд графика и так показал бы положительную динамику относительно группы А, но правда не с таким большим разрывом."
   ]
  },
  {
   "cell_type": "code",
   "execution_count": 23,
   "metadata": {},
   "outputs": [
    {
     "data": {
      "image/png": "[encoded data removed]",
      "text/plain": [
       "<Figure size 1440x360 with 1 Axes>"
      ]
     },
     "metadata": {
      "needs_background": "light"
     },
     "output_type": "display_data"
    }
   ],
   "source": [
    "#График кумулятивного среднего количества заказов на посетителя по группам\n",
    "plt.figure(figsize=(20,5))\n",
    "plt.title('График кумулятивного среднего количества заказов на посетителя по группам', fontsize=22)\n",
    "plt.plot(data['date'], data['ordersCummulativeA']/data['visitorsPerDateA'], label='A')\n",
    "plt.plot(data['date'], data['ordersCummulativeB']/data['visitorsPerDateB'], label='B')\n",
    "plt.xlabel(\"Даты\")\n",
    "plt.ylabel(\"Значение коэфициента\")\n",
    "#plt.xticks(rotation=60, horizontalalignment='right'); \n",
    "plt.legend();"
   ]
  },
  {
   "cell_type": "code",
   "execution_count": 24,
   "metadata": {},
   "outputs": [],
   "source": [
    "datesGroups = orders[['date', 'group']].drop_duplicates()\n",
    "\n",
    "ordersAggregated = datesGroups.apply(\n",
    "    lambda x: orders[\n",
    "        np.logical_and(\n",
    "            orders['date'] <= x['date'], orders['group'] == x['group']\n",
    "        )\n",
    "    ].agg(\n",
    "        {\n",
    "            'date': 'max',\n",
    "            'group': 'max',\n",
    "            'transactionId': 'nunique',\n",
    "            'visitorId': 'nunique',\n",
    "            'revenue': 'sum',\n",
    "        }\n",
    "    ),\n",
    "    axis=1,\n",
    ").sort_values(by=['date', 'group'])\n",
    "\n",
    "visitorsAggregated = datesGroups.apply(\n",
    "    lambda x: visitors[\n",
    "        np.logical_and(\n",
    "            visitors['date'] <= x['date'], visitors['group'] == x['group']\n",
    "        )\n",
    "    ].agg({'date': 'max', 'group': 'max', 'visitors': 'sum'}),\n",
    "    axis=1,\n",
    ").sort_values(by=['date', 'group'])\n",
    "\n",
    "cumulativeData = ordersAggregated.merge(\n",
    "    visitorsAggregated, left_on=['date', 'group'], right_on=['date', 'group']\n",
    ")\n",
    "cumulativeData.columns = [\n",
    "    'date',\n",
    "    'group',\n",
    "    'orders',\n",
    "    'buyers',\n",
    "    'revenue',\n",
    "    'visitors',\n",
    "]\n",
    "# считаем кумулятивную конверсию\n",
    "cumulativeData['conversion'] = cumulativeData['orders']/cumulativeData['visitors']\n",
    "\n",
    "# отделяем данные по группе A\n",
    "cumulativeDataA = cumulativeData[cumulativeData['group']=='A']\n",
    "\n",
    "# отделяем данные по группе B\n",
    "cumulativeDataB = cumulativeData[cumulativeData['group']=='B']"
   ]
  },
  {
   "cell_type": "code",
   "execution_count": 25,
   "metadata": {},
   "outputs": [
    {
     "data": {
      "image/png": "[encoded data removed]",
      "text/plain": [
       "<Figure size 1440x360 with 1 Axes>"
      ]
     },
     "metadata": {
      "needs_background": "light"
     },
     "output_type": "display_data"
    }
   ],
   "source": [
    "plt.figure(figsize=(20,5))\n",
    "\n",
    "plt.title('График кумулятивного среднего количества заказов на посетителя по группам', fontsize=22)\n",
    "plt.plot(cumulativeDataA['date'], cumulativeDataA['conversion'], label='A')\n",
    "plt.plot(cumulativeDataB['date'], cumulativeDataB['conversion'], label='B')\n",
    "plt.xlabel(\"Дата\")\n",
    "plt.ylabel(\"Значение коэфициента\")\n",
    "plt.legend();"
   ]
  },
  {
   "cell_type": "markdown",
   "metadata": {},
   "source": [
    "Тестовая группа показывает лучшие показатели по средним заказам 👍"
   ]
  },
  {
   "cell_type": "code",
   "execution_count": 26,
   "metadata": {},
   "outputs": [
    {
     "data": {
      "image/png": "[encoded data removed]",
      "text/plain": [
       "<Figure size 1440x360 with 1 Axes>"
      ]
     },
     "metadata": {
      "needs_background": "light"
     },
     "output_type": "display_data"
    }
   ],
   "source": [
    "mergedCumulativeConversions = cumulativeDataA[['date','conversion']].merge(cumulativeDataB[['date','conversion']], left_on='date', right_on='date', how='left', suffixes=['A', 'B'])\n",
    "\n",
    "plt.figure(figsize=(20,5))\n",
    "plt.title('График относительного изменения кумулятивного среднего количества заказов на посетителя группы B к группе A', fontsize=22)\n",
    "plt.plot(mergedCumulativeConversions['date'], mergedCumulativeConversions['conversionB']/mergedCumulativeConversions['conversionA']-1, label=\"Относительный прирост конверсии группы B относительно группы A\")\n",
    "plt.legend()\n",
    "plt.xlabel(\"Дата\")\n",
    "plt.ylabel(\"Значение коэфициента\")\n",
    "plt.axhline(y=0, color='black', linestyle='--')\n",
    "plt.axhline(y=0.15, color='grey', linestyle='--');"
   ]
  },
  {
   "cell_type": "markdown",
   "metadata": {},
   "source": [
    "График относительного изменения кумулятивного среднего количества заказов на посетителя группы B к группе A показывает, что по заказам, на протяжении трех недель тестовая группа лидировала по отношению к основной группе."
   ]
  },
  {
   "cell_type": "code",
   "execution_count": 27,
   "metadata": {},
   "outputs": [
    {
     "data": {
      "image/png": "[encoded data removed]",
      "text/plain": [
       "<Figure size 1440x360 with 1 Axes>"
      ]
     },
     "metadata": {
      "needs_background": "light"
     },
     "output_type": "display_data"
    }
   ],
   "source": [
    "x_values_ord = pd.Series(range(0,len(orders['revenue'])))\n",
    "plt.figure(figsize=(20,5))\n",
    "plt.title('Точечный график стоимостей заказов', fontsize=22)\n",
    "plt.xlabel(\"Номер заказа\")\n",
    "plt.ylabel(\"Стоимость заказа, млн\")\n",
    "plt.scatter(x_values_ord, orders['revenue']);"
   ]
  },
  {
   "cell_type": "markdown",
   "metadata": {},
   "source": [
    "На точечном графике стоимостей заказов мы видим, что в целом, заказы распределены достаточно равномерно, за исключением двух заказов, один из которых по всей видимостии обеспечил резкий всплеск на графике с выручкой."
   ]
  },
  {
   "cell_type": "code",
   "execution_count": 28,
   "metadata": {},
   "outputs": [
    {
     "name": "stdout",
     "output_type": "stream",
     "text": [
      "[17990. 26785. 53904.]\n"
     ]
    }
   ],
   "source": [
    "print(np.percentile(orders['revenue'], [90, 95, 99]))\n",
    "orders_pc = int(np.percentile(orders['revenue'], [95]))"
   ]
  },
  {
   "cell_type": "markdown",
   "metadata": {},
   "source": [
    "Разбивка по перцентилям показывает, что 95% покупателей укладываются в сумму до 26785 рублей (Допустим рублей, в задании не обозначено). Соответственно, возьмем эту сумму для фильтрации аномальных заказов."
   ]
  },
  {
   "cell_type": "code",
   "execution_count": 29,
   "metadata": {},
   "outputs": [
    {
     "data": {
      "text/html": [
       "<div>\n",
       "<style scoped>\n",
       "    .dataframe tbody tr th:only-of-type {\n",
       "        vertical-align: middle;\n",
       "    }\n",
       "\n",
       "    .dataframe tbody tr th {\n",
       "        vertical-align: top;\n",
       "    }\n",
       "\n",
       "    .dataframe thead th {\n",
       "        text-align: right;\n",
       "    }\n",
       "</style>\n",
       "<table border=\"1\" class=\"dataframe\">\n",
       "  <thead>\n",
       "    <tr style=\"text-align: right;\">\n",
       "      <th></th>\n",
       "      <th>Visitor</th>\n",
       "      <th>Orders</th>\n",
       "    </tr>\n",
       "  </thead>\n",
       "  <tbody>\n",
       "    <tr>\n",
       "      <th>0</th>\n",
       "      <td>5114589</td>\n",
       "      <td>1</td>\n",
       "    </tr>\n",
       "    <tr>\n",
       "      <th>1</th>\n",
       "      <td>6958315</td>\n",
       "      <td>1</td>\n",
       "    </tr>\n",
       "    <tr>\n",
       "      <th>2</th>\n",
       "      <td>11685486</td>\n",
       "      <td>1</td>\n",
       "    </tr>\n",
       "    <tr>\n",
       "      <th>3</th>\n",
       "      <td>39475350</td>\n",
       "      <td>1</td>\n",
       "    </tr>\n",
       "    <tr>\n",
       "      <th>4</th>\n",
       "      <td>47206413</td>\n",
       "      <td>1</td>\n",
       "    </tr>\n",
       "    <tr>\n",
       "      <th>...</th>\n",
       "      <td>...</td>\n",
       "      <td>...</td>\n",
       "    </tr>\n",
       "    <tr>\n",
       "      <th>968</th>\n",
       "      <td>4259830713</td>\n",
       "      <td>1</td>\n",
       "    </tr>\n",
       "    <tr>\n",
       "      <th>969</th>\n",
       "      <td>4278982564</td>\n",
       "      <td>1</td>\n",
       "    </tr>\n",
       "    <tr>\n",
       "      <th>970</th>\n",
       "      <td>4279090005</td>\n",
       "      <td>1</td>\n",
       "    </tr>\n",
       "    <tr>\n",
       "      <th>971</th>\n",
       "      <td>4281247801</td>\n",
       "      <td>1</td>\n",
       "    </tr>\n",
       "    <tr>\n",
       "      <th>972</th>\n",
       "      <td>4283872382</td>\n",
       "      <td>1</td>\n",
       "    </tr>\n",
       "  </tbody>\n",
       "</table>\n",
       "<p>973 rows × 2 columns</p>\n",
       "</div>"
      ],
      "text/plain": [
       "        Visitor  Orders\n",
       "0       5114589       1\n",
       "1       6958315       1\n",
       "2      11685486       1\n",
       "3      39475350       1\n",
       "4      47206413       1\n",
       "..          ...     ...\n",
       "968  4259830713       1\n",
       "969  4278982564       1\n",
       "970  4279090005       1\n",
       "971  4281247801       1\n",
       "972  4283872382       1\n",
       "\n",
       "[973 rows x 2 columns]"
      ]
     },
     "metadata": {},
     "output_type": "display_data"
    }
   ],
   "source": [
    "ordersByUsers = (\n",
    "    orders.groupby('visitorId', as_index=False)\n",
    "    .agg({'transactionId': 'nunique'})\n",
    ")\n",
    "ordersByUsers.columns = ['Visitor', 'Orders']\n",
    "display(ordersByUsers)"
   ]
  },
  {
   "cell_type": "code",
   "execution_count": 30,
   "metadata": {},
   "outputs": [
    {
     "data": {
      "image/png": "[encoded data removed]",
      "text/plain": [
       "<Figure size 1440x360 with 1 Axes>"
      ]
     },
     "metadata": {
      "needs_background": "light"
     },
     "output_type": "display_data"
    }
   ],
   "source": [
    "x_values_opu = pd.Series(range(0,len(ordersByUsers['Visitor'])))\n",
    "plt.figure(figsize=(20,5))\n",
    "plt.title('Точечный график количества заказов по пользователям', fontsize=22)\n",
    "plt.scatter(x_values_opu, ordersByUsers['Orders'])\n",
    "plt.xlabel(\"Номер пользователя\")\n",
    "plt.ylabel(\"Количество заказов\");"
   ]
  },
  {
   "cell_type": "code",
   "execution_count": 31,
   "metadata": {},
   "outputs": [
    {
     "name": "stdout",
     "output_type": "stream",
     "text": [
      "[1. 1. 2.]\n"
     ]
    }
   ],
   "source": [
    "print(np.percentile(ordersByUsers['Orders'], [90, 95, 99]))\n",
    "ordersByUsers_pc = int(np.percentile(ordersByUsers['Orders'], [95]))"
   ]
  },
  {
   "cell_type": "markdown",
   "metadata": {},
   "source": [
    "В целом можно сказать, что в течении одного месяца довольно немногие покупатели возвращаются за повтороным заказом в наш интернет-магазин. 95% покупателей за месяц сделали только один заказ. Возьмем этот показатель для фильтрации аномальных заказов."
   ]
  },
  {
   "cell_type": "markdown",
   "metadata": {},
   "source": [
    "**Смотрим статистическую значимость на сырых данных**"
   ]
  },
  {
   "cell_type": "markdown",
   "metadata": {},
   "source": [
    "Для расчетов будет применятся непараметрический тест Уилкоксона-Манна-Уитни. Этот метод рассчетов позволяет более достоверно обрабатывать данные в которых есть выбросы.\n",
    "\n",
    "Критический уровень статистической значимости (alpha) = 0.05\n",
    "\n",
    "Проверятся будут следующие гипотезы:\n",
    "\n",
    "H0 - Cтатистически значимых различий в среднем количестве заказов на посетителя между группами по «сырым» данным нет.\n",
    "\n",
    "H1 - Cтатистически значимых различий в среднем количестве заказов на посетителя между группами по «сырым» данным есть. "
   ]
  },
  {
   "cell_type": "code",
   "execution_count": 32,
   "metadata": {},
   "outputs": [],
   "source": [
    "alpha = 0.05\n",
    "ordersByUsersA = (\n",
    "    orders[orders['group'] == 'A']\n",
    "    .groupby('visitorId', as_index=False)\n",
    "    .agg({'transactionId': pd.Series.nunique})\n",
    ")\n",
    "ordersByUsersA.columns = ['visitorId', 'orders']\n",
    "\n",
    "ordersByUsersB = (\n",
    "    orders[orders['group'] == 'B']\n",
    "    .groupby('visitorId', as_index=False)\n",
    "    .agg({'transactionId': pd.Series.nunique})\n",
    ")\n",
    "ordersByUsersB.columns = ['visitorId', 'orders'] \n",
    "\n",
    "sampleA = pd.concat(\n",
    "    [\n",
    "        ordersByUsersA['orders'],\n",
    "        pd.Series(\n",
    "            0,\n",
    "            index=np.arange(\n",
    "                data['visitorsPerDateA'].sum() - len(ordersByUsersA['orders'])\n",
    "            ),\n",
    "            name='orders',\n",
    "        ),\n",
    "    ],\n",
    "    axis=0,\n",
    ")\n",
    "\n",
    "sampleB = pd.concat(\n",
    "    [\n",
    "        ordersByUsersB['orders'],\n",
    "        pd.Series(\n",
    "            0,\n",
    "            index=np.arange(\n",
    "                data['visitorsPerDateB'].sum() - len(ordersByUsersB['orders'])\n",
    "            ),\n",
    "            name='orders',\n",
    "        ),\n",
    "    ],\n",
    "    axis=0,\n",
    ") \n"
   ]
  },
  {
   "cell_type": "code",
   "execution_count": 33,
   "metadata": {},
   "outputs": [
    {
     "name": "stdout",
     "output_type": "stream",
     "text": [
      "Отвергаем нулевую гипотезу: разница статистически значима\n",
      "pvalue: 0.01102\n",
      "Разница между группами: 0.160\n"
     ]
    }
   ],
   "source": [
    "#  статистическая значимость различий в среднем количестве заказов на посетителя между группами по «сырым» данным\n",
    "or1_pvalue = float(\"{0:.5f}\".format(stats.mannwhitneyu(sampleA, sampleB)[1]))\n",
    "if or1_pvalue < alpha:\n",
    "    print('Отвергаем нулевую гипотезу: разница статистически значима')\n",
    "else:\n",
    "    print(\n",
    "        'Не получилось отвергнуть нулевую гипотезу, вывод о различии сделать нельзя'\n",
    "    )\n",
    "print('pvalue:', \"{0:.5f}\".format(stats.mannwhitneyu(sampleA, sampleB)[1]))\n",
    "print('Разница между группами:',\"{0:.3f}\".format((data['ordersPerDateB'].sum()/data['visitorsPerDateB'].sum())/(data['ordersPerDateA'].sum()/data['visitorsPerDateA'].sum())-1))"
   ]
  },
  {
   "cell_type": "markdown",
   "metadata": {},
   "source": [
    "H0 - Cтатистически значимых различий в средних чеках между между группами по «сырым» данным нет.\n",
    "\n",
    "H1 - Cтатистически значимых различий в средних чеках между группами по «сырым» данным есть. "
   ]
  },
  {
   "cell_type": "code",
   "execution_count": 34,
   "metadata": {},
   "outputs": [
    {
     "name": "stdout",
     "output_type": "stream",
     "text": [
      "Не получилось отвергнуть нулевую гипотезу, вывод о различии сделать нельзя\n",
      "pvalue: 0.829\n",
      "Разница между группами: 0.287\n"
     ]
    }
   ],
   "source": [
    "#статистическая значимость различия средних чеков между группами по «сырым» данным\n",
    "chek1_pvalue = float('{0:.3f}'.format(stats.mannwhitneyu(orders[orders['group']=='A']['revenue'], orders[orders['group']=='B']['revenue'])[1]))\n",
    "if chek1_pvalue < alpha:\n",
    "    print('Отвергаем нулевую гипотезу: разница статистически значима')\n",
    "else:\n",
    "    print(\n",
    "        'Не получилось отвергнуть нулевую гипотезу, вывод о различии сделать нельзя'\n",
    "    )\n",
    "print('pvalue:', '{0:.3f}'.format(stats.mannwhitneyu(orders[orders['group']=='A']['revenue'], orders[orders['group']=='B']['revenue'])[1]))\n",
    "print('Разница между группами:', '{0:.3f}'.format(orders[orders['group']=='B']['revenue'].mean()/orders[orders['group']=='A']['revenue'].mean()-1))"
   ]
  },
  {
   "cell_type": "markdown",
   "metadata": {},
   "source": [
    "**Вывод:** Согласно полученным значениям стат.теста: \n",
    "* Есть статистически значимая разница в среднем количестве заказов на посетителя между группами по «сырым» данным, среднее количество заказов на пользователя в группе В больше на 16%\n",
    "* Нет статистически значимой разницы средних чеков между группами по «сырым» данным, однако средний чек группы В больше на 28,7%"
   ]
  },
  {
   "cell_type": "markdown",
   "metadata": {},
   "source": [
    "**Смотрим статистическую значимость на очищенных данных**"
   ]
  },
  {
   "cell_type": "code",
   "execution_count": 35,
   "metadata": {},
   "outputs": [
    {
     "name": "stdout",
     "output_type": "stream",
     "text": [
      "568     113298937\n",
      "1099    148427295\n",
      "928     204675465\n",
      "33      249864742\n",
      "684     358944393\n",
      "Name: visitorId, dtype: int64\n"
     ]
    }
   ],
   "source": [
    "#Чистим данные\n",
    "usersWithManyOrders = pd.concat(\n",
    "    [\n",
    "        ordersByUsersA[ordersByUsersA['orders'] > ordersByUsers_pc]['visitorId'],\n",
    "        ordersByUsersB[ordersByUsersB['orders'] > ordersByUsers_pc]['visitorId'],\n",
    "    ],\n",
    "    axis=0,\n",
    ")\n",
    "usersWithExpensiveOrders = orders[orders['revenue'] > orders_pc]['visitorId']\n",
    "abnormalUsers = (\n",
    "    pd.concat([usersWithManyOrders, usersWithExpensiveOrders], axis=0)\n",
    "    .drop_duplicates()\n",
    "    .sort_values()\n",
    ")\n",
    "print(abnormalUsers.head(5))"
   ]
  },
  {
   "cell_type": "markdown",
   "metadata": {},
   "source": [
    "Проверятся будут следующие гипотезы:\n",
    "\n",
    "H0 - Cтатистически значимых различий в среднем количестве заказов на посетителя между группами после удаления аномальных пользователей нет.\n",
    "\n",
    "H1 - Cтатистически значимых различий в среднем количестве заказов на посетителя между группами после удаления аномальных пользователей есть. "
   ]
  },
  {
   "cell_type": "code",
   "execution_count": 36,
   "metadata": {},
   "outputs": [
    {
     "name": "stdout",
     "output_type": "stream",
     "text": [
      "Отвергаем нулевую гипотезу: разница статистически значима\n",
      "pvalue: 0.01593\n",
      "Разница между группами: 0.174\n"
     ]
    }
   ],
   "source": [
    "# статистическая значимость различия среднего количества заказов после удаления аномальных пользователей\n",
    "\n",
    "sampleAFiltered = pd.concat(\n",
    "    [\n",
    "        ordersByUsersA[\n",
    "            np.logical_not(ordersByUsersA['visitorId'].isin(abnormalUsers))\n",
    "        ]['orders'],\n",
    "        pd.Series(\n",
    "            0,\n",
    "            index=np.arange(\n",
    "                data['visitorsPerDateA'].sum() - len(ordersByUsersA['orders'])\n",
    "            ),\n",
    "            name='orders',\n",
    "        ),\n",
    "    ],\n",
    "    axis=0,\n",
    ")\n",
    "\n",
    "sampleBFiltered = pd.concat(\n",
    "    [\n",
    "        ordersByUsersB[\n",
    "            np.logical_not(ordersByUsersB['visitorId'].isin(abnormalUsers))\n",
    "        ]['orders'],\n",
    "        pd.Series(\n",
    "            0,\n",
    "            index=np.arange(\n",
    "                data['visitorsPerDateB'].sum() - len(ordersByUsersB['orders'])\n",
    "            ),\n",
    "            name='orders',\n",
    "        ),\n",
    "    ],\n",
    "    axis=0,\n",
    ")\n",
    "\n",
    "or2_pvalue = float(\"{0:.5f}\".format(stats.mannwhitneyu(sampleAFiltered, sampleBFiltered)[1]))\n",
    "\n",
    "if or2_pvalue < alpha:\n",
    "    print('Отвергаем нулевую гипотезу: разница статистически значима')\n",
    "else:\n",
    "    print(\n",
    "        'Не получилось отвергнуть нулевую гипотезу, вывод о различии сделать нельзя'\n",
    "    )\n",
    "print('pvalue:', '{0:.5f}'.format(stats.mannwhitneyu(sampleAFiltered, sampleBFiltered)[1]))\n",
    "print('Разница между группами:', '{0:.3f}'.format(sampleBFiltered.mean()/sampleAFiltered.mean()-1))"
   ]
  },
  {
   "cell_type": "markdown",
   "metadata": {},
   "source": [
    "H0 - Cтатистически значимых различий в средних чеках между между группами после удаления аномальных пользователей нет.\n",
    "\n",
    "H1 - Cтатистически значимых различий в средних чеках между группами после удаления аномальных пользователей есть."
   ]
  },
  {
   "cell_type": "code",
   "execution_count": 37,
   "metadata": {},
   "outputs": [
    {
     "name": "stdout",
     "output_type": "stream",
     "text": [
      "Не получилось отвергнуть нулевую гипотезу, вывод о различии сделать нельзя\n",
      "pvalue: 0.727\n",
      "Разница между группами: -0.034\n"
     ]
    }
   ],
   "source": [
    "#Посчитайте статистическую значимость различия средних чеков после удаления аномальных пользователей\n",
    "chek2_pvalue = float('{0:.3f}'.format(\n",
    "        stats.mannwhitneyu(\n",
    "            orders[\n",
    "                np.logical_and(\n",
    "                    orders['group'] == 'A',\n",
    "                    np.logical_not(orders['visitorId'].isin(abnormalUsers)),\n",
    "                )\n",
    "            ]['revenue'],\n",
    "            orders[\n",
    "                np.logical_and(\n",
    "                    orders['group'] == 'B',\n",
    "                    np.logical_not(orders['visitorId'].isin(abnormalUsers)),\n",
    "                )\n",
    "            ]['revenue'],\n",
    "        )[1]\n",
    "    )\n",
    ")\n",
    "if chek2_pvalue < alpha:\n",
    "    print('Отвергаем нулевую гипотезу: разница статистически значима')\n",
    "else:\n",
    "    print(\n",
    "        'Не получилось отвергнуть нулевую гипотезу, вывод о различии сделать нельзя'\n",
    "    )\n",
    "print('pvalue:', \n",
    "    '{0:.3f}'.format(\n",
    "        stats.mannwhitneyu(\n",
    "            orders[\n",
    "                np.logical_and(\n",
    "                    orders['group'] == 'A',\n",
    "                    np.logical_not(orders['visitorId'].isin(abnormalUsers)),\n",
    "                )\n",
    "            ]['revenue'],\n",
    "            orders[\n",
    "                np.logical_and(\n",
    "                    orders['group'] == 'B',\n",
    "                    np.logical_not(orders['visitorId'].isin(abnormalUsers)),\n",
    "                )\n",
    "            ]['revenue'],\n",
    "        )[1]\n",
    "    )\n",
    ")\n",
    "\n",
    "print('Разница между группами:', \n",
    "    \"{0:.3f}\".format(\n",
    "        orders[\n",
    "            np.logical_and(\n",
    "                orders['group'] == 'B',\n",
    "                np.logical_not(orders['visitorId'].isin(abnormalUsers)),\n",
    "            )\n",
    "        ]['revenue'].mean()\n",
    "        / orders[\n",
    "            np.logical_and(\n",
    "                orders['group'] == 'A',\n",
    "                np.logical_not(orders['visitorId'].isin(abnormalUsers)),\n",
    "            )\n",
    "        ]['revenue'].mean()\n",
    "        - 1\n",
    "    )\n",
    ")"
   ]
  },
  {
   "cell_type": "markdown",
   "metadata": {},
   "source": [
    "**Вывод:** Общие выводы по результатам не изменились, однако имеет место некоторая корректировка показателей:\n",
    "* Есть статистически значимая разница в среднем количестве заказов на посетителя, среднее количество заказов на пользователя в группе В больше на 15,9%. \n",
    "* Нет статистически значимой разницы средних чеков между группами, однако средний чек группы А больше на 3,4%"
   ]
  },
  {
   "cell_type": "markdown",
   "metadata": {},
   "source": [
    "**Смотрим выручку после фильтрации аномальных заказов**"
   ]
  },
  {
   "cell_type": "code",
   "execution_count": 38,
   "metadata": {},
   "outputs": [
    {
     "data": {
      "text/html": [
       "<div>\n",
       "<style scoped>\n",
       "    .dataframe tbody tr th:only-of-type {\n",
       "        vertical-align: middle;\n",
       "    }\n",
       "\n",
       "    .dataframe tbody tr th {\n",
       "        vertical-align: top;\n",
       "    }\n",
       "\n",
       "    .dataframe thead th {\n",
       "        text-align: right;\n",
       "    }\n",
       "</style>\n",
       "<table border=\"1\" class=\"dataframe\">\n",
       "  <thead>\n",
       "    <tr style=\"text-align: right;\">\n",
       "      <th></th>\n",
       "      <th>transactionId</th>\n",
       "      <th>visitorId</th>\n",
       "      <th>date</th>\n",
       "      <th>revenue</th>\n",
       "      <th>group</th>\n",
       "    </tr>\n",
       "  </thead>\n",
       "  <tbody>\n",
       "    <tr>\n",
       "      <th>0</th>\n",
       "      <td>3667963787</td>\n",
       "      <td>3312258926</td>\n",
       "      <td>2019-08-15</td>\n",
       "      <td>1650</td>\n",
       "      <td>B</td>\n",
       "    </tr>\n",
       "    <tr>\n",
       "      <th>1</th>\n",
       "      <td>2804400009</td>\n",
       "      <td>3642806036</td>\n",
       "      <td>2019-08-15</td>\n",
       "      <td>730</td>\n",
       "      <td>B</td>\n",
       "    </tr>\n",
       "    <tr>\n",
       "      <th>3</th>\n",
       "      <td>3797467345</td>\n",
       "      <td>1196621759</td>\n",
       "      <td>2019-08-15</td>\n",
       "      <td>9759</td>\n",
       "      <td>B</td>\n",
       "    </tr>\n",
       "    <tr>\n",
       "      <th>4</th>\n",
       "      <td>2282983706</td>\n",
       "      <td>2322279887</td>\n",
       "      <td>2019-08-15</td>\n",
       "      <td>2308</td>\n",
       "      <td>B</td>\n",
       "    </tr>\n",
       "    <tr>\n",
       "      <th>5</th>\n",
       "      <td>182168103</td>\n",
       "      <td>935554773</td>\n",
       "      <td>2019-08-15</td>\n",
       "      <td>2210</td>\n",
       "      <td>B</td>\n",
       "    </tr>\n",
       "    <tr>\n",
       "      <th>...</th>\n",
       "      <td>...</td>\n",
       "      <td>...</td>\n",
       "      <td>...</td>\n",
       "      <td>...</td>\n",
       "      <td>...</td>\n",
       "    </tr>\n",
       "    <tr>\n",
       "      <th>1190</th>\n",
       "      <td>38478481</td>\n",
       "      <td>1197745035</td>\n",
       "      <td>2019-08-14</td>\n",
       "      <td>8600</td>\n",
       "      <td>B</td>\n",
       "    </tr>\n",
       "    <tr>\n",
       "      <th>1191</th>\n",
       "      <td>3592955527</td>\n",
       "      <td>608641596</td>\n",
       "      <td>2019-08-14</td>\n",
       "      <td>16490</td>\n",
       "      <td>B</td>\n",
       "    </tr>\n",
       "    <tr>\n",
       "      <th>1192</th>\n",
       "      <td>2662137336</td>\n",
       "      <td>3733762160</td>\n",
       "      <td>2019-08-14</td>\n",
       "      <td>6490</td>\n",
       "      <td>B</td>\n",
       "    </tr>\n",
       "    <tr>\n",
       "      <th>1193</th>\n",
       "      <td>2203539145</td>\n",
       "      <td>370388673</td>\n",
       "      <td>2019-08-14</td>\n",
       "      <td>3190</td>\n",
       "      <td>A</td>\n",
       "    </tr>\n",
       "    <tr>\n",
       "      <th>1194</th>\n",
       "      <td>1807773912</td>\n",
       "      <td>573423106</td>\n",
       "      <td>2019-08-14</td>\n",
       "      <td>10550</td>\n",
       "      <td>A</td>\n",
       "    </tr>\n",
       "  </tbody>\n",
       "</table>\n",
       "<p>887 rows × 5 columns</p>\n",
       "</div>"
      ],
      "text/plain": [
       "      transactionId   visitorId       date  revenue group\n",
       "0        3667963787  3312258926 2019-08-15     1650     B\n",
       "1        2804400009  3642806036 2019-08-15      730     B\n",
       "3        3797467345  1196621759 2019-08-15     9759     B\n",
       "4        2282983706  2322279887 2019-08-15     2308     B\n",
       "5         182168103   935554773 2019-08-15     2210     B\n",
       "...             ...         ...        ...      ...   ...\n",
       "1190       38478481  1197745035 2019-08-14     8600     B\n",
       "1191     3592955527   608641596 2019-08-14    16490     B\n",
       "1192     2662137336  3733762160 2019-08-14     6490     B\n",
       "1193     2203539145   370388673 2019-08-14     3190     A\n",
       "1194     1807773912   573423106 2019-08-14    10550     A\n",
       "\n",
       "[887 rows x 5 columns]"
      ]
     },
     "metadata": {},
     "output_type": "display_data"
    }
   ],
   "source": [
    "orders_clear = orders[np.logical_not(orders['visitorId'].isin(abnormalUsers))]\n",
    "display(orders_clear)"
   ]
  },
  {
   "cell_type": "code",
   "execution_count": 39,
   "metadata": {},
   "outputs": [],
   "source": [
    "#Согрешу, но повторю блок кода с созданием сводной таблицы\n",
    "visitorsADaily = visitors[visitors['group'] == 'A'][['date', 'visitors']]\n",
    "visitorsADaily.columns = ['date', 'visitorsPerDateA']\n",
    "\n",
    "visitorsACummulative = visitorsADaily.apply(\n",
    "    lambda x: visitorsADaily[visitorsADaily['date'] <= x['date']].agg(\n",
    "        {'date': 'max', 'visitorsPerDateA': 'sum'}\n",
    "    ),\n",
    "    axis=1,\n",
    ")\n",
    "visitorsACummulative.columns = ['date', 'visitorsCummulativeA']\n",
    "\n",
    "visitorsBDaily = visitors[visitors['group'] == 'B'][['date', 'visitors']]\n",
    "visitorsBDaily.columns = ['date', 'visitorsPerDateB']\n",
    "\n",
    "visitorsBCummulative = visitorsBDaily.apply(\n",
    "    lambda x: visitorsBDaily[visitorsBDaily['date'] <= x['date']].agg(\n",
    "        {'date': 'max', 'visitorsPerDateB': 'sum'}\n",
    "    ),\n",
    "    axis=1,\n",
    ")\n",
    "visitorsBCummulative.columns = ['date', 'visitorsCummulativeB']\n",
    "\n",
    "ordersADaily = (\n",
    "    orders_clear[orders_clear['group'] == 'A'][['date', 'transactionId', 'visitorId', 'revenue']]\n",
    "    .groupby('date', as_index=False)\n",
    "    .agg({'transactionId': pd.Series.nunique, 'revenue': 'sum'})\n",
    ")\n",
    "ordersADaily.columns = ['date', 'ordersPerDateA', 'revenuePerDateA']\n",
    "\n",
    "ordersACummulative = ordersADaily.apply(\n",
    "    lambda x: ordersADaily[ordersADaily['date'] <= x['date']].agg(\n",
    "        {'date': 'max', 'ordersPerDateA': 'sum', 'revenuePerDateA': 'sum'}\n",
    "    ),\n",
    "    axis=1,\n",
    ").sort_values(by=['date'])\n",
    "ordersACummulative.columns = [\n",
    "    'date',\n",
    "    'ordersCummulativeA',\n",
    "    'revenueCummulativeA',\n",
    "]\n",
    "\n",
    "ordersBDaily = (\n",
    "    orders_clear[orders_clear['group'] == 'B'][['date', 'transactionId', 'visitorId', 'revenue']]\n",
    "    .groupby('date', as_index=False)\n",
    "    .agg({'transactionId': pd.Series.nunique, 'revenue': 'sum'})\n",
    ")\n",
    "ordersBDaily.columns = ['date', 'ordersPerDateB', 'revenuePerDateB']\n",
    "\n",
    "ordersBCummulative = ordersBDaily.apply(\n",
    "    lambda x: ordersBDaily[ordersBDaily['date'] <= x['date']].agg(\n",
    "        {'date': 'max', 'ordersPerDateB': 'sum', 'revenuePerDateB': 'sum'}\n",
    "    ),\n",
    "    axis=1,\n",
    ").sort_values(by=['date'])\n",
    "ordersBCummulative.columns = [\n",
    "    'date',\n",
    "    'ordersCummulativeB',\n",
    "    'revenueCummulativeB',\n",
    "]\n",
    "\n",
    "data = (\n",
    "    ordersADaily.merge(\n",
    "        ordersBDaily, left_on='date', right_on='date', how='left'\n",
    "    )\n",
    "    .merge(ordersACummulative, left_on='date', right_on='date', how='left')\n",
    "    .merge(ordersBCummulative, left_on='date', right_on='date', how='left')\n",
    "    .merge(visitorsADaily, left_on='date', right_on='date', how='left')\n",
    "    .merge(visitorsBDaily, left_on='date', right_on='date', how='left')\n",
    "    .merge(visitorsACummulative, left_on='date', right_on='date', how='left')\n",
    "    .merge(visitorsBCummulative, left_on='date', right_on='date', how='left')\n",
    ")"
   ]
  },
  {
   "cell_type": "code",
   "execution_count": 40,
   "metadata": {},
   "outputs": [
    {
     "data": {
      "image/png": "[encoded data removed]",
      "text/plain": [
       "<Figure size 1440x360 with 1 Axes>"
      ]
     },
     "metadata": {
      "needs_background": "light"
     },
     "output_type": "display_data"
    }
   ],
   "source": [
    "#График фильтрованной куммулятивной выручки\n",
    "plt.figure(figsize=(20,5))\n",
    "plt.title('График фильтрованной куммулятивной выручки', fontsize=22)\n",
    "plt.plot(data['date'], data['revenueCummulativeA'], label='A')\n",
    "plt.plot(data['date'], data['revenueCummulativeB'], label='B')\n",
    "plt.xlabel(\"Даты\")\n",
    "plt.ylabel(\"Выручка, млн\")\n",
    "#plt.xticks(rotation=60, horizontalalignment='right')\n",
    "plt.legend();"
   ]
  },
  {
   "cell_type": "code",
   "execution_count": 41,
   "metadata": {},
   "outputs": [
    {
     "data": {
      "image/png": "[encoded data removed]",
      "text/plain": [
       "<Figure size 1440x360 with 1 Axes>"
      ]
     },
     "metadata": {
      "needs_background": "light"
     },
     "output_type": "display_data"
    }
   ],
   "source": [
    "#График фильтрованной куммулятивной выручки по среднему чеку\n",
    "plt.figure(figsize=(20,5))\n",
    "plt.title('График фильтрованной куммулятивной выручки по среднему чеку', fontsize=22)\n",
    "plt.plot(data['date'], data['revenueCummulativeA']/data['ordersCummulativeA'], label='A')\n",
    "plt.plot(data['date'], data['revenueCummulativeB']/data['ordersCummulativeB'], label='B')\n",
    "plt.xlabel(\"Даты\")\n",
    "plt.ylabel(\"Накопленная выручка на средний чек, руб.\")\n",
    "#plt.xticks(rotation=60, horizontalalignment='right')\n",
    "plt.legend();"
   ]
  },
  {
   "cell_type": "code",
   "execution_count": 42,
   "metadata": {},
   "outputs": [
    {
     "data": {
      "image/png": "[encoded data removed]",
      "text/plain": [
       "<Figure size 1440x360 with 1 Axes>"
      ]
     },
     "metadata": {
      "needs_background": "light"
     },
     "output_type": "display_data"
    }
   ],
   "source": [
    "#график фильтрованного относительного изменения кумулятивного среднего чека группы B к группе A\n",
    "plt.figure(figsize=(20,5))\n",
    "plt.title('График относительного изменения кумулятивного среднего чека группы B к группе A', fontsize=22)\n",
    "plt.plot(data['date'], (data['revenueCummulativeB']/data['ordersCummulativeB'])/(data['revenueCummulativeA']/data['ordersCummulativeA'])-1)\n",
    "\n",
    "# добавляем ось X\n",
    "plt.axhline(y=0, color='black', linestyle='--')\n",
    "#plt.xticks(rotation=60, horizontalalignment='right')\n",
    "plt.xlabel(\"Даты\")\n",
    "plt.ylabel(\"Значение коэфициента\"); "
   ]
  },
  {
   "cell_type": "code",
   "execution_count": 43,
   "metadata": {},
   "outputs": [],
   "source": [
    "datesGroups = orders_clear[['date', 'group']].drop_duplicates()\n",
    "\n",
    "ordersAggregated = datesGroups.apply(\n",
    "    lambda x: orders_clear[\n",
    "        np.logical_and(\n",
    "            orders_clear['date'] <= x['date'], orders_clear['group'] == x['group']\n",
    "        )\n",
    "    ].agg(\n",
    "        {\n",
    "            'date': 'max',\n",
    "            'group': 'max',\n",
    "            'transactionId': 'nunique',\n",
    "            'visitorId': 'nunique',\n",
    "            'revenue': 'sum',\n",
    "        }\n",
    "    ),\n",
    "    axis=1,\n",
    ").sort_values(by=['date', 'group'])\n",
    "\n",
    "visitorsAggregated = datesGroups.apply(\n",
    "    lambda x: visitors[\n",
    "        np.logical_and(\n",
    "            visitors['date'] <= x['date'], visitors['group'] == x['group']\n",
    "        )\n",
    "    ].agg({'date': 'max', 'group': 'max', 'visitors': 'sum'}),\n",
    "    axis=1,\n",
    ").sort_values(by=['date', 'group'])\n",
    "\n",
    "cumulativeData = ordersAggregated.merge(\n",
    "    visitorsAggregated, left_on=['date', 'group'], right_on=['date', 'group']\n",
    ")\n",
    "cumulativeData.columns = [\n",
    "    'date',\n",
    "    'group',\n",
    "    'orders',\n",
    "    'buyers',\n",
    "    'revenue',\n",
    "    'visitors',\n",
    "]\n",
    "# считаем кумулятивную конверсию\n",
    "cumulativeData['conversion'] = cumulativeData['orders']/cumulativeData['visitors']\n",
    "\n",
    "# отделяем данные по группе A\n",
    "cumulativeDataA = cumulativeData[cumulativeData['group']=='A']\n",
    "\n",
    "# отделяем данные по группе B\n",
    "cumulativeDataB = cumulativeData[cumulativeData['group']=='B']"
   ]
  },
  {
   "cell_type": "code",
   "execution_count": 44,
   "metadata": {},
   "outputs": [
    {
     "data": {
      "image/png": "[encoded data removed]",
      "text/plain": [
       "<Figure size 1440x360 with 1 Axes>"
      ]
     },
     "metadata": {
      "needs_background": "light"
     },
     "output_type": "display_data"
    }
   ],
   "source": [
    "mergedCumulativeConversions = cumulativeDataA[['date','conversion']].merge(cumulativeDataB[['date','conversion']], left_on='date', right_on='date', how='left', suffixes=['A', 'B'])\n",
    "\n",
    "plt.figure(figsize=(20,5))\n",
    "plt.title('График относительного изменения кумулятивного среднего количества заказов на посетителя группы B к группе A', fontsize=22)\n",
    "plt.plot(mergedCumulativeConversions['date'], mergedCumulativeConversions['conversionB']/mergedCumulativeConversions['conversionA']-1, label=\"Относительный прирост конверсии группы B относительно группы A\")\n",
    "plt.legend()\n",
    "plt.xlabel(\"Дата\")\n",
    "plt.ylabel(\"Значение коэфициента\")\n",
    "plt.axhline(y=0, color='black', linestyle='--')\n",
    "plt.axhline(y=0.2, color='grey', linestyle='--');"
   ]
  },
  {
   "cell_type": "code",
   "execution_count": null,
   "metadata": {},
   "outputs": [],
   "source": []
  },
  {
   "cell_type": "markdown",
   "metadata": {},
   "source": [
    "**Вывод:** Отфильтровав аномальные заказы, мы с уверенностью можем сказать, что тест можно прекращать, победа за группой В. Хоть средний чек заказа упал, но при этом тестовая группа показывает больший объем заказов и выручку соответственно."
   ]
  },
  {
   "cell_type": "markdown",
   "metadata": {},
   "source": [
    "# Итоговый вывод"
   ]
  },
  {
   "cell_type": "markdown",
   "metadata": {},
   "source": [
    "**В начале исследования были поставленны следующие задачи:**\n",
    "\n",
    "1. Применить фреймворк ICE для приоритизации гипотез. Отсортировать их по убыванию приоритета.\n",
    "\n",
    "2. Применить фреймворк RICE для приоритизации гипотез. Отсортировать их по убыванию приоритета.\n",
    "\n",
    "3. Указать, как изменилась приоритизация гипотез при применении RICE вместо ICE. Объяснить, почему так произошло.\n",
    "\n",
    "4. Проанализировать результаты А/В теста и принять решение:\n",
    "* Остановить тест, зафиксировать победу одной из групп\n",
    "* Остановить тест, зафиксировать отсутствие различий между группами\n",
    "* Продолжить тест.\n",
    "\n",
    "**В ходе исследования были достигнуты следующие результат и сформулированны следующие выводы.**\n",
    "\n",
    "\n",
    "**Приоретизация гипотез по фреймворкам ICE/RICE:** \n",
    "1. Методики ICE/RICE направлены на выявление гипотез, которые дадут более высокий результат при меньших затратах ресурсов и усилий.\n",
    "\n",
    "2. В рамках предложенных гипотез при применении предложенных фреймворков в топе гипотез оказываются оказываютя именно те варианты, которые обладают высокой степенью уверенности.\n",
    "\n",
    "3. Так как в RICE-методике учитываются охваты пользователей, то соответственно гипотезы затрагивающие большее количество пользователей получают дополнительный вес.\n",
    "\n",
    "**Приоритетные гипотезы по ICE-методике (по убыванию):**\n",
    "1. Запустить акцию, дающую скидку на товар в день рождения\n",
    "\n",
    "2. Добавить два новых канала привлечения трафика, что позволит привлекать на 30% больше пользователей\n",
    "\n",
    "3. Добавить форму подписки на все основные страницы, чтобы собрать базу клиентов для email-рассылок\n",
    "\n",
    "4. Показать на главной странице баннеры с актуальными акциями и распродажами, чтобы увеличить конверсию\n",
    "\n",
    "5. Добавить блоки рекомендаций товаров на сайт интернет магазина, чтобы повысить конверсию и средний чек заказа\t\n",
    "\n",
    "**Приоритетные гипотезы по RICE-методике (по убыванию):**\n",
    "1. Добавить форму подписки на все основные страницы, чтобы собрать базу клиентов для email-рассылок\n",
    "\n",
    "2. Добавить блоки рекомендаций товаров на сайт интернет магазина, чтобы повысить конверсию и средний чек заказа\n",
    "\n",
    "3. Добавить два новых канала привлечения трафика, что позволит привлекать на 30% больше пользователей\n",
    "\n",
    "4. Показать на главной странице баннеры с актуальными акциями и распродажами, чтобы увеличить конверсию\n",
    "\n",
    "\n",
    "\n",
    "**Ключевые выводы в рамках проведенного А/В тестирования:**\n",
    "1. Разбивка по перцентилям показывает, что:\n",
    "* 95% покупателей укладываются в сумму до 26785 рублей\n",
    "* 95% покупателей за месяц сделали только один заказ\n",
    "2. По результатам непараметрического теста Уилкоксона-Манна-Уитни можно утверждать что:\n",
    "* Есть статистически значимая разница в среднем количестве заказов на посетителя между группами, среднее количество заказов на пользователя в группе В больше на 15,9%. \n",
    "* Нет статистически значимой разницы средних чеков между группами, однако средний чек группы А больше на 3,4%\n",
    "3. Средний чек заказа в тестовой группе ниже, но при этом тестовая группа показывает больший объем заказов и выручку.\n",
    "\n",
    "4. На основе изложенного, рекомендуем *остановить тест и зафиксировать победу тестовой группы В.*"
   ]
  },
  {
   "cell_type": "code",
   "execution_count": null,
   "metadata": {},
   "outputs": [],
   "source": []
  }
 ],
 "metadata": {
  "ExecuteTimeLog": [
   {
    "duration": 46,
    "start_time": "2023-05-01T06:10:37.411Z"
   },
   {
    "duration": 6,
    "start_time": "2023-05-01T06:10:58.178Z"
   },
   {
    "duration": 1258,
    "start_time": "2023-05-01T06:11:03.946Z"
   },
   {
    "duration": 64,
    "start_time": "2023-05-01T06:11:05.361Z"
   },
   {
    "duration": 7,
    "start_time": "2023-05-01T06:11:07.681Z"
   },
   {
    "duration": 15,
    "start_time": "2023-05-01T06:11:21.018Z"
   },
   {
    "duration": 9,
    "start_time": "2023-05-01T06:16:06.080Z"
   },
   {
    "duration": 12,
    "start_time": "2023-05-01T06:16:14.918Z"
   },
   {
    "duration": 7,
    "start_time": "2023-05-01T06:18:01.311Z"
   },
   {
    "duration": 7,
    "start_time": "2023-05-01T06:27:14.097Z"
   },
   {
    "duration": 73,
    "start_time": "2023-05-01T06:27:16.050Z"
   },
   {
    "duration": 78,
    "start_time": "2023-05-01T06:27:23.338Z"
   },
   {
    "duration": 28,
    "start_time": "2023-05-01T06:28:13.623Z"
   },
   {
    "duration": 13,
    "start_time": "2023-05-01T06:28:38.063Z"
   },
   {
    "duration": 28,
    "start_time": "2023-05-01T06:29:06.824Z"
   },
   {
    "duration": 26,
    "start_time": "2023-05-01T06:29:56.574Z"
   },
   {
    "duration": 12,
    "start_time": "2023-05-01T06:30:19.831Z"
   },
   {
    "duration": 24,
    "start_time": "2023-05-01T06:30:54.022Z"
   },
   {
    "duration": 14,
    "start_time": "2023-05-01T06:31:16.982Z"
   },
   {
    "duration": 11,
    "start_time": "2023-05-01T06:31:36.077Z"
   },
   {
    "duration": 16,
    "start_time": "2023-05-01T06:33:38.437Z"
   },
   {
    "duration": 29,
    "start_time": "2023-05-01T06:33:51.427Z"
   },
   {
    "duration": 82,
    "start_time": "2023-05-01T06:35:09.483Z"
   },
   {
    "duration": 0,
    "start_time": "2023-05-01T06:35:09.566Z"
   },
   {
    "duration": 0,
    "start_time": "2023-05-01T06:35:09.567Z"
   },
   {
    "duration": 0,
    "start_time": "2023-05-01T06:35:09.568Z"
   },
   {
    "duration": 0,
    "start_time": "2023-05-01T06:35:09.569Z"
   },
   {
    "duration": 0,
    "start_time": "2023-05-01T06:35:09.570Z"
   },
   {
    "duration": 0,
    "start_time": "2023-05-01T06:35:09.571Z"
   },
   {
    "duration": 451,
    "start_time": "2023-05-01T06:36:31.150Z"
   },
   {
    "duration": 8,
    "start_time": "2023-05-01T06:37:16.390Z"
   },
   {
    "duration": 772,
    "start_time": "2023-05-01T06:38:08.389Z"
   },
   {
    "duration": 1121,
    "start_time": "2023-05-01T06:38:16.727Z"
   },
   {
    "duration": 28,
    "start_time": "2023-05-01T06:38:17.850Z"
   },
   {
    "duration": 12,
    "start_time": "2023-05-01T06:38:17.879Z"
   },
   {
    "duration": 10,
    "start_time": "2023-05-01T06:38:17.893Z"
   },
   {
    "duration": 12,
    "start_time": "2023-05-01T06:38:17.905Z"
   },
   {
    "duration": 28,
    "start_time": "2023-05-01T06:38:17.918Z"
   },
   {
    "duration": 10,
    "start_time": "2023-05-01T06:38:17.948Z"
   },
   {
    "duration": 58,
    "start_time": "2023-05-02T10:37:50.857Z"
   },
   {
    "duration": 1476,
    "start_time": "2023-05-02T10:37:56.109Z"
   },
   {
    "duration": 89,
    "start_time": "2023-05-02T10:37:57.587Z"
   },
   {
    "duration": 18,
    "start_time": "2023-05-02T10:37:57.678Z"
   },
   {
    "duration": 47,
    "start_time": "2023-05-02T10:37:57.705Z"
   },
   {
    "duration": 26,
    "start_time": "2023-05-02T10:37:57.754Z"
   },
   {
    "duration": 64,
    "start_time": "2023-05-02T10:37:57.781Z"
   },
   {
    "duration": 33,
    "start_time": "2023-05-02T10:37:57.847Z"
   },
   {
    "duration": 286,
    "start_time": "2023-05-02T10:37:57.882Z"
   },
   {
    "duration": 8,
    "start_time": "2023-05-02T10:37:58.169Z"
   },
   {
    "duration": 7,
    "start_time": "2023-05-02T10:38:23.944Z"
   },
   {
    "duration": 1335,
    "start_time": "2023-05-03T13:32:11.841Z"
   },
   {
    "duration": 1181,
    "start_time": "2023-05-03T13:32:19.655Z"
   },
   {
    "duration": 57,
    "start_time": "2023-05-03T13:32:20.838Z"
   },
   {
    "duration": 11,
    "start_time": "2023-05-03T13:32:20.896Z"
   },
   {
    "duration": 16,
    "start_time": "2023-05-03T13:32:20.909Z"
   },
   {
    "duration": 11,
    "start_time": "2023-05-03T13:32:20.927Z"
   },
   {
    "duration": 12,
    "start_time": "2023-05-03T13:32:20.939Z"
   },
   {
    "duration": 9,
    "start_time": "2023-05-03T13:32:20.953Z"
   },
   {
    "duration": 123,
    "start_time": "2023-05-03T13:32:20.964Z"
   },
   {
    "duration": 8,
    "start_time": "2023-05-03T13:32:21.088Z"
   },
   {
    "duration": 11,
    "start_time": "2023-05-03T13:32:21.098Z"
   },
   {
    "duration": 233,
    "start_time": "2023-05-03T13:37:43.803Z"
   },
   {
    "duration": 97,
    "start_time": "2023-05-03T13:40:00.464Z"
   },
   {
    "duration": 102,
    "start_time": "2023-05-03T13:41:22.922Z"
   },
   {
    "duration": 225,
    "start_time": "2023-05-03T13:42:00.442Z"
   },
   {
    "duration": 12,
    "start_time": "2023-05-03T13:45:49.951Z"
   },
   {
    "duration": 4,
    "start_time": "2023-05-03T13:46:11.910Z"
   },
   {
    "duration": 303,
    "start_time": "2023-05-03T13:46:20.815Z"
   },
   {
    "duration": 275,
    "start_time": "2023-05-03T13:55:31.308Z"
   },
   {
    "duration": 262,
    "start_time": "2023-05-03T13:58:33.330Z"
   },
   {
    "duration": 391,
    "start_time": "2023-05-03T14:02:57.148Z"
   },
   {
    "duration": 398,
    "start_time": "2023-05-03T14:04:40.950Z"
   },
   {
    "duration": 1314,
    "start_time": "2023-05-03T15:38:42.710Z"
   },
   {
    "duration": 69,
    "start_time": "2023-05-03T15:38:44.026Z"
   },
   {
    "duration": 11,
    "start_time": "2023-05-03T15:38:44.097Z"
   },
   {
    "duration": 11,
    "start_time": "2023-05-03T15:38:44.110Z"
   },
   {
    "duration": 7,
    "start_time": "2023-05-03T15:38:44.122Z"
   },
   {
    "duration": 10,
    "start_time": "2023-05-03T15:38:44.130Z"
   },
   {
    "duration": 11,
    "start_time": "2023-05-03T15:38:44.142Z"
   },
   {
    "duration": 155,
    "start_time": "2023-05-03T15:38:44.155Z"
   },
   {
    "duration": 8,
    "start_time": "2023-05-03T15:38:44.312Z"
   },
   {
    "duration": 7,
    "start_time": "2023-05-03T15:38:44.323Z"
   },
   {
    "duration": 213,
    "start_time": "2023-05-03T15:38:44.332Z"
   },
   {
    "duration": 244,
    "start_time": "2023-05-03T15:38:44.547Z"
   },
   {
    "duration": 227,
    "start_time": "2023-05-03T15:38:44.793Z"
   },
   {
    "duration": 365,
    "start_time": "2023-05-03T15:38:45.021Z"
   },
   {
    "duration": 223,
    "start_time": "2023-05-03T15:45:00.331Z"
   },
   {
    "duration": 319,
    "start_time": "2023-05-03T15:46:49.385Z"
   },
   {
    "duration": 204,
    "start_time": "2023-05-03T15:47:09.768Z"
   },
   {
    "duration": 374,
    "start_time": "2023-05-03T15:47:21.600Z"
   },
   {
    "duration": 330,
    "start_time": "2023-05-03T15:47:41.975Z"
   },
   {
    "duration": 260,
    "start_time": "2023-05-03T15:47:52.673Z"
   },
   {
    "duration": 265,
    "start_time": "2023-05-03T15:48:23.808Z"
   },
   {
    "duration": 271,
    "start_time": "2023-05-03T15:54:22.492Z"
   },
   {
    "duration": 254,
    "start_time": "2023-05-03T15:54:38.972Z"
   },
   {
    "duration": 263,
    "start_time": "2023-05-03T16:05:40.756Z"
   },
   {
    "duration": 251,
    "start_time": "2023-05-03T16:07:28.681Z"
   },
   {
    "duration": 268,
    "start_time": "2023-05-03T16:07:35.932Z"
   },
   {
    "duration": 354,
    "start_time": "2023-05-03T16:08:54.984Z"
   },
   {
    "duration": 266,
    "start_time": "2023-05-03T16:09:35.988Z"
   },
   {
    "duration": 351,
    "start_time": "2023-05-03T16:09:38.246Z"
   },
   {
    "duration": 361,
    "start_time": "2023-05-03T16:12:18.833Z"
   },
   {
    "duration": 757,
    "start_time": "2023-05-03T16:16:12.702Z"
   },
   {
    "duration": 215,
    "start_time": "2023-05-03T16:16:24.030Z"
   },
   {
    "duration": 258,
    "start_time": "2023-05-03T16:17:40.247Z"
   },
   {
    "duration": 174,
    "start_time": "2023-05-03T16:22:15.184Z"
   },
   {
    "duration": 161,
    "start_time": "2023-05-03T16:22:33.011Z"
   },
   {
    "duration": 9,
    "start_time": "2023-05-03T16:28:24.434Z"
   },
   {
    "duration": 12,
    "start_time": "2023-05-03T16:28:43.632Z"
   },
   {
    "duration": 15,
    "start_time": "2023-05-03T16:28:54.872Z"
   },
   {
    "duration": 165,
    "start_time": "2023-05-03T16:31:28.990Z"
   },
   {
    "duration": 5,
    "start_time": "2023-05-03T16:33:46.078Z"
   },
   {
    "duration": 4,
    "start_time": "2023-05-03T16:34:20.378Z"
   },
   {
    "duration": 10,
    "start_time": "2023-05-03T16:40:16.041Z"
   },
   {
    "duration": 11,
    "start_time": "2023-05-03T16:40:35.821Z"
   },
   {
    "duration": 12,
    "start_time": "2023-05-03T16:41:38.217Z"
   },
   {
    "duration": 13,
    "start_time": "2023-05-03T16:41:47.401Z"
   },
   {
    "duration": 148,
    "start_time": "2023-05-03T16:42:53.552Z"
   },
   {
    "duration": 235,
    "start_time": "2023-05-03T16:45:40.999Z"
   },
   {
    "duration": 155,
    "start_time": "2023-05-03T16:45:46.848Z"
   },
   {
    "duration": 15,
    "start_time": "2023-05-03T16:46:34.616Z"
   },
   {
    "duration": 4,
    "start_time": "2023-05-03T16:46:49.910Z"
   },
   {
    "duration": 4,
    "start_time": "2023-05-03T16:48:41.342Z"
   },
   {
    "duration": 4,
    "start_time": "2023-05-03T16:49:50.006Z"
   },
   {
    "duration": 530,
    "start_time": "2023-05-03T16:54:51.722Z"
   },
   {
    "duration": 48,
    "start_time": "2023-05-03T16:55:27.754Z"
   },
   {
    "duration": 82,
    "start_time": "2023-05-03T16:56:28.105Z"
   },
   {
    "duration": 65,
    "start_time": "2023-05-03T16:56:33.503Z"
   },
   {
    "duration": 636,
    "start_time": "2023-05-03T16:56:38.609Z"
   },
   {
    "duration": 5,
    "start_time": "2023-05-03T16:56:52.753Z"
   },
   {
    "duration": 16,
    "start_time": "2023-05-03T17:06:24.459Z"
   },
   {
    "duration": 148,
    "start_time": "2023-05-03T18:03:16.958Z"
   },
   {
    "duration": 185,
    "start_time": "2023-05-03T18:04:06.679Z"
   },
   {
    "duration": 163,
    "start_time": "2023-05-03T18:04:20.200Z"
   },
   {
    "duration": 10,
    "start_time": "2023-05-03T18:04:43.013Z"
   },
   {
    "duration": 4,
    "start_time": "2023-05-03T18:05:02.909Z"
   },
   {
    "duration": 28,
    "start_time": "2023-05-03T18:05:09.675Z"
   },
   {
    "duration": 11,
    "start_time": "2023-05-03T18:17:33.237Z"
   },
   {
    "duration": 9,
    "start_time": "2023-05-03T18:24:50.588Z"
   },
   {
    "duration": 28,
    "start_time": "2023-05-03T18:26:02.192Z"
   },
   {
    "duration": 752,
    "start_time": "2023-05-03T18:28:39.755Z"
   },
   {
    "duration": 13,
    "start_time": "2023-05-03T18:29:04.524Z"
   },
   {
    "duration": 471,
    "start_time": "2023-05-03T18:36:02.633Z"
   },
   {
    "duration": 304,
    "start_time": "2023-05-03T18:37:49.600Z"
   },
   {
    "duration": 331,
    "start_time": "2023-05-03T18:38:12.089Z"
   },
   {
    "duration": 374,
    "start_time": "2023-05-03T18:42:50.160Z"
   },
   {
    "duration": 1182,
    "start_time": "2023-05-03T18:43:02.188Z"
   },
   {
    "duration": 25,
    "start_time": "2023-05-03T18:43:03.372Z"
   },
   {
    "duration": 14,
    "start_time": "2023-05-03T18:43:03.398Z"
   },
   {
    "duration": 28,
    "start_time": "2023-05-03T18:43:03.414Z"
   },
   {
    "duration": 27,
    "start_time": "2023-05-03T18:43:03.443Z"
   },
   {
    "duration": 46,
    "start_time": "2023-05-03T18:43:03.472Z"
   },
   {
    "duration": 33,
    "start_time": "2023-05-03T18:43:03.520Z"
   },
   {
    "duration": 51,
    "start_time": "2023-05-03T18:43:03.555Z"
   },
   {
    "duration": 11,
    "start_time": "2023-05-03T18:43:03.608Z"
   },
   {
    "duration": 12,
    "start_time": "2023-05-03T18:43:03.623Z"
   },
   {
    "duration": 217,
    "start_time": "2023-05-03T18:43:03.636Z"
   },
   {
    "duration": 334,
    "start_time": "2023-05-03T18:43:03.855Z"
   },
   {
    "duration": 296,
    "start_time": "2023-05-03T18:43:04.191Z"
   },
   {
    "duration": 432,
    "start_time": "2023-05-03T18:43:04.489Z"
   },
   {
    "duration": 333,
    "start_time": "2023-05-03T18:43:04.923Z"
   },
   {
    "duration": 394,
    "start_time": "2023-05-03T18:43:05.257Z"
   },
   {
    "duration": 167,
    "start_time": "2023-05-03T18:43:05.652Z"
   },
   {
    "duration": 4,
    "start_time": "2023-05-03T18:43:05.821Z"
   },
   {
    "duration": 39,
    "start_time": "2023-05-03T18:43:05.827Z"
   },
   {
    "duration": 161,
    "start_time": "2023-05-03T18:43:05.868Z"
   },
   {
    "duration": 5,
    "start_time": "2023-05-03T18:43:06.031Z"
   },
   {
    "duration": 222,
    "start_time": "2023-05-03T18:43:06.037Z"
   },
   {
    "duration": 22,
    "start_time": "2023-05-03T18:43:06.261Z"
   },
   {
    "duration": 11,
    "start_time": "2023-05-03T18:43:06.285Z"
   },
   {
    "duration": 10,
    "start_time": "2023-05-03T18:43:06.317Z"
   },
   {
    "duration": 36,
    "start_time": "2023-05-03T18:43:06.328Z"
   },
   {
    "duration": 13,
    "start_time": "2023-05-03T18:43:06.365Z"
   },
   {
    "duration": 1371,
    "start_time": "2023-05-04T14:23:38.120Z"
   },
   {
    "duration": 58,
    "start_time": "2023-05-04T14:23:39.494Z"
   },
   {
    "duration": 17,
    "start_time": "2023-05-04T14:23:39.554Z"
   },
   {
    "duration": 28,
    "start_time": "2023-05-04T14:23:39.573Z"
   },
   {
    "duration": 9,
    "start_time": "2023-05-04T14:23:39.605Z"
   },
   {
    "duration": 16,
    "start_time": "2023-05-04T14:23:39.617Z"
   },
   {
    "duration": 13,
    "start_time": "2023-05-04T14:23:39.635Z"
   },
   {
    "duration": 123,
    "start_time": "2023-05-04T14:23:39.650Z"
   },
   {
    "duration": 11,
    "start_time": "2023-05-04T14:23:39.775Z"
   },
   {
    "duration": 13,
    "start_time": "2023-05-04T14:23:39.788Z"
   },
   {
    "duration": 256,
    "start_time": "2023-05-04T14:23:39.803Z"
   },
   {
    "duration": 386,
    "start_time": "2023-05-04T14:23:40.061Z"
   },
   {
    "duration": 361,
    "start_time": "2023-05-04T14:23:40.449Z"
   },
   {
    "duration": 504,
    "start_time": "2023-05-04T14:23:40.813Z"
   },
   {
    "duration": 431,
    "start_time": "2023-05-04T14:23:41.319Z"
   },
   {
    "duration": 480,
    "start_time": "2023-05-04T14:23:41.753Z"
   },
   {
    "duration": 191,
    "start_time": "2023-05-04T14:23:42.235Z"
   },
   {
    "duration": 7,
    "start_time": "2023-05-04T14:23:42.429Z"
   },
   {
    "duration": 15,
    "start_time": "2023-05-04T14:23:42.438Z"
   },
   {
    "duration": 258,
    "start_time": "2023-05-04T14:23:42.454Z"
   },
   {
    "duration": 4,
    "start_time": "2023-05-04T14:23:42.714Z"
   },
   {
    "duration": 193,
    "start_time": "2023-05-04T14:23:42.720Z"
   },
   {
    "duration": 23,
    "start_time": "2023-05-04T14:23:42.915Z"
   },
   {
    "duration": 10,
    "start_time": "2023-05-04T14:23:42.940Z"
   },
   {
    "duration": 38,
    "start_time": "2023-05-04T14:23:42.952Z"
   },
   {
    "duration": 31,
    "start_time": "2023-05-04T14:23:42.992Z"
   },
   {
    "duration": 15,
    "start_time": "2023-05-04T14:23:43.025Z"
   },
   {
    "duration": 6,
    "start_time": "2023-05-04T14:27:29.754Z"
   },
   {
    "duration": 5,
    "start_time": "2023-05-04T14:27:48.615Z"
   },
   {
    "duration": 205,
    "start_time": "2023-05-04T14:28:07.039Z"
   },
   {
    "duration": 10,
    "start_time": "2023-05-04T14:28:17.627Z"
   },
   {
    "duration": 806,
    "start_time": "2023-05-04T14:32:28.684Z"
   },
   {
    "duration": 5,
    "start_time": "2023-05-04T14:35:46.882Z"
   },
   {
    "duration": 26,
    "start_time": "2023-05-04T14:40:25.176Z"
   },
   {
    "duration": 10,
    "start_time": "2023-05-04T14:41:56.842Z"
   },
   {
    "duration": 22,
    "start_time": "2023-05-04T14:42:39.130Z"
   },
   {
    "duration": 9,
    "start_time": "2023-05-04T14:42:53.437Z"
   },
   {
    "duration": 10,
    "start_time": "2023-05-04T14:44:44.666Z"
   },
   {
    "duration": 10,
    "start_time": "2023-05-04T14:45:06.090Z"
   },
   {
    "duration": 16,
    "start_time": "2023-05-04T14:47:14.689Z"
   },
   {
    "duration": 12,
    "start_time": "2023-05-04T14:52:35.950Z"
   },
   {
    "duration": 12,
    "start_time": "2023-05-04T14:53:00.462Z"
   },
   {
    "duration": 17,
    "start_time": "2023-05-04T14:54:16.097Z"
   },
   {
    "duration": 8,
    "start_time": "2023-05-04T14:54:37.269Z"
   },
   {
    "duration": 24,
    "start_time": "2023-05-04T14:54:59.580Z"
   },
   {
    "duration": 8,
    "start_time": "2023-05-04T14:56:43.778Z"
   },
   {
    "duration": 9,
    "start_time": "2023-05-04T14:58:43.535Z"
   },
   {
    "duration": 11,
    "start_time": "2023-05-04T14:59:13.786Z"
   },
   {
    "duration": 3,
    "start_time": "2023-05-04T15:02:16.048Z"
   },
   {
    "duration": 16,
    "start_time": "2023-05-04T15:09:42.979Z"
   },
   {
    "duration": 8,
    "start_time": "2023-05-04T15:10:29.547Z"
   },
   {
    "duration": 16,
    "start_time": "2023-05-04T15:10:45.347Z"
   },
   {
    "duration": 20,
    "start_time": "2023-05-04T15:11:00.867Z"
   },
   {
    "duration": 8,
    "start_time": "2023-05-04T15:11:43.739Z"
   },
   {
    "duration": 691,
    "start_time": "2023-05-04T15:12:50.875Z"
   },
   {
    "duration": 9,
    "start_time": "2023-05-04T15:13:31.828Z"
   },
   {
    "duration": 8,
    "start_time": "2023-05-04T15:13:46.450Z"
   },
   {
    "duration": 11,
    "start_time": "2023-05-04T15:14:08.283Z"
   },
   {
    "duration": 8,
    "start_time": "2023-05-04T15:14:22.723Z"
   },
   {
    "duration": 59,
    "start_time": "2023-05-04T15:15:27.731Z"
   },
   {
    "duration": 4,
    "start_time": "2023-05-04T15:18:33.124Z"
   },
   {
    "duration": 14,
    "start_time": "2023-05-04T15:18:42.695Z"
   },
   {
    "duration": 15,
    "start_time": "2023-05-04T15:19:55.647Z"
   },
   {
    "duration": 15,
    "start_time": "2023-05-04T15:20:25.246Z"
   },
   {
    "duration": 16,
    "start_time": "2023-05-04T15:20:47.122Z"
   },
   {
    "duration": 86,
    "start_time": "2023-05-04T15:22:41.181Z"
   },
   {
    "duration": 16,
    "start_time": "2023-05-04T15:22:56.520Z"
   },
   {
    "duration": 6,
    "start_time": "2023-05-04T15:26:16.732Z"
   },
   {
    "duration": 6,
    "start_time": "2023-05-04T15:26:26.920Z"
   },
   {
    "duration": 1282,
    "start_time": "2023-05-04T15:26:55.154Z"
   },
   {
    "duration": 23,
    "start_time": "2023-05-04T15:26:56.439Z"
   },
   {
    "duration": 13,
    "start_time": "2023-05-04T15:26:56.463Z"
   },
   {
    "duration": 13,
    "start_time": "2023-05-04T15:26:56.478Z"
   },
   {
    "duration": 12,
    "start_time": "2023-05-04T15:26:56.494Z"
   },
   {
    "duration": 13,
    "start_time": "2023-05-04T15:26:56.508Z"
   },
   {
    "duration": 13,
    "start_time": "2023-05-04T15:26:56.523Z"
   },
   {
    "duration": 48,
    "start_time": "2023-05-04T15:26:56.539Z"
   },
   {
    "duration": 8,
    "start_time": "2023-05-04T15:26:56.589Z"
   },
   {
    "duration": 38,
    "start_time": "2023-05-04T15:26:56.599Z"
   },
   {
    "duration": 11,
    "start_time": "2023-05-04T15:26:56.639Z"
   },
   {
    "duration": 5,
    "start_time": "2023-05-04T15:26:56.652Z"
   },
   {
    "duration": 222,
    "start_time": "2023-05-04T15:26:56.659Z"
   },
   {
    "duration": 330,
    "start_time": "2023-05-04T15:26:56.883Z"
   },
   {
    "duration": 337,
    "start_time": "2023-05-04T15:26:57.215Z"
   },
   {
    "duration": 450,
    "start_time": "2023-05-04T15:26:57.554Z"
   },
   {
    "duration": 372,
    "start_time": "2023-05-04T15:26:58.006Z"
   },
   {
    "duration": 453,
    "start_time": "2023-05-04T15:26:58.379Z"
   },
   {
    "duration": 194,
    "start_time": "2023-05-04T15:26:58.835Z"
   },
   {
    "duration": 5,
    "start_time": "2023-05-04T15:26:59.031Z"
   },
   {
    "duration": 35,
    "start_time": "2023-05-04T15:26:59.038Z"
   },
   {
    "duration": 175,
    "start_time": "2023-05-04T15:26:59.075Z"
   },
   {
    "duration": 4,
    "start_time": "2023-05-04T15:26:59.252Z"
   },
   {
    "duration": 249,
    "start_time": "2023-05-04T15:26:59.258Z"
   },
   {
    "duration": 24,
    "start_time": "2023-05-04T15:26:59.509Z"
   },
   {
    "duration": 10,
    "start_time": "2023-05-04T15:26:59.535Z"
   },
   {
    "duration": 10,
    "start_time": "2023-05-04T15:26:59.547Z"
   },
   {
    "duration": 54,
    "start_time": "2023-05-04T15:26:59.559Z"
   },
   {
    "duration": 15,
    "start_time": "2023-05-04T15:26:59.615Z"
   },
   {
    "duration": 1220,
    "start_time": "2023-05-04T15:32:24.722Z"
   },
   {
    "duration": 25,
    "start_time": "2023-05-04T15:32:25.944Z"
   },
   {
    "duration": 13,
    "start_time": "2023-05-04T15:32:25.971Z"
   },
   {
    "duration": 25,
    "start_time": "2023-05-04T15:32:25.985Z"
   },
   {
    "duration": 19,
    "start_time": "2023-05-04T15:32:26.013Z"
   },
   {
    "duration": 23,
    "start_time": "2023-05-04T15:32:26.034Z"
   },
   {
    "duration": 18,
    "start_time": "2023-05-04T15:32:26.058Z"
   },
   {
    "duration": 43,
    "start_time": "2023-05-04T15:32:26.078Z"
   },
   {
    "duration": 10,
    "start_time": "2023-05-04T15:32:26.124Z"
   },
   {
    "duration": 11,
    "start_time": "2023-05-04T15:32:26.136Z"
   },
   {
    "duration": 10,
    "start_time": "2023-05-04T15:32:26.150Z"
   },
   {
    "duration": 6,
    "start_time": "2023-05-04T15:32:26.162Z"
   },
   {
    "duration": 230,
    "start_time": "2023-05-04T15:32:26.170Z"
   },
   {
    "duration": 338,
    "start_time": "2023-05-04T15:32:26.403Z"
   },
   {
    "duration": 351,
    "start_time": "2023-05-04T15:32:26.742Z"
   },
   {
    "duration": 416,
    "start_time": "2023-05-04T15:32:27.095Z"
   },
   {
    "duration": 377,
    "start_time": "2023-05-04T15:32:27.513Z"
   },
   {
    "duration": 433,
    "start_time": "2023-05-04T15:32:27.892Z"
   },
   {
    "duration": 187,
    "start_time": "2023-05-04T15:32:28.327Z"
   },
   {
    "duration": 4,
    "start_time": "2023-05-04T15:32:28.516Z"
   },
   {
    "duration": 52,
    "start_time": "2023-05-04T15:32:28.522Z"
   },
   {
    "duration": 193,
    "start_time": "2023-05-04T15:32:28.576Z"
   },
   {
    "duration": 5,
    "start_time": "2023-05-04T15:32:28.771Z"
   },
   {
    "duration": 259,
    "start_time": "2023-05-04T15:32:28.778Z"
   },
   {
    "duration": 25,
    "start_time": "2023-05-04T15:32:29.038Z"
   },
   {
    "duration": 28,
    "start_time": "2023-05-04T15:32:29.065Z"
   },
   {
    "duration": 10,
    "start_time": "2023-05-04T15:32:29.095Z"
   },
   {
    "duration": 33,
    "start_time": "2023-05-04T15:32:29.106Z"
   },
   {
    "duration": 15,
    "start_time": "2023-05-04T15:32:29.140Z"
   },
   {
    "duration": 8,
    "start_time": "2023-05-04T15:33:58.151Z"
   },
   {
    "duration": 8,
    "start_time": "2023-05-04T15:36:08.166Z"
   },
   {
    "duration": 1293,
    "start_time": "2023-05-04T15:36:20.248Z"
   },
   {
    "duration": 23,
    "start_time": "2023-05-04T15:36:21.544Z"
   },
   {
    "duration": 16,
    "start_time": "2023-05-04T15:36:21.569Z"
   },
   {
    "duration": 13,
    "start_time": "2023-05-04T15:36:21.587Z"
   },
   {
    "duration": 24,
    "start_time": "2023-05-04T15:36:21.602Z"
   },
   {
    "duration": 31,
    "start_time": "2023-05-04T15:36:21.628Z"
   },
   {
    "duration": 26,
    "start_time": "2023-05-04T15:36:21.662Z"
   },
   {
    "duration": 62,
    "start_time": "2023-05-04T15:36:21.690Z"
   },
   {
    "duration": 9,
    "start_time": "2023-05-04T15:36:21.754Z"
   },
   {
    "duration": 17,
    "start_time": "2023-05-04T15:36:21.764Z"
   },
   {
    "duration": 12,
    "start_time": "2023-05-04T15:36:21.783Z"
   },
   {
    "duration": 32,
    "start_time": "2023-05-04T15:36:21.796Z"
   },
   {
    "duration": 228,
    "start_time": "2023-05-04T15:36:21.830Z"
   },
   {
    "duration": 337,
    "start_time": "2023-05-04T15:36:22.061Z"
   },
   {
    "duration": 338,
    "start_time": "2023-05-04T15:36:22.400Z"
   },
   {
    "duration": 399,
    "start_time": "2023-05-04T15:36:22.740Z"
   },
   {
    "duration": 360,
    "start_time": "2023-05-04T15:36:23.142Z"
   },
   {
    "duration": 438,
    "start_time": "2023-05-04T15:36:23.504Z"
   },
   {
    "duration": 177,
    "start_time": "2023-05-04T15:36:23.944Z"
   },
   {
    "duration": 5,
    "start_time": "2023-05-04T15:36:24.123Z"
   },
   {
    "duration": 14,
    "start_time": "2023-05-04T15:36:24.130Z"
   },
   {
    "duration": 196,
    "start_time": "2023-05-04T15:36:24.145Z"
   },
   {
    "duration": 5,
    "start_time": "2023-05-04T15:36:24.343Z"
   },
   {
    "duration": 259,
    "start_time": "2023-05-04T15:36:24.349Z"
   },
   {
    "duration": 35,
    "start_time": "2023-05-04T15:36:24.610Z"
   },
   {
    "duration": 13,
    "start_time": "2023-05-04T15:36:24.647Z"
   },
   {
    "duration": 33,
    "start_time": "2023-05-04T15:36:24.662Z"
   },
   {
    "duration": 30,
    "start_time": "2023-05-04T15:36:24.697Z"
   },
   {
    "duration": 15,
    "start_time": "2023-05-04T15:36:24.729Z"
   },
   {
    "duration": 6,
    "start_time": "2023-05-04T16:26:39.114Z"
   },
   {
    "duration": 1328,
    "start_time": "2023-05-04T16:28:59.811Z"
   },
   {
    "duration": 23,
    "start_time": "2023-05-04T16:29:01.141Z"
   },
   {
    "duration": 33,
    "start_time": "2023-05-04T16:29:01.166Z"
   },
   {
    "duration": 94,
    "start_time": "2023-05-04T16:29:01.201Z"
   },
   {
    "duration": 51,
    "start_time": "2023-05-04T16:29:01.298Z"
   },
   {
    "duration": 51,
    "start_time": "2023-05-04T16:29:01.351Z"
   },
   {
    "duration": 33,
    "start_time": "2023-05-04T16:29:01.405Z"
   },
   {
    "duration": 90,
    "start_time": "2023-05-04T16:29:01.441Z"
   },
   {
    "duration": 16,
    "start_time": "2023-05-04T16:29:01.533Z"
   },
   {
    "duration": 55,
    "start_time": "2023-05-04T16:29:01.550Z"
   },
   {
    "duration": 50,
    "start_time": "2023-05-04T16:29:01.608Z"
   },
   {
    "duration": 168,
    "start_time": "2023-05-04T16:29:01.660Z"
   },
   {
    "duration": 0,
    "start_time": "2023-05-04T16:29:01.830Z"
   },
   {
    "duration": 0,
    "start_time": "2023-05-04T16:29:01.832Z"
   },
   {
    "duration": 0,
    "start_time": "2023-05-04T16:29:01.833Z"
   },
   {
    "duration": 0,
    "start_time": "2023-05-04T16:29:01.834Z"
   },
   {
    "duration": 0,
    "start_time": "2023-05-04T16:29:01.836Z"
   },
   {
    "duration": 0,
    "start_time": "2023-05-04T16:29:01.837Z"
   },
   {
    "duration": 0,
    "start_time": "2023-05-04T16:29:01.838Z"
   },
   {
    "duration": 0,
    "start_time": "2023-05-04T16:29:01.840Z"
   },
   {
    "duration": 0,
    "start_time": "2023-05-04T16:29:01.841Z"
   },
   {
    "duration": 0,
    "start_time": "2023-05-04T16:29:01.842Z"
   },
   {
    "duration": 0,
    "start_time": "2023-05-04T16:29:01.844Z"
   },
   {
    "duration": 0,
    "start_time": "2023-05-04T16:29:01.845Z"
   },
   {
    "duration": 0,
    "start_time": "2023-05-04T16:29:01.846Z"
   },
   {
    "duration": 0,
    "start_time": "2023-05-04T16:29:01.847Z"
   },
   {
    "duration": 0,
    "start_time": "2023-05-04T16:29:01.848Z"
   },
   {
    "duration": 0,
    "start_time": "2023-05-04T16:29:01.849Z"
   },
   {
    "duration": 0,
    "start_time": "2023-05-04T16:29:01.850Z"
   },
   {
    "duration": 1269,
    "start_time": "2023-05-04T16:29:45.453Z"
   },
   {
    "duration": 23,
    "start_time": "2023-05-04T16:29:46.724Z"
   },
   {
    "duration": 16,
    "start_time": "2023-05-04T16:29:46.749Z"
   },
   {
    "duration": 57,
    "start_time": "2023-05-04T16:29:46.767Z"
   },
   {
    "duration": 35,
    "start_time": "2023-05-04T16:29:46.826Z"
   },
   {
    "duration": 21,
    "start_time": "2023-05-04T16:29:46.863Z"
   },
   {
    "duration": 15,
    "start_time": "2023-05-04T16:29:46.886Z"
   },
   {
    "duration": 56,
    "start_time": "2023-05-04T16:29:46.903Z"
   },
   {
    "duration": 9,
    "start_time": "2023-05-04T16:29:46.960Z"
   },
   {
    "duration": 22,
    "start_time": "2023-05-04T16:29:46.971Z"
   },
   {
    "duration": 10,
    "start_time": "2023-05-04T16:29:46.995Z"
   },
   {
    "duration": 25,
    "start_time": "2023-05-04T16:29:47.007Z"
   },
   {
    "duration": 232,
    "start_time": "2023-05-04T16:29:47.034Z"
   },
   {
    "duration": 346,
    "start_time": "2023-05-04T16:29:47.268Z"
   },
   {
    "duration": 351,
    "start_time": "2023-05-04T16:29:47.616Z"
   },
   {
    "duration": 429,
    "start_time": "2023-05-04T16:29:47.969Z"
   },
   {
    "duration": 362,
    "start_time": "2023-05-04T16:29:48.400Z"
   },
   {
    "duration": 444,
    "start_time": "2023-05-04T16:29:48.764Z"
   },
   {
    "duration": 182,
    "start_time": "2023-05-04T16:29:49.210Z"
   },
   {
    "duration": 5,
    "start_time": "2023-05-04T16:29:49.394Z"
   },
   {
    "duration": 40,
    "start_time": "2023-05-04T16:29:49.400Z"
   },
   {
    "duration": 181,
    "start_time": "2023-05-04T16:29:49.442Z"
   },
   {
    "duration": 5,
    "start_time": "2023-05-04T16:29:49.625Z"
   },
   {
    "duration": 238,
    "start_time": "2023-05-04T16:29:49.632Z"
   },
   {
    "duration": 42,
    "start_time": "2023-05-04T16:29:49.872Z"
   },
   {
    "duration": 15,
    "start_time": "2023-05-04T16:29:49.916Z"
   },
   {
    "duration": 10,
    "start_time": "2023-05-04T16:29:49.933Z"
   },
   {
    "duration": 59,
    "start_time": "2023-05-04T16:29:49.947Z"
   },
   {
    "duration": 15,
    "start_time": "2023-05-04T16:29:50.009Z"
   },
   {
    "duration": 5,
    "start_time": "2023-05-04T17:53:18.992Z"
   },
   {
    "duration": 6,
    "start_time": "2023-05-04T18:11:26.781Z"
   },
   {
    "duration": 17,
    "start_time": "2023-05-04T18:12:33.465Z"
   },
   {
    "duration": 323,
    "start_time": "2023-05-04T18:28:56.054Z"
   },
   {
    "duration": 17,
    "start_time": "2023-05-04T18:29:25.066Z"
   },
   {
    "duration": 5,
    "start_time": "2023-05-04T18:36:40.958Z"
   },
   {
    "duration": 15,
    "start_time": "2023-05-04T18:36:53.528Z"
   },
   {
    "duration": 232,
    "start_time": "2023-05-04T18:42:53.410Z"
   },
   {
    "duration": 372,
    "start_time": "2023-05-04T18:43:21.678Z"
   },
   {
    "duration": 341,
    "start_time": "2023-05-04T18:44:14.717Z"
   },
   {
    "duration": 457,
    "start_time": "2023-05-04T18:45:31.395Z"
   },
   {
    "duration": 435,
    "start_time": "2023-05-04T19:02:42.686Z"
   },
   {
    "duration": 459,
    "start_time": "2023-05-04T19:04:37.780Z"
   },
   {
    "duration": 1255,
    "start_time": "2023-05-05T01:36:39.180Z"
   },
   {
    "duration": 89,
    "start_time": "2023-05-05T01:36:40.437Z"
   },
   {
    "duration": 11,
    "start_time": "2023-05-05T01:36:40.528Z"
   },
   {
    "duration": 12,
    "start_time": "2023-05-05T01:36:40.540Z"
   },
   {
    "duration": 22,
    "start_time": "2023-05-05T01:36:40.555Z"
   },
   {
    "duration": 11,
    "start_time": "2023-05-05T01:36:40.578Z"
   },
   {
    "duration": 10,
    "start_time": "2023-05-05T01:36:40.591Z"
   },
   {
    "duration": 158,
    "start_time": "2023-05-05T01:36:40.603Z"
   },
   {
    "duration": 8,
    "start_time": "2023-05-05T01:36:40.762Z"
   },
   {
    "duration": 17,
    "start_time": "2023-05-05T01:36:40.772Z"
   },
   {
    "duration": 17,
    "start_time": "2023-05-05T01:36:40.790Z"
   },
   {
    "duration": 11,
    "start_time": "2023-05-05T01:36:40.809Z"
   },
   {
    "duration": 208,
    "start_time": "2023-05-05T01:36:40.821Z"
   },
   {
    "duration": 299,
    "start_time": "2023-05-05T01:36:41.034Z"
   },
   {
    "duration": 285,
    "start_time": "2023-05-05T01:36:41.335Z"
   },
   {
    "duration": 428,
    "start_time": "2023-05-05T01:36:41.621Z"
   },
   {
    "duration": 337,
    "start_time": "2023-05-05T01:36:42.050Z"
   },
   {
    "duration": 354,
    "start_time": "2023-05-05T01:36:42.389Z"
   },
   {
    "duration": 156,
    "start_time": "2023-05-05T01:36:42.745Z"
   },
   {
    "duration": 5,
    "start_time": "2023-05-05T01:36:42.903Z"
   },
   {
    "duration": 25,
    "start_time": "2023-05-05T01:36:42.910Z"
   },
   {
    "duration": 152,
    "start_time": "2023-05-05T01:36:42.937Z"
   },
   {
    "duration": 4,
    "start_time": "2023-05-05T01:36:43.090Z"
   },
   {
    "duration": 207,
    "start_time": "2023-05-05T01:36:43.095Z"
   },
   {
    "duration": 22,
    "start_time": "2023-05-05T01:36:43.303Z"
   },
   {
    "duration": 9,
    "start_time": "2023-05-05T01:36:43.334Z"
   },
   {
    "duration": 23,
    "start_time": "2023-05-05T01:36:43.345Z"
   },
   {
    "duration": 35,
    "start_time": "2023-05-05T01:36:43.369Z"
   },
   {
    "duration": 11,
    "start_time": "2023-05-05T01:36:43.406Z"
   },
   {
    "duration": 21,
    "start_time": "2023-05-05T01:36:43.418Z"
   },
   {
    "duration": 189,
    "start_time": "2023-05-05T01:36:43.441Z"
   },
   {
    "duration": 270,
    "start_time": "2023-05-05T01:36:43.634Z"
   },
   {
    "duration": 282,
    "start_time": "2023-05-05T01:36:43.906Z"
   },
   {
    "duration": 356,
    "start_time": "2023-05-05T01:36:44.189Z"
   },
   {
    "duration": 406,
    "start_time": "2023-05-05T01:36:44.547Z"
   },
   {
    "duration": 47,
    "start_time": "2023-05-05T19:24:03.432Z"
   },
   {
    "duration": 1390,
    "start_time": "2023-05-05T19:24:11.216Z"
   },
   {
    "duration": 57,
    "start_time": "2023-05-05T19:24:12.608Z"
   },
   {
    "duration": 12,
    "start_time": "2023-05-05T19:24:12.667Z"
   },
   {
    "duration": 29,
    "start_time": "2023-05-05T19:24:12.680Z"
   },
   {
    "duration": 6,
    "start_time": "2023-05-05T19:24:12.719Z"
   },
   {
    "duration": 11,
    "start_time": "2023-05-05T19:24:12.727Z"
   },
   {
    "duration": 16,
    "start_time": "2023-05-05T19:24:12.740Z"
   },
   {
    "duration": 165,
    "start_time": "2023-05-05T19:24:12.758Z"
   },
   {
    "duration": 8,
    "start_time": "2023-05-05T19:24:12.925Z"
   },
   {
    "duration": 8,
    "start_time": "2023-05-05T19:24:12.935Z"
   },
   {
    "duration": 9,
    "start_time": "2023-05-05T19:24:12.946Z"
   },
   {
    "duration": 7,
    "start_time": "2023-05-05T19:24:12.957Z"
   },
   {
    "duration": 6,
    "start_time": "2023-05-05T19:24:12.966Z"
   },
   {
    "duration": 238,
    "start_time": "2023-05-05T19:24:12.976Z"
   },
   {
    "duration": 397,
    "start_time": "2023-05-05T19:24:13.215Z"
   },
   {
    "duration": 363,
    "start_time": "2023-05-05T19:24:13.614Z"
   },
   {
    "duration": 517,
    "start_time": "2023-05-05T19:24:13.979Z"
   },
   {
    "duration": 393,
    "start_time": "2023-05-05T19:24:14.500Z"
   },
   {
    "duration": 454,
    "start_time": "2023-05-05T19:24:14.896Z"
   },
   {
    "duration": 227,
    "start_time": "2023-05-05T19:24:15.352Z"
   },
   {
    "duration": 18,
    "start_time": "2023-05-05T19:24:15.581Z"
   },
   {
    "duration": 16,
    "start_time": "2023-05-05T19:24:15.604Z"
   },
   {
    "duration": 184,
    "start_time": "2023-05-05T19:24:15.625Z"
   },
   {
    "duration": 5,
    "start_time": "2023-05-05T19:24:15.810Z"
   },
   {
    "duration": 220,
    "start_time": "2023-05-05T19:24:15.817Z"
   },
   {
    "duration": 23,
    "start_time": "2023-05-05T19:24:16.039Z"
   },
   {
    "duration": 9,
    "start_time": "2023-05-05T19:24:16.064Z"
   },
   {
    "duration": 28,
    "start_time": "2023-05-05T19:24:16.074Z"
   },
   {
    "duration": 36,
    "start_time": "2023-05-05T19:24:16.108Z"
   },
   {
    "duration": 16,
    "start_time": "2023-05-05T19:24:16.146Z"
   },
   {
    "duration": 37,
    "start_time": "2023-05-05T19:24:16.165Z"
   },
   {
    "duration": 215,
    "start_time": "2023-05-05T19:24:16.210Z"
   },
   {
    "duration": 332,
    "start_time": "2023-05-05T19:24:16.428Z"
   },
   {
    "duration": 352,
    "start_time": "2023-05-05T19:24:16.762Z"
   },
   {
    "duration": 450,
    "start_time": "2023-05-05T19:24:17.116Z"
   },
   {
    "duration": 475,
    "start_time": "2023-05-05T19:24:17.568Z"
   },
   {
    "duration": 7,
    "start_time": "2023-05-05T19:28:50.720Z"
   },
   {
    "duration": 8,
    "start_time": "2023-05-05T19:29:04.015Z"
   },
   {
    "duration": 114,
    "start_time": "2023-05-05T19:29:27.023Z"
   },
   {
    "duration": 9,
    "start_time": "2023-05-05T19:29:34.648Z"
   },
   {
    "duration": 7,
    "start_time": "2023-05-05T19:32:30.081Z"
   },
   {
    "duration": 5,
    "start_time": "2023-05-05T19:32:56.203Z"
   },
   {
    "duration": 8,
    "start_time": "2023-05-05T19:34:01.912Z"
   },
   {
    "duration": 6,
    "start_time": "2023-05-05T19:34:20.976Z"
   },
   {
    "duration": 1299,
    "start_time": "2023-05-06T08:42:20.322Z"
   },
   {
    "duration": 59,
    "start_time": "2023-05-06T08:42:21.624Z"
   },
   {
    "duration": 16,
    "start_time": "2023-05-06T08:42:21.685Z"
   },
   {
    "duration": 35,
    "start_time": "2023-05-06T08:42:21.703Z"
   },
   {
    "duration": 19,
    "start_time": "2023-05-06T08:42:21.740Z"
   },
   {
    "duration": 23,
    "start_time": "2023-05-06T08:42:21.761Z"
   },
   {
    "duration": 54,
    "start_time": "2023-05-06T08:42:21.786Z"
   },
   {
    "duration": 166,
    "start_time": "2023-05-06T08:42:21.842Z"
   },
   {
    "duration": 10,
    "start_time": "2023-05-06T08:42:22.011Z"
   },
   {
    "duration": 18,
    "start_time": "2023-05-06T08:42:22.023Z"
   },
   {
    "duration": 21,
    "start_time": "2023-05-06T08:42:22.042Z"
   },
   {
    "duration": 15,
    "start_time": "2023-05-06T08:42:22.065Z"
   },
   {
    "duration": 40,
    "start_time": "2023-05-06T08:42:22.082Z"
   },
   {
    "duration": 24,
    "start_time": "2023-05-06T08:42:22.124Z"
   },
   {
    "duration": 11,
    "start_time": "2023-05-06T08:42:22.150Z"
   },
   {
    "duration": 29,
    "start_time": "2023-05-06T08:42:22.162Z"
   },
   {
    "duration": 263,
    "start_time": "2023-05-06T08:42:22.194Z"
   },
   {
    "duration": 378,
    "start_time": "2023-05-06T08:42:22.459Z"
   },
   {
    "duration": 359,
    "start_time": "2023-05-06T08:42:22.840Z"
   },
   {
    "duration": 416,
    "start_time": "2023-05-06T08:42:23.201Z"
   },
   {
    "duration": 385,
    "start_time": "2023-05-06T08:42:23.620Z"
   },
   {
    "duration": 485,
    "start_time": "2023-05-06T08:42:24.008Z"
   },
   {
    "duration": 163,
    "start_time": "2023-05-06T08:42:24.495Z"
   },
   {
    "duration": 5,
    "start_time": "2023-05-06T08:42:24.660Z"
   },
   {
    "duration": 28,
    "start_time": "2023-05-06T08:42:24.667Z"
   },
   {
    "duration": 183,
    "start_time": "2023-05-06T08:42:24.697Z"
   },
   {
    "duration": 6,
    "start_time": "2023-05-06T08:42:24.885Z"
   },
   {
    "duration": 205,
    "start_time": "2023-05-06T08:42:24.895Z"
   },
   {
    "duration": 24,
    "start_time": "2023-05-06T08:42:25.102Z"
   },
   {
    "duration": 9,
    "start_time": "2023-05-06T08:42:25.127Z"
   },
   {
    "duration": 8,
    "start_time": "2023-05-06T08:42:25.138Z"
   },
   {
    "duration": 57,
    "start_time": "2023-05-06T08:42:25.148Z"
   },
   {
    "duration": 14,
    "start_time": "2023-05-06T08:42:25.206Z"
   },
   {
    "duration": 13,
    "start_time": "2023-05-06T08:42:25.221Z"
   },
   {
    "duration": 227,
    "start_time": "2023-05-06T08:42:25.235Z"
   },
   {
    "duration": 304,
    "start_time": "2023-05-06T08:42:25.463Z"
   },
   {
    "duration": 314,
    "start_time": "2023-05-06T08:42:25.769Z"
   },
   {
    "duration": 408,
    "start_time": "2023-05-06T08:42:26.084Z"
   },
   {
    "duration": 476,
    "start_time": "2023-05-06T08:42:26.494Z"
   },
   {
    "duration": 1149,
    "start_time": "2023-05-06T08:44:12.131Z"
   },
   {
    "duration": 26,
    "start_time": "2023-05-06T08:44:13.282Z"
   },
   {
    "duration": 12,
    "start_time": "2023-05-06T08:44:13.309Z"
   },
   {
    "duration": 11,
    "start_time": "2023-05-06T08:44:13.323Z"
   },
   {
    "duration": 7,
    "start_time": "2023-05-06T08:44:13.336Z"
   },
   {
    "duration": 11,
    "start_time": "2023-05-06T08:44:13.344Z"
   },
   {
    "duration": 10,
    "start_time": "2023-05-06T08:44:13.357Z"
   },
   {
    "duration": 41,
    "start_time": "2023-05-06T08:44:13.384Z"
   },
   {
    "duration": 8,
    "start_time": "2023-05-06T08:44:13.427Z"
   },
   {
    "duration": 8,
    "start_time": "2023-05-06T08:44:13.438Z"
   },
   {
    "duration": 7,
    "start_time": "2023-05-06T08:44:13.448Z"
   },
   {
    "duration": 7,
    "start_time": "2023-05-06T08:44:13.457Z"
   },
   {
    "duration": 8,
    "start_time": "2023-05-06T08:44:13.466Z"
   },
   {
    "duration": 13,
    "start_time": "2023-05-06T08:44:13.476Z"
   },
   {
    "duration": 14,
    "start_time": "2023-05-06T08:44:13.490Z"
   },
   {
    "duration": 12,
    "start_time": "2023-05-06T08:44:13.505Z"
   },
   {
    "duration": 24,
    "start_time": "2023-05-06T08:44:13.519Z"
   },
   {
    "duration": 228,
    "start_time": "2023-05-06T08:44:13.544Z"
   },
   {
    "duration": 494,
    "start_time": "2023-05-06T08:44:13.789Z"
   },
   {
    "duration": 255,
    "start_time": "2023-05-06T08:44:14.285Z"
   },
   {
    "duration": 389,
    "start_time": "2023-05-06T08:44:14.542Z"
   },
   {
    "duration": 250,
    "start_time": "2023-05-06T08:44:14.933Z"
   },
   {
    "duration": 374,
    "start_time": "2023-05-06T08:44:15.185Z"
   },
   {
    "duration": 238,
    "start_time": "2023-05-06T08:44:15.561Z"
   },
   {
    "duration": 6,
    "start_time": "2023-05-06T08:44:15.801Z"
   },
   {
    "duration": 13,
    "start_time": "2023-05-06T08:44:15.809Z"
   },
   {
    "duration": 252,
    "start_time": "2023-05-06T08:44:15.825Z"
   },
   {
    "duration": 5,
    "start_time": "2023-05-06T08:44:16.084Z"
   },
   {
    "duration": 248,
    "start_time": "2023-05-06T08:44:16.090Z"
   },
   {
    "duration": 24,
    "start_time": "2023-05-06T08:44:16.340Z"
   },
   {
    "duration": 14,
    "start_time": "2023-05-06T08:44:16.384Z"
   },
   {
    "duration": 9,
    "start_time": "2023-05-06T08:44:16.400Z"
   },
   {
    "duration": 40,
    "start_time": "2023-05-06T08:44:16.411Z"
   },
   {
    "duration": 44,
    "start_time": "2023-05-06T08:44:16.453Z"
   },
   {
    "duration": 14,
    "start_time": "2023-05-06T08:44:16.499Z"
   },
   {
    "duration": 262,
    "start_time": "2023-05-06T08:44:16.514Z"
   },
   {
    "duration": 239,
    "start_time": "2023-05-06T08:44:16.777Z"
   },
   {
    "duration": 253,
    "start_time": "2023-05-06T08:44:17.018Z"
   },
   {
    "duration": 337,
    "start_time": "2023-05-06T08:44:17.272Z"
   },
   {
    "duration": 406,
    "start_time": "2023-05-06T08:44:17.611Z"
   },
   {
    "duration": 251,
    "start_time": "2023-05-06T08:45:54.022Z"
   },
   {
    "duration": 5,
    "start_time": "2023-05-06T09:02:40.751Z"
   },
   {
    "duration": 5,
    "start_time": "2023-05-06T09:05:13.865Z"
   },
   {
    "duration": 10,
    "start_time": "2023-05-06T09:10:59.722Z"
   },
   {
    "duration": 283,
    "start_time": "2023-05-06T09:11:23.072Z"
   },
   {
    "duration": 202,
    "start_time": "2023-05-06T09:11:38.169Z"
   },
   {
    "duration": 1068,
    "start_time": "2023-05-06T09:11:59.941Z"
   },
   {
    "duration": 23,
    "start_time": "2023-05-06T09:12:01.011Z"
   },
   {
    "duration": 13,
    "start_time": "2023-05-06T09:12:01.036Z"
   },
   {
    "duration": 38,
    "start_time": "2023-05-06T09:12:01.050Z"
   },
   {
    "duration": 38,
    "start_time": "2023-05-06T09:12:01.091Z"
   },
   {
    "duration": 34,
    "start_time": "2023-05-06T09:12:01.131Z"
   },
   {
    "duration": 45,
    "start_time": "2023-05-06T09:12:01.167Z"
   },
   {
    "duration": 71,
    "start_time": "2023-05-06T09:12:01.214Z"
   },
   {
    "duration": 7,
    "start_time": "2023-05-06T09:12:01.287Z"
   },
   {
    "duration": 31,
    "start_time": "2023-05-06T09:12:01.296Z"
   },
   {
    "duration": 37,
    "start_time": "2023-05-06T09:12:01.329Z"
   },
   {
    "duration": 32,
    "start_time": "2023-05-06T09:12:01.367Z"
   },
   {
    "duration": 40,
    "start_time": "2023-05-06T09:12:01.401Z"
   },
   {
    "duration": 35,
    "start_time": "2023-05-06T09:12:01.444Z"
   },
   {
    "duration": 28,
    "start_time": "2023-05-06T09:12:01.482Z"
   },
   {
    "duration": 32,
    "start_time": "2023-05-06T09:12:01.512Z"
   },
   {
    "duration": 28,
    "start_time": "2023-05-06T09:12:01.545Z"
   },
   {
    "duration": 272,
    "start_time": "2023-05-06T09:12:01.574Z"
   },
   {
    "duration": 354,
    "start_time": "2023-05-06T09:12:01.848Z"
   },
   {
    "duration": 263,
    "start_time": "2023-05-06T09:12:02.204Z"
   },
   {
    "duration": 351,
    "start_time": "2023-05-06T09:12:02.468Z"
   },
   {
    "duration": 227,
    "start_time": "2023-05-06T09:12:02.821Z"
   },
   {
    "duration": 361,
    "start_time": "2023-05-06T09:12:03.050Z"
   },
   {
    "duration": 160,
    "start_time": "2023-05-06T09:12:03.413Z"
   },
   {
    "duration": 12,
    "start_time": "2023-05-06T09:12:03.574Z"
   },
   {
    "duration": 13,
    "start_time": "2023-05-06T09:12:03.588Z"
   },
   {
    "duration": 163,
    "start_time": "2023-05-06T09:12:03.603Z"
   },
   {
    "duration": 4,
    "start_time": "2023-05-06T09:12:03.768Z"
   },
   {
    "duration": 246,
    "start_time": "2023-05-06T09:12:03.773Z"
   },
   {
    "duration": 29,
    "start_time": "2023-05-06T09:12:04.022Z"
   },
   {
    "duration": 33,
    "start_time": "2023-05-06T09:12:04.053Z"
   },
   {
    "duration": 126,
    "start_time": "2023-05-06T09:12:04.089Z"
   },
   {
    "duration": 0,
    "start_time": "2023-05-06T09:12:04.216Z"
   },
   {
    "duration": 0,
    "start_time": "2023-05-06T09:12:04.218Z"
   },
   {
    "duration": 0,
    "start_time": "2023-05-06T09:12:04.220Z"
   },
   {
    "duration": 0,
    "start_time": "2023-05-06T09:12:04.221Z"
   },
   {
    "duration": 0,
    "start_time": "2023-05-06T09:12:04.222Z"
   },
   {
    "duration": 0,
    "start_time": "2023-05-06T09:12:04.223Z"
   },
   {
    "duration": 0,
    "start_time": "2023-05-06T09:12:04.223Z"
   },
   {
    "duration": 0,
    "start_time": "2023-05-06T09:12:04.224Z"
   },
   {
    "duration": 10,
    "start_time": "2023-05-06T09:13:07.850Z"
   },
   {
    "duration": 10,
    "start_time": "2023-05-06T09:13:20.367Z"
   },
   {
    "duration": 245,
    "start_time": "2023-05-06T09:48:21.109Z"
   },
   {
    "duration": 215,
    "start_time": "2023-05-06T09:49:04.158Z"
   },
   {
    "duration": 215,
    "start_time": "2023-05-06T09:49:40.607Z"
   },
   {
    "duration": 284,
    "start_time": "2023-05-06T09:51:14.834Z"
   },
   {
    "duration": 318,
    "start_time": "2023-05-06T09:51:25.802Z"
   },
   {
    "duration": 4,
    "start_time": "2023-05-06T10:00:52.723Z"
   },
   {
    "duration": 6,
    "start_time": "2023-05-06T10:01:43.943Z"
   },
   {
    "duration": 6,
    "start_time": "2023-05-06T10:02:25.124Z"
   },
   {
    "duration": 1154,
    "start_time": "2023-05-06T10:02:30.142Z"
   },
   {
    "duration": 24,
    "start_time": "2023-05-06T10:02:31.298Z"
   },
   {
    "duration": 16,
    "start_time": "2023-05-06T10:02:31.323Z"
   },
   {
    "duration": 37,
    "start_time": "2023-05-06T10:02:31.341Z"
   },
   {
    "duration": 35,
    "start_time": "2023-05-06T10:02:31.380Z"
   },
   {
    "duration": 27,
    "start_time": "2023-05-06T10:02:31.416Z"
   },
   {
    "duration": 29,
    "start_time": "2023-05-06T10:02:31.445Z"
   },
   {
    "duration": 70,
    "start_time": "2023-05-06T10:02:31.476Z"
   },
   {
    "duration": 18,
    "start_time": "2023-05-06T10:02:31.549Z"
   },
   {
    "duration": 37,
    "start_time": "2023-05-06T10:02:31.569Z"
   },
   {
    "duration": 31,
    "start_time": "2023-05-06T10:02:31.607Z"
   },
   {
    "duration": 23,
    "start_time": "2023-05-06T10:02:31.639Z"
   },
   {
    "duration": 28,
    "start_time": "2023-05-06T10:02:31.664Z"
   },
   {
    "duration": 30,
    "start_time": "2023-05-06T10:02:31.693Z"
   },
   {
    "duration": 58,
    "start_time": "2023-05-06T10:02:31.725Z"
   },
   {
    "duration": 39,
    "start_time": "2023-05-06T10:02:31.785Z"
   },
   {
    "duration": 39,
    "start_time": "2023-05-06T10:02:31.826Z"
   },
   {
    "duration": 39,
    "start_time": "2023-05-06T10:02:31.866Z"
   },
   {
    "duration": 258,
    "start_time": "2023-05-06T10:02:31.907Z"
   },
   {
    "duration": 324,
    "start_time": "2023-05-06T10:02:32.167Z"
   },
   {
    "duration": 233,
    "start_time": "2023-05-06T10:02:32.493Z"
   },
   {
    "duration": 286,
    "start_time": "2023-05-06T10:02:32.728Z"
   },
   {
    "duration": 227,
    "start_time": "2023-05-06T10:02:33.016Z"
   },
   {
    "duration": 350,
    "start_time": "2023-05-06T10:02:33.245Z"
   },
   {
    "duration": 155,
    "start_time": "2023-05-06T10:02:33.597Z"
   },
   {
    "duration": 6,
    "start_time": "2023-05-06T10:02:33.754Z"
   },
   {
    "duration": 25,
    "start_time": "2023-05-06T10:02:33.762Z"
   },
   {
    "duration": 185,
    "start_time": "2023-05-06T10:02:33.792Z"
   },
   {
    "duration": 9,
    "start_time": "2023-05-06T10:02:33.980Z"
   },
   {
    "duration": 261,
    "start_time": "2023-05-06T10:02:33.991Z"
   },
   {
    "duration": 37,
    "start_time": "2023-05-06T10:02:34.254Z"
   },
   {
    "duration": 10,
    "start_time": "2023-05-06T10:02:34.293Z"
   },
   {
    "duration": 9,
    "start_time": "2023-05-06T10:02:34.305Z"
   },
   {
    "duration": 28,
    "start_time": "2023-05-06T10:02:34.315Z"
   },
   {
    "duration": 42,
    "start_time": "2023-05-06T10:02:34.344Z"
   },
   {
    "duration": 12,
    "start_time": "2023-05-06T10:02:34.388Z"
   },
   {
    "duration": 243,
    "start_time": "2023-05-06T10:02:34.402Z"
   },
   {
    "duration": 211,
    "start_time": "2023-05-06T10:02:34.646Z"
   },
   {
    "duration": 230,
    "start_time": "2023-05-06T10:02:34.858Z"
   },
   {
    "duration": 333,
    "start_time": "2023-05-06T10:02:35.090Z"
   },
   {
    "duration": 348,
    "start_time": "2023-05-06T10:02:35.425Z"
   },
   {
    "duration": 42,
    "start_time": "2023-05-06T10:03:29.811Z"
   },
   {
    "duration": 182,
    "start_time": "2023-05-06T10:06:54.109Z"
   },
   {
    "duration": 346,
    "start_time": "2023-05-06T10:07:13.373Z"
   },
   {
    "duration": 221,
    "start_time": "2023-05-06T10:07:24.252Z"
   },
   {
    "duration": 222,
    "start_time": "2023-05-06T10:07:41.484Z"
   },
   {
    "duration": 5,
    "start_time": "2023-05-06T10:07:53.653Z"
   },
   {
    "duration": 202,
    "start_time": "2023-05-06T10:09:07.742Z"
   },
   {
    "duration": 260,
    "start_time": "2023-05-06T10:10:54.010Z"
   },
   {
    "duration": 296,
    "start_time": "2023-05-06T10:11:13.544Z"
   },
   {
    "duration": 424,
    "start_time": "2023-05-06T10:12:10.234Z"
   },
   {
    "duration": 168,
    "start_time": "2023-05-06T10:13:53.262Z"
   },
   {
    "duration": 172,
    "start_time": "2023-05-06T10:14:27.620Z"
   },
   {
    "duration": 172,
    "start_time": "2023-05-06T12:11:58.455Z"
   },
   {
    "duration": 1179,
    "start_time": "2023-05-06T12:12:05.724Z"
   },
   {
    "duration": 23,
    "start_time": "2023-05-06T12:12:06.905Z"
   },
   {
    "duration": 16,
    "start_time": "2023-05-06T12:12:06.930Z"
   },
   {
    "duration": 13,
    "start_time": "2023-05-06T12:12:06.949Z"
   },
   {
    "duration": 21,
    "start_time": "2023-05-06T12:12:06.965Z"
   },
   {
    "duration": 13,
    "start_time": "2023-05-06T12:12:06.989Z"
   },
   {
    "duration": 17,
    "start_time": "2023-05-06T12:12:07.004Z"
   },
   {
    "duration": 45,
    "start_time": "2023-05-06T12:12:07.023Z"
   },
   {
    "duration": 8,
    "start_time": "2023-05-06T12:12:07.071Z"
   },
   {
    "duration": 17,
    "start_time": "2023-05-06T12:12:07.084Z"
   },
   {
    "duration": 16,
    "start_time": "2023-05-06T12:12:07.104Z"
   },
   {
    "duration": 23,
    "start_time": "2023-05-06T12:12:07.124Z"
   },
   {
    "duration": 10,
    "start_time": "2023-05-06T12:12:07.149Z"
   },
   {
    "duration": 8,
    "start_time": "2023-05-06T12:12:07.186Z"
   },
   {
    "duration": 24,
    "start_time": "2023-05-06T12:12:07.197Z"
   },
   {
    "duration": 13,
    "start_time": "2023-05-06T12:12:07.222Z"
   },
   {
    "duration": 17,
    "start_time": "2023-05-06T12:12:07.237Z"
   },
   {
    "duration": 33,
    "start_time": "2023-05-06T12:12:07.256Z"
   },
   {
    "duration": 330,
    "start_time": "2023-05-06T12:12:07.291Z"
   },
   {
    "duration": 365,
    "start_time": "2023-05-06T12:12:07.623Z"
   },
   {
    "duration": 299,
    "start_time": "2023-05-06T12:12:07.991Z"
   },
   {
    "duration": 412,
    "start_time": "2023-05-06T12:12:08.292Z"
   },
   {
    "duration": 380,
    "start_time": "2023-05-06T12:12:08.706Z"
   },
   {
    "duration": 335,
    "start_time": "2023-05-06T12:12:09.089Z"
   },
   {
    "duration": 211,
    "start_time": "2023-05-06T12:12:09.426Z"
   },
   {
    "duration": 7,
    "start_time": "2023-05-06T12:12:09.639Z"
   },
   {
    "duration": 20,
    "start_time": "2023-05-06T12:12:09.648Z"
   },
   {
    "duration": 337,
    "start_time": "2023-05-06T12:12:09.690Z"
   },
   {
    "duration": 6,
    "start_time": "2023-05-06T12:12:10.030Z"
   },
   {
    "duration": 284,
    "start_time": "2023-05-06T12:12:10.039Z"
   },
   {
    "duration": 148,
    "start_time": "2023-05-06T12:12:10.325Z"
   },
   {
    "duration": 0,
    "start_time": "2023-05-06T12:12:10.476Z"
   },
   {
    "duration": 0,
    "start_time": "2023-05-06T12:12:10.477Z"
   },
   {
    "duration": 0,
    "start_time": "2023-05-06T12:12:10.485Z"
   },
   {
    "duration": 0,
    "start_time": "2023-05-06T12:12:10.487Z"
   },
   {
    "duration": 0,
    "start_time": "2023-05-06T12:12:10.490Z"
   },
   {
    "duration": 0,
    "start_time": "2023-05-06T12:12:10.494Z"
   },
   {
    "duration": 0,
    "start_time": "2023-05-06T12:12:10.496Z"
   },
   {
    "duration": 0,
    "start_time": "2023-05-06T12:12:10.498Z"
   },
   {
    "duration": 0,
    "start_time": "2023-05-06T12:12:10.499Z"
   },
   {
    "duration": 0,
    "start_time": "2023-05-06T12:12:10.502Z"
   },
   {
    "duration": 24,
    "start_time": "2023-05-06T12:12:55.018Z"
   },
   {
    "duration": 58,
    "start_time": "2023-05-06T12:17:16.593Z"
   },
   {
    "duration": 57,
    "start_time": "2023-05-06T12:17:29.121Z"
   },
   {
    "duration": 43,
    "start_time": "2023-05-06T12:19:06.537Z"
   },
   {
    "duration": 46,
    "start_time": "2023-05-06T12:20:32.704Z"
   },
   {
    "duration": 21,
    "start_time": "2023-05-06T12:27:47.205Z"
   },
   {
    "duration": 24,
    "start_time": "2023-05-06T12:28:15.886Z"
   },
   {
    "duration": 1508,
    "start_time": "2023-05-06T12:29:13.547Z"
   },
   {
    "duration": 23,
    "start_time": "2023-05-06T12:29:15.057Z"
   },
   {
    "duration": 17,
    "start_time": "2023-05-06T12:29:15.084Z"
   },
   {
    "duration": 20,
    "start_time": "2023-05-06T12:29:15.104Z"
   },
   {
    "duration": 9,
    "start_time": "2023-05-06T12:29:15.126Z"
   },
   {
    "duration": 17,
    "start_time": "2023-05-06T12:29:15.137Z"
   },
   {
    "duration": 19,
    "start_time": "2023-05-06T12:29:15.185Z"
   },
   {
    "duration": 48,
    "start_time": "2023-05-06T12:29:15.206Z"
   },
   {
    "duration": 9,
    "start_time": "2023-05-06T12:29:15.256Z"
   },
   {
    "duration": 18,
    "start_time": "2023-05-06T12:29:15.270Z"
   },
   {
    "duration": 11,
    "start_time": "2023-05-06T12:29:15.290Z"
   },
   {
    "duration": 11,
    "start_time": "2023-05-06T12:29:15.304Z"
   },
   {
    "duration": 12,
    "start_time": "2023-05-06T12:29:15.317Z"
   },
   {
    "duration": 8,
    "start_time": "2023-05-06T12:29:15.332Z"
   },
   {
    "duration": 53,
    "start_time": "2023-05-06T12:29:15.342Z"
   },
   {
    "duration": 13,
    "start_time": "2023-05-06T12:29:15.397Z"
   },
   {
    "duration": 13,
    "start_time": "2023-05-06T12:29:15.412Z"
   },
   {
    "duration": 7,
    "start_time": "2023-05-06T12:29:15.427Z"
   },
   {
    "duration": 291,
    "start_time": "2023-05-06T12:29:15.437Z"
   },
   {
    "duration": 371,
    "start_time": "2023-05-06T12:29:15.730Z"
   },
   {
    "duration": 254,
    "start_time": "2023-05-06T12:29:16.104Z"
   },
   {
    "duration": 376,
    "start_time": "2023-05-06T12:29:16.360Z"
   },
   {
    "duration": 276,
    "start_time": "2023-05-06T12:29:16.739Z"
   },
   {
    "duration": 254,
    "start_time": "2023-05-06T12:29:17.017Z"
   },
   {
    "duration": 206,
    "start_time": "2023-05-06T12:29:17.273Z"
   },
   {
    "duration": 11,
    "start_time": "2023-05-06T12:29:17.481Z"
   },
   {
    "duration": 21,
    "start_time": "2023-05-06T12:29:17.494Z"
   },
   {
    "duration": 208,
    "start_time": "2023-05-06T12:29:17.520Z"
   },
   {
    "duration": 6,
    "start_time": "2023-05-06T12:29:17.730Z"
   },
   {
    "duration": 381,
    "start_time": "2023-05-06T12:29:17.739Z"
   },
   {
    "duration": 64,
    "start_time": "2023-05-06T12:29:18.122Z"
   },
   {
    "duration": 23,
    "start_time": "2023-05-06T12:29:18.188Z"
   },
   {
    "duration": 13,
    "start_time": "2023-05-06T12:29:18.214Z"
   },
   {
    "duration": 70,
    "start_time": "2023-05-06T12:29:18.229Z"
   },
   {
    "duration": 24,
    "start_time": "2023-05-06T12:29:18.300Z"
   },
   {
    "duration": 22,
    "start_time": "2023-05-06T12:29:18.327Z"
   },
   {
    "duration": 355,
    "start_time": "2023-05-06T12:29:18.352Z"
   },
   {
    "duration": 240,
    "start_time": "2023-05-06T12:29:18.710Z"
   },
   {
    "duration": 259,
    "start_time": "2023-05-06T12:29:18.953Z"
   },
   {
    "duration": 345,
    "start_time": "2023-05-06T12:29:19.214Z"
   },
   {
    "duration": 456,
    "start_time": "2023-05-06T12:29:19.561Z"
   },
   {
    "duration": 55,
    "start_time": "2023-05-06T12:35:43.434Z"
   },
   {
    "duration": 27,
    "start_time": "2023-05-06T12:37:57.956Z"
   },
   {
    "duration": 33,
    "start_time": "2023-05-06T12:38:46.218Z"
   },
   {
    "duration": 141,
    "start_time": "2023-05-06T12:45:01.311Z"
   },
   {
    "duration": 134,
    "start_time": "2023-05-06T13:00:13.087Z"
   },
   {
    "duration": 306,
    "start_time": "2023-05-06T13:02:08.877Z"
   },
   {
    "duration": 178,
    "start_time": "2023-05-06T13:02:34.948Z"
   },
   {
    "duration": 186,
    "start_time": "2023-05-06T13:02:42.459Z"
   },
   {
    "duration": 204,
    "start_time": "2023-05-06T13:02:58.715Z"
   },
   {
    "duration": 335,
    "start_time": "2023-05-06T13:05:32.112Z"
   },
   {
    "duration": 329,
    "start_time": "2023-05-06T13:05:52.082Z"
   },
   {
    "duration": 338,
    "start_time": "2023-05-06T13:06:30.208Z"
   },
   {
    "duration": 306,
    "start_time": "2023-05-06T13:07:11.911Z"
   },
   {
    "duration": 407,
    "start_time": "2023-05-06T13:09:58.351Z"
   },
   {
    "duration": 261,
    "start_time": "2023-05-06T13:10:27.381Z"
   },
   {
    "duration": 326,
    "start_time": "2023-05-06T13:14:00.577Z"
   },
   {
    "duration": 271,
    "start_time": "2023-05-06T13:14:25.642Z"
   },
   {
    "duration": 365,
    "start_time": "2023-05-06T13:16:54.607Z"
   },
   {
    "duration": 291,
    "start_time": "2023-05-06T13:21:38.902Z"
   },
   {
    "duration": 403,
    "start_time": "2023-05-06T13:21:47.589Z"
   },
   {
    "duration": 1303,
    "start_time": "2023-05-06T13:22:49.018Z"
   },
   {
    "duration": 23,
    "start_time": "2023-05-06T13:22:50.323Z"
   },
   {
    "duration": 14,
    "start_time": "2023-05-06T13:22:50.348Z"
   },
   {
    "duration": 27,
    "start_time": "2023-05-06T13:22:50.364Z"
   },
   {
    "duration": 19,
    "start_time": "2023-05-06T13:22:50.394Z"
   },
   {
    "duration": 25,
    "start_time": "2023-05-06T13:22:50.416Z"
   },
   {
    "duration": 24,
    "start_time": "2023-05-06T13:22:50.444Z"
   },
   {
    "duration": 51,
    "start_time": "2023-05-06T13:22:50.471Z"
   },
   {
    "duration": 11,
    "start_time": "2023-05-06T13:22:50.525Z"
   },
   {
    "duration": 14,
    "start_time": "2023-05-06T13:22:50.538Z"
   },
   {
    "duration": 15,
    "start_time": "2023-05-06T13:22:50.555Z"
   },
   {
    "duration": 20,
    "start_time": "2023-05-06T13:22:50.572Z"
   },
   {
    "duration": 27,
    "start_time": "2023-05-06T13:22:50.594Z"
   },
   {
    "duration": 15,
    "start_time": "2023-05-06T13:22:50.625Z"
   },
   {
    "duration": 20,
    "start_time": "2023-05-06T13:22:50.643Z"
   },
   {
    "duration": 22,
    "start_time": "2023-05-06T13:22:50.666Z"
   },
   {
    "duration": 13,
    "start_time": "2023-05-06T13:22:50.690Z"
   },
   {
    "duration": 13,
    "start_time": "2023-05-06T13:22:50.705Z"
   },
   {
    "duration": 357,
    "start_time": "2023-05-06T13:22:50.720Z"
   },
   {
    "duration": 416,
    "start_time": "2023-05-06T13:22:51.079Z"
   },
   {
    "duration": 289,
    "start_time": "2023-05-06T13:22:51.497Z"
   },
   {
    "duration": 331,
    "start_time": "2023-05-06T13:22:51.788Z"
   },
   {
    "duration": 276,
    "start_time": "2023-05-06T13:22:52.121Z"
   },
   {
    "duration": 328,
    "start_time": "2023-05-06T13:22:52.400Z"
   },
   {
    "duration": 281,
    "start_time": "2023-05-06T13:22:52.729Z"
   },
   {
    "duration": 368,
    "start_time": "2023-05-06T13:22:53.012Z"
   },
   {
    "duration": 182,
    "start_time": "2023-05-06T13:22:53.386Z"
   },
   {
    "duration": 6,
    "start_time": "2023-05-06T13:22:53.570Z"
   },
   {
    "duration": 13,
    "start_time": "2023-05-06T13:22:53.586Z"
   },
   {
    "duration": 265,
    "start_time": "2023-05-06T13:22:53.601Z"
   },
   {
    "duration": 5,
    "start_time": "2023-05-06T13:22:53.868Z"
   },
   {
    "duration": 207,
    "start_time": "2023-05-06T13:22:53.886Z"
   },
   {
    "duration": 50,
    "start_time": "2023-05-06T13:22:54.095Z"
   },
   {
    "duration": 20,
    "start_time": "2023-05-06T13:22:54.148Z"
   },
   {
    "duration": 12,
    "start_time": "2023-05-06T13:22:54.187Z"
   },
   {
    "duration": 94,
    "start_time": "2023-05-06T13:22:54.201Z"
   },
   {
    "duration": 29,
    "start_time": "2023-05-06T13:22:54.297Z"
   },
   {
    "duration": 20,
    "start_time": "2023-05-06T13:22:54.329Z"
   },
   {
    "duration": 259,
    "start_time": "2023-05-06T13:22:54.351Z"
   },
   {
    "duration": 218,
    "start_time": "2023-05-06T13:22:54.612Z"
   },
   {
    "duration": 231,
    "start_time": "2023-05-06T13:22:54.834Z"
   },
   {
    "duration": 351,
    "start_time": "2023-05-06T13:22:55.068Z"
   },
   {
    "duration": 292,
    "start_time": "2023-05-06T13:22:55.421Z"
   },
   {
    "duration": 344,
    "start_time": "2023-05-06T13:22:55.715Z"
   },
   {
    "duration": 49,
    "start_time": "2023-05-06T13:25:04.624Z"
   },
   {
    "duration": 11,
    "start_time": "2023-05-06T13:32:10.317Z"
   },
   {
    "duration": 1271,
    "start_time": "2023-05-06T13:32:25.020Z"
   },
   {
    "duration": 32,
    "start_time": "2023-05-06T13:32:26.294Z"
   },
   {
    "duration": 12,
    "start_time": "2023-05-06T13:32:26.328Z"
   },
   {
    "duration": 12,
    "start_time": "2023-05-06T13:32:26.342Z"
   },
   {
    "duration": 10,
    "start_time": "2023-05-06T13:32:26.356Z"
   },
   {
    "duration": 11,
    "start_time": "2023-05-06T13:32:26.367Z"
   },
   {
    "duration": 23,
    "start_time": "2023-05-06T13:32:26.386Z"
   },
   {
    "duration": 55,
    "start_time": "2023-05-06T13:32:26.411Z"
   },
   {
    "duration": 9,
    "start_time": "2023-05-06T13:32:26.468Z"
   },
   {
    "duration": 34,
    "start_time": "2023-05-06T13:32:26.481Z"
   },
   {
    "duration": 12,
    "start_time": "2023-05-06T13:32:26.517Z"
   },
   {
    "duration": 17,
    "start_time": "2023-05-06T13:32:26.531Z"
   },
   {
    "duration": 10,
    "start_time": "2023-05-06T13:32:26.550Z"
   },
   {
    "duration": 13,
    "start_time": "2023-05-06T13:32:26.561Z"
   },
   {
    "duration": 22,
    "start_time": "2023-05-06T13:32:26.577Z"
   },
   {
    "duration": 22,
    "start_time": "2023-05-06T13:32:26.605Z"
   },
   {
    "duration": 13,
    "start_time": "2023-05-06T13:32:26.629Z"
   },
   {
    "duration": 8,
    "start_time": "2023-05-06T13:32:26.644Z"
   },
   {
    "duration": 357,
    "start_time": "2023-05-06T13:32:26.654Z"
   },
   {
    "duration": 357,
    "start_time": "2023-05-06T13:32:27.014Z"
   },
   {
    "duration": 308,
    "start_time": "2023-05-06T13:32:27.373Z"
   },
   {
    "duration": 372,
    "start_time": "2023-05-06T13:32:27.683Z"
   },
   {
    "duration": 286,
    "start_time": "2023-05-06T13:32:28.057Z"
   },
   {
    "duration": 367,
    "start_time": "2023-05-06T13:32:28.345Z"
   },
   {
    "duration": 269,
    "start_time": "2023-05-06T13:32:28.714Z"
   },
   {
    "duration": 431,
    "start_time": "2023-05-06T13:32:28.985Z"
   },
   {
    "duration": 228,
    "start_time": "2023-05-06T13:32:29.418Z"
   },
   {
    "duration": 6,
    "start_time": "2023-05-06T13:32:29.649Z"
   },
   {
    "duration": 21,
    "start_time": "2023-05-06T13:32:29.656Z"
   },
   {
    "duration": 272,
    "start_time": "2023-05-06T13:32:29.678Z"
   },
   {
    "duration": 6,
    "start_time": "2023-05-06T13:32:29.952Z"
   },
   {
    "duration": 180,
    "start_time": "2023-05-06T13:32:29.960Z"
   },
   {
    "duration": 60,
    "start_time": "2023-05-06T13:32:30.142Z"
   },
   {
    "duration": 18,
    "start_time": "2023-05-06T13:32:30.204Z"
   },
   {
    "duration": 35,
    "start_time": "2023-05-06T13:32:30.224Z"
   },
   {
    "duration": 89,
    "start_time": "2023-05-06T13:32:30.260Z"
   },
   {
    "duration": 22,
    "start_time": "2023-05-06T13:32:30.351Z"
   },
   {
    "duration": 51,
    "start_time": "2023-05-06T13:32:30.374Z"
   },
   {
    "duration": 286,
    "start_time": "2023-05-06T13:32:30.428Z"
   },
   {
    "duration": 275,
    "start_time": "2023-05-06T13:32:30.716Z"
   },
   {
    "duration": 259,
    "start_time": "2023-05-06T13:32:30.996Z"
   },
   {
    "duration": 386,
    "start_time": "2023-05-06T13:32:31.257Z"
   },
   {
    "duration": 300,
    "start_time": "2023-05-06T13:32:31.645Z"
   },
   {
    "duration": 392,
    "start_time": "2023-05-06T13:32:31.946Z"
   },
   {
    "duration": 1489,
    "start_time": "2023-05-06T13:55:54.568Z"
   },
   {
    "duration": 64,
    "start_time": "2023-05-06T13:55:56.059Z"
   },
   {
    "duration": 14,
    "start_time": "2023-05-06T13:55:56.124Z"
   },
   {
    "duration": 13,
    "start_time": "2023-05-06T13:55:56.139Z"
   },
   {
    "duration": 21,
    "start_time": "2023-05-06T13:55:56.155Z"
   },
   {
    "duration": 13,
    "start_time": "2023-05-06T13:55:56.178Z"
   },
   {
    "duration": 12,
    "start_time": "2023-05-06T13:55:56.193Z"
   },
   {
    "duration": 140,
    "start_time": "2023-05-06T13:55:56.207Z"
   },
   {
    "duration": 9,
    "start_time": "2023-05-06T13:55:56.349Z"
   },
   {
    "duration": 15,
    "start_time": "2023-05-06T13:55:56.361Z"
   },
   {
    "duration": 12,
    "start_time": "2023-05-06T13:55:56.378Z"
   },
   {
    "duration": 14,
    "start_time": "2023-05-06T13:55:56.392Z"
   },
   {
    "duration": 17,
    "start_time": "2023-05-06T13:55:56.409Z"
   },
   {
    "duration": 7,
    "start_time": "2023-05-06T13:55:56.430Z"
   },
   {
    "duration": 21,
    "start_time": "2023-05-06T13:55:56.439Z"
   },
   {
    "duration": 29,
    "start_time": "2023-05-06T13:55:56.462Z"
   },
   {
    "duration": 10,
    "start_time": "2023-05-06T13:55:56.493Z"
   },
   {
    "duration": 5,
    "start_time": "2023-05-06T13:55:56.505Z"
   },
   {
    "duration": 268,
    "start_time": "2023-05-06T13:55:56.512Z"
   },
   {
    "duration": 331,
    "start_time": "2023-05-06T13:55:56.782Z"
   },
   {
    "duration": 253,
    "start_time": "2023-05-06T13:55:57.114Z"
   },
   {
    "duration": 394,
    "start_time": "2023-05-06T13:55:57.369Z"
   },
   {
    "duration": 274,
    "start_time": "2023-05-06T13:55:57.765Z"
   },
   {
    "duration": 316,
    "start_time": "2023-05-06T13:55:58.042Z"
   },
   {
    "duration": 257,
    "start_time": "2023-05-06T13:55:58.359Z"
   },
   {
    "duration": 355,
    "start_time": "2023-05-06T13:55:58.618Z"
   },
   {
    "duration": 194,
    "start_time": "2023-05-06T13:55:58.975Z"
   },
   {
    "duration": 18,
    "start_time": "2023-05-06T13:55:59.171Z"
   },
   {
    "duration": 19,
    "start_time": "2023-05-06T13:55:59.191Z"
   },
   {
    "duration": 280,
    "start_time": "2023-05-06T13:55:59.211Z"
   },
   {
    "duration": 5,
    "start_time": "2023-05-06T13:55:59.493Z"
   },
   {
    "duration": 152,
    "start_time": "2023-05-06T13:55:59.499Z"
   },
   {
    "duration": 49,
    "start_time": "2023-05-06T13:55:59.653Z"
   },
   {
    "duration": 15,
    "start_time": "2023-05-06T13:55:59.704Z"
   },
   {
    "duration": 10,
    "start_time": "2023-05-06T13:55:59.721Z"
   },
   {
    "duration": 79,
    "start_time": "2023-05-06T13:55:59.732Z"
   },
   {
    "duration": 22,
    "start_time": "2023-05-06T13:55:59.813Z"
   },
   {
    "duration": 14,
    "start_time": "2023-05-06T13:55:59.837Z"
   },
   {
    "duration": 279,
    "start_time": "2023-05-06T13:55:59.853Z"
   },
   {
    "duration": 318,
    "start_time": "2023-05-06T13:56:00.134Z"
   },
   {
    "duration": 277,
    "start_time": "2023-05-06T13:56:00.457Z"
   },
   {
    "duration": 330,
    "start_time": "2023-05-06T13:56:00.736Z"
   },
   {
    "duration": 327,
    "start_time": "2023-05-06T13:56:01.068Z"
   },
   {
    "duration": 419,
    "start_time": "2023-05-06T13:56:01.397Z"
   },
   {
    "duration": 1317,
    "start_time": "2023-07-10T08:47:36.534Z"
   },
   {
    "duration": 74,
    "start_time": "2023-07-10T08:47:37.854Z"
   },
   {
    "duration": 16,
    "start_time": "2023-07-10T08:47:37.930Z"
   },
   {
    "duration": 15,
    "start_time": "2023-07-10T08:47:37.949Z"
   },
   {
    "duration": 20,
    "start_time": "2023-07-10T08:47:37.965Z"
   },
   {
    "duration": 26,
    "start_time": "2023-07-10T08:47:37.987Z"
   },
   {
    "duration": 26,
    "start_time": "2023-07-10T08:47:38.015Z"
   },
   {
    "duration": 132,
    "start_time": "2023-07-10T08:47:38.043Z"
   },
   {
    "duration": 8,
    "start_time": "2023-07-10T08:47:38.176Z"
   },
   {
    "duration": 24,
    "start_time": "2023-07-10T08:47:38.187Z"
   },
   {
    "duration": 12,
    "start_time": "2023-07-10T08:47:38.212Z"
   },
   {
    "duration": 17,
    "start_time": "2023-07-10T08:47:38.226Z"
   },
   {
    "duration": 14,
    "start_time": "2023-07-10T08:47:38.245Z"
   },
   {
    "duration": 10,
    "start_time": "2023-07-10T08:47:38.261Z"
   },
   {
    "duration": 39,
    "start_time": "2023-07-10T08:47:38.273Z"
   },
   {
    "duration": 16,
    "start_time": "2023-07-10T08:47:38.313Z"
   },
   {
    "duration": 29,
    "start_time": "2023-07-10T08:47:38.331Z"
   },
   {
    "duration": 53,
    "start_time": "2023-07-10T08:47:38.362Z"
   },
   {
    "duration": 258,
    "start_time": "2023-07-10T08:47:38.417Z"
   },
   {
    "duration": 326,
    "start_time": "2023-07-10T08:47:38.677Z"
   },
   {
    "duration": 244,
    "start_time": "2023-07-10T08:47:39.005Z"
   },
   {
    "duration": 326,
    "start_time": "2023-07-10T08:47:39.250Z"
   },
   {
    "duration": 306,
    "start_time": "2023-07-10T08:47:39.579Z"
   },
   {
    "duration": 303,
    "start_time": "2023-07-10T08:47:39.887Z"
   },
   {
    "duration": 243,
    "start_time": "2023-07-10T08:47:40.192Z"
   },
   {
    "duration": 352,
    "start_time": "2023-07-10T08:47:40.437Z"
   },
   {
    "duration": 210,
    "start_time": "2023-07-10T08:47:40.791Z"
   },
   {
    "duration": 10,
    "start_time": "2023-07-10T08:47:41.005Z"
   },
   {
    "duration": 21,
    "start_time": "2023-07-10T08:47:41.016Z"
   },
   {
    "duration": 267,
    "start_time": "2023-07-10T08:47:41.038Z"
   },
   {
    "duration": 9,
    "start_time": "2023-07-10T08:47:41.307Z"
   },
   {
    "duration": 150,
    "start_time": "2023-07-10T08:47:41.317Z"
   },
   {
    "duration": 52,
    "start_time": "2023-07-10T08:47:41.468Z"
   },
   {
    "duration": 15,
    "start_time": "2023-07-10T08:47:41.521Z"
   },
   {
    "duration": 27,
    "start_time": "2023-07-10T08:47:41.537Z"
   },
   {
    "duration": 57,
    "start_time": "2023-07-10T08:47:41.566Z"
   },
   {
    "duration": 25,
    "start_time": "2023-07-10T08:47:41.625Z"
   },
   {
    "duration": 14,
    "start_time": "2023-07-10T08:47:41.652Z"
   },
   {
    "duration": 247,
    "start_time": "2023-07-10T08:47:41.669Z"
   },
   {
    "duration": 230,
    "start_time": "2023-07-10T08:47:41.918Z"
   },
   {
    "duration": 267,
    "start_time": "2023-07-10T08:47:42.151Z"
   },
   {
    "duration": 340,
    "start_time": "2023-07-10T08:47:42.419Z"
   },
   {
    "duration": 292,
    "start_time": "2023-07-10T08:47:42.762Z"
   },
   {
    "duration": 351,
    "start_time": "2023-07-10T08:47:43.056Z"
   }
  ],
  "kernelspec": {
   "display_name": "Python 3 (ipykernel)",
   "language": "python",
   "name": "python3"
  },
  "language_info": {
   "codemirror_mode": {
    "name": "ipython",
    "version": 3
   },
   "file_extension": ".py",
   "mimetype": "text/x-python",
   "name": "python",
   "nbconvert_exporter": "python",
   "pygments_lexer": "ipython3",
   "version": "3.9.5"
  },
  "toc": {
   "base_numbering": 1,
   "nav_menu": {},
   "number_sections": true,
   "sideBar": true,
   "skip_h1_title": false,
   "title_cell": "Table of Contents",
   "title_sidebar": "Contents",
   "toc_cell": true,
   "toc_position": {
    "height": "calc(100% - 180px)",
    "left": "10px",
    "top": "150px",
    "width": "165px"
   },
   "toc_section_display": true,
   "toc_window_display": true
  }
 },
 "nbformat": 4,
 "nbformat_minor": 2
}
