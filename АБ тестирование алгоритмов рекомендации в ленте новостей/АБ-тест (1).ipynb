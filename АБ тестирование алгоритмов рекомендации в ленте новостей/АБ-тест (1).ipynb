{
 "cells": [
  {
   "cell_type": "markdown",
   "id": "ba196755-9517-4d7d-bad5-84da24bb5165",
   "metadata": {},
   "source": [
    "# Проверка результатов А/Б теста\n",
    "\n",
    "Эксперимент проходил с 2023-10-25 по 2023-10-31 включительно. Для эксперимента были задействованы 2 и 1 группы. \n",
    "\n",
    "В группе 2 был использован один из новых алгоритмов рекомендации постов, группа 1 использовалась в качестве контроля. \n",
    "\n",
    "Основная гипотеза заключается в том, что новый алгоритм во 2-й группе приведет к увеличению CTR.\n",
    "\n",
    "Задачи:\n",
    "1. Выбрать метод анализа и сравнить CTR в двух группах\n",
    "\n",
    "2. Сравните данные несколькими тестами. Почему тесты сработали именно так? \n",
    "\n",
    "3. Описать потенциальную ситуацию, когда такое изменение могло произойти.\n",
    "\n",
    "4. Дать рекомендацию, будем ли мы раскатывать новый алгоритм на всех новых пользователей или все-таки не стоит.\n"
   ]
  },
  {
   "cell_type": "code",
   "execution_count": 1,
   "id": "bc5494ec-a58c-429e-91aa-62875df98f55",
   "metadata": {},
   "outputs": [],
   "source": [
    "#Импортируем библиотеки\n",
    "import pandas as pd\n",
    "import pandahouse as ph\n",
    "import seaborn as sns\n",
    "from scipy import stats\n",
    "import numpy as np\n",
    "\n",
    "#подключаемся к нужной схеме данных\n",
    "connection = {'host': 'https://clickhouse.lab.karpov.courses',\n",
    "'database':'simulator',\n",
    "'user':'student',\n",
    "'password':'dpo_python_2020'\n",
    "}\n",
    "\n",
    "#Задаем размер графика\n",
    "sns.set(rc={'figure.figsize':(15,10)})"
   ]
  },
  {
   "cell_type": "code",
   "execution_count": 2,
   "id": "a6cd1c4c-0e7c-4923-92f7-2d68847da20f",
   "metadata": {},
   "outputs": [],
   "source": [
    "#Выгружаем нужные данные\n",
    "q = \"\"\"\n",
    "SELECT exp_group, \n",
    "    user_id,\n",
    "    sum(action = 'like') as likes,\n",
    "    sum(action = 'view') as views,\n",
    "    likes/views as ctr\n",
    "FROM simulator_20231113.feed_actions \n",
    "WHERE toDate(time) between '2023-10-25' and '2023-10-31'\n",
    "    and exp_group in (1,2)\n",
    "GROUP BY exp_group, user_id\n",
    "\"\"\"\n",
    "\n",
    "df = ph.read_clickhouse(q, connection=connection)"
   ]
  },
  {
   "cell_type": "code",
   "execution_count": 3,
   "id": "fdf1f190-a3f8-4e17-8921-0710f95620de",
   "metadata": {},
   "outputs": [
    {
     "data": {
      "text/html": [
       "<div>\n",
       "<style scoped>\n",
       "    .dataframe tbody tr th:only-of-type {\n",
       "        vertical-align: middle;\n",
       "    }\n",
       "\n",
       "    .dataframe tbody tr th {\n",
       "        vertical-align: top;\n",
       "    }\n",
       "\n",
       "    .dataframe thead th {\n",
       "        text-align: right;\n",
       "    }\n",
       "</style>\n",
       "<table border=\"1\" class=\"dataframe\">\n",
       "  <thead>\n",
       "    <tr style=\"text-align: right;\">\n",
       "      <th></th>\n",
       "      <th>user_id</th>\n",
       "      <th>likes</th>\n",
       "      <th>views</th>\n",
       "      <th>ctr</th>\n",
       "    </tr>\n",
       "    <tr>\n",
       "      <th>exp_group</th>\n",
       "      <th></th>\n",
       "      <th></th>\n",
       "      <th></th>\n",
       "      <th></th>\n",
       "    </tr>\n",
       "  </thead>\n",
       "  <tbody>\n",
       "    <tr>\n",
       "      <th>1</th>\n",
       "      <td>10020</td>\n",
       "      <td>10020</td>\n",
       "      <td>10020</td>\n",
       "      <td>10020</td>\n",
       "    </tr>\n",
       "    <tr>\n",
       "      <th>2</th>\n",
       "      <td>9877</td>\n",
       "      <td>9877</td>\n",
       "      <td>9877</td>\n",
       "      <td>9877</td>\n",
       "    </tr>\n",
       "  </tbody>\n",
       "</table>\n",
       "</div>"
      ],
      "text/plain": [
       "           user_id  likes  views    ctr\n",
       "exp_group                              \n",
       "1            10020  10020  10020  10020\n",
       "2             9877   9877   9877   9877"
      ]
     },
     "execution_count": 3,
     "metadata": {},
     "output_type": "execute_result"
    }
   ],
   "source": [
    "df.groupby('exp_group').count()"
   ]
  },
  {
   "cell_type": "markdown",
   "id": "33acc029-12f4-4dab-8f35-3b06c27a7a50",
   "metadata": {},
   "source": [
    "Данные распределились +/- равномерно, но выборки не одинаковы."
   ]
  },
  {
   "cell_type": "code",
   "execution_count": 4,
   "id": "8a7099a8-0e84-4d03-84e2-a14bcd9b8018",
   "metadata": {},
   "outputs": [
    {
     "data": {
      "text/html": [
       "<div>\n",
       "<style scoped>\n",
       "    .dataframe tbody tr th:only-of-type {\n",
       "        vertical-align: middle;\n",
       "    }\n",
       "\n",
       "    .dataframe tbody tr th {\n",
       "        vertical-align: top;\n",
       "    }\n",
       "\n",
       "    .dataframe thead th {\n",
       "        text-align: right;\n",
       "    }\n",
       "</style>\n",
       "<table border=\"1\" class=\"dataframe\">\n",
       "  <thead>\n",
       "    <tr style=\"text-align: right;\">\n",
       "      <th></th>\n",
       "      <th>exp_group</th>\n",
       "      <th>user_id</th>\n",
       "      <th>likes</th>\n",
       "      <th>views</th>\n",
       "      <th>ctr</th>\n",
       "    </tr>\n",
       "  </thead>\n",
       "  <tbody>\n",
       "    <tr>\n",
       "      <th>0</th>\n",
       "      <td>1</td>\n",
       "      <td>109963</td>\n",
       "      <td>3</td>\n",
       "      <td>15</td>\n",
       "      <td>0.200000</td>\n",
       "    </tr>\n",
       "    <tr>\n",
       "      <th>1</th>\n",
       "      <td>1</td>\n",
       "      <td>26117</td>\n",
       "      <td>32</td>\n",
       "      <td>141</td>\n",
       "      <td>0.226950</td>\n",
       "    </tr>\n",
       "    <tr>\n",
       "      <th>2</th>\n",
       "      <td>1</td>\n",
       "      <td>138232</td>\n",
       "      <td>18</td>\n",
       "      <td>73</td>\n",
       "      <td>0.246575</td>\n",
       "    </tr>\n",
       "    <tr>\n",
       "      <th>3</th>\n",
       "      <td>1</td>\n",
       "      <td>18392</td>\n",
       "      <td>7</td>\n",
       "      <td>32</td>\n",
       "      <td>0.218750</td>\n",
       "    </tr>\n",
       "    <tr>\n",
       "      <th>4</th>\n",
       "      <td>1</td>\n",
       "      <td>26295</td>\n",
       "      <td>39</td>\n",
       "      <td>141</td>\n",
       "      <td>0.276596</td>\n",
       "    </tr>\n",
       "    <tr>\n",
       "      <th>5</th>\n",
       "      <td>2</td>\n",
       "      <td>131473</td>\n",
       "      <td>9</td>\n",
       "      <td>108</td>\n",
       "      <td>0.083333</td>\n",
       "    </tr>\n",
       "    <tr>\n",
       "      <th>6</th>\n",
       "      <td>2</td>\n",
       "      <td>23985</td>\n",
       "      <td>7</td>\n",
       "      <td>87</td>\n",
       "      <td>0.080460</td>\n",
       "    </tr>\n",
       "    <tr>\n",
       "      <th>7</th>\n",
       "      <td>2</td>\n",
       "      <td>24523</td>\n",
       "      <td>11</td>\n",
       "      <td>101</td>\n",
       "      <td>0.108911</td>\n",
       "    </tr>\n",
       "    <tr>\n",
       "      <th>8</th>\n",
       "      <td>2</td>\n",
       "      <td>32420</td>\n",
       "      <td>13</td>\n",
       "      <td>44</td>\n",
       "      <td>0.295455</td>\n",
       "    </tr>\n",
       "    <tr>\n",
       "      <th>9</th>\n",
       "      <td>2</td>\n",
       "      <td>24239</td>\n",
       "      <td>40</td>\n",
       "      <td>90</td>\n",
       "      <td>0.444444</td>\n",
       "    </tr>\n",
       "    <tr>\n",
       "      <th>10</th>\n",
       "      <td>1</td>\n",
       "      <td>137520</td>\n",
       "      <td>5</td>\n",
       "      <td>38</td>\n",
       "      <td>0.131579</td>\n",
       "    </tr>\n",
       "    <tr>\n",
       "      <th>11</th>\n",
       "      <td>2</td>\n",
       "      <td>14680</td>\n",
       "      <td>29</td>\n",
       "      <td>91</td>\n",
       "      <td>0.318681</td>\n",
       "    </tr>\n",
       "    <tr>\n",
       "      <th>12</th>\n",
       "      <td>1</td>\n",
       "      <td>498</td>\n",
       "      <td>8</td>\n",
       "      <td>28</td>\n",
       "      <td>0.285714</td>\n",
       "    </tr>\n",
       "    <tr>\n",
       "      <th>13</th>\n",
       "      <td>1</td>\n",
       "      <td>125715</td>\n",
       "      <td>7</td>\n",
       "      <td>24</td>\n",
       "      <td>0.291667</td>\n",
       "    </tr>\n",
       "    <tr>\n",
       "      <th>14</th>\n",
       "      <td>2</td>\n",
       "      <td>6911</td>\n",
       "      <td>2</td>\n",
       "      <td>38</td>\n",
       "      <td>0.052632</td>\n",
       "    </tr>\n",
       "    <tr>\n",
       "      <th>15</th>\n",
       "      <td>2</td>\n",
       "      <td>119153</td>\n",
       "      <td>2</td>\n",
       "      <td>24</td>\n",
       "      <td>0.083333</td>\n",
       "    </tr>\n",
       "    <tr>\n",
       "      <th>16</th>\n",
       "      <td>2</td>\n",
       "      <td>15092</td>\n",
       "      <td>3</td>\n",
       "      <td>31</td>\n",
       "      <td>0.096774</td>\n",
       "    </tr>\n",
       "    <tr>\n",
       "      <th>17</th>\n",
       "      <td>1</td>\n",
       "      <td>27443</td>\n",
       "      <td>22</td>\n",
       "      <td>109</td>\n",
       "      <td>0.201835</td>\n",
       "    </tr>\n",
       "    <tr>\n",
       "      <th>18</th>\n",
       "      <td>1</td>\n",
       "      <td>137130</td>\n",
       "      <td>27</td>\n",
       "      <td>71</td>\n",
       "      <td>0.380282</td>\n",
       "    </tr>\n",
       "    <tr>\n",
       "      <th>19</th>\n",
       "      <td>1</td>\n",
       "      <td>27223</td>\n",
       "      <td>37</td>\n",
       "      <td>158</td>\n",
       "      <td>0.234177</td>\n",
       "    </tr>\n",
       "  </tbody>\n",
       "</table>\n",
       "</div>"
      ],
      "text/plain": [
       "    exp_group  user_id  likes  views       ctr\n",
       "0           1   109963      3     15  0.200000\n",
       "1           1    26117     32    141  0.226950\n",
       "2           1   138232     18     73  0.246575\n",
       "3           1    18392      7     32  0.218750\n",
       "4           1    26295     39    141  0.276596\n",
       "5           2   131473      9    108  0.083333\n",
       "6           2    23985      7     87  0.080460\n",
       "7           2    24523     11    101  0.108911\n",
       "8           2    32420     13     44  0.295455\n",
       "9           2    24239     40     90  0.444444\n",
       "10          1   137520      5     38  0.131579\n",
       "11          2    14680     29     91  0.318681\n",
       "12          1      498      8     28  0.285714\n",
       "13          1   125715      7     24  0.291667\n",
       "14          2     6911      2     38  0.052632\n",
       "15          2   119153      2     24  0.083333\n",
       "16          2    15092      3     31  0.096774\n",
       "17          1    27443     22    109  0.201835\n",
       "18          1   137130     27     71  0.380282\n",
       "19          1    27223     37    158  0.234177"
      ]
     },
     "execution_count": 4,
     "metadata": {},
     "output_type": "execute_result"
    }
   ],
   "source": [
    "df.head(20)"
   ]
  },
  {
   "cell_type": "markdown",
   "id": "6355a591-bb06-48ea-8fd1-8a37607c543d",
   "metadata": {},
   "source": [
    "Данные выглядят корректно, посмотрим их распределение, прежде всего нас интересует метрика по которой мы будем принимать решение - ctr."
   ]
  },
  {
   "cell_type": "code",
   "execution_count": 5,
   "id": "0c7f13a9-4237-4c61-a6d4-712c5c11271e",
   "metadata": {},
   "outputs": [
    {
     "data": {
      "image/png": "[encoded data removed]",
      "text/plain": [
       "<Figure size 432x288 with 1 Axes>"
      ]
     },
     "metadata": {
      "needs_background": "light"
     },
     "output_type": "display_data"
    }
   ],
   "source": [
    "sns.histplot(data = df, \n",
    "              x='ctr', \n",
    "              hue='exp_group', \n",
    "              palette = ['r', 'b'],\n",
    "              alpha=0.5,\n",
    "              kde=False);"
   ]
  },
  {
   "cell_type": "markdown",
   "id": "f15a1441-f51e-4ea7-9922-aa022d555f18",
   "metadata": {},
   "source": [
    "CTR распределился нормально только в группе №1, группа №2 распределилась бимодально. Сразу можно сказать, что т-тесту будет непросто и наврядли он сработает корректно. Проверим как сработают различные тесты на полученных данных."
   ]
  },
  {
   "cell_type": "markdown",
   "id": "6ed4899b-b2ca-4d76-ad29-96d3d717ee5c",
   "metadata": {},
   "source": [
    "# Т-тест"
   ]
  },
  {
   "cell_type": "markdown",
   "id": "a4583447-b476-429d-b811-1d6ff90d12f0",
   "metadata": {},
   "source": [
    "Н0 - среднее значение CTR в группах №1 и №2 равны\n",
    "\n",
    "Н1 - среднее значение CTR в группах №1 и №2 отличается"
   ]
  },
  {
   "cell_type": "code",
   "execution_count": 6,
   "id": "2c47fdb2-952d-4560-9213-7d5735cb0303",
   "metadata": {},
   "outputs": [
    {
     "data": {
      "text/plain": [
       "Ttest_indResult(statistic=0.4051491913112757, pvalue=0.685373331140751)"
      ]
     },
     "execution_count": 6,
     "metadata": {},
     "output_type": "execute_result"
    }
   ],
   "source": [
    "stats.ttest_ind(df[df.exp_group == 1].ctr,\n",
    "                df[df.exp_group == 2].ctr, \n",
    "                equal_var=False)"
   ]
  },
  {
   "cell_type": "markdown",
   "id": "58b027f0-a120-4acb-b39c-ad4b96c14ef8",
   "metadata": {},
   "source": [
    "Как видим, в данном случае отвергнуть нулевую гипотезу не получится, по результатам теста средние равны."
   ]
  },
  {
   "cell_type": "markdown",
   "id": "ea3b7ef4-6024-4175-83be-7fffba09a128",
   "metadata": {},
   "source": [
    "# Тест Манна-Уитни"
   ]
  },
  {
   "cell_type": "code",
   "execution_count": null,
   "id": "2a443726-36ce-40f7-a77d-fd2b8c4cde36",
   "metadata": {},
   "outputs": [],
   "source": [
    "Проведем тест Манна-Уитни."
   ]
  },
  {
   "cell_type": "code",
   "execution_count": 7,
   "id": "3df4df02-d704-4db6-88bd-9264a4f1d8bd",
   "metadata": {},
   "outputs": [
    {
     "data": {
      "text/plain": [
       "MannwhitneyuResult(statistic=55189913.0, pvalue=4.632205841806026e-45)"
      ]
     },
     "execution_count": 7,
     "metadata": {},
     "output_type": "execute_result"
    }
   ],
   "source": [
    "stats.mannwhitneyu(df[df.exp_group == 1].ctr, \n",
    "                   df[df.exp_group == 2].ctr,\n",
    "                   alternative = 'two-sided')"
   ]
  },
  {
   "cell_type": "markdown",
   "id": "fba4d1ae-5763-40df-8f51-47a806b25196",
   "metadata": {},
   "source": [
    "Значение p-value даже еще больше, в данной ситуации он показывает себя еще хуже. Почему хуже? Обратимся к Пуассоновскому бутстрепу."
   ]
  },
  {
   "cell_type": "markdown",
   "id": "2f265cab-20c2-43bd-8e3e-c34cdfea8a29",
   "metadata": {},
   "source": [
    "# Пуассоновский бутстреп"
   ]
  },
  {
   "cell_type": "markdown",
   "id": "8d766055-b923-4918-ba9d-3dd21f7d48ca",
   "metadata": {},
   "source": [
    "Воспроизведем функцию из конспекта"
   ]
  },
  {
   "cell_type": "code",
   "execution_count": 8,
   "id": "674e0848-5173-47fa-a8e8-f7f3439d5329",
   "metadata": {},
   "outputs": [],
   "source": [
    "def bootstrap(likes1, views1, likes2, views2, n_bootstrap=2000):\n",
    "\n",
    "    poisson_bootstraps1 = stats.poisson(1).rvs(\n",
    "        (n_bootstrap, len(likes1))).astype(np.int64)\n",
    "\n",
    "    poisson_bootstraps2 = stats.poisson(1).rvs(\n",
    "            (n_bootstrap, len(likes2))).astype(np.int64)\n",
    "    \n",
    "    globalCTR1 = (poisson_bootstraps1*likes1).sum(axis=1)/(poisson_bootstraps1*views1).sum(axis=1)\n",
    "    \n",
    "    globalCTR2 = (poisson_bootstraps2*likes2).sum(axis=1)/(poisson_bootstraps2*views2).sum(axis=1)\n",
    "\n",
    "    return globalCTR1, globalCTR2\n",
    "\n",
    "\n",
    "\n",
    "\n"
   ]
  },
  {
   "cell_type": "markdown",
   "id": "8f911fbe-eb23-4042-9949-8290d495c7db",
   "metadata": {},
   "source": [
    "Формируем псевдо выборки"
   ]
  },
  {
   "cell_type": "code",
   "execution_count": 9,
   "id": "a1eac375-5033-4da6-9935-b16869547b85",
   "metadata": {},
   "outputs": [],
   "source": [
    "likes1 = df[df.exp_group == 1].likes.to_numpy()\n",
    "views1 = df[df.exp_group == 1].views.to_numpy()\n",
    "likes2 = df[df.exp_group == 2].likes.to_numpy()\n",
    "views2 = df[df.exp_group == 2].views.to_numpy()\n",
    "\n",
    "ctr1, ctr2 = bootstrap(likes1, views1, likes2, views2)\n",
    "\n"
   ]
  },
  {
   "cell_type": "code",
   "execution_count": 23,
   "id": "91e9c719-9f29-48fc-8a36-5cb83642b8ba",
   "metadata": {},
   "outputs": [
    {
     "data": {
      "image/png": "[encoded data removed]",
      "text/plain": [
       "<Figure size 432x288 with 1 Axes>"
      ]
     },
     "metadata": {
      "needs_background": "light"
     },
     "output_type": "display_data"
    }
   ],
   "source": [
    "sns.histplot(ctr1)\n",
    "sns.histplot(ctr2);"
   ]
  },
  {
   "cell_type": "code",
   "execution_count": 22,
   "id": "edc74f25-e840-47ef-aca0-31618f4c5512",
   "metadata": {},
   "outputs": [
    {
     "data": {
      "text/plain": [
       "Ttest_indResult(statistic=267.9227309285673, pvalue=0.0)"
      ]
     },
     "execution_count": 22,
     "metadata": {},
     "output_type": "execute_result"
    }
   ],
   "source": [
    "stats.ttest_ind(ctr1,\n",
    "                ctr2, \n",
    "                equal_var=False)"
   ]
  },
  {
   "cell_type": "markdown",
   "id": "1582997a-7e71-4ed6-bcb8-976ca2dfd9d3",
   "metadata": {},
   "source": [
    "Как и в лекции мы видим, что разница в глобальном CTR по группам сильно разнится, и проведенный т-тест на них показывает ноль, средние значения точно не равны."
   ]
  },
  {
   "cell_type": "code",
   "execution_count": 20,
   "id": "135ae7da-67d5-4f94-a963-c8f21eda503e",
   "metadata": {},
   "outputs": [
    {
     "data": {
      "text/plain": [
       "<Axes: ylabel='Count'>"
      ]
     },
     "execution_count": 20,
     "metadata": {},
     "output_type": "execute_result"
    },
    {
     "data": {
      "image/png": "[encoded data removed]",
      "text/plain": [
       "<Figure size 432x288 with 1 Axes>"
      ]
     },
     "metadata": {
      "needs_background": "light"
     },
     "output_type": "display_data"
    }
   ],
   "source": [
    "sns.histplot(ctr2-ctr1);"
   ]
  },
  {
   "cell_type": "markdown",
   "id": "bfee51a8-3645-4cbe-ac46-46c91859453c",
   "metadata": {},
   "source": [
    "Хоть мы и увидели, что в конечном счете не все методы тестирования могут обнаружить разницу между выборками, надо принять окончательное решение. Так как мы вычитаем контрольную группу из тестовой и значения отрицательные, значит показатели CTR в тестовой группе хуже.\n",
    "\n",
    "### Итоговая реккомендация\n",
    "Раскатывать итоговый алгоритм на все группы не стоит."
   ]
  },
  {
   "cell_type": "code",
   "execution_count": null,
   "id": "0c8dcd85-9afb-4d77-bdef-7bdfb4f56c4d",
   "metadata": {},
   "outputs": [],
   "source": []
  }
 ],
 "metadata": {
  "kernelspec": {
   "display_name": "Python 3 (ipykernel)",
   "language": "python",
   "name": "python3"
  },
  "language_info": {
   "codemirror_mode": {
    "name": "ipython",
    "version": 3
   },
   "file_extension": ".py",
   "mimetype": "text/x-python",
   "name": "python",
   "nbconvert_exporter": "python",
   "pygments_lexer": "ipython3",
   "version": "3.8.10"
  }
 },
 "nbformat": 4,
 "nbformat_minor": 5
}
